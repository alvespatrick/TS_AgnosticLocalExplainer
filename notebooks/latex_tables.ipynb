{
 "cells": [
  {
   "cell_type": "code",
   "execution_count": 172,
   "metadata": {},
   "outputs": [],
   "source": [
    "import pandas as pd\n",
    "import numpy as np"
   ]
  },
  {
   "cell_type": "code",
   "execution_count": 2,
   "metadata": {},
   "outputs": [],
   "source": [
    "import os,sys,inspect\n",
    "currentdir = os.path.dirname(os.path.abspath(inspect.getfile(inspect.currentframe())))\n",
    "parentdir = os.path.dirname(currentdir)\n",
    "sys.path.insert(0,parentdir)"
   ]
  },
  {
   "cell_type": "code",
   "execution_count": 222,
   "metadata": {},
   "outputs": [],
   "source": [
    "path = parentdir + \"/final_models/\"\n",
    "dataset_names = [\"cbf\", \"phalanges\", \"HARDataset\", \"EpilepticSeizureRecognition\"]\n",
    "dataset_names = [\"esr\", \"har\", \"cbf\", \"poc\"]\n",
    "objects = [\"blackboxes\", \"autoencoders\"]"
   ]
  },
  {
   "cell_type": "code",
   "execution_count": 271,
   "metadata": {},
   "outputs": [],
   "source": [
    "files = os.listdir(path)\n",
    "csv_files = sorted([file for file in files if \".csv\" in file])\n",
    "df_dict = dict()\n",
    "for csv in csv_files:\n",
    "    df = pd.read_csv(path + csv, sep = \";\", index_col = 0)\n",
    "    df_dict[csv] = df\n",
    "    "
   ]
  },
  {
   "cell_type": "markdown",
   "metadata": {},
   "source": [
    "### Blackboxes"
   ]
  },
  {
   "cell_type": "code",
   "execution_count": null,
   "metadata": {},
   "outputs": [],
   "source": [
    "# divido tabelle per metrica e metto solo test set"
   ]
  },
  {
   "cell_type": "code",
   "execution_count": 224,
   "metadata": {},
   "outputs": [],
   "source": [
    "columns = [\"RESNET\", \"CNN\", \"KNN\"]\n",
    "rows = [\"ESR\", \"HAR\", \"CBF\", \"POC\"]\n",
    "rows = [\"esr\", \"har\", \"cbf\", \"poc\"]\n",
    "#rows = [\"EpilepticSeizureRecognition\", \"HumanActivityRecognition\", \"CylinderBellFunnel\", \"PhalangesOutileCorrect\"]"
   ]
  },
  {
   "cell_type": "code",
   "execution_count": 259,
   "metadata": {},
   "outputs": [],
   "source": [
    "accuracy_df = []\n",
    "mse_df = []\n",
    "for csv in df_dict:\n",
    "    if \"blackboxes\" in csv:\n",
    "        df = df_dict[csv]\n",
    "        for column in df.columns:\n",
    "            df[column] = [('%.3f' % (m)).replace('0.', '.') if m < 1.0 else '1.00' for m in df[column]]\n",
    "        accuracy_df.append(df.loc[\"test_accuracy\"].values)\n",
    "        mse_df.append(df.loc[\"test_mse\"].values)\n",
    "accuracy_df = pd.DataFrame(accuracy_df, columns = columns, index = rows)\n",
    "#accuracy_df.index.name = \"DATASETS\"\n",
    "mse_df = pd.DataFrame(mse_df, columns = columns, index = rows)\n",
    "\n",
    "final_dict = {\"accuracy_df\": accuracy_df, \"mse_df\": mse_df}\n",
    "\n",
    "accuracy_df=accuracy_df.reset_index()\n",
    "accuracy_df[\"metric\"] = \"acc\"\n",
    "mse_df=mse_df.reset_index()\n",
    "mse_df[\"metric\"] = \"mse\"\n",
    "all_in_one_df = pd.concat([accuracy_df,mse_df]).set_index(['index', 'metric']).sort_values(by=\"index\")"
   ]
  },
  {
   "cell_type": "code",
   "execution_count": 126,
   "metadata": {},
   "outputs": [
    {
     "data": {
      "text/plain": [
       "'multi_index = []\\nfor column in df.columns:\\n    for index in df.index:\\n        multi_index.append((column, index))\\ndf_multi = pd.DataFrame([df.values.T.flatten()], columns = multi_index)\\ndf_multi.columns = pd.MultiIndex.from_tuples(df_multi.columns)\\ndf_multi[df_multi.columns[:6]]'"
      ]
     },
     "execution_count": 126,
     "metadata": {},
     "output_type": "execute_result"
    }
   ],
   "source": [
    "\"\"\"multi_index = []\n",
    "for column in df.columns:\n",
    "    for index in df.index:\n",
    "        multi_index.append((column, index))\n",
    "df_multi = pd.DataFrame([df.values.T.flatten()], columns = multi_index)\n",
    "df_multi.columns = pd.MultiIndex.from_tuples(df_multi.columns)\n",
    "df_multi[df_multi.columns[:6]]\"\"\""
   ]
  },
  {
   "cell_type": "code",
   "execution_count": 226,
   "metadata": {},
   "outputs": [
    {
     "name": "stdout",
     "output_type": "stream",
     "text": [
      "%accuracy_df\n",
      "\\begin{tabular}{|c|ccc|}\n",
      "\\hline\n",
      "{} & RESNET &   CNN &   KNN \\\\\n",
      "\\hline\n",
      "\\textbf{esr} &   .978 &  .972 &  .865 \\\\\n",
      "\\textbf{har} &   .925 &  .891 &  .901 \\\\\n",
      "\\textbf{cbf} &   1.00 &  1.00 &  1.00 \\\\\n",
      "\\textbf{poc} &   .829 &  .768 &  .783 \\\\\n",
      "\\hline\n",
      "\\end{tabular}\n",
      "\n",
      "\n",
      "\n",
      "\n",
      "%mse_df\n",
      "\\begin{tabular}{|c|ccc|}\n",
      "\\hline\n",
      "{} & RESNET &   CNN &   KNN \\\\\n",
      "\\hline\n",
      "\\textbf{esr} &   .053 &  .081 &  .135 \\\\\n",
      "\\textbf{har} &   .266 &  .265 &  .146 \\\\\n",
      "\\textbf{cbf} &   .028 &  .350 &  .000 \\\\\n",
      "\\textbf{poc} &   .802 &  .489 &  .217 \\\\\n",
      "\\hline\n",
      "\\end{tabular}\n",
      "\n",
      "\n",
      "\n",
      "\n"
     ]
    }
   ],
   "source": [
    "# separate df\n",
    "for key in final_dict:\n",
    "    df = final_dict[key]\n",
    "    column_format = \"|c|\"\n",
    "    for i in range(len(df.columns)):\n",
    "        column_format += \"c\"\n",
    "    column_format += \"|\"\n",
    "    latex = df.to_latex(index = True, \n",
    "                               bold_rows = True,\n",
    "                               column_format = column_format\n",
    "                            #multicolumn_format = \"c\",\n",
    "                            #multicolumn = True\n",
    "                           )\n",
    "    latex = latex.replace(\"toprule\", \"hline\")\n",
    "    latex = latex = latex.replace(\"midrule\", \"hline\")\n",
    "    latex = latex.replace(\"bottomrule\", \"hline\")\n",
    "    print(\"%{}\".format(key))\n",
    "    print(latex)\n",
    "    print()\n",
    "    print()\n",
    "    print()"
   ]
  },
  {
   "cell_type": "code",
   "execution_count": 286,
   "metadata": {},
   "outputs": [
    {
     "name": "stdout",
     "output_type": "stream",
     "text": [
      "%phalanges_autoencoders_20191202_165821.csv\n",
      "\\begin{tabular}{|c|c||ccc|}\n",
      "\\hline\n",
      "    &     & RESNET &   CNN &   KNN \\\\\n",
      "\\textbf{index} & \\textbf{metric} &        &       &       \\\\\n",
      "\\hline\n",
      "\\multirow{2}{*}{\\textbf{cbf}} & \\textbf{acc} &   1.00 &  1.00 &  1.00 \\\\\n",
      "    & \\textbf{mse} &   .028 &  .350 &  .000 \\\\\n",
      "\\cline{1-5}\n",
      "\\multirow{2}{*}{\\textbf{esr}} & \\textbf{acc} &   .978 &  .972 &  .865 \\\\\n",
      "    & \\textbf{mse} &   .053 &  .081 &  .135 \\\\\n",
      "\\cline{1-5}\n",
      "\\multirow{2}{*}{\\textbf{har}} & \\textbf{acc} &   .925 &  .891 &  .901 \\\\\n",
      "    & \\textbf{mse} &   .266 &  .265 &  .146 \\\\\n",
      "\\cline{1-5}\n",
      "\\multirow{2}{*}{\\textbf{poc}} & \\textbf{acc} &   .829 &  .768 &  .783 \\\\\n",
      "    & \\textbf{mse} &   .802 &  .489 &  .217 \\\\\n",
      "\\hline\n",
      "\\end{tabular}\n",
      "\n",
      "\n",
      "\n",
      "\n"
     ]
    }
   ],
   "source": [
    "df = all_in_one_df\n",
    "column_format = \"|c|c||\"\"\n",
    "for i in range(len(df.columns)):\n",
    "    column_format += \"c\"\n",
    "column_format += \"|\"\n",
    "latex = df.to_latex(index = True, \n",
    "                    bold_rows = True,\n",
    "                    column_format = column_format,\n",
    "                    multirow = True)\n",
    "latex = latex.replace(\"toprule\", \"hline\")\n",
    "latex = latex = latex.replace(\"midrule\", \"hline\")\n",
    "latex = latex.replace(\"bottomrule\", \"hline\")\n",
    "print(\"%{}\".format(key))\n",
    "print(latex)\n",
    "print()\n",
    "print()\n",
    "print()"
   ]
  },
  {
   "cell_type": "markdown",
   "metadata": {},
   "source": [
    "### Autoencoders"
   ]
  },
  {
   "cell_type": "code",
   "execution_count": 272,
   "metadata": {},
   "outputs": [],
   "source": [
    "\n",
    "files = os.listdir(path)\n",
    "csv_files = sorted([file for file in files if \".csv\" in file])\n",
    "df_dict = dict()\n",
    "for csv in csv_files:\n",
    "    df = pd.read_csv(path + csv, sep = \";\", index_col = 0)\n",
    "    df_dict[csv] = df\n",
    "    \n",
    "\n",
    "columns = [\"RESNET\", \"CNN\", \"KNN\"]\n",
    "rows = [\"AE-CNN\", \"VAE-CNN\", \"AAE-CNN\", \"AE-LSTM\"]\n",
    "final_dict = dict()\n",
    "              \n",
    "for csv in df_dict:\n",
    "    if \"autoencoders\" in csv:\n",
    "        df = df_dict[csv]\n",
    "        df = df.loc[[\"reconstruction_resnet_test_accuracy\",\n",
    "                     \"reconstruction_simplecnn_test_accuracy\",\n",
    "                     \"reconstruction_knn_test_accuracy\"]]\n",
    "        for column in df.columns:\n",
    "            df[column] = [('%.3f' % (m)).replace('0.', '.') if m < 1.0 else '1.00' for m in df[column]]\n",
    "        final_dict[csv] = df\n",
    "for dataset in final_dict:\n",
    "    final_dict[dataset] = final_dict[dataset].T\n",
    "    final_dict[dataset].columns = columns\n",
    "    final_dict[dataset].index = rows"
   ]
  },
  {
   "cell_type": "code",
   "execution_count": 273,
   "metadata": {},
   "outputs": [
    {
     "name": "stdout",
     "output_type": "stream",
     "text": [
      "%EpilepticSeizureRecognition_autoencoders_20200106_191206.csv\n",
      "\\begin{tabular}{|c||ccc|}\n",
      "\\hline\n",
      "{} & RESNET &   CNN &   KNN \\\\\n",
      "\\hline\n",
      "\\textbf{AE-CNN } &   .955 &  .964 &  .959 \\\\\n",
      "\\textbf{VAE-CNN} &   .941 &  .959 &  .801 \\\\\n",
      "\\textbf{AAE-CNN} &   .923 &  .937 &  .869 \\\\\n",
      "\\textbf{AE-LSTM} &   .511 &  .502 &  .602 \\\\\n",
      "\\hline\n",
      "\\end{tabular}\n",
      "\n",
      "\n",
      "\n",
      "\n",
      "%HARDataset_autoencoders_20191202_171636.csv\n",
      "\\begin{tabular}{|c||ccc|}\n",
      "\\hline\n",
      "{} & RESNET &   CNN &   KNN \\\\\n",
      "\\hline\n",
      "\\textbf{AE-CNN } &   .950 &  .910 &  .968 \\\\\n",
      "\\textbf{VAE-CNN} &   .776 &  .771 &  .769 \\\\\n",
      "\\textbf{AAE-CNN} &   .946 &  .912 &  .955 \\\\\n",
      "\\textbf{AE-LSTM} &   .337 &  .170 &  .394 \\\\\n",
      "\\hline\n",
      "\\end{tabular}\n",
      "\n",
      "\n",
      "\n",
      "\n",
      "%cbf_autoencoders_20191201_133423.csv\n",
      "\\begin{tabular}{|c||ccc|}\n",
      "\\hline\n",
      "{} & RESNET &   CNN &   KNN \\\\\n",
      "\\hline\n",
      "\\textbf{AE-CNN } &   1.00 &  .889 &  1.00 \\\\\n",
      "\\textbf{VAE-CNN} &   1.00 &  1.00 &  1.00 \\\\\n",
      "\\textbf{AAE-CNN} &   1.00 &  1.00 &  1.00 \\\\\n",
      "\\textbf{AE-LSTM} &   .333 &  .333 &  .333 \\\\\n",
      "\\hline\n",
      "\\end{tabular}\n",
      "\n",
      "\n",
      "\n",
      "\n",
      "%phalanges_autoencoders_20191202_165821.csv\n",
      "\\begin{tabular}{|c||ccc|}\n",
      "\\hline\n",
      "{} & RESNET &   CNN &   KNN \\\\\n",
      "\\hline\n",
      "\\textbf{AE-CNN } &   .972 &  .972 &  .963 \\\\\n",
      "\\textbf{VAE-CNN} &   .639 &  .500 &  .648 \\\\\n",
      "\\textbf{AAE-CNN} &   .926 &  .981 &  .963 \\\\\n",
      "\\textbf{AE-LSTM} &   .676 &  .769 &  .778 \\\\\n",
      "\\hline\n",
      "\\end{tabular}\n",
      "\n",
      "\n",
      "\n",
      "\n"
     ]
    }
   ],
   "source": [
    "for key in final_dict:\n",
    "    df = final_dict[key]\n",
    "    column_format = \"|c||\"\n",
    "    for i in range(len(df.columns)):\n",
    "        column_format += \"c\"\n",
    "    column_format += \"|\"\n",
    "    latex = df.to_latex(index = True, \n",
    "                               bold_rows = True,\n",
    "                               column_format = column_format\n",
    "                            #multicolumn_format = \"c\",\n",
    "                            #multicolumn = True\n",
    "                           )\n",
    "    latex = latex.replace(\"toprule\", \"hline\")\n",
    "    latex = latex = latex.replace(\"midrule\", \"hline\")\n",
    "    latex = latex.replace(\"bottomrule\", \"hline\")\n",
    "    print(\"%{}\".format(key))\n",
    "    print(latex)\n",
    "    print()\n",
    "    print()\n",
    "    print()"
   ]
  },
  {
   "cell_type": "code",
   "execution_count": 274,
   "metadata": {},
   "outputs": [],
   "source": [
    "df = final_dict[\"EpilepticSeizureRecognition_autoencoders_20200106_191206.csv\"]"
   ]
  },
  {
   "cell_type": "code",
   "execution_count": 275,
   "metadata": {},
   "outputs": [],
   "source": [
    "multi_index = []\n",
    "for dataset in dataset_names:\n",
    "    for column in df.columns:\n",
    "        multi_index.append((dataset, column))\n",
    "final_df = pd.DataFrame()\n",
    "for dataset in final_dict.keys():\n",
    "    final_df = pd.concat([final_df, final_dict[dataset]], axis = 1)\n",
    "final_df.columns = multi_index\n",
    "final_df.columns = pd.MultiIndex.from_tuples(final_df.columns)"
   ]
  },
  {
   "cell_type": "code",
   "execution_count": 216,
   "metadata": {},
   "outputs": [
    {
     "name": "stdout",
     "output_type": "stream",
     "text": [
      "%phalanges_autoencoders_20191202_165821.csv\n",
      "\\begin{tabular}{|c||ccc|ccc|ccc|ccc|}\n",
      "\\hline\n",
      "{} & \\multicolumn{3}{c}{esr} & \\multicolumn{3}{c}{har} & \\multicolumn{3}{c}{cbf} & \\multicolumn{3}{c}{poc} \\\\\n",
      "{} & RESNET &   CNN &   KNN & RESNET &   CNN &   KNN & RESNET &   CNN &   KNN & RESNET &   CNN &   KNN \\\\\n",
      "\\hline\n",
      "\\textbf{AE-CNN } &   .955 &  .964 &  .959 &   .950 &  .910 &  .968 &   1.00 &  .889 &  1.00 &   .972 &  .972 &  .963 \\\\\n",
      "\\textbf{VAE-CNN} &   .941 &  .959 &  .801 &   .776 &  .771 &  .769 &   1.00 &  1.00 &  1.00 &   .639 &  .500 &  .648 \\\\\n",
      "\\textbf{AAE-CNN} &   .923 &  .937 &  .869 &   .946 &  .912 &  .955 &   1.00 &  1.00 &  1.00 &   .926 &  .981 &  .963 \\\\\n",
      "\\textbf{AE-LSTM} &   .511 &  .502 &  .602 &   .337 &  .170 &  .394 &   .333 &  .333 &  .333 &   .676 &  .769 &  .778 \\\\\n",
      "\\hline\n",
      "\\end{tabular}\n",
      "\n",
      "\n",
      "\n",
      "\n"
     ]
    }
   ],
   "source": [
    "# HORIZONTAL\n",
    "df = final_df\n",
    "column_format = \"|c||\"\n",
    "for i in range(len(df.columns)):\n",
    "    column_format += \"c\"\n",
    "    if ((i + 1) % 3 == 0) and (i + 1 != len(df.columns)): column_format += \"|\"\n",
    "column_format += \"|\"\n",
    "latex = df.to_latex(index = True, \n",
    "                    bold_rows = True,\n",
    "                    column_format = column_format,\n",
    "                    multicolumn_format = \"c\",\n",
    "                    )\n",
    "latex = latex.replace(\"toprule\", \"hline\")\n",
    "latex = latex = latex.replace(\"midrule\", \"hline\")\n",
    "latex = latex.replace(\"bottomrule\", \"hline\")\n",
    "print(\"%{}\".format(key))\n",
    "print(latex)\n",
    "print()\n",
    "print()\n",
    "print()"
   ]
  },
  {
   "cell_type": "code",
   "execution_count": 221,
   "metadata": {},
   "outputs": [
    {
     "name": "stdout",
     "output_type": "stream",
     "text": [
      "\\begin{tabular}{llllll}\n",
      "\\hline\n",
      "    &     & AE-CNN & VAE-CNN & AAE-CNN & AE-LSTM \\\\\n",
      "\\hline\n",
      "\\multirow{3}{*}{\\textbf{esr}} & \\textbf{RESNET} &   .955 &    .941 &    .923 &    .511 \\\\\n",
      "    & \\textbf{CNN} &   .964 &    .959 &    .937 &    .502 \\\\\n",
      "    & \\textbf{KNN} &   .959 &    .801 &    .869 &    .602 \\\\\n",
      "\\cline{1-6}\n",
      "\\multirow{3}{*}{\\textbf{har}} & \\textbf{RESNET} &   .950 &    .776 &    .946 &    .337 \\\\\n",
      "    & \\textbf{CNN} &   .910 &    .771 &    .912 &    .170 \\\\\n",
      "    & \\textbf{KNN} &   .968 &    .769 &    .955 &    .394 \\\\\n",
      "\\cline{1-6}\n",
      "\\multirow{3}{*}{\\textbf{cbf}} & \\textbf{RESNET} &   1.00 &    1.00 &    1.00 &    .333 \\\\\n",
      "    & \\textbf{CNN} &   .889 &    1.00 &    1.00 &    .333 \\\\\n",
      "    & \\textbf{KNN} &   1.00 &    1.00 &    1.00 &    .333 \\\\\n",
      "\\cline{1-6}\n",
      "\\multirow{3}{*}{\\textbf{poc}} & \\textbf{RESNET} &   .972 &    .639 &    .926 &    .676 \\\\\n",
      "    & \\textbf{CNN} &   .972 &    .500 &    .981 &    .769 \\\\\n",
      "    & \\textbf{KNN} &   .963 &    .648 &    .963 &    .778 \\\\\n",
      "\\hline\n",
      "\\end{tabular}\n",
      "\n",
      "\n",
      "\n",
      "\n"
     ]
    }
   ],
   "source": [
    "# VERTICAL\n",
    "df = final_df.T.sort_values(by=\"index\")\n",
    "column_format = \"|c|c||\"\n",
    "for i in range(len(df.columns)):\n",
    "    column_format += \"c\"\n",
    "column_format += \"|\"\n",
    "latex = df.to_latex(index = True, \n",
    "                    bold_rows = True,\n",
    "                    #column_format = column_format,\n",
    "                    multicolumn_format = \"c\",\n",
    "                    multirow = True\n",
    "                    )\n",
    "latex = latex.replace(\"toprule\", \"hline\")\n",
    "latex = latex = latex.replace(\"midrule\", \"hline\")\n",
    "latex = latex.replace(\"bottomrule\", \"hline\")\n",
    "#print(\"%{}\".format(key))\n",
    "print(latex)\n",
    "print()\n",
    "print()\n",
    "print()"
   ]
  },
  {
   "cell_type": "markdown",
   "metadata": {},
   "source": [
    "### STABILITIES"
   ]
  },
  {
   "cell_type": "code",
   "execution_count": 334,
   "metadata": {},
   "outputs": [],
   "source": [
    "path = parentdir + \"/stabilities/\"\n",
    "dataset_names = [\"cbf\", \"phalanges\", \"HARDataset\", \"EpilepticSeizureRecognition\"]\n",
    "dataset_names = [\"esr\", \"har\", \"cbf\", \"poc\"]\n",
    "objects = [\"blackboxes\", \"autoencoders\"]\n",
    "files = os.listdir(path)\n",
    "csv_files = sorted([file for file in files if \".csv\" in file])\n",
    "df_dict = dict()\n",
    "for csv in csv_files:\n",
    "    df = pd.read_csv(path + csv, sep = \";\", index_col = 0)\n",
    "    df_dict[csv] = df\n",
    "    "
   ]
  },
  {
   "cell_type": "code",
   "execution_count": 338,
   "metadata": {},
   "outputs": [],
   "source": [
    "stability_shap_df = {\"knn\":[], \"resnet\":[], \"cnn\":[]}\n",
    "rows = dataset_names\n",
    "k = 30\n",
    "metric = \"mean\"\n",
    "for csv in sorted(df_dict.keys()):\n",
    "    if \"shap_\" in csv:\n",
    "        df = df_dict[csv]\n",
    "        stab = df_dict[csv].loc[k][metric]\n",
    "        stab = ('%.3f' % (stab)).replace('0.', '.') if stab < 1.0 else ('%.2f' % (stab)) if stab < 10 else ('%.1f' % (stab)) if stab < 100 else ('%i' % (stab))\n",
    "        if \"knn\" in csv:\n",
    "            stability_shap_df[\"knn\"].append(stab)\n",
    "        elif \"simplecnn\" in csv:\n",
    "            stability_shap_df[\"cnn\"].append(stab)\n",
    "        else:\n",
    "            stability_shap_df[\"resnet\"].append(stab)\n",
    "\n",
    "stability_shap_df = pd.DataFrame(stability_shap_df, index = rows)\n",
    "\n",
    "\n"
   ]
  },
  {
   "cell_type": "code",
   "execution_count": 339,
   "metadata": {},
   "outputs": [
    {
     "data": {
      "text/html": [
       "<div>\n",
       "<style scoped>\n",
       "    .dataframe tbody tr th:only-of-type {\n",
       "        vertical-align: middle;\n",
       "    }\n",
       "\n",
       "    .dataframe tbody tr th {\n",
       "        vertical-align: top;\n",
       "    }\n",
       "\n",
       "    .dataframe thead th {\n",
       "        text-align: right;\n",
       "    }\n",
       "</style>\n",
       "<table border=\"1\" class=\"dataframe\">\n",
       "  <thead>\n",
       "    <tr style=\"text-align: right;\">\n",
       "      <th></th>\n",
       "      <th>knn</th>\n",
       "      <th>resnet</th>\n",
       "      <th>cnn</th>\n",
       "    </tr>\n",
       "  </thead>\n",
       "  <tbody>\n",
       "    <tr>\n",
       "      <th>esr</th>\n",
       "      <td>.971</td>\n",
       "      <td>.998</td>\n",
       "      <td>.983</td>\n",
       "    </tr>\n",
       "    <tr>\n",
       "      <th>har</th>\n",
       "      <td>.996</td>\n",
       "      <td>.995</td>\n",
       "      <td>1.00</td>\n",
       "    </tr>\n",
       "    <tr>\n",
       "      <th>cbf</th>\n",
       "      <td>.873</td>\n",
       "      <td>.899</td>\n",
       "      <td>.893</td>\n",
       "    </tr>\n",
       "    <tr>\n",
       "      <th>poc</th>\n",
       "      <td>.926</td>\n",
       "      <td>.976</td>\n",
       "      <td>.961</td>\n",
       "    </tr>\n",
       "  </tbody>\n",
       "</table>\n",
       "</div>"
      ],
      "text/plain": [
       "      knn resnet   cnn\n",
       "esr  .971   .998  .983\n",
       "har  .996   .995  1.00\n",
       "cbf  .873   .899  .893\n",
       "poc  .926   .976  .961"
      ]
     },
     "execution_count": 339,
     "metadata": {},
     "output_type": "execute_result"
    }
   ],
   "source": [
    "stability_shap_df"
   ]
  },
  {
   "cell_type": "code",
   "execution_count": null,
   "metadata": {},
   "outputs": [],
   "source": [
    "### shapelets"
   ]
  },
  {
   "cell_type": "code",
   "execution_count": 355,
   "metadata": {},
   "outputs": [],
   "source": [
    "path = parentdir + \"/stabilities/\"\n",
    "dataset_names = [\"cbf\", \"phalanges\", \"HARDataset\", \"EpilepticSeizureRecognition\"]\n",
    "dataset_names = [\"esr\", \"har\", \"cbf\", \"poc\"]\n",
    "objects = [\"blackboxes\", \"autoencoders\"]\n",
    "files = os.listdir(path)\n",
    "npy_files = sorted([file for file in files if \".npy\" in file if \"shapelets\" in file])\n",
    "df_dict = dict()\n",
    "for npy in npy_files:\n",
    "    df = np.load(path + npy)\n",
    "    df_dict[npy] = df"
   ]
  },
  {
   "cell_type": "code",
   "execution_count": 357,
   "metadata": {},
   "outputs": [],
   "source": [
    "stability_shapelet_df = {\"knn\":[], \"resnet\":[], \"cnn\":[]}\n",
    "rows = dataset_names\n",
    "k = 30\n",
    "metric = \"mean\"\n",
    "for npy in sorted(df_dict.keys()):\n",
    "    df = df_dict[npy]\n",
    "    stab = df[:,0].mean()\n",
    "    stab = ('%.3f' % (stab)).replace('0.', '.') if stab < 1.0 else ('%.2f' % (stab)) if stab < 10 else ('%.1f' % (stab)) if stab < 100 else ('%i' % (stab))\n",
    "    if \"knn\" in npy:\n",
    "        stability_shapelet_df[\"knn\"].append(stab)\n",
    "    elif \"simplecnn\" in npy:\n",
    "        stability_shapelet_df[\"cnn\"].append(stab)\n",
    "    else:\n",
    "        stability_shapelet_df[\"resnet\"].append(stab)\n",
    "\n",
    "#stability_shap_df = pd.DataFrame(stability_shap_df, index = rows)"
   ]
  },
  {
   "cell_type": "code",
   "execution_count": 358,
   "metadata": {},
   "outputs": [
    {
     "data": {
      "text/plain": [
       "{'knn': ['.129'], 'resnet': ['.277'], 'cnn': []}"
      ]
     },
     "execution_count": 358,
     "metadata": {},
     "output_type": "execute_result"
    }
   ],
   "source": [
    "stability_shapelet_df"
   ]
  }
 ],
 "metadata": {
  "kernelspec": {
   "display_name": "Python 3",
   "language": "python",
   "name": "python3"
  },
  "language_info": {
   "codemirror_mode": {
    "name": "ipython",
    "version": 3
   },
   "file_extension": ".py",
   "mimetype": "text/x-python",
   "name": "python",
   "nbconvert_exporter": "python",
   "pygments_lexer": "ipython3",
   "version": "3.6.9"
  }
 },
 "nbformat": 4,
 "nbformat_minor": 2
}
