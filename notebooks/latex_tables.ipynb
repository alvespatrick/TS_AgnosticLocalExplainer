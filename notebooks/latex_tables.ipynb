{
 "cells": [
  {
   "cell_type": "code",
   "execution_count": 451,
   "metadata": {},
   "outputs": [],
   "source": [
    "import pandas as pd\n",
    "import numpy as np\n",
    "import matplotlib.pyplot as plt"
   ]
  },
  {
   "cell_type": "code",
   "execution_count": 2,
   "metadata": {},
   "outputs": [],
   "source": [
    "import os,sys,inspect\n",
    "currentdir = os.path.dirname(os.path.abspath(inspect.getfile(inspect.currentframe())))\n",
    "parentdir = os.path.dirname(currentdir)\n",
    "sys.path.insert(0,parentdir)"
   ]
  },
  {
   "cell_type": "code",
   "execution_count": 787,
   "metadata": {},
   "outputs": [],
   "source": [
    "path = parentdir + \"/final_models/\"\n",
    "dataset_names = [\"cbf\", \"phalanges\", \"HARDataset\", \"EpilepticSeizureRecognition\"]\n",
    "dataset_names = [\"esr\", \"har\", \"cbf\", \"poc\"]\n",
    "objects = [\"blackboxes\", \"autoencoders\"]"
   ]
  },
  {
   "cell_type": "code",
   "execution_count": 788,
   "metadata": {},
   "outputs": [],
   "source": [
    "files = os.listdir(path)\n",
    "csv_files = sorted([file for file in files if \".csv\" in file])\n",
    "df_dict = dict()\n",
    "for csv in csv_files:\n",
    "    df = pd.read_csv(path + csv, sep = \";\", index_col = 0)\n",
    "    df_dict[csv] = df\n",
    "    "
   ]
  },
  {
   "cell_type": "markdown",
   "metadata": {},
   "source": [
    "### Blackboxes"
   ]
  },
  {
   "cell_type": "code",
   "execution_count": null,
   "metadata": {},
   "outputs": [],
   "source": [
    "# divido tabelle per metrica e metto solo test set"
   ]
  },
  {
   "cell_type": "code",
   "execution_count": 789,
   "metadata": {},
   "outputs": [],
   "source": [
    "columns = [\"RESNET\", \"CNN\", \"KNN\"]\n",
    "rows = [\"ESR\", \"HAR\", \"CBF\", \"POC\"]\n",
    "rows = [\"esr\", \"har\", \"cbf\", \"poc\"]\n",
    "#rows = [\"EpilepticSeizureRecognition\", \"HumanActivityRecognition\", \"CylinderBellFunnel\", \"PhalangesOutileCorrect\"]"
   ]
  },
  {
   "cell_type": "code",
   "execution_count": 259,
   "metadata": {},
   "outputs": [],
   "source": [
    "accuracy_df = []\n",
    "mse_df = []\n",
    "for csv in df_dict:\n",
    "    if \"blackboxes\" in csv:\n",
    "        df = df_dict[csv]\n",
    "        for column in df.columns:\n",
    "            df[column] = [('%.3f' % (m)).replace('0.', '.') if m < 1.0 else '1.00' for m in df[column]]\n",
    "        accuracy_df.append(df.loc[\"test_accuracy\"].values)\n",
    "        mse_df.append(df.loc[\"test_mse\"].values)\n",
    "accuracy_df = pd.DataFrame(accuracy_df, columns = columns, index = rows)\n",
    "#accuracy_df.index.name = \"DATASETS\"\n",
    "mse_df = pd.DataFrame(mse_df, columns = columns, index = rows)\n",
    "\n",
    "final_dict = {\"accuracy_df\": accuracy_df, \"mse_df\": mse_df}\n",
    "\n",
    "accuracy_df=accuracy_df.reset_index()\n",
    "accuracy_df[\"metric\"] = \"acc\"\n",
    "mse_df=mse_df.reset_index()\n",
    "mse_df[\"metric\"] = \"mse\"\n",
    "all_in_one_df = pd.concat([accuracy_df,mse_df]).set_index(['index', 'metric']).sort_values(by=\"index\")"
   ]
  },
  {
   "cell_type": "code",
   "execution_count": 126,
   "metadata": {},
   "outputs": [
    {
     "data": {
      "text/plain": [
       "'multi_index = []\\nfor column in df.columns:\\n    for index in df.index:\\n        multi_index.append((column, index))\\ndf_multi = pd.DataFrame([df.values.T.flatten()], columns = multi_index)\\ndf_multi.columns = pd.MultiIndex.from_tuples(df_multi.columns)\\ndf_multi[df_multi.columns[:6]]'"
      ]
     },
     "execution_count": 126,
     "metadata": {},
     "output_type": "execute_result"
    }
   ],
   "source": [
    "\"\"\"multi_index = []\n",
    "for column in df.columns:\n",
    "    for index in df.index:\n",
    "        multi_index.append((column, index))\n",
    "df_multi = pd.DataFrame([df.values.T.flatten()], columns = multi_index)\n",
    "df_multi.columns = pd.MultiIndex.from_tuples(df_multi.columns)\n",
    "df_multi[df_multi.columns[:6]]\"\"\""
   ]
  },
  {
   "cell_type": "code",
   "execution_count": 226,
   "metadata": {},
   "outputs": [
    {
     "name": "stdout",
     "output_type": "stream",
     "text": [
      "%accuracy_df\n",
      "\\begin{tabular}{|c|ccc|}\n",
      "\\hline\n",
      "{} & RESNET &   CNN &   KNN \\\\\n",
      "\\hline\n",
      "\\textbf{esr} &   .978 &  .972 &  .865 \\\\\n",
      "\\textbf{har} &   .925 &  .891 &  .901 \\\\\n",
      "\\textbf{cbf} &   1.00 &  1.00 &  1.00 \\\\\n",
      "\\textbf{poc} &   .829 &  .768 &  .783 \\\\\n",
      "\\hline\n",
      "\\end{tabular}\n",
      "\n",
      "\n",
      "\n",
      "\n",
      "%mse_df\n",
      "\\begin{tabular}{|c|ccc|}\n",
      "\\hline\n",
      "{} & RESNET &   CNN &   KNN \\\\\n",
      "\\hline\n",
      "\\textbf{esr} &   .053 &  .081 &  .135 \\\\\n",
      "\\textbf{har} &   .266 &  .265 &  .146 \\\\\n",
      "\\textbf{cbf} &   .028 &  .350 &  .000 \\\\\n",
      "\\textbf{poc} &   .802 &  .489 &  .217 \\\\\n",
      "\\hline\n",
      "\\end{tabular}\n",
      "\n",
      "\n",
      "\n",
      "\n"
     ]
    }
   ],
   "source": [
    "# separate df\n",
    "for key in final_dict:\n",
    "    df = final_dict[key]\n",
    "    column_format = \"|c|\"\n",
    "    for i in range(len(df.columns)):\n",
    "        column_format += \"c\"\n",
    "    column_format += \"|\"\n",
    "    latex = df.to_latex(index = True, \n",
    "                               bold_rows = True,\n",
    "                               column_format = column_format\n",
    "                            #multicolumn_format = \"c\",\n",
    "                            #multicolumn = True\n",
    "                           )\n",
    "    latex = latex.replace(\"toprule\", \"hline\")\n",
    "    latex = latex = latex.replace(\"midrule\", \"hline\")\n",
    "    latex = latex.replace(\"bottomrule\", \"hline\")\n",
    "    print(\"%{}\".format(key))\n",
    "    print(latex)\n",
    "    print()\n",
    "    print()\n",
    "    print()"
   ]
  },
  {
   "cell_type": "code",
   "execution_count": 286,
   "metadata": {},
   "outputs": [
    {
     "name": "stdout",
     "output_type": "stream",
     "text": [
      "%phalanges_autoencoders_20191202_165821.csv\n",
      "\\begin{tabular}{|c|c||ccc|}\n",
      "\\hline\n",
      "    &     & RESNET &   CNN &   KNN \\\\\n",
      "\\textbf{index} & \\textbf{metric} &        &       &       \\\\\n",
      "\\hline\n",
      "\\multirow{2}{*}{\\textbf{cbf}} & \\textbf{acc} &   1.00 &  1.00 &  1.00 \\\\\n",
      "    & \\textbf{mse} &   .028 &  .350 &  .000 \\\\\n",
      "\\cline{1-5}\n",
      "\\multirow{2}{*}{\\textbf{esr}} & \\textbf{acc} &   .978 &  .972 &  .865 \\\\\n",
      "    & \\textbf{mse} &   .053 &  .081 &  .135 \\\\\n",
      "\\cline{1-5}\n",
      "\\multirow{2}{*}{\\textbf{har}} & \\textbf{acc} &   .925 &  .891 &  .901 \\\\\n",
      "    & \\textbf{mse} &   .266 &  .265 &  .146 \\\\\n",
      "\\cline{1-5}\n",
      "\\multirow{2}{*}{\\textbf{poc}} & \\textbf{acc} &   .829 &  .768 &  .783 \\\\\n",
      "    & \\textbf{mse} &   .802 &  .489 &  .217 \\\\\n",
      "\\hline\n",
      "\\end{tabular}\n",
      "\n",
      "\n",
      "\n",
      "\n"
     ]
    }
   ],
   "source": [
    "df = all_in_one_df\n",
    "column_format = \"|c|c||\"\"\n",
    "for i in range(len(df.columns)):\n",
    "    column_format += \"c\"\n",
    "column_format += \"|\"\n",
    "latex = df.to_latex(index = True, \n",
    "                    bold_rows = True,\n",
    "                    column_format = column_format,\n",
    "                    multirow = True)\n",
    "latex = latex.replace(\"toprule\", \"hline\")\n",
    "latex = latex = latex.replace(\"midrule\", \"hline\")\n",
    "latex = latex.replace(\"bottomrule\", \"hline\")\n",
    "print(\"%{}\".format(key))\n",
    "print(latex)\n",
    "print()\n",
    "print()\n",
    "print()"
   ]
  },
  {
   "cell_type": "markdown",
   "metadata": {},
   "source": [
    "### Autoencoders"
   ]
  },
  {
   "cell_type": "code",
   "execution_count": 790,
   "metadata": {},
   "outputs": [],
   "source": [
    "files = os.listdir(path)\n",
    "csv_files = sorted([file for file in files if \".csv\" in file])\n",
    "df_dict = dict()\n",
    "for csv in csv_files:\n",
    "    df = pd.read_csv(path + csv, sep = \";\", index_col = 0)\n",
    "    df_dict[csv] = df\n",
    "    \n",
    "\n",
    "columns = [\"RESNET\", \"CNN\", \"KNN\"]\n",
    "rows = [\"AE-CNN\", \"VAE-CNN\", \"AAE-CNN\", \"AE-LSTM\"]\n",
    "final_dict = dict()\n",
    "              \n",
    "for csv in df_dict:\n",
    "    if \"autoencoders\" in csv:\n",
    "        df = df_dict[csv]\n",
    "        df = df.loc[[\"reconstruction_resnet_test_accuracy\",\n",
    "                     \"reconstruction_simplecnn_test_accuracy\",\n",
    "                     \"reconstruction_knn_test_accuracy\"]]\n",
    "        for column in df.columns:\n",
    "            df[column] = [('%.3f' % (m)).replace('0.', '.') if m < 1.0 else '1.00' for m in df[column]]\n",
    "        final_dict[csv] = df\n",
    "for dataset in final_dict:\n",
    "    final_dict[dataset] = final_dict[dataset].T\n",
    "    final_dict[dataset].columns = columns\n",
    "    final_dict[dataset].index = rows"
   ]
  },
  {
   "cell_type": "code",
   "execution_count": 799,
   "metadata": {},
   "outputs": [
    {
     "data": {
      "text/html": [
       "<div>\n",
       "<style scoped>\n",
       "    .dataframe tbody tr th:only-of-type {\n",
       "        vertical-align: middle;\n",
       "    }\n",
       "\n",
       "    .dataframe tbody tr th {\n",
       "        vertical-align: top;\n",
       "    }\n",
       "\n",
       "    .dataframe thead th {\n",
       "        text-align: right;\n",
       "    }\n",
       "</style>\n",
       "<table border=\"1\" class=\"dataframe\">\n",
       "  <thead>\n",
       "    <tr style=\"text-align: right;\">\n",
       "      <th></th>\n",
       "      <th>RESNET</th>\n",
       "      <th>CNN</th>\n",
       "      <th>KNN</th>\n",
       "    </tr>\n",
       "  </thead>\n",
       "  <tbody>\n",
       "    <tr>\n",
       "      <th>AE-CNN</th>\n",
       "      <td>.955</td>\n",
       "      <td>.964</td>\n",
       "      <td>.959</td>\n",
       "    </tr>\n",
       "    <tr>\n",
       "      <th>VAE-CNN</th>\n",
       "      <td>.941</td>\n",
       "      <td>.959</td>\n",
       "      <td>.801</td>\n",
       "    </tr>\n",
       "    <tr>\n",
       "      <th>AAE-CNN</th>\n",
       "      <td>.923</td>\n",
       "      <td>.937</td>\n",
       "      <td>.869</td>\n",
       "    </tr>\n",
       "    <tr>\n",
       "      <th>AE-LSTM</th>\n",
       "      <td>.511</td>\n",
       "      <td>.502</td>\n",
       "      <td>.602</td>\n",
       "    </tr>\n",
       "  </tbody>\n",
       "</table>\n",
       "</div>"
      ],
      "text/plain": [
       "        RESNET   CNN   KNN\n",
       "AE-CNN    .955  .964  .959\n",
       "VAE-CNN   .941  .959  .801\n",
       "AAE-CNN   .923  .937  .869\n",
       "AE-LSTM   .511  .502  .602"
      ]
     },
     "execution_count": 799,
     "metadata": {},
     "output_type": "execute_result"
    }
   ],
   "source": [
    "final_dict['EpilepticSeizureRecognition_autoencoders_20200106_191206.csv']"
   ]
  },
  {
   "cell_type": "code",
   "execution_count": 800,
   "metadata": {},
   "outputs": [
    {
     "name": "stdout",
     "output_type": "stream",
     "text": [
      "%EpilepticSeizureRecognition_autoencoders_20200106_191206.csv\n",
      "\\begin{tabular}{|c||ccc|}\n",
      "\\hline\n",
      "{} & RESNET &   CNN &   KNN \\\\\n",
      "\\hline\n",
      "\\textbf{AE-CNN } &   .955 &  .964 &  .959 \\\\\n",
      "\\textbf{VAE-CNN} &   .941 &  .959 &  .801 \\\\\n",
      "\\textbf{AAE-CNN} &   .923 &  .937 &  .869 \\\\\n",
      "\\textbf{AE-LSTM} &   .511 &  .502 &  .602 \\\\\n",
      "\\hline\n",
      "\\end{tabular}\n",
      "\n",
      "\n",
      "\n",
      "\n",
      "%HARDataset_autoencoders_20191202_171636.csv\n",
      "\\begin{tabular}{|c||ccc|}\n",
      "\\hline\n",
      "{} & RESNET &   CNN &   KNN \\\\\n",
      "\\hline\n",
      "\\textbf{AE-CNN } &   .950 &  .910 &  .968 \\\\\n",
      "\\textbf{VAE-CNN} &   .776 &  .771 &  .769 \\\\\n",
      "\\textbf{AAE-CNN} &   .946 &  .912 &  .955 \\\\\n",
      "\\textbf{AE-LSTM} &   .337 &  .170 &  .394 \\\\\n",
      "\\hline\n",
      "\\end{tabular}\n",
      "\n",
      "\n",
      "\n",
      "\n",
      "%cbf_autoencoders_20191201_133423.csv\n",
      "\\begin{tabular}{|c||ccc|}\n",
      "\\hline\n",
      "{} & RESNET &   CNN &   KNN \\\\\n",
      "\\hline\n",
      "\\textbf{AE-CNN } &   1.00 &  .889 &  1.00 \\\\\n",
      "\\textbf{VAE-CNN} &   1.00 &  1.00 &  1.00 \\\\\n",
      "\\textbf{AAE-CNN} &   1.00 &  1.00 &  1.00 \\\\\n",
      "\\textbf{AE-LSTM} &   .333 &  .333 &  .333 \\\\\n",
      "\\hline\n",
      "\\end{tabular}\n",
      "\n",
      "\n",
      "\n",
      "\n",
      "%phalanges_autoencoders_20191202_165821.csv\n",
      "\\begin{tabular}{|c||ccc|}\n",
      "\\hline\n",
      "{} & RESNET &   CNN &   KNN \\\\\n",
      "\\hline\n",
      "\\textbf{AE-CNN } &   .972 &  .972 &  .963 \\\\\n",
      "\\textbf{VAE-CNN} &   .639 &  .500 &  .648 \\\\\n",
      "\\textbf{AAE-CNN} &   .926 &  .981 &  .963 \\\\\n",
      "\\textbf{AE-LSTM} &   .676 &  .769 &  .778 \\\\\n",
      "\\hline\n",
      "\\end{tabular}\n",
      "\n",
      "\n",
      "\n",
      "\n"
     ]
    }
   ],
   "source": [
    "for key in final_dict:\n",
    "    df = final_dict[key]\n",
    "    column_format = \"|c||\"\n",
    "    for i in range(len(df.columns)):\n",
    "        column_format += \"c\"\n",
    "    column_format += \"|\"\n",
    "    latex = df.to_latex(index = True, \n",
    "                               bold_rows = True,\n",
    "                               column_format = column_format\n",
    "                            #multicolumn_format = \"c\",\n",
    "                            #multicolumn = True\n",
    "                           )\n",
    "    latex = latex.replace(\"toprule\", \"hline\")\n",
    "    latex = latex = latex.replace(\"midrule\", \"hline\")\n",
    "    latex = latex.replace(\"bottomrule\", \"hline\")\n",
    "    print(\"%{}\".format(key))\n",
    "    print(latex)\n",
    "    print()\n",
    "    print()\n",
    "    print()"
   ]
  },
  {
   "cell_type": "code",
   "execution_count": 801,
   "metadata": {},
   "outputs": [],
   "source": [
    "multi_index = []\n",
    "for dataset in dataset_names:\n",
    "    for column in df.columns:\n",
    "        multi_index.append((dataset, column))\n",
    "final_df = pd.DataFrame()\n",
    "for dataset in final_dict.keys():\n",
    "    final_df = pd.concat([final_df, final_dict[dataset]], axis = 1)\n",
    "final_df.columns = multi_index\n",
    "final_df.columns = pd.MultiIndex.from_tuples(final_df.columns)"
   ]
  },
  {
   "cell_type": "code",
   "execution_count": 805,
   "metadata": {},
   "outputs": [
    {
     "data": {
      "text/plain": [
       "[('esr', 'RESNET'),\n",
       " ('esr', 'CNN'),\n",
       " ('esr', 'KNN'),\n",
       " ('har', 'RESNET'),\n",
       " ('har', 'CNN'),\n",
       " ('har', 'KNN'),\n",
       " ('cbf', 'RESNET'),\n",
       " ('cbf', 'CNN'),\n",
       " ('cbf', 'KNN'),\n",
       " ('poc', 'RESNET'),\n",
       " ('poc', 'CNN'),\n",
       " ('poc', 'KNN')]"
      ]
     },
     "execution_count": 805,
     "metadata": {},
     "output_type": "execute_result"
    }
   ],
   "source": [
    "final_df[[('esr', 'RESNET'),\n",
    "          ('esr', 'CNN'),\n",
    "          ('esr', 'KNN'),\n",
    " ('har', 'RESNET'),\n",
    " ('har', 'CNN'),\n",
    " ('har', 'KNN'),\n",
    " ('cbf', 'RESNET'),\n",
    " ('cbf', 'CNN'),\n",
    " ('cbf', 'KNN'),\n",
    " ('poc', 'RESNET'),\n",
    " ('poc', 'CNN'),\n",
    " ('poc', 'KNN')]]"
   ]
  },
  {
   "cell_type": "code",
   "execution_count": 802,
   "metadata": {},
   "outputs": [
    {
     "data": {
      "text/html": [
       "<div>\n",
       "<style scoped>\n",
       "    .dataframe tbody tr th:only-of-type {\n",
       "        vertical-align: middle;\n",
       "    }\n",
       "\n",
       "    .dataframe tbody tr th {\n",
       "        vertical-align: top;\n",
       "    }\n",
       "\n",
       "    .dataframe thead tr th {\n",
       "        text-align: left;\n",
       "    }\n",
       "</style>\n",
       "<table border=\"1\" class=\"dataframe\">\n",
       "  <thead>\n",
       "    <tr>\n",
       "      <th></th>\n",
       "      <th colspan=\"3\" halign=\"left\">esr</th>\n",
       "      <th colspan=\"3\" halign=\"left\">har</th>\n",
       "      <th colspan=\"3\" halign=\"left\">cbf</th>\n",
       "      <th colspan=\"3\" halign=\"left\">poc</th>\n",
       "    </tr>\n",
       "    <tr>\n",
       "      <th></th>\n",
       "      <th>RESNET</th>\n",
       "      <th>CNN</th>\n",
       "      <th>KNN</th>\n",
       "      <th>RESNET</th>\n",
       "      <th>CNN</th>\n",
       "      <th>KNN</th>\n",
       "      <th>RESNET</th>\n",
       "      <th>CNN</th>\n",
       "      <th>KNN</th>\n",
       "      <th>RESNET</th>\n",
       "      <th>CNN</th>\n",
       "      <th>KNN</th>\n",
       "    </tr>\n",
       "  </thead>\n",
       "  <tbody>\n",
       "    <tr>\n",
       "      <th>AE-CNN</th>\n",
       "      <td>.955</td>\n",
       "      <td>.964</td>\n",
       "      <td>.959</td>\n",
       "      <td>.950</td>\n",
       "      <td>.910</td>\n",
       "      <td>.968</td>\n",
       "      <td>1.00</td>\n",
       "      <td>.889</td>\n",
       "      <td>1.00</td>\n",
       "      <td>.972</td>\n",
       "      <td>.972</td>\n",
       "      <td>.963</td>\n",
       "    </tr>\n",
       "    <tr>\n",
       "      <th>VAE-CNN</th>\n",
       "      <td>.941</td>\n",
       "      <td>.959</td>\n",
       "      <td>.801</td>\n",
       "      <td>.776</td>\n",
       "      <td>.771</td>\n",
       "      <td>.769</td>\n",
       "      <td>1.00</td>\n",
       "      <td>1.00</td>\n",
       "      <td>1.00</td>\n",
       "      <td>.639</td>\n",
       "      <td>.500</td>\n",
       "      <td>.648</td>\n",
       "    </tr>\n",
       "    <tr>\n",
       "      <th>AAE-CNN</th>\n",
       "      <td>.923</td>\n",
       "      <td>.937</td>\n",
       "      <td>.869</td>\n",
       "      <td>.946</td>\n",
       "      <td>.912</td>\n",
       "      <td>.955</td>\n",
       "      <td>1.00</td>\n",
       "      <td>1.00</td>\n",
       "      <td>1.00</td>\n",
       "      <td>.926</td>\n",
       "      <td>.981</td>\n",
       "      <td>.963</td>\n",
       "    </tr>\n",
       "    <tr>\n",
       "      <th>AE-LSTM</th>\n",
       "      <td>.511</td>\n",
       "      <td>.502</td>\n",
       "      <td>.602</td>\n",
       "      <td>.337</td>\n",
       "      <td>.170</td>\n",
       "      <td>.394</td>\n",
       "      <td>.333</td>\n",
       "      <td>.333</td>\n",
       "      <td>.333</td>\n",
       "      <td>.676</td>\n",
       "      <td>.769</td>\n",
       "      <td>.778</td>\n",
       "    </tr>\n",
       "  </tbody>\n",
       "</table>\n",
       "</div>"
      ],
      "text/plain": [
       "           esr                har                cbf                poc        \\\n",
       "        RESNET   CNN   KNN RESNET   CNN   KNN RESNET   CNN   KNN RESNET   CNN   \n",
       "AE-CNN    .955  .964  .959   .950  .910  .968   1.00  .889  1.00   .972  .972   \n",
       "VAE-CNN   .941  .959  .801   .776  .771  .769   1.00  1.00  1.00   .639  .500   \n",
       "AAE-CNN   .923  .937  .869   .946  .912  .955   1.00  1.00  1.00   .926  .981   \n",
       "AE-LSTM   .511  .502  .602   .337  .170  .394   .333  .333  .333   .676  .769   \n",
       "\n",
       "               \n",
       "          KNN  \n",
       "AE-CNN   .963  \n",
       "VAE-CNN  .648  \n",
       "AAE-CNN  .963  \n",
       "AE-LSTM  .778  "
      ]
     },
     "execution_count": 802,
     "metadata": {},
     "output_type": "execute_result"
    }
   ],
   "source": [
    "final_df[[\"\"]]"
   ]
  },
  {
   "cell_type": "code",
   "execution_count": 216,
   "metadata": {},
   "outputs": [
    {
     "name": "stdout",
     "output_type": "stream",
     "text": [
      "%phalanges_autoencoders_20191202_165821.csv\n",
      "\\begin{tabular}{|c||ccc|ccc|ccc|ccc|}\n",
      "\\hline\n",
      "{} & \\multicolumn{3}{c}{esr} & \\multicolumn{3}{c}{har} & \\multicolumn{3}{c}{cbf} & \\multicolumn{3}{c}{poc} \\\\\n",
      "{} & RESNET &   CNN &   KNN & RESNET &   CNN &   KNN & RESNET &   CNN &   KNN & RESNET &   CNN &   KNN \\\\\n",
      "\\hline\n",
      "\\textbf{AE-CNN } &   .955 &  .964 &  .959 &   .950 &  .910 &  .968 &   1.00 &  .889 &  1.00 &   .972 &  .972 &  .963 \\\\\n",
      "\\textbf{VAE-CNN} &   .941 &  .959 &  .801 &   .776 &  .771 &  .769 &   1.00 &  1.00 &  1.00 &   .639 &  .500 &  .648 \\\\\n",
      "\\textbf{AAE-CNN} &   .923 &  .937 &  .869 &   .946 &  .912 &  .955 &   1.00 &  1.00 &  1.00 &   .926 &  .981 &  .963 \\\\\n",
      "\\textbf{AE-LSTM} &   .511 &  .502 &  .602 &   .337 &  .170 &  .394 &   .333 &  .333 &  .333 &   .676 &  .769 &  .778 \\\\\n",
      "\\hline\n",
      "\\end{tabular}\n",
      "\n",
      "\n",
      "\n",
      "\n"
     ]
    }
   ],
   "source": [
    "# HORIZONTAL\n",
    "df = final_df\n",
    "column_format = \"|c||\"\n",
    "for i in range(len(df.columns)):\n",
    "    column_format += \"c\"\n",
    "    if ((i + 1) % 3 == 0) and (i + 1 != len(df.columns)): column_format += \"|\"\n",
    "column_format += \"|\"\n",
    "latex = df.to_latex(index = True, \n",
    "                    bold_rows = True,\n",
    "                    column_format = column_format,\n",
    "                    multicolumn_format = \"c\",\n",
    "                    )\n",
    "latex = latex.replace(\"toprule\", \"hline\")\n",
    "latex = latex = latex.replace(\"midrule\", \"hline\")\n",
    "latex = latex.replace(\"bottomrule\", \"hline\")\n",
    "print(\"%{}\".format(key))\n",
    "print(latex)\n",
    "print()\n",
    "print()\n",
    "print()"
   ]
  },
  {
   "cell_type": "code",
   "execution_count": 221,
   "metadata": {},
   "outputs": [
    {
     "name": "stdout",
     "output_type": "stream",
     "text": [
      "\\begin{tabular}{llllll}\n",
      "\\hline\n",
      "    &     & AE-CNN & VAE-CNN & AAE-CNN & AE-LSTM \\\\\n",
      "\\hline\n",
      "\\multirow{3}{*}{\\textbf{esr}} & \\textbf{RESNET} &   .955 &    .941 &    .923 &    .511 \\\\\n",
      "    & \\textbf{CNN} &   .964 &    .959 &    .937 &    .502 \\\\\n",
      "    & \\textbf{KNN} &   .959 &    .801 &    .869 &    .602 \\\\\n",
      "\\cline{1-6}\n",
      "\\multirow{3}{*}{\\textbf{har}} & \\textbf{RESNET} &   .950 &    .776 &    .946 &    .337 \\\\\n",
      "    & \\textbf{CNN} &   .910 &    .771 &    .912 &    .170 \\\\\n",
      "    & \\textbf{KNN} &   .968 &    .769 &    .955 &    .394 \\\\\n",
      "\\cline{1-6}\n",
      "\\multirow{3}{*}{\\textbf{cbf}} & \\textbf{RESNET} &   1.00 &    1.00 &    1.00 &    .333 \\\\\n",
      "    & \\textbf{CNN} &   .889 &    1.00 &    1.00 &    .333 \\\\\n",
      "    & \\textbf{KNN} &   1.00 &    1.00 &    1.00 &    .333 \\\\\n",
      "\\cline{1-6}\n",
      "\\multirow{3}{*}{\\textbf{poc}} & \\textbf{RESNET} &   .972 &    .639 &    .926 &    .676 \\\\\n",
      "    & \\textbf{CNN} &   .972 &    .500 &    .981 &    .769 \\\\\n",
      "    & \\textbf{KNN} &   .963 &    .648 &    .963 &    .778 \\\\\n",
      "\\hline\n",
      "\\end{tabular}\n",
      "\n",
      "\n",
      "\n",
      "\n"
     ]
    }
   ],
   "source": [
    "# VERTICAL\n",
    "df = final_df.T.sort_values(by=\"index\")\n",
    "column_format = \"|c|c||\"\n",
    "for i in range(len(df.columns)):\n",
    "    column_format += \"c\"\n",
    "column_format += \"|\"\n",
    "latex = df.to_latex(index = True, \n",
    "                    bold_rows = True,\n",
    "                    #column_format = column_format,\n",
    "                    multicolumn_format = \"c\",\n",
    "                    multirow = True\n",
    "                    )\n",
    "latex = latex.replace(\"toprule\", \"hline\")\n",
    "latex = latex = latex.replace(\"midrule\", \"hline\")\n",
    "latex = latex.replace(\"bottomrule\", \"hline\")\n",
    "#print(\"%{}\".format(key))\n",
    "print(latex)\n",
    "print()\n",
    "print()\n",
    "print()"
   ]
  },
  {
   "cell_type": "markdown",
   "metadata": {},
   "source": [
    "### STABILITIES"
   ]
  },
  {
   "cell_type": "code",
   "execution_count": 484,
   "metadata": {},
   "outputs": [],
   "source": [
    "path = parentdir + \"/stabilities/\"\n",
    "dataset_names = [\"cbf\", \"phalanges\", \"HARDataset\", \"EpilepticSeizureRecognition\"]\n",
    "dataset_names = [\"esr\", \"har\", \"cbf\", \"poc\"]\n",
    "objects = [\"blackboxes\", \"autoencoders\"]\n",
    "files = os.listdir(path)\n",
    "npy_files = sorted([file for file in files if \".npy\" in file if \"shap_\" in file])\n",
    "df_dict = dict()\n",
    "for npy in npy_files:\n",
    "    df = np.load(path + npy)\n",
    "    df_dict[npy] = df\n",
    "shap_df_dict = df_dict "
   ]
  },
  {
   "cell_type": "code",
   "execution_count": 485,
   "metadata": {},
   "outputs": [],
   "source": [
    "stability_shap_df = {\"knn\":[], \"resnet\":[], \"cnn\":[]}\n",
    "rows = dataset_names\n",
    "k = 30\n",
    "metric = \"mean\"\n",
    "for npy in sorted(df_dict.keys()):\n",
    "    df = df_dict[npy]\n",
    "    stab = np.median(df_dict[npy][:,:,0][:,5])#.mean()\n",
    "    dev = df_dict[npy][:,:,0][:,5].std()\n",
    "    stab = ('%.3f' % (stab)).replace('0.', '.') if stab < 1.0 else ('%.2f' % (stab)) if stab < 10 else ('%.1f' % (stab)) if stab < 100 else ('%i' % (stab))\n",
    "    dev = ('%.2f' % (dev)).replace('0.', '.') if dev < 1.0 else ('%.1f' % (dev)) if dev < 10 else ('%i' % (dev))\n",
    "    res = stab + \" ± \" + dev\n",
    "    if \"knn\" in npy:\n",
    "        stability_shap_df[\"knn\"].append(stab)\n",
    "    elif \"simplecnn\" in npy:\n",
    "        stability_shap_df[\"cnn\"].append(stab)\n",
    "    else:\n",
    "        stability_shap_df[\"resnet\"].append(stab)\n",
    "\n",
    "stability_shap_df = pd.DataFrame(stability_shap_df, index = rows)\n",
    "\n",
    "\n"
   ]
  },
  {
   "cell_type": "code",
   "execution_count": 486,
   "metadata": {},
   "outputs": [
    {
     "data": {
      "text/html": [
       "<div>\n",
       "<style scoped>\n",
       "    .dataframe tbody tr th:only-of-type {\n",
       "        vertical-align: middle;\n",
       "    }\n",
       "\n",
       "    .dataframe tbody tr th {\n",
       "        vertical-align: top;\n",
       "    }\n",
       "\n",
       "    .dataframe thead th {\n",
       "        text-align: right;\n",
       "    }\n",
       "</style>\n",
       "<table border=\"1\" class=\"dataframe\">\n",
       "  <thead>\n",
       "    <tr style=\"text-align: right;\">\n",
       "      <th></th>\n",
       "      <th>knn</th>\n",
       "      <th>resnet</th>\n",
       "      <th>cnn</th>\n",
       "    </tr>\n",
       "  </thead>\n",
       "  <tbody>\n",
       "    <tr>\n",
       "      <th>esr</th>\n",
       "      <td>.963</td>\n",
       "      <td>1.00</td>\n",
       "      <td>.972</td>\n",
       "    </tr>\n",
       "    <tr>\n",
       "      <th>har</th>\n",
       "      <td>.995</td>\n",
       "      <td>.995</td>\n",
       "      <td>1.00</td>\n",
       "    </tr>\n",
       "    <tr>\n",
       "      <th>cbf</th>\n",
       "      <td>.856</td>\n",
       "      <td>.878</td>\n",
       "      <td>.879</td>\n",
       "    </tr>\n",
       "    <tr>\n",
       "      <th>poc</th>\n",
       "      <td>.913</td>\n",
       "      <td>.974</td>\n",
       "      <td>.953</td>\n",
       "    </tr>\n",
       "  </tbody>\n",
       "</table>\n",
       "</div>"
      ],
      "text/plain": [
       "      knn resnet   cnn\n",
       "esr  .963   1.00  .972\n",
       "har  .995   .995  1.00\n",
       "cbf  .856   .878  .879\n",
       "poc  .913   .974  .953"
      ]
     },
     "execution_count": 486,
     "metadata": {},
     "output_type": "execute_result"
    }
   ],
   "source": [
    "stability_shap_df"
   ]
  },
  {
   "cell_type": "code",
   "execution_count": null,
   "metadata": {},
   "outputs": [],
   "source": [
    "### shapelets"
   ]
  },
  {
   "cell_type": "code",
   "execution_count": 487,
   "metadata": {},
   "outputs": [],
   "source": [
    "path = parentdir + \"/stabilities/\"\n",
    "dataset_names = [\"cbf\", \"phalanges\", \"HARDataset\", \"EpilepticSeizureRecognition\"]\n",
    "dataset_names = [\"esr\", \"har\", \"cbf\", \"poc\"]\n",
    "objects = [\"blackboxes\", \"autoencoders\"]\n",
    "files = os.listdir(path)\n",
    "npy_files = sorted([file for file in files if \".npy\" in file if \"shapelets\" in file])\n",
    "df_dict = dict()\n",
    "for npy in npy_files:\n",
    "    df = np.load(path + npy)\n",
    "    df_dict[npy] = df\n",
    "shapelet_df_dict = df_dict "
   ]
  },
  {
   "cell_type": "code",
   "execution_count": 488,
   "metadata": {},
   "outputs": [],
   "source": [
    "stability_shapelet_df = {\"knn\":[], \"resnet\":[], \"cnn\":[]}\n",
    "rows = dataset_names\n",
    "k = 30\n",
    "metric = \"mean\"\n",
    "for npy in sorted(df_dict.keys()):\n",
    "    df = df_dict[npy]\n",
    "    df[df==np.inf]=np.nan\n",
    "    stab = np.nanmedian(df[:,0])#df[:,0].mean()\n",
    "    dev = np.nanstd(df[:,0])\n",
    "    stab = ('%.3f' % (stab)).replace('0.', '.') if stab < 1.0 else ('%.2f' % (stab)) if stab < 10 else ('%.1f' % (stab)) if stab < 100 else ('%i' % (stab))\n",
    "    dev = ('%.2f' % (dev)).replace('0.', '.') if dev < 1.0 else ('%.1f' % (dev)) if dev < 10 else ('%i' % (dev))\n",
    "    res = stab + \" ± \" + dev\n",
    "    if \"knn\" in npy:\n",
    "        stability_shapelet_df[\"knn\"].append(stab)\n",
    "    elif \"simplecnn\" in npy:\n",
    "        stability_shapelet_df[\"cnn\"].append(stab)\n",
    "    else:\n",
    "        stability_shapelet_df[\"resnet\"].append(stab)\n",
    "\n",
    "stability_shapelet_df = pd.DataFrame(stability_shapelet_df, index = rows)"
   ]
  },
  {
   "cell_type": "code",
   "execution_count": 489,
   "metadata": {},
   "outputs": [
    {
     "data": {
      "text/html": [
       "<div>\n",
       "<style scoped>\n",
       "    .dataframe tbody tr th:only-of-type {\n",
       "        vertical-align: middle;\n",
       "    }\n",
       "\n",
       "    .dataframe tbody tr th {\n",
       "        vertical-align: top;\n",
       "    }\n",
       "\n",
       "    .dataframe thead th {\n",
       "        text-align: right;\n",
       "    }\n",
       "</style>\n",
       "<table border=\"1\" class=\"dataframe\">\n",
       "  <thead>\n",
       "    <tr style=\"text-align: right;\">\n",
       "      <th></th>\n",
       "      <th>knn</th>\n",
       "      <th>resnet</th>\n",
       "      <th>cnn</th>\n",
       "    </tr>\n",
       "  </thead>\n",
       "  <tbody>\n",
       "    <tr>\n",
       "      <th>esr</th>\n",
       "      <td>.877</td>\n",
       "      <td>1.01</td>\n",
       "      <td>.816</td>\n",
       "    </tr>\n",
       "    <tr>\n",
       "      <th>har</th>\n",
       "      <td>.234</td>\n",
       "      <td>.684</td>\n",
       "      <td>.771</td>\n",
       "    </tr>\n",
       "    <tr>\n",
       "      <th>cbf</th>\n",
       "      <td>.035</td>\n",
       "      <td>.167</td>\n",
       "      <td>.523</td>\n",
       "    </tr>\n",
       "    <tr>\n",
       "      <th>poc</th>\n",
       "      <td>.580</td>\n",
       "      <td>.904</td>\n",
       "      <td>.852</td>\n",
       "    </tr>\n",
       "  </tbody>\n",
       "</table>\n",
       "</div>"
      ],
      "text/plain": [
       "      knn resnet   cnn\n",
       "esr  .877   1.01  .816\n",
       "har  .234   .684  .771\n",
       "cbf  .035   .167  .523\n",
       "poc  .580   .904  .852"
      ]
     },
     "execution_count": 489,
     "metadata": {},
     "output_type": "execute_result"
    }
   ],
   "source": [
    "stability_shapelet_df"
   ]
  },
  {
   "cell_type": "code",
   "execution_count": 493,
   "metadata": {},
   "outputs": [],
   "source": [
    "columns = []\n",
    "for method in [\"lasts\", \"shap\"]:\n",
    "    for column in stability_shapelet_df.columns:\n",
    "        columns.append((column, method))\n",
    "columns = pd.MultiIndex.from_tuples(columns)"
   ]
  },
  {
   "cell_type": "code",
   "execution_count": 494,
   "metadata": {},
   "outputs": [],
   "source": [
    "df = pd.concat([stability_shapelet_df,stability_shap_df], axis = 1)\n",
    "df.columns = columns\n",
    "df = df.reindex(sorted(df.columns), axis=1)"
   ]
  },
  {
   "cell_type": "code",
   "execution_count": 765,
   "metadata": {},
   "outputs": [
    {
     "data": {
      "text/plain": [
       "MultiIndex([(   'cnn', 'lasts'),\n",
       "            (   'cnn',  'shap'),\n",
       "            (   'knn', 'lasts'),\n",
       "            (   'knn',  'shap'),\n",
       "            ('resnet', 'lasts'),\n",
       "            ('resnet',  'shap')],\n",
       "           )"
      ]
     },
     "execution_count": 765,
     "metadata": {},
     "output_type": "execute_result"
    }
   ],
   "source": [
    "df.columns"
   ]
  },
  {
   "cell_type": "code",
   "execution_count": 770,
   "metadata": {},
   "outputs": [],
   "source": [
    "df = df[[\"resnet\", \"cnn\", \"knn\"]].loc[[\"cbf\",\"esr\",\"har\", \"poc\"]]"
   ]
  },
  {
   "cell_type": "code",
   "execution_count": 771,
   "metadata": {},
   "outputs": [
    {
     "name": "stdout",
     "output_type": "stream",
     "text": [
      "%poc\n",
      "\\begin{tabular}{|c||cccccc|}\n",
      "\\hline\n",
      "{} & \\multicolumn{2}{c}{resnet} & \\multicolumn{2}{c}{cnn} & \\multicolumn{2}{c}{knn} \\\\\n",
      "{} &  lasts &  shap & lasts &  shap & lasts &  shap \\\\\n",
      "\\hline\n",
      "\\textbf{cbf} &   .167 &  .878 &  .523 &  .879 &  .035 &  .856 \\\\\n",
      "\\textbf{esr} &   1.01 &  1.00 &  .816 &  .972 &  .877 &  .963 \\\\\n",
      "\\textbf{har} &   .684 &  .995 &  .771 &  1.00 &  .234 &  .995 \\\\\n",
      "\\textbf{poc} &   .904 &  .974 &  .852 &  .953 &  .580 &  .913 \\\\\n",
      "\\hline\n",
      "\\end{tabular}\n",
      "\n",
      "\n",
      "\n",
      "\n"
     ]
    }
   ],
   "source": [
    "\n",
    "column_format = \"|c||\"\n",
    "for i in range(len(df.columns)):\n",
    "    column_format += \"c\"\n",
    "column_format += \"|\"\n",
    "latex = df.to_latex(index = True, \n",
    "                    bold_rows = True,\n",
    "                    column_format = column_format,\n",
    "                    multicolumn_format = \"c\",\n",
    "                    multirow = False)\n",
    "latex = latex.replace(\"toprule\", \"hline\")\n",
    "latex = latex = latex.replace(\"midrule\", \"hline\")\n",
    "latex = latex.replace(\"bottomrule\", \"hline\")\n",
    "print(\"%{}\".format(key))\n",
    "print(latex)\n",
    "print()\n",
    "print()\n",
    "print()"
   ]
  },
  {
   "cell_type": "code",
   "execution_count": 507,
   "metadata": {},
   "outputs": [
    {
     "data": {
      "text/plain": [
       "(50,)"
      ]
     },
     "execution_count": 507,
     "metadata": {},
     "output_type": "execute_result"
    }
   ],
   "source": [
    "shap_df_dict['EpilepticSeizureRecognition_stability_shap_20200121_163546_knn.npy'][:,:,0][:,5].shape"
   ]
  },
  {
   "cell_type": "code",
   "execution_count": 731,
   "metadata": {},
   "outputs": [
    {
     "data": {
      "text/plain": [
       "dict_keys(['EpilepticSeizureRecognition_stability_shap_20200121_163546_knn.npy', 'EpilepticSeizureRecognition_stability_shap_20200121_163546_resnet.npy', 'EpilepticSeizureRecognition_stability_shap_20200121_163546_simplecnn.npy', 'HARDataset_stability_shap_20200121_163723_knn.npy', 'HARDataset_stability_shap_20200121_163723_resnet.npy', 'HARDataset_stability_shap_20200121_163723_simplecnn.npy', 'cbf_stability_shap_20200121_121614_knn.npy', 'cbf_stability_shap_20200121_121614_resnet.npy', 'cbf_stability_shap_20200121_121614_simplecnn.npy', 'phalanges_stability_shap_20200121_122615_knn.npy', 'phalanges_stability_shap_20200121_122615_resnet.npy', 'phalanges_stability_shap_20200121_122615_simplecnn.npy'])"
      ]
     },
     "execution_count": 731,
     "metadata": {},
     "output_type": "execute_result"
    }
   ],
   "source": [
    "shap_df_dict.keys()"
   ]
  },
  {
   "cell_type": "code",
   "execution_count": 775,
   "metadata": {},
   "outputs": [],
   "source": [
    "final_dict = {\"cbf\":[], \"esr\":[], \"har\":[], \"poc\":[]}\n",
    "columns = [\"knn\", \"resnet\", \"cnn\", \"knn_b\", \"resnet_b\", \"cnn_b\"]\n",
    "for key in sorted(shapelet_df_dict.keys()):\n",
    "    if \"cbf\" in key:\n",
    "        array = shapelet_df_dict[key][:,0]\n",
    "        array[array==np.inf]=np.nan\n",
    "        final_dict[\"cbf\"].append(array)\n",
    "    elif \"Epileptic\" in key:\n",
    "        array = shapelet_df_dict[key][:,0]\n",
    "        array[array==np.inf]=np.nan\n",
    "        final_dict[\"esr\"].append(array)\n",
    "    elif \"HARDataset\" in key:\n",
    "        array = shapelet_df_dict[key][:,0]\n",
    "        array[array==np.inf]=np.nan\n",
    "        final_dict[\"har\"].append(array)\n",
    "    else:\n",
    "        array = shapelet_df_dict[key][:,0]\n",
    "        array[array==np.inf]=np.nan\n",
    "        final_dict[\"poc\"].append(array)\n",
    "for key in sorted(shap_df_dict.keys()):\n",
    "    if \"cbf\" in key:\n",
    "        final_dict[\"cbf\"].append(shap_df_dict[key][:,:,0][:,5])\n",
    "    elif \"Epileptic\" in key:\n",
    "        final_dict[\"esr\"].append(shap_df_dict[key][:,:,0][:,5])\n",
    "    elif \"HARDataset\" in key:\n",
    "        final_dict[\"har\"].append(shap_df_dict[key][:,:,0][:,5])\n",
    "    else:\n",
    "        final_dict[\"poc\"].append(shap_df_dict[key][:,:,0][:,5])\n",
    "        \n",
    "for key in sorted(final_dict.keys()):\n",
    "    final_dict[key] = pd.DataFrame(np.array(final_dict[key]).T, columns = columns)\n",
    "    final_dict[key] = final_dict[key].reindex(sorted(final_dict[key].columns), axis=1)\n",
    "    final_dict[key] = final_dict[key][[\"resnet\",\"resnet_b\",\"cnn\",\"cnn_b\",\"knn\", \"knn_b\"]]\n",
    "#cbf = pd.DataFrame(np.array(cbf).T, columns = columns)\n",
    "#cbf = cbf.reindex(sorted(cbf.columns), axis=1)"
   ]
  },
  {
   "cell_type": "code",
   "execution_count": 777,
   "metadata": {},
   "outputs": [
    {
     "name": "stdout",
     "output_type": "stream",
     "text": [
      "cbf\n"
     ]
    },
    {
     "data": {
      "image/png": "[encoded data removed]",
      "text/plain": [
       "<Figure size 864x288 with 1 Axes>"
      ]
     },
     "metadata": {
      "needs_background": "light"
     },
     "output_type": "display_data"
    },
    {
     "name": "stdout",
     "output_type": "stream",
     "text": [
      "esr\n"
     ]
    },
    {
     "data": {
      "image/png": "[encoded data removed]",
      "text/plain": [
       "<Figure size 864x288 with 1 Axes>"
      ]
     },
     "metadata": {
      "needs_background": "light"
     },
     "output_type": "display_data"
    },
    {
     "name": "stdout",
     "output_type": "stream",
     "text": [
      "har\n"
     ]
    },
    {
     "data": {
      "image/png": "[encoded data removed]",
      "text/plain": [
       "<Figure size 864x288 with 1 Axes>"
      ]
     },
     "metadata": {
      "needs_background": "light"
     },
     "output_type": "display_data"
    },
    {
     "name": "stdout",
     "output_type": "stream",
     "text": [
      "poc\n"
     ]
    },
    {
     "data": {
      "image/png": "[encoded data removed]",
      "text/plain": [
       "<Figure size 864x288 with 1 Axes>"
      ]
     },
     "metadata": {
      "needs_background": "light"
     },
     "output_type": "display_data"
    }
   ],
   "source": [
    "for key in sorted(final_dict.keys()):\n",
    "    print(key)\n",
    "    data = final_dict[key].values\n",
    "    fontsize = 24\n",
    "\n",
    "    mask = ~np.isnan(data)\n",
    "    filtered_data = [d[m] for d, m in zip(data.T, mask.T)]\n",
    "\n",
    "    plt.figure(figsize=(12,4))\n",
    "    medianprops = dict(linestyle='-', linewidth=3, color='#8c510a')\n",
    "    meanprops = dict(marker='D',  markeredgecolor='#003c30', markerfacecolor='#003c30')\n",
    "    boxprops = dict(linestyle='-', linewidth=3, color='#01665e')\n",
    "    whiskerprops = dict(linestyle='-', linewidth=3, color='#01665e')\n",
    "    capprops = dict(linestyle='-', linewidth=3, color='#01665e')\n",
    "\n",
    "    plt.boxplot(filtered_data, medianprops=medianprops, boxprops=boxprops, capprops=capprops,\n",
    "                whiskerprops=whiskerprops, meanprops=meanprops, showmeans=False, showfliers = False)\n",
    "    plt.xticks(range(1, len(filtered_data)+1), ['lasts', 'shap'] * (len(filtered_data)//2), fontsize=fontsize)\n",
    "    plt.yticks(np.arange(0.0, 2.6, 0.5), fontsize=fontsize)\n",
    "    plt.ylabel(\"stability\", fontsize=fontsize)\n",
    "    #plt.title(black_box, fontsize=fontsize, pad=30)\n",
    "    plt.tick_params(axis='both', which='major', labelsize=fontsize)\n",
    "    \"\"\"means = np.mean(np.stack(data.values.T), axis=0)\n",
    "    for i, m in enumerate(means):\n",
    "        plt.text(i+0.9, 1.1, ('%.2f' % m).replace('0.', '.'), fontsize=fontsize)\"\"\"\n",
    "    plt.text(1.25, plt.gca().get_ylim()[1]+0.1, 'RESNET', fontsize=fontsize)\n",
    "    plt.text(3.25, plt.gca().get_ylim()[1]+0.1, 'CNN', fontsize=fontsize)\n",
    "    plt.text(5.05, plt.gca().get_ylim()[1]+0.1, 'KNN', fontsize=fontsize)\n",
    "    plt.axvline(x=2.5, color='k', lw=1)\n",
    "    plt.axvline(x=4.5, color='k', lw=1)\n",
    "    plt.axhline(y=1, color='r', linestyle='--', alpha = 0.4, lw=2)\n",
    "    #plt.savefig(path_fig + 'boxplot_%s_%s_%s.png' % (measure, black_box, neigh_type), format='png', bbox_inches='tight')\n",
    "    plt.show()"
   ]
  },
  {
   "cell_type": "code",
   "execution_count": 739,
   "metadata": {},
   "outputs": [
    {
     "data": {
      "text/plain": [
       "(0.0, 1.0)"
      ]
     },
     "execution_count": 739,
     "metadata": {},
     "output_type": "execute_result"
    },
    {
     "data": {
      "image/png": "[encoded data removed]",
      "text/plain": [
       "<Figure size 432x288 with 1 Axes>"
      ]
     },
     "metadata": {
      "needs_background": "light"
     },
     "output_type": "display_data"
    }
   ],
   "source": [
    "plt.gca().get_ylim()"
   ]
  },
  {
   "cell_type": "code",
   "execution_count": 681,
   "metadata": {},
   "outputs": [
    {
     "data": {
      "image/png": "[encoded data removed]",
      "text/plain": [
       "<Figure size 864x288 with 2 Axes>"
      ]
     },
     "metadata": {
      "needs_background": "light"
     },
     "output_type": "display_data"
    }
   ],
   "source": [
    "title = 'RF'\n",
    "\n",
    "fontsize = 18\n",
    "data = pd.DataFrame(cbf).values.T\n",
    "\n",
    "mask = ~np.isnan(data)\n",
    "filtered_data = [d[m] for d, m in zip(data.T, mask.T)]\n",
    "\n",
    "medianprops = dict(linestyle='-', linewidth=3, color='#8c510a')\n",
    "meanprops = dict(marker='D',  markeredgecolor='#003c30', markerfacecolor='#003c30')\n",
    "boxprops = dict(linestyle='-', linewidth=3, color='#01665e')\n",
    "whiskerprops = dict(linestyle='-', linewidth=3, color='#01665e')\n",
    "capprops = dict(linestyle='-', linewidth=3, color='#01665e')\n",
    "\n",
    "fig, (ax1, ax2) = plt.subplots(2, 1, sharex=True, figsize=(12,4),gridspec_kw={'height_ratios': [1,3]})\n",
    "fig.suptitle(black_box, fontsize=fontsize)#, pad=30)\n",
    "\n",
    "ymin_ax1=10\n",
    "ymin_ax2=0\n",
    "ymax_ax1=80\n",
    "ymax_ax2=1.4\n",
    "\n",
    "ax1.axvline(x=2.5, color='k', lw=1)\n",
    "ax1.axvline(x=4.5, color='k', lw=1)\n",
    "ax2.axvline(x=2.5, color='k', lw=1)\n",
    "ax2.axvline(x=4.5, color='k', lw=1)\n",
    "\n",
    "# BROKEN AXIS\n",
    "# hide the spines between ax and ax2\n",
    "ax1.spines['bottom'].set_visible(False)\n",
    "ax2.spines['top'].set_visible(False)\n",
    "ax1.xaxis.tick_top()\n",
    "ax1.tick_params(labeltop=False)  # don't put tick labels at the top\n",
    "ax2.xaxis.tick_bottom()\n",
    "d = .01  # how big to make the diagonal lines in axes coordinates\n",
    "# arguments to pass to plot, just so we don't keep repeating them\n",
    "\n",
    "kwargs = dict(transform=ax1.transAxes, color='k', clip_on=False)\n",
    "ax1.plot((-d, +d), (0.5*d, 0.5*d), **kwargs)        # top-left diagonal\n",
    "ax1.plot((1 - d, 1 + d), (0.5*d, 0.5*d), **kwargs)  # top-right diagonal\n",
    "#ax1.plot((-d, +d), (-d, +d), **kwargs)        # top-left diagonal\n",
    "ax1.plot((0.668 - d, 0.668 + d), (0.5*d, 0.5*d), **kwargs) \n",
    "ax1.plot((0.334 - d, 0.334 + d), (0.5*d, 0.5*d), **kwargs) \n",
    "\n",
    "kwargs.update(transform=ax2.transAxes)  # switch to the bottom axes\n",
    "ax2.plot((-d, +d), (1 + (0.5*d), 1 + (0.5*d)), **kwargs)  # bottom-left diagonal\n",
    "ax2.plot((1 - d, 1 + d), (1 + (0.5*d), 1 + (0.5*d)), **kwargs)  # bottom-right diagonal\n",
    "ax2.plot((0.668 - d, 0.668 + d), (1 + (0.5*d), 1 + (0.5*d)), **kwargs) \n",
    "ax2.plot((0.334 - d, 0.334 + d), (1 + (0.5*d), 1 + (0.5*d)), **kwargs) \n",
    "\n",
    "# BOXPLOTS\n",
    "ax1.boxplot(filtered_data,medianprops=medianprops, boxprops=boxprops, capprops=capprops,\n",
    "            whiskerprops=whiskerprops, meanprops=meanprops, showmeans=True, showcaps = False, showfliers = False)\n",
    "ax1.set_ylim(ymin=ymin_ax1,ymax=ymax_ax1)\n",
    "ax2.boxplot(filtered_data,medianprops=medianprops, boxprops=boxprops, capprops=capprops,\n",
    "            whiskerprops=whiskerprops, meanprops=meanprops, showmeans=True, showcaps = False, showfliers = False)\n",
    "ax2.set_ylim(ymin=ymin_ax2,ymax=ymax_ax2)\n",
    "\n",
    "\n",
    "#ax1.yticks(np.arange(ymin_ax1,ymax_ax1,10), fontsize=fontsize)\n",
    "#ax1.yticks(np.arange(ymin_ax2,ymax_ax2,0.2), fontsize=fontsize)\n",
    "ax1.tick_params(axis='both', which='major', labelsize=fontsize)\n",
    "ax2.tick_params(axis='both', which='major', labelsize=fontsize)\n",
    "plt.xticks(range(1, len(filtered_data)+1), ['lasts', 'shap'] * (len(filtered_data)//2), fontsize=fontsize)\n",
    "\n",
    "\n",
    "\n",
    "\n",
    "\n",
    "\n",
    "\"\"\"means = np.mean(np.stack(data.values.T), axis=0)\n",
    "for i, m in enumerate(means):\n",
    "    plt.text(i+0.9, 1.1, ('%.2f' % m).replace('0.', '.'), fontsize=fontsize)\"\"\"\n",
    "fig.text(1/6, 0.1, 'cifar10', fontsize=fontsize)#, va = \"center\")\n",
    "fig.text(1, 0.1, 'fashion', fontsize=fontsize)\n",
    "fig.text(1, 0.1, 'mnist', fontsize=fontsize)\n",
    "#plt.savefig(path_fig + 'boxplot_%s_%s_%s.png' % (measure, black_box, neigh_type), format='png', bbox_inches='tight')\n",
    "#fig.text(0.5, 0.04, 'common X', ha='center')\n",
    "fig.text(0.04, 0.5, 'stability', va='center', rotation='vertical', fontsize=fontsize)\n",
    "plt.show()"
   ]
  },
  {
   "cell_type": "code",
   "execution_count": null,
   "metadata": {},
   "outputs": [],
   "source": [
    "title = 'RF'\n",
    "\n",
    "fontsize = 18\n",
    "data = pd.DataFrame(cbf).values.T\n",
    "\n",
    "mask = ~np.isnan(data)\n",
    "filtered_data = [d[m] for d, m in zip(data.T, mask.T)]\n",
    "\n",
    "medianprops = dict(linestyle='-', linewidth=3, color='#8c510a')\n",
    "meanprops = dict(marker='D',  markeredgecolor='#003c30', markerfacecolor='#003c30')\n",
    "boxprops = dict(linestyle='-', linewidth=3, color='#01665e')\n",
    "whiskerprops = dict(linestyle='-', linewidth=3, color='#01665e')\n",
    "capprops = dict(linestyle='-', linewidth=3, color='#01665e')\n",
    "\n",
    "fig, (ax1, ax2) = plt.subplots(2, 1, sharex=True, figsize=(12,4),gridspec_kw={'height_ratios': [1,3]})\n",
    "fig.suptitle(black_box, fontsize=fontsize)#, pad=30)\n",
    "\n",
    "ymin_ax1=10\n",
    "ymin_ax2=0\n",
    "ymax_ax1=80\n",
    "ymax_ax2=1.4\n",
    "\n",
    "ax1.axvline(x=2.5, color='k', lw=1)\n",
    "ax1.axvline(x=4.5, color='k', lw=1)\n",
    "ax2.axvline(x=2.5, color='k', lw=1)\n",
    "ax2.axvline(x=4.5, color='k', lw=1)\n",
    "\n",
    "# BROKEN AXIS\n",
    "# hide the spines between ax and ax2\n",
    "ax1.spines['bottom'].set_visible(False)\n",
    "ax2.spines['top'].set_visible(False)\n",
    "ax1.xaxis.tick_top()\n",
    "ax1.tick_params(labeltop=False)  # don't put tick labels at the top\n",
    "ax2.xaxis.tick_bottom()\n",
    "d = .01  # how big to make the diagonal lines in axes coordinates\n",
    "# arguments to pass to plot, just so we don't keep repeating them\n",
    "\n",
    "kwargs = dict(transform=ax1.transAxes, color='k', clip_on=False)\n",
    "ax1.plot((-d, +d), (0.5*d, 0.5*d), **kwargs)        # top-left diagonal\n",
    "ax1.plot((1 - d, 1 + d), (0.5*d, 0.5*d), **kwargs)  # top-right diagonal\n",
    "#ax1.plot((-d, +d), (-d, +d), **kwargs)        # top-left diagonal\n",
    "ax1.plot((0.668 - d, 0.668 + d), (0.5*d, 0.5*d), **kwargs) \n",
    "ax1.plot((0.334 - d, 0.334 + d), (0.5*d, 0.5*d), **kwargs) \n",
    "\n",
    "kwargs.update(transform=ax2.transAxes)  # switch to the bottom axes\n",
    "ax2.plot((-d, +d), (1 + (0.5*d), 1 + (0.5*d)), **kwargs)  # bottom-left diagonal\n",
    "ax2.plot((1 - d, 1 + d), (1 + (0.5*d), 1 + (0.5*d)), **kwargs)  # bottom-right diagonal\n",
    "ax2.plot((0.668 - d, 0.668 + d), (1 + (0.5*d), 1 + (0.5*d)), **kwargs) \n",
    "ax2.plot((0.334 - d, 0.334 + d), (1 + (0.5*d), 1 + (0.5*d)), **kwargs) \n",
    "\n",
    "# BOXPLOTS\n",
    "ax1.boxplot(filtered_data,medianprops=medianprops, boxprops=boxprops, capprops=capprops,\n",
    "            whiskerprops=whiskerprops, meanprops=meanprops, showmeans=True, showcaps = False, showfliers = False)\n",
    "ax1.set_ylim(ymin=ymin_ax1,ymax=ymax_ax1)\n",
    "ax2.boxplot(filtered_data,medianprops=medianprops, boxprops=boxprops, capprops=capprops,\n",
    "            whiskerprops=whiskerprops, meanprops=meanprops, showmeans=True, showcaps = False, showfliers = False)\n",
    "ax2.set_ylim(ymin=ymin_ax2,ymax=ymax_ax2)\n",
    "\n",
    "\n",
    "#ax1.yticks(np.arange(ymin_ax1,ymax_ax1,10), fontsize=fontsize)\n",
    "#ax1.yticks(np.arange(ymin_ax2,ymax_ax2,0.2), fontsize=fontsize)\n",
    "ax1.tick_params(axis='both', which='major', labelsize=fontsize)\n",
    "ax2.tick_params(axis='both', which='major', labelsize=fontsize)\n",
    "plt.xticks(range(1, len(filtered_data)+1), ['lasts', 'shap'] * (len(filtered_data)//2), fontsize=fontsize)\n",
    "\n",
    "\n",
    "\n",
    "\n",
    "\n",
    "\n",
    "\"\"\"means = np.mean(np.stack(data.values.T), axis=0)\n",
    "for i, m in enumerate(means):\n",
    "    plt.text(i+0.9, 1.1, ('%.2f' % m).replace('0.', '.'), fontsize=fontsize)\"\"\"\n",
    "fig.text(1/6, 0.1, 'cifar10', fontsize=fontsize)#, va = \"center\")\n",
    "fig.text(1, 0.1, 'fashion', fontsize=fontsize)\n",
    "fig.text(1, 0.1, 'mnist', fontsize=fontsize)\n",
    "#plt.savefig(path_fig + 'boxplot_%s_%s_%s.png' % (measure, black_box, neigh_type), format='png', bbox_inches='tight')\n",
    "#fig.text(0.5, 0.04, 'common X', ha='center')\n",
    "fig.text(0.04, 0.5, 'stability', va='center', rotation='vertical', fontsize=fontsize)\n",
    "plt.show()"
   ]
  }
 ],
 "metadata": {
  "kernelspec": {
   "display_name": "Python 3",
   "language": "python",
   "name": "python3"
  },
  "language_info": {
   "codemirror_mode": {
    "name": "ipython",
    "version": 3
   },
   "file_extension": ".py",
   "mimetype": "text/x-python",
   "name": "python",
   "nbconvert_exporter": "python",
   "pygments_lexer": "ipython3",
   "version": "3.6.9"
  }
 },
 "nbformat": 4,
 "nbformat_minor": 2
}
