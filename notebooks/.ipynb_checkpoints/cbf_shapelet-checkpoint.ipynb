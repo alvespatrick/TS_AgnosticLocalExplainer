{
 "cells": [
  {
   "cell_type": "code",
   "execution_count": 1,
   "metadata": {},
   "outputs": [],
   "source": [
    "import pandas as pd\n",
    "import numpy as np\n",
    "import matplotlib.pyplot as plt\n",
    "from sklearn.preprocessing import LabelEncoder\n",
    "from pyts.datasets import make_cylinder_bell_funnel"
   ]
  },
  {
   "cell_type": "code",
   "execution_count": 2,
   "metadata": {},
   "outputs": [],
   "source": [
    "import os,sys,inspect\n",
    "currentdir = os.path.dirname(os.path.abspath(inspect.getfile(inspect.currentframe())))\n",
    "parentdir = os.path.dirname(currentdir)\n",
    "sys.path.insert(0,parentdir)"
   ]
  },
  {
   "cell_type": "code",
   "execution_count": 3,
   "metadata": {},
   "outputs": [],
   "source": [
    "random_state = 0"
   ]
  },
  {
   "cell_type": "markdown",
   "metadata": {},
   "source": [
    "# IMPORT DATASET"
   ]
  },
  {
   "cell_type": "code",
   "execution_count": 4,
   "metadata": {},
   "outputs": [],
   "source": [
    "dataset_name = \"cbf\""
   ]
  },
  {
   "cell_type": "code",
   "execution_count": 5,
   "metadata": {},
   "outputs": [],
   "source": [
    "X_all, y_all = make_cylinder_bell_funnel(n_samples = 600, random_state = random_state)\n",
    "X_all = X_all.reshape((X_all.shape[0], X_all.shape[1], 1))"
   ]
  },
  {
   "cell_type": "code",
   "execution_count": 6,
   "metadata": {},
   "outputs": [
    {
     "name": "stdout",
     "output_type": "stream",
     "text": [
      "X SHAPE:  (600, 128, 1)\n",
      "y SHAPE:  (600,)\n",
      "\n",
      "CLASSES BALANCE\n",
      "0 :  0.33\n",
      "1 :  0.33\n",
      "2 :  0.33\n"
     ]
    }
   ],
   "source": [
    "print(\"X SHAPE: \", X_all.shape)\n",
    "print(\"y SHAPE: \", y_all.shape)\n",
    "unique, counts = np.unique(y_all, return_counts=True)\n",
    "print(\"\\nCLASSES BALANCE\")\n",
    "for i, label in enumerate(unique):\n",
    "    print(label, \": \", round(counts[i]/sum(counts), 2))"
   ]
  },
  {
   "cell_type": "markdown",
   "metadata": {},
   "source": [
    "## DATASET SPLIT"
   ]
  },
  {
   "cell_type": "code",
   "execution_count": 7,
   "metadata": {},
   "outputs": [],
   "source": [
    "from sklearn.model_selection import train_test_split"
   ]
  },
  {
   "cell_type": "code",
   "execution_count": 8,
   "metadata": {},
   "outputs": [
    {
     "name": "stdout",
     "output_type": "stream",
     "text": [
      "SHAPES:\n",
      "BLACKBOX TRAINING SET:  (268, 128, 1)\n",
      "BLACKBOX VALIDATION SET:  (68, 128, 1)\n",
      "BLACKBOX TEST SET:  (84, 128, 1)\n",
      "EXPLANATION TRAINING SET:  (115, 128, 1)\n",
      "EXPLANATION VALIDATION SET:  (29, 128, 1)\n",
      "EXPLANATION TEST SET:  (36, 128, 1)\n"
     ]
    }
   ],
   "source": [
    "# BLACKBOX/EXPLANATION SETS SPLIT\n",
    "X_train, X_exp, y_train, y_exp = train_test_split(X_all, y_all, \n",
    "                                                  test_size=0.3, stratify = y_all, random_state=random_state)\n",
    "\n",
    "# BLACKBOX TRAIN/TEST SETS SPLIT\n",
    "X_train, X_test, y_train, y_test = train_test_split(X_train, y_train, \n",
    "                                                  test_size=0.2, stratify = y_train, random_state=random_state)\n",
    "\n",
    "# BLACKBOX TRAIN/VALIDATION SETS SPLIT\n",
    "X_train, X_val, y_train, y_val = train_test_split(X_train, y_train, \n",
    "                                                  test_size=0.2, stratify = y_train, random_state=random_state)\n",
    "\n",
    "# EXPLANATION TRAIN/TEST SETS SPLIT\n",
    "X_exp_train, X_exp_test, y_exp_train, y_exp_test = train_test_split(X_exp, y_exp, \n",
    "                                                                    test_size=0.2, \n",
    "                                                                    stratify = y_exp, \n",
    "                                                                    random_state=random_state)\n",
    "\n",
    "# EXPLANATION TRAIN/VALIDATION SETS SPLIT\n",
    "X_exp_train, X_exp_val, y_exp_train, y_exp_val = train_test_split(X_exp_train, y_exp_train, \n",
    "                                                                  test_size=0.2, \n",
    "                                                                  stratify = y_exp_train, \n",
    "                                                                  random_state=random_state)\n",
    "\n",
    "print(\"SHAPES:\")\n",
    "print(\"BLACKBOX TRAINING SET: \", X_train.shape)\n",
    "print(\"BLACKBOX VALIDATION SET: \", X_val.shape)\n",
    "print(\"BLACKBOX TEST SET: \", X_test.shape)\n",
    "print(\"EXPLANATION TRAINING SET: \", X_exp_train.shape)\n",
    "print(\"EXPLANATION VALIDATION SET: \", X_exp_val.shape)\n",
    "print(\"EXPLANATION TEST SET: \", X_exp_test.shape)"
   ]
  },
  {
   "cell_type": "code",
   "execution_count": 9,
   "metadata": {},
   "outputs": [
    {
     "name": "stdout",
     "output_type": "stream",
     "text": [
      "TIMESTEPS:  128\n",
      "N. LABELS:  3\n"
     ]
    }
   ],
   "source": [
    "n_timesteps, n_outputs, n_features = X_train.shape[1], len(np.unique(y_all)), 1 \n",
    "print(\"TIMESTEPS: \", n_timesteps)\n",
    "print(\"N. LABELS: \", n_outputs)"
   ]
  },
  {
   "cell_type": "markdown",
   "metadata": {},
   "source": [
    "# BLACKBOX MODEL"
   ]
  },
  {
   "cell_type": "code",
   "execution_count": 10,
   "metadata": {},
   "outputs": [
    {
     "name": "stderr",
     "output_type": "stream",
     "text": [
      "Using TensorFlow backend.\n"
     ]
    }
   ],
   "source": [
    "from joblib import load\n",
    "import keras\n",
    "\"\"\"import importlib\n",
    "importlib.reload(blackboxes)\"\"\"\n",
    "from sklearn.metrics import accuracy_score\n",
    "from sklearn.metrics import mean_squared_error\n",
    "import time\n",
    "import blackboxes\n",
    "from blackboxes import *"
   ]
  },
  {
   "cell_type": "markdown",
   "metadata": {},
   "source": [
    "## resnet"
   ]
  },
  {
   "cell_type": "code",
   "execution_count": 11,
   "metadata": {},
   "outputs": [
    {
     "name": "stdout",
     "output_type": "stream",
     "text": [
      "WARNING:tensorflow:From /Users/francesco/anaconda3/envs/tesi/lib/python3.6/site-packages/keras/backend/tensorflow_backend.py:66: The name tf.get_default_graph is deprecated. Please use tf.compat.v1.get_default_graph instead.\n",
      "\n",
      "WARNING:tensorflow:From /Users/francesco/anaconda3/envs/tesi/lib/python3.6/site-packages/keras/backend/tensorflow_backend.py:541: The name tf.placeholder is deprecated. Please use tf.compat.v1.placeholder instead.\n",
      "\n",
      "WARNING:tensorflow:From /Users/francesco/anaconda3/envs/tesi/lib/python3.6/site-packages/keras/backend/tensorflow_backend.py:4432: The name tf.random_uniform is deprecated. Please use tf.random.uniform instead.\n",
      "\n",
      "WARNING:tensorflow:From /Users/francesco/anaconda3/envs/tesi/lib/python3.6/site-packages/keras/backend/tensorflow_backend.py:148: The name tf.placeholder_with_default is deprecated. Please use tf.compat.v1.placeholder_with_default instead.\n",
      "\n",
      "WARNING:tensorflow:From /Users/francesco/anaconda3/envs/tesi/lib/python3.6/site-packages/keras/optimizers.py:793: The name tf.train.Optimizer is deprecated. Please use tf.compat.v1.train.Optimizer instead.\n",
      "\n",
      "WARNING:tensorflow:From /Users/francesco/anaconda3/envs/tesi/lib/python3.6/site-packages/keras/backend/tensorflow_backend.py:3622: The name tf.log is deprecated. Please use tf.math.log instead.\n",
      "\n",
      "WARNING:tensorflow:From /Users/francesco/anaconda3/envs/tesi/lib/python3.6/site-packages/keras/backend/tensorflow_backend.py:190: The name tf.get_default_session is deprecated. Please use tf.compat.v1.get_default_session instead.\n",
      "\n",
      "WARNING:tensorflow:From /Users/francesco/anaconda3/envs/tesi/lib/python3.6/site-packages/keras/backend/tensorflow_backend.py:197: The name tf.ConfigProto is deprecated. Please use tf.compat.v1.ConfigProto instead.\n",
      "\n",
      "WARNING:tensorflow:From /Users/francesco/anaconda3/envs/tesi/lib/python3.6/site-packages/keras/backend/tensorflow_backend.py:203: The name tf.Session is deprecated. Please use tf.compat.v1.Session instead.\n",
      "\n",
      "WARNING:tensorflow:From /Users/francesco/anaconda3/envs/tesi/lib/python3.6/site-packages/keras/backend/tensorflow_backend.py:207: The name tf.global_variables is deprecated. Please use tf.compat.v1.global_variables instead.\n",
      "\n",
      "WARNING:tensorflow:From /Users/francesco/anaconda3/envs/tesi/lib/python3.6/site-packages/keras/backend/tensorflow_backend.py:216: The name tf.is_variable_initialized is deprecated. Please use tf.compat.v1.is_variable_initialized instead.\n",
      "\n",
      "WARNING:tensorflow:From /Users/francesco/anaconda3/envs/tesi/lib/python3.6/site-packages/keras/backend/tensorflow_backend.py:223: The name tf.variables_initializer is deprecated. Please use tf.compat.v1.variables_initializer instead.\n",
      "\n"
     ]
    }
   ],
   "source": [
    "blackbox = build_resnet(n_timesteps, n_outputs)\n",
    "blackbox.load_weights(parentdir + \"/blackbox_checkpoints/cbf_blackbox_resnet_20191106_145242_best_weights_+1.00_.hdf5\")\n",
    "resnet = blackbox"
   ]
  },
  {
   "cell_type": "markdown",
   "metadata": {},
   "source": [
    "## simple CNN"
   ]
  },
  {
   "cell_type": "code",
   "execution_count": 12,
   "metadata": {},
   "outputs": [
    {
     "name": "stdout",
     "output_type": "stream",
     "text": [
      "WARNING:tensorflow:From /Users/francesco/anaconda3/envs/tesi/lib/python3.6/site-packages/keras/backend/tensorflow_backend.py:3733: calling dropout (from tensorflow.python.ops.nn_ops) with keep_prob is deprecated and will be removed in a future version.\n",
      "Instructions for updating:\n",
      "Please use `rate` instead of `keep_prob`. Rate should be set to `rate = 1 - keep_prob`.\n"
     ]
    }
   ],
   "source": [
    "blackbox = build_simple_CNN(n_timesteps, n_outputs)\n",
    "blackbox.load_weights(parentdir + \"/blackbox_checkpoints/cbf_blackbox_simpleCNN_20191106_145515_best_weights_+1.00_.hdf5\")\n",
    "simplecnn = blackbox"
   ]
  },
  {
   "cell_type": "markdown",
   "metadata": {},
   "source": [
    "## KNN"
   ]
  },
  {
   "cell_type": "code",
   "execution_count": 13,
   "metadata": {},
   "outputs": [],
   "source": [
    "from sklearn.neighbors import KNeighborsClassifier\n",
    "from sklearn.metrics import make_scorer, mean_squared_error, accuracy_score\n",
    "from sklearn.model_selection import StratifiedKFold, RepeatedStratifiedKFold\n",
    "from sklearn.model_selection import GridSearchCV"
   ]
  },
  {
   "cell_type": "code",
   "execution_count": 14,
   "metadata": {},
   "outputs": [],
   "source": [
    "knn = load(parentdir + \"/blackbox_checkpoints/cbf_blackbox_knn_20191106_145654.joblib\")"
   ]
  },
  {
   "cell_type": "markdown",
   "metadata": {},
   "source": [
    "# AUTOENCODER"
   ]
  },
  {
   "cell_type": "code",
   "execution_count": 15,
   "metadata": {},
   "outputs": [],
   "source": [
    "\"\"\"import importlib\n",
    "importlib.reload(autoencoders)\"\"\"\n",
    "import autoencoders\n",
    "from autoencoders import *"
   ]
  },
  {
   "cell_type": "markdown",
   "metadata": {},
   "source": [
    "## VARIATIONAL"
   ]
  },
  {
   "cell_type": "code",
   "execution_count": 16,
   "metadata": {},
   "outputs": [
    {
     "name": "stdout",
     "output_type": "stream",
     "text": [
      "WARNING:tensorflow:From /Users/francesco/anaconda3/envs/tesi/lib/python3.6/site-packages/keras/backend/tensorflow_backend.py:4267: The name tf.nn.max_pool is deprecated. Please use tf.nn.max_pool2d instead.\n",
      "\n",
      "WARNING:tensorflow:From /Users/francesco/anaconda3/envs/tesi/lib/python3.6/site-packages/keras/backend/tensorflow_backend.py:4409: The name tf.random_normal is deprecated. Please use tf.random.normal instead.\n",
      "\n"
     ]
    }
   ],
   "source": [
    "params = {\"input_shape\": (n_timesteps,1),\n",
    "          \"n_blocks\": 8, \n",
    "          \"latent_dim\": 2,\n",
    "          \"encoder_latent_layer_type\": \"variational\",\n",
    "          \"encoder_args\": {\"filters\":[2,4,8,16,32,64,128,256], \n",
    "                            \"kernel_size\":[21,18,15,13,11,8,5,3], \n",
    "                            \"padding\":\"same\", \n",
    "                            \"activation\":\"elu\", \n",
    "                            \"pooling\":[1,1,1,1,1,1,1,1]}\n",
    "         }\n",
    "\n",
    "aut = Autoencoder(verbose = False, **params)\n",
    "encoder, decoder, autoencoder = aut.build()\n",
    "autoencoder.load_weights(parentdir + \"/autoencoder_checkpoints/cbf_autoencoder_20191106_144909_best_weights_+136.8745_.hdf5\")\n",
    "vae = autoencoder"
   ]
  },
  {
   "cell_type": "markdown",
   "metadata": {},
   "source": [
    "# GLOBAL VS LOCAL SHAPELET TREE"
   ]
  },
  {
   "cell_type": "code",
   "execution_count": 17,
   "metadata": {},
   "outputs": [
    {
     "name": "stderr",
     "output_type": "stream",
     "text": [
      "/Users/francesco/anaconda3/envs/tesi/lib/python3.6/site-packages/deap/tools/_hypervolume/pyhv.py:33: ImportWarning: Falling back to the python version of hypervolume module. Expect this to be very slow.\n",
      "  \"module. Expect this to be very slow.\", ImportWarning)\n"
     ]
    },
    {
     "data": {
      "text/plain": [
       "<module 'agnosticlocalexplainer' from '/Users/francesco/github/TS_AgnosticLocalExplainer/agnosticlocalexplainer.py'>"
      ]
     },
     "execution_count": 17,
     "metadata": {},
     "output_type": "execute_result"
    }
   ],
   "source": [
    "import agnosticlocalexplainer\n",
    "from agnosticlocalexplainer import *\n",
    "import importlib\n",
    "importlib.reload(agnosticlocalexplainer)"
   ]
  },
  {
   "cell_type": "code",
   "execution_count": 18,
   "metadata": {},
   "outputs": [],
   "source": [
    "from myutils import BlackboxPredictWrapper\n",
    "import time\n",
    "from agnosticglobalexplainer import AgnosticGlobalExplainer\n",
    "from joblib import dump\n",
    "from sklearn.metrics import confusion_matrix, accuracy_score, classification_report, coverage_error\n",
    "from global_vs_local_surrogate import shapelet_local_explain"
   ]
  },
  {
   "cell_type": "markdown",
   "metadata": {},
   "source": [
    "## RESNET"
   ]
  },
  {
   "cell_type": "code",
   "execution_count": 19,
   "metadata": {},
   "outputs": [],
   "source": [
    "autoencoder = vae\n",
    "encoder = autoencoder.layers[1]\n",
    "decoder = autoencoder.layers[2]\n",
    "blackbox = resnet\n",
    "blackbox_input_dimensions = 3"
   ]
  },
  {
   "cell_type": "code",
   "execution_count": 39,
   "metadata": {},
   "outputs": [
    {
     "name": "stdout",
     "output_type": "stream",
     "text": [
      "Fitting 3 folds for each of 200 candidates, totalling 600 fits\n"
     ]
    },
    {
     "name": "stderr",
     "output_type": "stream",
     "text": [
      "[Parallel(n_jobs=-1)]: Using backend LokyBackend with 4 concurrent workers.\n",
      "[Parallel(n_jobs=-1)]: Done 600 out of 600 | elapsed:    3.0s finished\n"
     ]
    }
   ],
   "source": [
    "blackbox_predict = BlackboxPredictWrapper(blackbox, 3)\n",
    "args = {\"max_iter\": 100}\n",
    "\n",
    "global_surrogate = AgnosticGlobalExplainer(**args)\n",
    "global_surrogate.fit(X_exp_train[:,:,0], blackbox_predict.predict(X_exp_train))\n",
    "\n",
    "y_blackbox = blackbox_predict.predict(X_exp_test)\n",
    "y_blackbox_proba = blackbox_predict.predict_proba(X_exp_test)\n",
    "y_surrogate = global_surrogate.predict(X_exp_test[:,:,0])\n",
    "y_surrogate_proba = global_surrogate.predict_proba(X_exp_test[:,:,0])\n",
    "\n",
    "global_results = {\"shapelet_explainer\": global_surrogate}"
   ]
  },
  {
   "cell_type": "code",
   "execution_count": 21,
   "metadata": {
    "scrolled": true
   },
   "outputs": [
    {
     "name": "stdout",
     "output_type": "stream",
     "text": [
      "\n",
      "Neighborhood Generation\n",
      "calculating feature values\n",
      "gen\tnevals\tavg     \tmin     \tmax     \n",
      "0  \t500   \t0.496654\t0.496654\t0.496654\n",
      "1  \t421   \t0.485291\t0.00669472\t0.993287\n",
      "2  \t424   \t0.552972\t0.00671962\t0.993287\n",
      "3  \t432   \t0.643348\t0.00673406\t0.993303\n",
      "4  \t415   \t0.718148\t0.0071287 \t0.993306\n",
      "5  \t422   \t0.747955\t0.00841192\t0.993306\n",
      "6  \t424   \t0.738615\t0.00768505\t0.993306\n",
      "7  \t409   \t0.734051\t0.00861209\t0.993306\n",
      "8  \t420   \t0.742482\t0.00741322\t0.993307\n",
      "9  \t408   \t0.766868\t0.00959444\t0.993306\n",
      "10 \t412   \t0.76297 \t0.00839571\t0.993306\n",
      "gen\tnevals\tavg\tmin\tmax\n",
      "0  \t500   \t0.5\t0.5\t0.5\n",
      "1  \t411   \t0.499712\t0.00669416\t0.993218\n",
      "2  \t423   \t0.579289\t0.00681029\t0.993224\n",
      "3  \t422   \t0.671219\t0.00692127\t0.993245\n",
      "4  \t414   \t0.717583\t0.00708291\t0.993286\n",
      "5  \t427   \t0.775689\t0.00967016\t0.993307\n",
      "6  \t417   \t0.787485\t0.0101663 \t0.993307\n",
      "7  \t417   \t0.816213\t0.00757514\t0.993307\n",
      "8  \t432   \t0.805098\t0.00730904\t0.993307\n",
      "9  \t421   \t0.832276\t0.0232477 \t0.993307\n",
      "10 \t420   \t0.823119\t0.00669684\t0.993307\n",
      "synthetic neighborhood class counts {0: 128, 1: 467, 2: 505}\n",
      "Fitting 3 folds for each of 200 candidates, totalling 600 fits\n"
     ]
    },
    {
     "name": "stderr",
     "output_type": "stream",
     "text": [
      "[Parallel(n_jobs=-1)]: Using backend LokyBackend with 4 concurrent workers.\n",
      "[Parallel(n_jobs=-1)]: Done 181 tasks      | elapsed:    4.1s\n",
      "[Parallel(n_jobs=-1)]: Done 600 out of 600 | elapsed:    5.7s finished\n"
     ]
    },
    {
     "name": "stdout",
     "output_type": "stream",
     "text": [
      "1 / 36\n",
      "\n",
      "Neighborhood Generation\n",
      "calculating feature values\n",
      "gen\tnevals\tavg     \tmin     \tmax     \n",
      "0  \t500   \t0.496654\t0.496654\t0.496654\n",
      "1  \t421   \t0.581497\t0.00673318\t0.993307\n",
      "2  \t424   \t0.745194\t0.00673424\t0.993307\n",
      "3  \t432   \t0.821767\t0.00686805\t0.993307\n",
      "4  \t415   \t0.884993\t0.00671182\t0.993307\n",
      "5  \t422   \t0.890733\t0.00707646\t0.993307\n",
      "6  \t424   \t0.887714\t0.0141947 \t0.993307\n",
      "7  \t409   \t0.868018\t0.00969019\t0.993307\n",
      "8  \t420   \t0.87468 \t0.00670058\t0.993307\n",
      "9  \t408   \t0.86844 \t0.00673692\t0.993307\n",
      "10 \t412   \t0.865972\t0.00682341\t0.993307\n",
      "gen\tnevals\tavg\tmin\tmax\n",
      "0  \t500   \t0.5\t0.5\t0.5\n",
      "1  \t411   \t0.55645\t0.490769\t0.993301\n",
      "2  \t423   \t0.662643\t0.488803\t0.993301\n",
      "3  \t422   \t0.773712\t0.489598\t0.993304\n",
      "4  \t414   \t0.842539\t0.488983\t0.993306\n",
      "5  \t427   \t0.878369\t0.493126\t0.993307\n",
      "6  \t417   \t0.889569\t0.488907\t0.993307\n",
      "7  \t417   \t0.899287\t0.49343 \t0.993307\n",
      "8  \t432   \t0.893096\t0.488922\t0.993307\n",
      "9  \t421   \t0.903564\t0.491659\t0.993307\n",
      "10 \t420   \t0.8986  \t0.489729\t0.993307\n",
      "synthetic neighborhood class counts {0: 514, 1: 87, 2: 527}\n",
      "Fitting 3 folds for each of 200 candidates, totalling 600 fits\n"
     ]
    },
    {
     "name": "stderr",
     "output_type": "stream",
     "text": [
      "[Parallel(n_jobs=-1)]: Using backend LokyBackend with 4 concurrent workers.\n",
      "[Parallel(n_jobs=-1)]: Done 294 tasks      | elapsed:    4.3s\n",
      "[Parallel(n_jobs=-1)]: Done 600 out of 600 | elapsed:    5.0s finished\n"
     ]
    },
    {
     "name": "stdout",
     "output_type": "stream",
     "text": [
      "2 / 36\n",
      "\n",
      "Neighborhood Generation\n",
      "calculating feature values\n",
      "gen\tnevals\tavg     \tmin     \tmax     \n",
      "0  \t500   \t0.496654\t0.496654\t0.496654\n",
      "1  \t421   \t0.483562\t0.00670328\t0.993304\n",
      "2  \t424   \t0.558538\t0.00669748\t0.993304\n",
      "3  \t432   \t0.666503\t0.00670451\t0.993305\n",
      "4  \t415   \t0.733513\t0.00679001\t0.993306\n",
      "5  \t422   \t0.780176\t0.00669517\t0.993306\n",
      "6  \t424   \t0.776707\t0.00675469\t0.993306\n",
      "7  \t409   \t0.751416\t0.00669972\t0.993307\n",
      "8  \t420   \t0.751651\t0.00671137\t0.993307\n",
      "9  \t408   \t0.788454\t0.00669466\t0.993307\n",
      "10 \t412   \t0.782725\t0.00670298\t0.993307\n",
      "gen\tnevals\tavg\tmin\tmax\n",
      "0  \t500   \t0.5\t0.5\t0.5\n",
      "1  \t411   \t0.495694\t0.00671549\t0.993174\n",
      "2  \t423   \t0.552465\t0.00670535\t0.993264\n",
      "3  \t422   \t0.643001\t0.00670535\t0.993307\n",
      "4  \t414   \t0.720202\t0.00677447\t0.993304\n",
      "5  \t427   \t0.789951\t0.00670493\t0.993307\n",
      "6  \t417   \t0.81371 \t0.00669727\t0.993307\n",
      "7  \t417   \t0.843913\t0.00670905\t0.993307\n",
      "8  \t432   \t0.826351\t0.0069048 \t0.993307\n",
      "9  \t421   \t0.845607\t0.00674388\t0.993307\n",
      "10 \t420   \t0.844716\t0.00671729\t0.993307\n",
      "synthetic neighborhood class counts {0: 105, 1: 468, 2: 527}\n",
      "Fitting 3 folds for each of 200 candidates, totalling 600 fits\n"
     ]
    },
    {
     "name": "stderr",
     "output_type": "stream",
     "text": [
      "[Parallel(n_jobs=-1)]: Using backend LokyBackend with 4 concurrent workers.\n",
      "[Parallel(n_jobs=-1)]: Done 125 tasks      | elapsed:    5.3s\n",
      "[Parallel(n_jobs=-1)]: Done 600 out of 600 | elapsed:    6.6s finished\n"
     ]
    },
    {
     "name": "stdout",
     "output_type": "stream",
     "text": [
      "3 / 36\n",
      "\n",
      "Neighborhood Generation\n",
      "calculating feature values\n",
      "gen\tnevals\tavg     \tmin     \tmax     \n",
      "0  \t500   \t0.496654\t0.496654\t0.496654\n",
      "1  \t421   \t0.567387\t0.00677228\t0.993307\n",
      "2  \t424   \t0.725637\t0.00671132\t0.993307\n",
      "3  \t432   \t0.807445\t0.00670206\t0.993307\n",
      "4  \t415   \t0.865798\t0.00669337\t0.993307\n",
      "5  \t422   \t0.878934\t0.00673544\t0.993307\n",
      "6  \t424   \t0.876704\t0.00760022\t0.993307\n",
      "7  \t409   \t0.849798\t0.0066938 \t0.993307\n",
      "8  \t420   \t0.85127 \t0.00671343\t0.993307\n",
      "9  \t408   \t0.849443\t0.00670632\t0.993307\n",
      "10 \t412   \t0.84766 \t0.00669312\t0.993307\n",
      "gen\tnevals\tavg\tmin\tmax\n",
      "0  \t500   \t0.5\t0.5\t0.5\n",
      "1  \t411   \t0.560246\t0.474787\t0.99327\n",
      "2  \t423   \t0.665342\t0.487782\t0.993305\n",
      "3  \t422   \t0.768084\t0.484485\t0.993307\n",
      "4  \t414   \t0.843162\t0.486108\t0.993307\n",
      "5  \t427   \t0.869562\t0.485221\t0.993307\n",
      "6  \t417   \t0.886959\t0.470888\t0.993307\n",
      "7  \t417   \t0.893119\t0.487144\t0.993307\n",
      "8  \t432   \t0.887597\t0.481339\t0.993307\n",
      "9  \t421   \t0.898462\t0.484413\t0.993307\n",
      "10 \t420   \t0.893063\t0.481928\t0.993307\n",
      "synthetic neighborhood class counts {0: 509, 1: 75, 2: 516}\n",
      "Fitting 3 folds for each of 200 candidates, totalling 600 fits\n"
     ]
    },
    {
     "name": "stderr",
     "output_type": "stream",
     "text": [
      "[Parallel(n_jobs=-1)]: Using backend LokyBackend with 4 concurrent workers.\n",
      "[Parallel(n_jobs=-1)]: Done 362 tasks      | elapsed:    3.4s\n",
      "[Parallel(n_jobs=-1)]: Done 600 out of 600 | elapsed:    4.0s finished\n"
     ]
    },
    {
     "name": "stdout",
     "output_type": "stream",
     "text": [
      "4 / 36\n",
      "\n",
      "Neighborhood Generation\n",
      "calculating feature values\n",
      "gen\tnevals\tavg     \tmin     \tmax     \n",
      "0  \t500   \t0.496654\t0.496654\t0.496654\n",
      "1  \t421   \t0.492672\t0.00669712\t0.993306\n",
      "2  \t424   \t0.581128\t0.00673644\t0.993307\n",
      "3  \t432   \t0.698542\t0.00669468\t0.993307\n",
      "4  \t415   \t0.753469\t0.00669687\t0.993307\n",
      "5  \t422   \t0.793595\t0.00669405\t0.993307\n",
      "6  \t424   \t0.784141\t0.00669413\t0.993307\n",
      "7  \t409   \t0.761421\t0.00669368\t0.993307\n",
      "8  \t420   \t0.762214\t0.00669412\t0.993307\n",
      "9  \t408   \t0.794757\t0.00669374\t0.993307\n",
      "10 \t412   \t0.789185\t0.00670822\t0.993307\n",
      "gen\tnevals\tavg\tmin\tmax\n",
      "0  \t500   \t0.5\t0.5\t0.5\n",
      "1  \t411   \t0.503127\t0.00882148\t0.993251\n",
      "2  \t423   \t0.553043\t0.00693435\t0.993251\n",
      "3  \t422   \t0.644733\t0.0070683 \t0.993251\n",
      "4  \t414   \t0.72262 \t0.00695435\t0.993306\n",
      "5  \t427   \t0.802087\t0.00701223\t0.993306\n",
      "6  \t417   \t0.816162\t0.00684701\t0.993306\n",
      "7  \t417   \t0.834691\t0.00683585\t0.993306\n",
      "8  \t432   \t0.822283\t0.00680626\t0.993306\n",
      "9  \t421   \t0.840931\t0.00692405\t0.993306\n",
      "10 \t420   \t0.826532\t0.00681715\t0.993306\n",
      "synthetic neighborhood class counts {0: 77, 1: 491, 2: 532}\n",
      "Fitting 3 folds for each of 200 candidates, totalling 600 fits\n"
     ]
    },
    {
     "name": "stderr",
     "output_type": "stream",
     "text": [
      "[Parallel(n_jobs=-1)]: Using backend LokyBackend with 4 concurrent workers.\n",
      "[Parallel(n_jobs=-1)]: Done  85 tasks      | elapsed:    4.3s\n",
      "[Parallel(n_jobs=-1)]: Done 600 out of 600 | elapsed:    5.3s finished\n"
     ]
    },
    {
     "name": "stdout",
     "output_type": "stream",
     "text": [
      "5 / 36\n",
      "\n",
      "Neighborhood Generation\n",
      "calculating feature values\n",
      "gen\tnevals\tavg     \tmin     \tmax     \n",
      "0  \t500   \t0.496654\t0.496654\t0.496654\n",
      "1  \t421   \t0.569384\t0.00672655\t0.993307\n",
      "2  \t424   \t0.701788\t0.00676738\t0.993307\n",
      "3  \t432   \t0.782813\t0.00669415\t0.993307\n",
      "4  \t415   \t0.84362 \t0.00669706\t0.993305\n",
      "5  \t422   \t0.853592\t0.00731817\t0.993307\n",
      "6  \t424   \t0.859913\t0.0070278 \t0.993307\n",
      "7  \t409   \t0.850035\t0.00670455\t0.993307\n",
      "8  \t420   \t0.842673\t0.00669503\t0.993307\n",
      "9  \t408   \t0.862665\t0.00669816\t0.993307\n",
      "10 \t412   \t0.849919\t0.00678812\t0.993307\n",
      "gen\tnevals\tavg\tmin\tmax\n",
      "0  \t500   \t0.5\t0.5\t0.5\n",
      "1  \t411   \t0.508276\t0.00669974\t0.992904\n",
      "2  \t423   \t0.617514\t0.00690941\t0.993269\n",
      "3  \t422   \t0.772075\t0.00669589\t0.993269\n",
      "4  \t414   \t0.867413\t0.00702152\t0.9933  \n",
      "5  \t427   \t0.870499\t0.0066939 \t0.9933  \n",
      "6  \t417   \t0.885754\t0.00683482\t0.993301\n",
      "7  \t417   \t0.903928\t0.00670939\t0.993302\n",
      "8  \t432   \t0.880318\t0.00670762\t0.993302\n",
      "9  \t421   \t0.885024\t0.00674153\t0.993302\n",
      "10 \t420   \t0.901198\t0.00669813\t0.993302\n",
      "synthetic neighborhood class counts {0: 206, 1: 387, 2: 507}\n",
      "Fitting 3 folds for each of 200 candidates, totalling 600 fits\n"
     ]
    },
    {
     "name": "stderr",
     "output_type": "stream",
     "text": [
      "[Parallel(n_jobs=-1)]: Using backend LokyBackend with 4 concurrent workers.\n",
      "[Parallel(n_jobs=-1)]: Done  44 tasks      | elapsed:    4.2s\n",
      "[Parallel(n_jobs=-1)]: Done 600 out of 600 | elapsed:    6.4s finished\n"
     ]
    },
    {
     "name": "stdout",
     "output_type": "stream",
     "text": [
      "6 / 36\n",
      "\n",
      "Neighborhood Generation\n",
      "calculating feature values\n",
      "gen\tnevals\tavg     \tmin     \tmax     \n",
      "0  \t500   \t0.496654\t0.496654\t0.496654\n",
      "1  \t421   \t0.565002\t0.00670872\t0.993304\n",
      "2  \t424   \t0.682218\t0.00718558\t0.993306\n",
      "3  \t432   \t0.77628 \t0.00669354\t0.993306\n",
      "4  \t415   \t0.831679\t0.00672189\t0.993306\n",
      "5  \t422   \t0.848722\t0.00709766\t0.993307\n",
      "6  \t424   \t0.852056\t0.00674599\t0.993307\n",
      "7  \t409   \t0.849312\t0.00669881\t0.993307\n",
      "8  \t420   \t0.83473 \t0.00669406\t0.993307\n",
      "9  \t408   \t0.852768\t0.00669671\t0.993307\n",
      "10 \t412   \t0.845412\t0.00672429\t0.993307\n",
      "gen\tnevals\tavg\tmin\tmax\n",
      "0  \t500   \t0.5\t0.5\t0.5\n",
      "1  \t411   \t0.497318\t0.00669995\t0.992906\n",
      "2  \t423   \t0.609846\t0.00669592\t0.993261\n",
      "3  \t422   \t0.764621\t0.00669592\t0.993272\n",
      "4  \t414   \t0.878233\t0.00712291\t0.993287\n",
      "5  \t427   \t0.878987\t0.00671159\t0.993286\n",
      "6  \t417   \t0.892382\t0.006751  \t0.993286\n",
      "7  \t417   \t0.907423\t0.00670098\t0.993289\n",
      "8  \t432   \t0.876033\t0.00702138\t0.993289\n",
      "9  \t421   \t0.886601\t0.00671244\t0.993289\n",
      "10 \t420   \t0.902316\t0.00669386\t0.993289\n",
      "synthetic neighborhood class counts {0: 325, 1: 271, 2: 504}\n",
      "Fitting 3 folds for each of 200 candidates, totalling 600 fits\n"
     ]
    },
    {
     "name": "stderr",
     "output_type": "stream",
     "text": [
      "[Parallel(n_jobs=-1)]: Using backend LokyBackend with 4 concurrent workers.\n",
      "[Parallel(n_jobs=-1)]: Done 217 tasks      | elapsed:    3.9s\n",
      "[Parallel(n_jobs=-1)]: Done 600 out of 600 | elapsed:    4.9s finished\n"
     ]
    },
    {
     "name": "stdout",
     "output_type": "stream",
     "text": [
      "7 / 36\n",
      "\n",
      "Neighborhood Generation\n",
      "calculating feature values\n",
      "gen\tnevals\tavg     \tmin     \tmax     \n",
      "0  \t500   \t0.496654\t0.496654\t0.496654\n",
      "1  \t421   \t0.577722\t0.00672908\t0.993307\n",
      "2  \t424   \t0.745581\t0.0067313 \t0.993307\n",
      "3  \t432   \t0.818123\t0.00670277\t0.993307\n",
      "4  \t415   \t0.880691\t0.00673073\t0.993307\n",
      "5  \t422   \t0.881745\t0.00673342\t0.993307\n",
      "6  \t424   \t0.884204\t0.00890171\t0.993307\n",
      "7  \t409   \t0.870247\t0.00777021\t0.993307\n",
      "8  \t420   \t0.876442\t0.00692219\t0.993307\n",
      "9  \t408   \t0.8649  \t0.00675559\t0.993307\n",
      "10 \t412   \t0.860641\t0.00669454\t0.993307\n",
      "gen\tnevals\tavg\tmin\tmax\n",
      "0  \t500   \t0.5\t0.5\t0.5\n",
      "1  \t411   \t0.555697\t0.486656\t0.99325\n",
      "2  \t423   \t0.662371\t0.492776\t0.993307\n",
      "3  \t422   \t0.766751\t0.492767\t0.993307\n",
      "4  \t414   \t0.831472\t0.493711\t0.993307\n",
      "5  \t427   \t0.871133\t0.493232\t0.993307\n",
      "6  \t417   \t0.887709\t0.484387\t0.993307\n",
      "7  \t417   \t0.893997\t0.489447\t0.993307\n",
      "8  \t432   \t0.890263\t0.484133\t0.993307\n",
      "9  \t421   \t0.90313 \t0.488542\t0.993307\n",
      "10 \t420   \t0.895236\t0.486667\t0.993307\n",
      "synthetic neighborhood class counts {0: 513, 1: 70, 2: 517}\n",
      "Fitting 3 folds for each of 200 candidates, totalling 600 fits\n"
     ]
    },
    {
     "name": "stderr",
     "output_type": "stream",
     "text": [
      "[Parallel(n_jobs=-1)]: Using backend LokyBackend with 4 concurrent workers.\n",
      "[Parallel(n_jobs=-1)]: Done 127 tasks      | elapsed:    4.3s\n",
      "[Parallel(n_jobs=-1)]: Done 600 out of 600 | elapsed:    5.5s finished\n"
     ]
    },
    {
     "name": "stdout",
     "output_type": "stream",
     "text": [
      "8 / 36\n",
      "\n",
      "Neighborhood Generation\n",
      "calculating feature values\n",
      "gen\tnevals\tavg     \tmin     \tmax     \n",
      "0  \t500   \t0.496654\t0.496654\t0.496654\n",
      "1  \t421   \t0.512719\t0.00669358\t0.993297\n",
      "2  \t424   \t0.597847\t0.00923789\t0.993297\n",
      "3  \t432   \t0.663363\t0.00700834\t0.993298\n",
      "4  \t415   \t0.739813\t0.00753014\t0.993298\n",
      "5  \t422   \t0.780939\t0.00669643\t0.993302\n",
      "6  \t424   \t0.797628\t0.00723978\t0.993305\n",
      "7  \t409   \t0.787993\t0.00948376\t0.993307\n",
      "8  \t420   \t0.788186\t0.00736463\t0.993307\n",
      "9  \t408   \t0.797962\t0.00675456\t0.993307\n",
      "10 \t412   \t0.795431\t0.0110359 \t0.993307\n",
      "gen\tnevals\tavg\tmin\tmax\n",
      "0  \t500   \t0.5\t0.5\t0.5\n",
      "1  \t411   \t0.543347\t0.00669574\t0.993304\n",
      "2  \t423   \t0.689204\t0.00685673\t0.993304\n",
      "3  \t422   \t0.826036\t0.00670541\t0.993306\n",
      "4  \t414   \t0.882005\t0.00689337\t0.993306\n",
      "5  \t427   \t0.879691\t0.00671797\t0.993306\n",
      "6  \t417   \t0.888448\t0.0067342 \t0.993306\n",
      "7  \t417   \t0.879701\t0.00669334\t0.993306\n",
      "8  \t432   \t0.877726\t0.00691923\t0.993306\n",
      "9  \t421   \t0.892993\t0.00691264\t0.993306\n",
      "10 \t420   \t0.897371\t0.00676085\t0.993306\n",
      "synthetic neighborhood class counts {0: 147, 1: 466, 2: 487}\n",
      "Fitting 3 folds for each of 200 candidates, totalling 600 fits\n"
     ]
    },
    {
     "name": "stderr",
     "output_type": "stream",
     "text": [
      "[Parallel(n_jobs=-1)]: Using backend LokyBackend with 4 concurrent workers.\n",
      "[Parallel(n_jobs=-1)]: Done 119 tasks      | elapsed:    4.3s\n",
      "[Parallel(n_jobs=-1)]: Done 600 out of 600 | elapsed:    5.4s finished\n"
     ]
    },
    {
     "name": "stdout",
     "output_type": "stream",
     "text": [
      "9 / 36\n",
      "\n",
      "Neighborhood Generation\n",
      "calculating feature values\n",
      "gen\tnevals\tavg     \tmin     \tmax     \n",
      "0  \t500   \t0.496654\t0.496654\t0.496654\n",
      "1  \t421   \t0.5805  \t0.00673879\t0.993307\n",
      "2  \t424   \t0.743381\t0.00673635\t0.993307\n",
      "3  \t432   \t0.821693\t0.0067867 \t0.993307\n",
      "4  \t415   \t0.883093\t0.00671545\t0.993307\n",
      "5  \t422   \t0.884022\t0.00707939\t0.993307\n",
      "6  \t424   \t0.885574\t0.0155951 \t0.993307\n",
      "7  \t409   \t0.86545 \t0.00846641\t0.993307\n",
      "8  \t420   \t0.870266\t0.00669828\t0.993307\n",
      "9  \t408   \t0.862983\t0.00673244\t0.993307\n",
      "10 \t412   \t0.860543\t0.00682784\t0.993307\n",
      "gen\tnevals\tavg\tmin\tmax\n",
      "0  \t500   \t0.5\t0.5\t0.5\n",
      "1  \t411   \t0.556816\t0.490882\t0.9933\n",
      "2  \t423   \t0.666588\t0.488507\t0.9933\n",
      "3  \t422   \t0.774717\t0.491138\t0.993304\n",
      "4  \t414   \t0.838893\t0.488565\t0.993306\n",
      "5  \t427   \t0.87876 \t0.492745\t0.993307\n",
      "6  \t417   \t0.891558\t0.489166\t0.993307\n",
      "7  \t417   \t0.899581\t0.492647\t0.993307\n",
      "8  \t432   \t0.894095\t0.489244\t0.993307\n",
      "9  \t421   \t0.90925 \t0.492287\t0.993307\n",
      "10 \t420   \t0.898617\t0.490024\t0.993307\n",
      "synthetic neighborhood class counts {0: 514, 1: 69, 2: 517}\n",
      "Fitting 3 folds for each of 200 candidates, totalling 600 fits\n"
     ]
    },
    {
     "name": "stderr",
     "output_type": "stream",
     "text": [
      "[Parallel(n_jobs=-1)]: Using backend LokyBackend with 4 concurrent workers.\n",
      "[Parallel(n_jobs=-1)]: Done 199 tasks      | elapsed:    3.6s\n",
      "[Parallel(n_jobs=-1)]: Done 600 out of 600 | elapsed:    4.2s finished\n"
     ]
    },
    {
     "name": "stdout",
     "output_type": "stream",
     "text": [
      "10 / 36\n",
      "\n",
      "Neighborhood Generation\n",
      "calculating feature values\n",
      "gen\tnevals\tavg     \tmin     \tmax     \n",
      "0  \t500   \t0.496654\t0.496654\t0.496654\n",
      "1  \t421   \t0.56368 \t0.00673032\t0.993307\n",
      "2  \t424   \t0.686536\t0.00736373\t0.993307\n",
      "3  \t432   \t0.770935\t0.00669609\t0.993307\n",
      "4  \t415   \t0.836681\t0.00673444\t0.993307\n",
      "5  \t422   \t0.851663\t0.00706134\t0.993307\n",
      "6  \t424   \t0.852393\t0.0069391 \t0.993307\n",
      "7  \t409   \t0.849872\t0.006706  \t0.993307\n",
      "8  \t420   \t0.8363  \t0.00669543\t0.993307\n",
      "9  \t408   \t0.855223\t0.00671834\t0.993307\n",
      "10 \t412   \t0.845659\t0.00671364\t0.993307\n",
      "gen\tnevals\tavg\tmin\tmax\n",
      "0  \t500   \t0.5\t0.5\t0.5\n",
      "1  \t411   \t0.498647\t0.00669292\t0.99274\n",
      "2  \t423   \t0.612158\t0.00671168\t0.993275\n",
      "3  \t422   \t0.765952\t0.00669455\t0.993275\n",
      "4  \t414   \t0.875682\t0.00718547\t0.993292\n",
      "5  \t427   \t0.880993\t0.00669791\t0.993294\n",
      "6  \t417   \t0.895491\t0.0067541 \t0.993296\n",
      "7  \t417   \t0.908763\t0.00670151\t0.993296\n",
      "8  \t432   \t0.885129\t0.00669458\t0.993296\n",
      "9  \t421   \t0.896701\t0.00672104\t0.993296\n",
      "10 \t420   \t0.909198\t0.00669458\t0.993296\n",
      "synthetic neighborhood class counts {0: 195, 1: 404, 2: 501}\n",
      "Fitting 3 folds for each of 200 candidates, totalling 600 fits\n"
     ]
    },
    {
     "name": "stderr",
     "output_type": "stream",
     "text": [
      "[Parallel(n_jobs=-1)]: Using backend LokyBackend with 4 concurrent workers.\n",
      "[Parallel(n_jobs=-1)]: Done 115 tasks      | elapsed:    4.8s\n",
      "[Parallel(n_jobs=-1)]: Done 600 out of 600 | elapsed:    6.1s finished\n"
     ]
    },
    {
     "name": "stdout",
     "output_type": "stream",
     "text": [
      "11 / 36\n",
      "\n",
      "Neighborhood Generation\n",
      "calculating feature values\n",
      "gen\tnevals\tavg     \tmin     \tmax     \n",
      "0  \t500   \t0.496654\t0.496654\t0.496654\n",
      "1  \t421   \t0.558774\t0.00683379\t0.993307\n",
      "2  \t424   \t0.671742\t0.00669391\t0.993307\n",
      "3  \t432   \t0.760089\t0.00676085\t0.993307\n",
      "4  \t415   \t0.820237\t0.00669966\t0.993307\n",
      "5  \t422   \t0.838073\t0.00671023\t0.993307\n",
      "6  \t424   \t0.839899\t0.00680952\t0.993307\n",
      "7  \t409   \t0.832969\t0.00691354\t0.993307\n",
      "8  \t420   \t0.81479 \t0.00671062\t0.993307\n",
      "9  \t408   \t0.835161\t0.00721889\t0.993307\n",
      "10 \t412   \t0.835651\t0.00669483\t0.993307\n",
      "gen\tnevals\tavg\tmin\tmax\n",
      "0  \t500   \t0.5\t0.5\t0.5\n",
      "1  \t411   \t0.490493\t0.00669368\t0.993292\n",
      "2  \t423   \t0.601482\t0.00669354\t0.993292\n",
      "3  \t422   \t0.750721\t0.00669307\t0.993292\n",
      "4  \t414   \t0.864972\t0.00673493\t0.993293\n",
      "5  \t427   \t0.873639\t0.00670889\t0.993303\n",
      "6  \t417   \t0.886277\t0.00671794\t0.993305\n",
      "7  \t417   \t0.895804\t0.0067535 \t0.993303\n",
      "8  \t432   \t0.87656 \t0.006729  \t0.993305\n",
      "9  \t421   \t0.881912\t0.00695852\t0.993305\n",
      "10 \t420   \t0.894133\t0.00696089\t0.993305\n",
      "synthetic neighborhood class counts {0: 168, 1: 437, 2: 495}\n",
      "Fitting 3 folds for each of 200 candidates, totalling 600 fits\n"
     ]
    },
    {
     "name": "stderr",
     "output_type": "stream",
     "text": [
      "[Parallel(n_jobs=-1)]: Using backend LokyBackend with 4 concurrent workers.\n",
      "[Parallel(n_jobs=-1)]: Done  47 tasks      | elapsed:    3.9s\n",
      "[Parallel(n_jobs=-1)]: Done 600 out of 600 | elapsed:    5.3s finished\n"
     ]
    },
    {
     "name": "stdout",
     "output_type": "stream",
     "text": [
      "12 / 36\n",
      "\n",
      "Neighborhood Generation\n",
      "calculating feature values\n",
      "gen\tnevals\tavg     \tmin     \tmax     \n",
      "0  \t500   \t0.496654\t0.496654\t0.496654\n",
      "1  \t421   \t0.580834\t0.00678827\t0.993307\n",
      "2  \t424   \t0.743742\t0.00679053\t0.993307\n",
      "3  \t432   \t0.822222\t0.00685208\t0.993307\n",
      "4  \t415   \t0.881397\t0.00675321\t0.993307\n",
      "5  \t422   \t0.890828\t0.00723018\t0.993307\n",
      "6  \t424   \t0.888937\t0.0179292 \t0.993307\n",
      "7  \t409   \t0.867722\t0.0107412 \t0.993307\n",
      "8  \t420   \t0.871478\t0.00669325\t0.993307\n",
      "9  \t408   \t0.865493\t0.00678122\t0.993307\n",
      "10 \t412   \t0.865386\t0.00691508\t0.993307\n",
      "gen\tnevals\tavg\tmin\tmax\n",
      "0  \t500   \t0.5\t0.5\t0.5\n",
      "1  \t411   \t0.55687\t0.490416\t0.993306\n",
      "2  \t423   \t0.665563\t0.486993\t0.993306\n",
      "3  \t422   \t0.774683\t0.486549\t0.993306\n",
      "4  \t414   \t0.837701\t0.487299\t0.993306\n",
      "5  \t427   \t0.877517\t0.491913\t0.993307\n",
      "6  \t417   \t0.892166\t0.490295\t0.993307\n",
      "7  \t417   \t0.898334\t0.494365\t0.993307\n",
      "8  \t432   \t0.894495\t0.489714\t0.993307\n",
      "9  \t421   \t0.909097\t0.490999\t0.993307\n",
      "10 \t420   \t0.898398\t0.489638\t0.993307\n",
      "synthetic neighborhood class counts {0: 511, 1: 70, 2: 519}\n",
      "Fitting 3 folds for each of 200 candidates, totalling 600 fits\n"
     ]
    },
    {
     "name": "stderr",
     "output_type": "stream",
     "text": [
      "[Parallel(n_jobs=-1)]: Using backend LokyBackend with 4 concurrent workers.\n",
      "[Parallel(n_jobs=-1)]: Done 256 tasks      | elapsed:    4.0s\n",
      "[Parallel(n_jobs=-1)]: Done 600 out of 600 | elapsed:    4.7s finished\n"
     ]
    },
    {
     "name": "stdout",
     "output_type": "stream",
     "text": [
      "13 / 36\n",
      "\n",
      "Neighborhood Generation\n",
      "calculating feature values\n",
      "gen\tnevals\tavg     \tmin     \tmax     \n",
      "0  \t500   \t0.496654\t0.496654\t0.496654\n",
      "1  \t421   \t0.557817\t0.00681833\t0.993298\n",
      "2  \t424   \t0.666171\t0.00670682\t0.993307\n",
      "3  \t432   \t0.756601\t0.00673175\t0.993307\n",
      "4  \t415   \t0.822075\t0.00706695\t0.993307\n",
      "5  \t422   \t0.833577\t0.0067568 \t0.993307\n",
      "6  \t424   \t0.832921\t0.00673003\t0.993307\n",
      "7  \t409   \t0.836894\t0.00692488\t0.993307\n",
      "8  \t420   \t0.810293\t0.00670158\t0.993307\n",
      "9  \t408   \t0.837675\t0.00694052\t0.993307\n",
      "10 \t412   \t0.838359\t0.00703753\t0.993307\n",
      "gen\tnevals\tavg\tmin\tmax\n",
      "0  \t500   \t0.5\t0.5\t0.5\n",
      "1  \t411   \t0.490141\t0.00669925\t0.993295\n",
      "2  \t423   \t0.600045\t0.00669369\t0.993295\n",
      "3  \t422   \t0.747984\t0.00669382\t0.993295\n",
      "4  \t414   \t0.867165\t0.00686845\t0.993301\n",
      "5  \t427   \t0.877639\t0.0066963 \t0.993305\n",
      "6  \t417   \t0.888325\t0.00692105\t0.993306\n",
      "7  \t417   \t0.900471\t0.00669703\t0.993305\n",
      "8  \t432   \t0.877151\t0.00669317\t0.993305\n",
      "9  \t421   \t0.885197\t0.00680777\t0.993305\n",
      "10 \t420   \t0.896082\t0.00704905\t0.993306\n",
      "synthetic neighborhood class counts {0: 166, 1: 432, 2: 502}\n",
      "Fitting 3 folds for each of 200 candidates, totalling 600 fits\n"
     ]
    },
    {
     "name": "stderr",
     "output_type": "stream",
     "text": [
      "[Parallel(n_jobs=-1)]: Using backend LokyBackend with 4 concurrent workers.\n",
      "[Parallel(n_jobs=-1)]: Done 138 tasks      | elapsed:    4.4s\n",
      "[Parallel(n_jobs=-1)]: Done 600 out of 600 | elapsed:    5.5s finished\n"
     ]
    },
    {
     "name": "stdout",
     "output_type": "stream",
     "text": [
      "14 / 36\n",
      "\n",
      "Neighborhood Generation\n",
      "calculating feature values\n",
      "gen\tnevals\tavg     \tmin     \tmax     \n",
      "0  \t500   \t0.496654\t0.496654\t0.496654\n",
      "1  \t421   \t0.49054 \t0.00686054\t0.993075\n",
      "2  \t424   \t0.55968 \t0.00678155\t0.993307\n",
      "3  \t432   \t0.685991\t0.00715586\t0.993307\n",
      "4  \t415   \t0.741893\t0.00710944\t0.993307\n",
      "5  \t422   \t0.780086\t0.00682522\t0.993307\n",
      "6  \t424   \t0.766789\t0.00671354\t0.993307\n",
      "7  \t409   \t0.744635\t0.00717537\t0.993307\n",
      "8  \t420   \t0.749798\t0.00669541\t0.993307\n",
      "9  \t408   \t0.785081\t0.00677818\t0.993307\n",
      "10 \t412   \t0.781178\t0.00705294\t0.993307\n",
      "gen\tnevals\tavg\tmin\tmax\n",
      "0  \t500   \t0.5\t0.5\t0.5\n",
      "1  \t411   \t0.504947\t0.00670425\t0.98971\n",
      "2  \t423   \t0.553563\t0.006693  \t0.993306\n",
      "3  \t422   \t0.651641\t0.00669662\t0.993306\n",
      "4  \t414   \t0.718797\t0.00669445\t0.993185\n",
      "5  \t427   \t0.786875\t0.00669749\t0.993273\n",
      "6  \t417   \t0.802884\t0.00672233\t0.993307\n",
      "7  \t417   \t0.823129\t0.00714538\t0.993305\n",
      "8  \t432   \t0.819552\t0.00681554\t0.993306\n",
      "9  \t421   \t0.828135\t0.00676709\t0.993307\n",
      "10 \t420   \t0.833713\t0.00691091\t0.993307\n",
      "synthetic neighborhood class counts {0: 128, 1: 466, 2: 506}\n",
      "Fitting 3 folds for each of 200 candidates, totalling 600 fits\n"
     ]
    },
    {
     "name": "stderr",
     "output_type": "stream",
     "text": [
      "[Parallel(n_jobs=-1)]: Using backend LokyBackend with 4 concurrent workers.\n",
      "[Parallel(n_jobs=-1)]: Done 200 tasks      | elapsed:    4.7s\n",
      "[Parallel(n_jobs=-1)]: Done 600 out of 600 | elapsed:    5.7s finished\n"
     ]
    },
    {
     "name": "stdout",
     "output_type": "stream",
     "text": [
      "15 / 36\n",
      "\n",
      "Neighborhood Generation\n",
      "calculating feature values\n",
      "gen\tnevals\tavg     \tmin     \tmax     \n",
      "0  \t500   \t0.496654\t0.496654\t0.496654\n",
      "1  \t421   \t0.583011\t0.00716098\t0.993307\n",
      "2  \t424   \t0.745309\t0.0071689 \t0.993307\n",
      "3  \t432   \t0.825003\t0.0066943 \t0.993307\n",
      "4  \t415   \t0.879185\t0.00707462\t0.993307\n",
      "5  \t422   \t0.889024\t0.00799965\t0.993307\n",
      "6  \t424   \t0.892485\t0.0237139 \t0.993307\n",
      "7  \t409   \t0.876524\t0.0105117 \t0.993307\n",
      "8  \t420   \t0.874007\t0.00669337\t0.993307\n",
      "9  \t408   \t0.873576\t0.00684013\t0.993307\n",
      "10 \t412   \t0.867464\t0.00743045\t0.993307\n",
      "gen\tnevals\tavg\tmin\tmax\n",
      "0  \t500   \t0.5\t0.5\t0.5\n",
      "1  \t411   \t0.557499\t0.493626\t0.993295\n",
      "2  \t423   \t0.665702\t0.482312\t0.993295\n",
      "3  \t422   \t0.779073\t0.485252\t0.993307\n",
      "4  \t414   \t0.841921\t0.482479\t0.993307\n",
      "5  \t427   \t0.877499\t0.488401\t0.993307\n",
      "6  \t417   \t0.892551\t0.493561\t0.993307\n",
      "7  \t417   \t0.90103 \t0.493467\t0.993307\n",
      "8  \t432   \t0.894475\t0.484273\t0.993307\n",
      "9  \t421   \t0.90842 \t0.487588\t0.993307\n",
      "10 \t420   \t0.902031\t0.488181\t0.993307\n",
      "synthetic neighborhood class counts {0: 514, 1: 69, 2: 517}\n",
      "Fitting 3 folds for each of 200 candidates, totalling 600 fits\n"
     ]
    },
    {
     "name": "stderr",
     "output_type": "stream",
     "text": [
      "[Parallel(n_jobs=-1)]: Using backend LokyBackend with 4 concurrent workers.\n",
      "[Parallel(n_jobs=-1)]: Done  42 tasks      | elapsed:    3.9s\n",
      "[Parallel(n_jobs=-1)]: Done 600 out of 600 | elapsed:    5.4s finished\n"
     ]
    },
    {
     "name": "stdout",
     "output_type": "stream",
     "text": [
      "16 / 36\n",
      "\n",
      "Neighborhood Generation\n",
      "calculating feature values\n",
      "gen\tnevals\tavg     \tmin     \tmax     \n",
      "0  \t500   \t0.496654\t0.496654\t0.496654\n",
      "1  \t421   \t0.546536\t0.00702215\t0.993304\n",
      "2  \t424   \t0.653102\t0.00704958\t0.993304\n",
      "3  \t432   \t0.73846 \t0.00672156\t0.993305\n",
      "4  \t415   \t0.803725\t0.00849372\t0.993305\n",
      "5  \t422   \t0.817184\t0.00708062\t0.993307\n",
      "6  \t424   \t0.822418\t0.0066933 \t0.993307\n",
      "7  \t409   \t0.810985\t0.00778944\t0.993307\n",
      "8  \t420   \t0.801806\t0.00695915\t0.993307\n",
      "9  \t408   \t0.829265\t0.0067021 \t0.993307\n",
      "10 \t412   \t0.814142\t0.00694163\t0.993307\n",
      "gen\tnevals\tavg\tmin\tmax\n",
      "0  \t500   \t0.5\t0.5\t0.5\n",
      "1  \t411   \t0.476804\t0.00669285\t0.993159\n",
      "2  \t423   \t0.58454 \t0.00669926\t0.993159\n",
      "3  \t422   \t0.717704\t0.00669311\t0.993159\n",
      "4  \t414   \t0.830266\t0.00671769\t0.993292\n",
      "5  \t427   \t0.849168\t0.00670184\t0.993306\n",
      "6  \t417   \t0.859346\t0.00939062\t0.993306\n",
      "7  \t417   \t0.874497\t0.00673961\t0.993306\n",
      "8  \t432   \t0.838281\t0.00726789\t0.993306\n",
      "9  \t421   \t0.853174\t0.00683169\t0.993306\n",
      "10 \t420   \t0.87056 \t0.00676443\t0.993306\n",
      "synthetic neighborhood class counts {0: 156, 1: 434, 2: 510}\n",
      "Fitting 3 folds for each of 200 candidates, totalling 600 fits\n"
     ]
    },
    {
     "name": "stderr",
     "output_type": "stream",
     "text": [
      "[Parallel(n_jobs=-1)]: Using backend LokyBackend with 4 concurrent workers.\n",
      "[Parallel(n_jobs=-1)]: Done 311 tasks      | elapsed:    4.9s\n",
      "[Parallel(n_jobs=-1)]: Done 600 out of 600 | elapsed:    5.6s finished\n"
     ]
    },
    {
     "name": "stdout",
     "output_type": "stream",
     "text": [
      "17 / 36\n",
      "\n",
      "Neighborhood Generation\n",
      "calculating feature values\n",
      "gen\tnevals\tavg     \tmin     \tmax     \n",
      "0  \t500   \t0.496654\t0.496654\t0.496654\n",
      "1  \t421   \t0.48965 \t0.00685464\t0.993307\n",
      "2  \t424   \t0.580426\t0.00807423\t0.993307\n",
      "3  \t432   \t0.683776\t0.00687239\t0.993307\n",
      "4  \t415   \t0.736019\t0.0069836 \t0.993307\n",
      "5  \t422   \t0.777673\t0.00671678\t0.993307\n",
      "6  \t424   \t0.780245\t0.0066948 \t0.993307\n",
      "7  \t409   \t0.763075\t0.00673659\t0.993307\n",
      "8  \t420   \t0.755914\t0.00677125\t0.993307\n",
      "9  \t408   \t0.798901\t0.00692469\t0.993307\n",
      "10 \t412   \t0.776553\t0.00702312\t0.993307\n",
      "gen\tnevals\tavg\tmin\tmax\n",
      "0  \t500   \t0.5\t0.5\t0.5\n",
      "1  \t411   \t0.470036\t0.00669304\t0.993299\n",
      "2  \t423   \t0.476331\t0.00669465\t0.993252\n",
      "3  \t422   \t0.538128\t0.00669285\t0.993304\n",
      "4  \t414   \t0.606035\t0.00672192\t0.993304\n",
      "5  \t427   \t0.651903\t0.00696043\t0.993304\n",
      "6  \t417   \t0.70103 \t0.00685813\t0.993307\n",
      "7  \t417   \t0.751374\t0.00670648\t0.993307\n",
      "8  \t432   \t0.782385\t0.00747731\t0.993307\n",
      "9  \t421   \t0.784393\t0.00680525\t0.993307\n",
      "10 \t420   \t0.781003\t0.00674301\t0.993307\n",
      "synthetic neighborhood class counts {0: 125, 1: 445, 2: 530}\n",
      "Fitting 3 folds for each of 200 candidates, totalling 600 fits\n"
     ]
    },
    {
     "name": "stderr",
     "output_type": "stream",
     "text": [
      "[Parallel(n_jobs=-1)]: Using backend LokyBackend with 4 concurrent workers.\n",
      "[Parallel(n_jobs=-1)]: Done 600 out of 600 | elapsed:    5.1s finished\n"
     ]
    },
    {
     "name": "stdout",
     "output_type": "stream",
     "text": [
      "18 / 36\n",
      "\n",
      "Neighborhood Generation\n",
      "calculating feature values\n",
      "gen\tnevals\tavg     \tmin     \tmax     \n",
      "0  \t500   \t0.496654\t0.496654\t0.496654\n",
      "1  \t421   \t0.495851\t0.00680332\t0.993161\n",
      "2  \t424   \t0.560466\t0.00689828\t0.993258\n",
      "3  \t432   \t0.66823 \t0.00844526\t0.993288\n",
      "4  \t415   \t0.729318\t0.00699378\t0.993258\n",
      "5  \t422   \t0.771317\t0.00690698\t0.993261\n",
      "6  \t424   \t0.762806\t0.0077658 \t0.993304\n",
      "7  \t409   \t0.727654\t0.00993143\t0.993291\n",
      "8  \t420   \t0.743742\t0.007298  \t0.9933  \n",
      "9  \t408   \t0.776178\t0.00824209\t0.9933  \n",
      "10 \t412   \t0.773393\t0.0113922 \t0.9933  \n",
      "gen\tnevals\tavg\tmin\tmax\n",
      "0  \t500   \t0.5\t0.5\t0.5\n",
      "1  \t411   \t0.50947\t0.00669357\t0.988828\n",
      "2  \t423   \t0.574282\t0.0067018 \t0.992849\n",
      "3  \t422   \t0.67207 \t0.00680835\t0.993182\n",
      "4  \t414   \t0.720146\t0.0069301 \t0.993287\n",
      "5  \t427   \t0.773353\t0.00763166\t0.993305\n",
      "6  \t417   \t0.791295\t0.00978635\t0.993307\n",
      "7  \t417   \t0.811165\t0.00682161\t0.993307\n",
      "8  \t432   \t0.803202\t0.00711614\t0.993307\n",
      "9  \t421   \t0.821788\t0.0167695 \t0.993307\n",
      "10 \t420   \t0.81919 \t0.00669341\t0.993307\n",
      "synthetic neighborhood class counts {0: 132, 1: 469, 2: 499}\n",
      "Fitting 3 folds for each of 200 candidates, totalling 600 fits\n"
     ]
    },
    {
     "name": "stderr",
     "output_type": "stream",
     "text": [
      "[Parallel(n_jobs=-1)]: Using backend LokyBackend with 4 concurrent workers.\n",
      "[Parallel(n_jobs=-1)]: Done 135 tasks      | elapsed:    4.4s\n",
      "[Parallel(n_jobs=-1)]: Done 600 out of 600 | elapsed:    5.4s finished\n"
     ]
    },
    {
     "name": "stdout",
     "output_type": "stream",
     "text": [
      "19 / 36\n",
      "\n",
      "Neighborhood Generation\n",
      "calculating feature values\n",
      "gen\tnevals\tavg     \tmin     \tmax     \n",
      "0  \t500   \t0.496654\t0.496654\t0.496654\n",
      "1  \t421   \t0.582953\t0.00702255\t0.993307\n",
      "2  \t424   \t0.747521\t0.00701458\t0.993307\n",
      "3  \t432   \t0.824539\t0.00671088\t0.993307\n",
      "4  \t415   \t0.880787\t0.00695042\t0.993307\n",
      "5  \t422   \t0.890158\t0.00770443\t0.993307\n",
      "6  \t424   \t0.89831 \t0.0237801 \t0.993307\n",
      "7  \t409   \t0.868232\t0.0111583 \t0.993307\n",
      "8  \t420   \t0.876366\t0.00669802\t0.993307\n",
      "9  \t408   \t0.870642\t0.00692459\t0.993307\n",
      "10 \t412   \t0.868205\t0.00723188\t0.993307\n",
      "gen\tnevals\tavg\tmin\tmax\n",
      "0  \t500   \t0.5\t0.5\t0.5\n",
      "1  \t411   \t0.556586\t0.493712\t0.993306\n",
      "2  \t423   \t0.663406\t0.483794\t0.993307\n",
      "3  \t422   \t0.777188\t0.485661\t0.993307\n",
      "4  \t414   \t0.837542\t0.483694\t0.993307\n",
      "5  \t427   \t0.875206\t0.489388\t0.993307\n",
      "6  \t417   \t0.892501\t0.49269 \t0.993307\n",
      "7  \t417   \t0.9006  \t0.494188\t0.993307\n",
      "8  \t432   \t0.89398 \t0.486812\t0.993307\n",
      "9  \t421   \t0.907495\t0.485681\t0.993307\n",
      "10 \t420   \t0.899979\t0.489501\t0.993307\n",
      "synthetic neighborhood class counts {0: 514, 1: 68, 2: 518}\n",
      "Fitting 3 folds for each of 200 candidates, totalling 600 fits\n"
     ]
    },
    {
     "name": "stderr",
     "output_type": "stream",
     "text": [
      "[Parallel(n_jobs=-1)]: Using backend LokyBackend with 4 concurrent workers.\n",
      "[Parallel(n_jobs=-1)]: Done 298 tasks      | elapsed:    4.1s\n",
      "[Parallel(n_jobs=-1)]: Done 600 out of 600 | elapsed:    4.7s finished\n"
     ]
    },
    {
     "name": "stdout",
     "output_type": "stream",
     "text": [
      "20 / 36\n",
      "\n",
      "Neighborhood Generation\n",
      "calculating feature values\n",
      "gen\tnevals\tavg     \tmin     \tmax     \n",
      "0  \t500   \t0.496654\t0.496654\t0.496654\n",
      "1  \t421   \t0.565958\t0.0067009\t0.993283\n",
      "2  \t424   \t0.695395\t0.0067228\t0.993307\n",
      "3  \t432   \t0.778117\t0.00669626\t0.993304\n",
      "4  \t415   \t0.836745\t0.0067123 \t0.993306\n",
      "5  \t422   \t0.848397\t0.00715821\t0.993307\n",
      "6  \t424   \t0.849762\t0.00671281\t0.993307\n",
      "7  \t409   \t0.838632\t0.00669337\t0.993307\n",
      "8  \t420   \t0.834219\t0.00669614\t0.993307\n",
      "9  \t408   \t0.842622\t0.00672105\t0.993307\n",
      "10 \t412   \t0.840927\t0.00696948\t0.993307\n",
      "gen\tnevals\tavg\tmin\tmax\n",
      "0  \t500   \t0.5\t0.5\t0.5\n",
      "1  \t411   \t0.502357\t0.00669949\t0.992896\n",
      "2  \t423   \t0.614014\t0.0066958 \t0.993301\n",
      "3  \t422   \t0.769332\t0.0066999 \t0.993301\n",
      "4  \t414   \t0.868513\t0.00669786\t0.993303\n",
      "5  \t427   \t0.874931\t0.00669566\t0.993303\n",
      "6  \t417   \t0.888088\t0.00679067\t0.993303\n",
      "7  \t417   \t0.90749 \t0.00669828\t0.993303\n",
      "8  \t432   \t0.88035 \t0.0067001 \t0.993303\n",
      "9  \t421   \t0.892099\t0.00671959\t0.993303\n",
      "10 \t420   \t0.905298\t0.00671035\t0.993303\n",
      "synthetic neighborhood class counts {0: 180, 1: 423, 2: 497}\n",
      "Fitting 3 folds for each of 200 candidates, totalling 600 fits\n"
     ]
    },
    {
     "name": "stderr",
     "output_type": "stream",
     "text": [
      "[Parallel(n_jobs=-1)]: Using backend LokyBackend with 4 concurrent workers.\n",
      "[Parallel(n_jobs=-1)]: Done 600 out of 600 | elapsed:    3.6s finished\n"
     ]
    },
    {
     "name": "stdout",
     "output_type": "stream",
     "text": [
      "21 / 36\n",
      "\n",
      "Neighborhood Generation\n",
      "calculating feature values\n",
      "gen\tnevals\tavg     \tmin     \tmax     \n",
      "0  \t500   \t0.496654\t0.496654\t0.496654\n",
      "1  \t421   \t0.560789\t0.00671597\t0.993307\n",
      "2  \t424   \t0.674093\t0.00680429\t0.993306\n",
      "3  \t432   \t0.765977\t0.00669366\t0.993305\n",
      "4  \t415   \t0.821585\t0.00673581\t0.993307\n",
      "5  \t422   \t0.839554\t0.00687471\t0.993307\n",
      "6  \t424   \t0.846615\t0.00669474\t0.993307\n",
      "7  \t409   \t0.843667\t0.00671604\t0.993307\n",
      "8  \t420   \t0.826384\t0.00670573\t0.993307\n",
      "9  \t408   \t0.842673\t0.00669345\t0.993307\n",
      "10 \t412   \t0.843016\t0.00669938\t0.993307\n",
      "gen\tnevals\tavg\tmin\tmax\n",
      "0  \t500   \t0.5\t0.5\t0.5\n",
      "1  \t411   \t0.492981\t0.00669419\t0.992696\n",
      "2  \t423   \t0.605926\t0.00669346\t0.993295\n",
      "3  \t422   \t0.756689\t0.00669472\t0.993295\n",
      "4  \t414   \t0.871419\t0.00703981\t0.993299\n",
      "5  \t427   \t0.875955\t0.00671928\t0.993299\n",
      "6  \t417   \t0.892783\t0.00694987\t0.9933  \n",
      "7  \t417   \t0.907002\t0.00671625\t0.993301\n",
      "8  \t432   \t0.880002\t0.00677812\t0.9933  \n",
      "9  \t421   \t0.892155\t0.00669867\t0.993301\n",
      "10 \t420   \t0.906237\t0.0066956 \t0.993301\n",
      "synthetic neighborhood class counts {0: 182, 1: 424, 2: 494}\n",
      "Fitting 3 folds for each of 200 candidates, totalling 600 fits\n"
     ]
    },
    {
     "name": "stderr",
     "output_type": "stream",
     "text": [
      "[Parallel(n_jobs=-1)]: Using backend LokyBackend with 4 concurrent workers.\n",
      "[Parallel(n_jobs=-1)]: Done 139 tasks      | elapsed:    3.8s\n",
      "[Parallel(n_jobs=-1)]: Done 600 out of 600 | elapsed:    5.2s finished\n"
     ]
    },
    {
     "name": "stdout",
     "output_type": "stream",
     "text": [
      "22 / 36\n",
      "\n",
      "Neighborhood Generation\n",
      "calculating feature values\n",
      "gen\tnevals\tavg     \tmin     \tmax     \n",
      "0  \t500   \t0.496654\t0.496654\t0.496654\n",
      "1  \t421   \t0.526304\t0.0168988\t0.993302\n",
      "2  \t424   \t0.631488\t0.00671611\t0.993302\n",
      "3  \t432   \t0.705109\t0.00737057\t0.993302\n",
      "4  \t415   \t0.763121\t0.00669388\t0.993302\n",
      "5  \t422   \t0.773495\t0.0069068 \t0.993307\n",
      "6  \t424   \t0.786536\t0.0228137 \t0.993307\n",
      "7  \t409   \t0.781656\t0.00701996\t0.993302\n",
      "8  \t420   \t0.776465\t0.00874843\t0.993302\n",
      "9  \t408   \t0.813963\t0.00859599\t0.993302\n",
      "10 \t412   \t0.803759\t0.00742104\t0.993302\n",
      "gen\tnevals\tavg\tmin\tmax\n",
      "0  \t500   \t0.5\t0.5\t0.5\n",
      "1  \t411   \t0.476353\t0.00669374\t0.987334\n",
      "2  \t423   \t0.556501\t0.00677955\t0.993198\n",
      "3  \t422   \t0.663634\t0.00704934\t0.993306\n",
      "4  \t414   \t0.759673\t0.00680153\t0.993307\n",
      "5  \t427   \t0.773198\t0.00689578\t0.993307\n",
      "6  \t417   \t0.799278\t0.00738136\t0.993307\n",
      "7  \t417   \t0.827831\t0.0151626 \t0.993307\n",
      "8  \t432   \t0.808035\t0.00669709\t0.993306\n",
      "9  \t421   \t0.818208\t0.0530006 \t0.993306\n",
      "10 \t420   \t0.824185\t0.0632213 \t0.993306\n",
      "synthetic neighborhood class counts {0: 152, 1: 438, 2: 510}\n",
      "Fitting 3 folds for each of 200 candidates, totalling 600 fits\n"
     ]
    },
    {
     "name": "stderr",
     "output_type": "stream",
     "text": [
      "[Parallel(n_jobs=-1)]: Using backend LokyBackend with 4 concurrent workers.\n",
      "[Parallel(n_jobs=-1)]: Done 346 tasks      | elapsed:    3.4s\n",
      "[Parallel(n_jobs=-1)]: Done 600 out of 600 | elapsed:    3.8s finished\n"
     ]
    },
    {
     "name": "stdout",
     "output_type": "stream",
     "text": [
      "23 / 36\n",
      "\n",
      "Neighborhood Generation\n",
      "calculating feature values\n",
      "gen\tnevals\tavg     \tmin     \tmax     \n",
      "0  \t500   \t0.496654\t0.496654\t0.496654\n",
      "1  \t421   \t0.507915\t0.00670528\t0.993306\n",
      "2  \t424   \t0.595572\t0.00669328\t0.993306\n",
      "3  \t432   \t0.666108\t0.00815556\t0.993306\n",
      "4  \t415   \t0.743015\t0.00742441\t0.993306\n",
      "5  \t422   \t0.775529\t0.00724159\t0.993307\n",
      "6  \t424   \t0.781565\t0.00713186\t0.993307\n",
      "7  \t409   \t0.773893\t0.00685928\t0.993307\n",
      "8  \t420   \t0.771839\t0.00683409\t0.993307\n",
      "9  \t408   \t0.789525\t0.00683922\t0.993307\n",
      "10 \t412   \t0.783158\t0.0067699 \t0.993307\n",
      "gen\tnevals\tavg\tmin\tmax\n",
      "0  \t500   \t0.5\t0.5\t0.5\n",
      "1  \t411   \t0.531943\t0.00669536\t0.992719\n",
      "2  \t423   \t0.662896\t0.00686247\t0.993303\n",
      "3  \t422   \t0.796377\t0.00678681\t0.99324 \n",
      "4  \t414   \t0.850479\t0.00670428\t0.993284\n",
      "5  \t427   \t0.855873\t0.00669655\t0.993288\n",
      "6  \t417   \t0.865177\t0.00745913\t0.993307\n",
      "7  \t417   \t0.865378\t0.00787354\t0.993307\n",
      "8  \t432   \t0.864104\t0.00677708\t0.993307\n",
      "9  \t421   \t0.873752\t0.00675973\t0.993307\n",
      "10 \t420   \t0.881407\t0.0070564 \t0.993307\n",
      "synthetic neighborhood class counts {0: 133, 1: 474, 2: 493}\n",
      "Fitting 3 folds for each of 200 candidates, totalling 600 fits\n"
     ]
    },
    {
     "name": "stderr",
     "output_type": "stream",
     "text": [
      "[Parallel(n_jobs=-1)]: Using backend LokyBackend with 4 concurrent workers.\n",
      "[Parallel(n_jobs=-1)]: Done 139 tasks      | elapsed:    5.0s\n",
      "[Parallel(n_jobs=-1)]: Done 600 out of 600 | elapsed:    6.2s finished\n"
     ]
    },
    {
     "name": "stdout",
     "output_type": "stream",
     "text": [
      "24 / 36\n",
      "\n",
      "Neighborhood Generation\n",
      "calculating feature values\n",
      "gen\tnevals\tavg     \tmin     \tmax     \n",
      "0  \t500   \t0.496654\t0.496654\t0.496654\n",
      "1  \t421   \t0.492267\t0.0067287\t0.993307\n",
      "2  \t424   \t0.577332\t0.00671125\t0.993307\n",
      "3  \t432   \t0.682602\t0.00673174\t0.993307\n",
      "4  \t415   \t0.726665\t0.00669522\t0.993307\n",
      "5  \t422   \t0.772774\t0.00710568\t0.993307\n",
      "6  \t424   \t0.772552\t0.00676655\t0.993307\n",
      "7  \t409   \t0.766787\t0.00768627\t0.993307\n",
      "8  \t420   \t0.767144\t0.00746211\t0.993307\n",
      "9  \t408   \t0.814935\t0.00726216\t0.993307\n",
      "10 \t412   \t0.777741\t0.00683148\t0.993307\n",
      "gen\tnevals\tavg\tmin\tmax\n",
      "0  \t500   \t0.5\t0.5\t0.5\n",
      "1  \t411   \t0.466464\t0.00672005\t0.99326\n",
      "2  \t423   \t0.492989\t0.00671179\t0.99326\n",
      "3  \t422   \t0.566043\t0.00671179\t0.993306\n",
      "4  \t414   \t0.635701\t0.00678936\t0.993276\n",
      "5  \t427   \t0.670265\t0.00677203\t0.993276\n",
      "6  \t417   \t0.717374\t0.00676767\t0.993289\n",
      "7  \t417   \t0.761713\t0.00816283\t0.99329 \n",
      "8  \t432   \t0.78065 \t0.00671552\t0.993306\n",
      "9  \t421   \t0.785864\t0.00707376\t0.993307\n",
      "10 \t420   \t0.786272\t0.00689587\t0.993307\n",
      "synthetic neighborhood class counts {0: 134, 1: 448, 2: 518}\n",
      "Fitting 3 folds for each of 200 candidates, totalling 600 fits\n"
     ]
    },
    {
     "name": "stderr",
     "output_type": "stream",
     "text": [
      "[Parallel(n_jobs=-1)]: Using backend LokyBackend with 4 concurrent workers.\n",
      "[Parallel(n_jobs=-1)]: Done 165 tasks      | elapsed:    4.4s\n",
      "[Parallel(n_jobs=-1)]: Done 600 out of 600 | elapsed:    5.2s finished\n"
     ]
    },
    {
     "name": "stdout",
     "output_type": "stream",
     "text": [
      "25 / 36\n",
      "\n",
      "Neighborhood Generation\n",
      "calculating feature values\n",
      "gen\tnevals\tavg     \tmin     \tmax     \n",
      "0  \t500   \t0.496654\t0.496654\t0.496654\n",
      "1  \t421   \t0.580408\t0.00669374\t0.993307\n",
      "2  \t424   \t0.749619\t0.00669367\t0.993307\n",
      "3  \t432   \t0.82064 \t0.00669524\t0.993307\n",
      "4  \t415   \t0.883616\t0.00669396\t0.993307\n",
      "5  \t422   \t0.888019\t0.00688212\t0.993307\n",
      "6  \t424   \t0.885619\t0.014145  \t0.993307\n",
      "7  \t409   \t0.872143\t0.00847606\t0.993307\n",
      "8  \t420   \t0.875753\t0.00675948\t0.993307\n",
      "9  \t408   \t0.873903\t0.00670795\t0.993307\n",
      "10 \t412   \t0.865944\t0.00672697\t0.993307\n",
      "gen\tnevals\tavg\tmin\tmax\n",
      "0  \t500   \t0.5\t0.5\t0.5\n",
      "1  \t411   \t0.554292\t0.488993\t0.993302\n",
      "2  \t423   \t0.659382\t0.490628\t0.993307\n",
      "3  \t422   \t0.769136\t0.491799\t0.993307\n",
      "4  \t414   \t0.833326\t0.490964\t0.993307\n",
      "5  \t427   \t0.873113\t0.492276\t0.993307\n",
      "6  \t417   \t0.888979\t0.486939\t0.993307\n",
      "7  \t417   \t0.897265\t0.491326\t0.993307\n",
      "8  \t432   \t0.891384\t0.486988\t0.993307\n",
      "9  \t421   \t0.904184\t0.492937\t0.993307\n",
      "10 \t420   \t0.896892\t0.490267\t0.993307\n",
      "synthetic neighborhood class counts {0: 517, 1: 73, 2: 510}\n",
      "Fitting 3 folds for each of 200 candidates, totalling 600 fits\n"
     ]
    },
    {
     "name": "stderr",
     "output_type": "stream",
     "text": [
      "[Parallel(n_jobs=-1)]: Using backend LokyBackend with 4 concurrent workers.\n",
      "[Parallel(n_jobs=-1)]: Done 181 tasks      | elapsed:    4.1s\n",
      "[Parallel(n_jobs=-1)]: Done 600 out of 600 | elapsed:    5.2s finished\n"
     ]
    },
    {
     "name": "stdout",
     "output_type": "stream",
     "text": [
      "26 / 36\n",
      "\n",
      "Neighborhood Generation\n",
      "calculating feature values\n",
      "gen\tnevals\tavg     \tmin     \tmax     \n",
      "0  \t500   \t0.496654\t0.496654\t0.496654\n",
      "1  \t421   \t0.491609\t0.00673106\t0.993307\n",
      "2  \t424   \t0.559165\t0.00670753\t0.993307\n",
      "3  \t432   \t0.661592\t0.00670919\t0.993307\n",
      "4  \t415   \t0.725158\t0.00669339\t0.993307\n",
      "5  \t422   \t0.774149\t0.00771125\t0.993307\n",
      "6  \t424   \t0.762956\t0.0067066 \t0.993307\n",
      "7  \t409   \t0.742361\t0.00775879\t0.993307\n",
      "8  \t420   \t0.753378\t0.00682267\t0.993307\n",
      "9  \t408   \t0.78369 \t0.00938364\t0.993307\n",
      "10 \t412   \t0.785648\t0.00714237\t0.993307\n",
      "gen\tnevals\tavg\tmin\tmax\n",
      "0  \t500   \t0.5\t0.5\t0.5\n",
      "1  \t411   \t0.502188\t0.00676371\t0.97484\n",
      "2  \t423   \t0.568011\t0.00671609\t0.993263\n",
      "3  \t422   \t0.663772\t0.00696844\t0.993305\n",
      "4  \t414   \t0.717262\t0.00669306\t0.993276\n",
      "5  \t427   \t0.772617\t0.00684407\t0.9933  \n",
      "6  \t417   \t0.796122\t0.00672969\t0.9933  \n",
      "7  \t417   \t0.816556\t0.00671249\t0.993307\n",
      "8  \t432   \t0.802372\t0.0067163 \t0.993307\n",
      "9  \t421   \t0.819219\t0.00840273\t0.993307\n",
      "10 \t420   \t0.82888 \t0.00686459\t0.993307\n",
      "synthetic neighborhood class counts {0: 132, 1: 470, 2: 498}\n",
      "Fitting 3 folds for each of 200 candidates, totalling 600 fits\n"
     ]
    },
    {
     "name": "stderr",
     "output_type": "stream",
     "text": [
      "[Parallel(n_jobs=-1)]: Using backend LokyBackend with 4 concurrent workers.\n",
      "[Parallel(n_jobs=-1)]: Done 111 tasks      | elapsed:    4.3s\n",
      "[Parallel(n_jobs=-1)]: Done 600 out of 600 | elapsed:    5.1s finished\n"
     ]
    },
    {
     "name": "stdout",
     "output_type": "stream",
     "text": [
      "27 / 36\n",
      "\n",
      "Neighborhood Generation\n",
      "calculating feature values\n",
      "gen\tnevals\tavg     \tmin     \tmax     \n",
      "0  \t500   \t0.496654\t0.496654\t0.496654\n",
      "1  \t421   \t0.584165\t0.0074006\t0.993306\n",
      "2  \t424   \t0.743757\t0.00739538\t0.993307\n",
      "3  \t432   \t0.831335\t0.00670701\t0.993307\n",
      "4  \t415   \t0.88476 \t0.00728989\t0.993307\n",
      "5  \t422   \t0.897409\t0.00837995\t0.993307\n",
      "6  \t424   \t0.892519\t0.028035  \t0.993307\n",
      "7  \t409   \t0.876903\t0.011631  \t0.993307\n",
      "8  \t420   \t0.877321\t0.00672547\t0.993307\n",
      "9  \t408   \t0.868905\t0.00674187\t0.993307\n",
      "10 \t412   \t0.868745\t0.00757893\t0.993307\n",
      "gen\tnevals\tavg\tmin\tmax\n",
      "0  \t500   \t0.5\t0.5\t0.5\n",
      "1  \t411   \t0.553569\t0.49161\t0.993225\n",
      "2  \t423   \t0.662784\t0.478089\t0.993225\n",
      "3  \t422   \t0.774542\t0.481036\t0.993305\n",
      "4  \t414   \t0.839951\t0.47802 \t0.993306\n",
      "5  \t427   \t0.875696\t0.484999\t0.993307\n",
      "6  \t417   \t0.891843\t0.494944\t0.993307\n",
      "7  \t417   \t0.89848 \t0.481191\t0.993307\n",
      "8  \t432   \t0.892067\t0.485574\t0.993307\n",
      "9  \t421   \t0.908505\t0.485835\t0.993307\n",
      "10 \t420   \t0.900336\t0.484998\t0.993307\n",
      "synthetic neighborhood class counts {0: 518, 1: 67, 2: 515}\n",
      "Fitting 3 folds for each of 200 candidates, totalling 600 fits\n"
     ]
    },
    {
     "name": "stderr",
     "output_type": "stream",
     "text": [
      "[Parallel(n_jobs=-1)]: Using backend LokyBackend with 4 concurrent workers.\n",
      "[Parallel(n_jobs=-1)]: Done 224 tasks      | elapsed:    2.6s\n",
      "[Parallel(n_jobs=-1)]: Done 600 out of 600 | elapsed:    2.9s finished\n"
     ]
    },
    {
     "name": "stdout",
     "output_type": "stream",
     "text": [
      "28 / 36\n",
      "\n",
      "Neighborhood Generation\n",
      "calculating feature values\n",
      "gen\tnevals\tavg     \tmin     \tmax     \n",
      "0  \t500   \t0.496654\t0.496654\t0.496654\n",
      "1  \t421   \t0.489677\t0.00824644\t0.993255\n",
      "2  \t424   \t0.557318\t0.00757567\t0.993255\n",
      "3  \t432   \t0.647027\t0.00950205\t0.993287\n",
      "4  \t415   \t0.708615\t0.00715825\t0.993304\n",
      "5  \t422   \t0.754762\t0.00729288\t0.993306\n",
      "6  \t424   \t0.749705\t0.00670224\t0.993306\n",
      "7  \t409   \t0.734275\t0.0160978 \t0.993307\n",
      "8  \t420   \t0.736741\t0.0103082 \t0.993307\n",
      "9  \t408   \t0.761887\t0.00677067\t0.993307\n",
      "10 \t412   \t0.766437\t0.0181648 \t0.993307\n",
      "gen\tnevals\tavg\tmin\tmax\n",
      "0  \t500   \t0.5\t0.5\t0.5\n",
      "1  \t411   \t0.506852\t0.00670768\t0.993223\n",
      "2  \t423   \t0.588007\t0.00728299\t0.99152 \n",
      "3  \t422   \t0.681292\t0.0100726 \t0.993258\n",
      "4  \t414   \t0.720275\t0.012787  \t0.993074\n",
      "5  \t427   \t0.767744\t0.00805897\t0.993295\n",
      "6  \t417   \t0.773798\t0.00675067\t0.993304\n",
      "7  \t417   \t0.796742\t0.00845644\t0.993307\n",
      "8  \t432   \t0.794542\t0.0139925 \t0.993307\n",
      "9  \t421   \t0.827127\t0.0146473 \t0.993307\n",
      "10 \t420   \t0.810595\t0.00936326\t0.993307\n",
      "synthetic neighborhood class counts {0: 129, 1: 469, 2: 502}\n",
      "Fitting 3 folds for each of 200 candidates, totalling 600 fits\n"
     ]
    },
    {
     "name": "stderr",
     "output_type": "stream",
     "text": [
      "[Parallel(n_jobs=-1)]: Using backend LokyBackend with 4 concurrent workers.\n",
      "[Parallel(n_jobs=-1)]: Done 163 tasks      | elapsed:    4.2s\n",
      "[Parallel(n_jobs=-1)]: Done 600 out of 600 | elapsed:    5.2s finished\n"
     ]
    },
    {
     "name": "stdout",
     "output_type": "stream",
     "text": [
      "29 / 36\n",
      "\n",
      "Neighborhood Generation\n",
      "calculating feature values\n",
      "gen\tnevals\tavg     \tmin     \tmax     \n",
      "0  \t500   \t0.496654\t0.496654\t0.496654\n",
      "1  \t421   \t0.543977\t0.00701468\t0.993256\n",
      "2  \t424   \t0.64688 \t0.00708945\t0.9933  \n",
      "3  \t432   \t0.729982\t0.00677835\t0.9933  \n",
      "4  \t415   \t0.791992\t0.0083761 \t0.993307\n",
      "5  \t422   \t0.811778\t0.00687468\t0.993307\n",
      "6  \t424   \t0.820858\t0.00694343\t0.993307\n",
      "7  \t409   \t0.806116\t0.00848689\t0.993307\n",
      "8  \t420   \t0.792833\t0.00718512\t0.993307\n",
      "9  \t408   \t0.809513\t0.00669627\t0.993307\n",
      "10 \t412   \t0.802279\t0.00730613\t0.993307\n",
      "gen\tnevals\tavg\tmin\tmax\n",
      "0  \t500   \t0.5\t0.5\t0.5\n",
      "1  \t411   \t0.471038\t0.00684115\t0.993209\n",
      "2  \t423   \t0.578299\t0.00670349\t0.993209\n",
      "3  \t422   \t0.713978\t0.00669878\t0.993209\n",
      "4  \t414   \t0.829085\t0.0069017 \t0.993297\n",
      "5  \t427   \t0.844713\t0.00677957\t0.993297\n",
      "6  \t417   \t0.860914\t0.0104491 \t0.993307\n",
      "7  \t417   \t0.870526\t0.00692302\t0.993307\n",
      "8  \t432   \t0.837762\t0.00701022\t0.993306\n",
      "9  \t421   \t0.850186\t0.00696267\t0.993306\n",
      "10 \t420   \t0.866744\t0.00702637\t0.993306\n",
      "synthetic neighborhood class counts {0: 154, 1: 446, 2: 500}\n",
      "Fitting 3 folds for each of 200 candidates, totalling 600 fits\n"
     ]
    },
    {
     "name": "stderr",
     "output_type": "stream",
     "text": [
      "[Parallel(n_jobs=-1)]: Using backend LokyBackend with 4 concurrent workers.\n",
      "[Parallel(n_jobs=-1)]: Done  43 tasks      | elapsed:    3.8s\n",
      "[Parallel(n_jobs=-1)]: Done 600 out of 600 | elapsed:    5.4s finished\n"
     ]
    },
    {
     "name": "stdout",
     "output_type": "stream",
     "text": [
      "30 / 36\n",
      "\n",
      "Neighborhood Generation\n",
      "calculating feature values\n",
      "gen\tnevals\tavg     \tmin     \tmax     \n",
      "0  \t500   \t0.496654\t0.496654\t0.496654\n",
      "1  \t421   \t0.578115\t0.00684314\t0.993307\n",
      "2  \t424   \t0.746573\t0.00669309\t0.993307\n",
      "3  \t432   \t0.822182\t0.00670764\t0.993307\n",
      "4  \t415   \t0.876902\t0.00669325\t0.993307\n",
      "5  \t422   \t0.880588\t0.00669391\t0.993307\n",
      "6  \t424   \t0.888112\t0.00874124\t0.993307\n",
      "7  \t409   \t0.86586 \t0.00718177\t0.993307\n",
      "8  \t420   \t0.871798\t0.00708515\t0.993307\n",
      "9  \t408   \t0.864125\t0.00669714\t0.993307\n",
      "10 \t412   \t0.862283\t0.00670272\t0.993307\n",
      "gen\tnevals\tavg\tmin\tmax\n",
      "0  \t500   \t0.5\t0.5\t0.5\n",
      "1  \t411   \t0.553139\t0.48239\t0.993283\n",
      "2  \t423   \t0.658718\t0.492175\t0.993283\n",
      "3  \t422   \t0.765633\t0.489761\t0.993307\n",
      "4  \t414   \t0.833168\t0.490946\t0.993307\n",
      "5  \t427   \t0.872948\t0.490308\t0.993307\n",
      "6  \t417   \t0.892035\t0.47938 \t0.993307\n",
      "7  \t417   \t0.895473\t0.486169\t0.993307\n",
      "8  \t432   \t0.890886\t0.487454\t0.993307\n",
      "9  \t421   \t0.899624\t0.489364\t0.993307\n",
      "10 \t420   \t0.891988\t0.480913\t0.993307\n",
      "synthetic neighborhood class counts {0: 517, 1: 67, 2: 516}\n",
      "Fitting 3 folds for each of 200 candidates, totalling 600 fits\n"
     ]
    },
    {
     "name": "stderr",
     "output_type": "stream",
     "text": [
      "[Parallel(n_jobs=-1)]: Using backend LokyBackend with 4 concurrent workers.\n",
      "[Parallel(n_jobs=-1)]: Done 123 tasks      | elapsed:    4.2s\n",
      "[Parallel(n_jobs=-1)]: Done 600 out of 600 | elapsed:    5.2s finished\n"
     ]
    },
    {
     "name": "stdout",
     "output_type": "stream",
     "text": [
      "31 / 36\n",
      "\n",
      "Neighborhood Generation\n",
      "calculating feature values\n",
      "gen\tnevals\tavg     \tmin     \tmax     \n",
      "0  \t500   \t0.496654\t0.496654\t0.496654\n",
      "1  \t421   \t0.576092\t0.00692024\t0.993307\n",
      "2  \t424   \t0.744415\t0.00669935\t0.993307\n",
      "3  \t432   \t0.818481\t0.00669636\t0.993307\n",
      "4  \t415   \t0.878772\t0.00669427\t0.993307\n",
      "5  \t422   \t0.875459\t0.0066974 \t0.993307\n",
      "6  \t424   \t0.885752\t0.00838242\t0.993307\n",
      "7  \t409   \t0.869296\t0.00685797\t0.993307\n",
      "8  \t420   \t0.867882\t0.00695073\t0.993307\n",
      "9  \t408   \t0.863227\t0.00669387\t0.993307\n",
      "10 \t412   \t0.851475\t0.00669341\t0.993307\n",
      "gen\tnevals\tavg\tmin\tmax\n",
      "0  \t500   \t0.5\t0.5\t0.5\n",
      "1  \t411   \t0.552888\t0.482469\t0.993261\n",
      "2  \t423   \t0.657253\t0.491921\t0.993261\n",
      "3  \t422   \t0.762347\t0.489878\t0.993305\n",
      "4  \t414   \t0.825799\t0.491066\t0.993306\n",
      "5  \t427   \t0.868895\t0.490426\t0.993307\n",
      "6  \t417   \t0.885882\t0.479444\t0.993307\n",
      "7  \t417   \t0.892964\t0.486272\t0.993307\n",
      "8  \t432   \t0.888983\t0.487564\t0.993307\n",
      "9  \t421   \t0.899796\t0.489479\t0.993307\n",
      "10 \t420   \t0.890945\t0.480989\t0.993307\n",
      "synthetic neighborhood class counts {0: 515, 1: 71, 2: 514}\n",
      "Fitting 3 folds for each of 200 candidates, totalling 600 fits\n"
     ]
    },
    {
     "name": "stderr",
     "output_type": "stream",
     "text": [
      "[Parallel(n_jobs=-1)]: Using backend LokyBackend with 4 concurrent workers.\n",
      "[Parallel(n_jobs=-1)]: Done 153 tasks      | elapsed:    4.1s\n",
      "[Parallel(n_jobs=-1)]: Done 600 out of 600 | elapsed:    5.2s finished\n"
     ]
    },
    {
     "name": "stdout",
     "output_type": "stream",
     "text": [
      "32 / 36\n",
      "\n",
      "Neighborhood Generation\n",
      "calculating feature values\n",
      "gen\tnevals\tavg     \tmin     \tmax     \n",
      "0  \t500   \t0.496654\t0.496654\t0.496654\n",
      "1  \t421   \t0.518721\t0.00692625\t0.993282\n",
      "2  \t424   \t0.612868\t0.00776157\t0.993296\n",
      "3  \t432   \t0.681324\t0.00669405\t0.993307\n",
      "4  \t415   \t0.759904\t0.00850506\t0.993307\n",
      "5  \t422   \t0.793701\t0.00693834\t0.993307\n",
      "6  \t424   \t0.805015\t0.00672929\t0.993307\n",
      "7  \t409   \t0.780436\t0.00796167\t0.993307\n",
      "8  \t420   \t0.78837 \t0.0067562 \t0.993307\n",
      "9  \t408   \t0.804421\t0.00678315\t0.993307\n",
      "10 \t412   \t0.806812\t0.00849533\t0.993307\n",
      "gen\tnevals\tavg\tmin\tmax\n",
      "0  \t500   \t0.5\t0.5\t0.5\n",
      "1  \t411   \t0.547191\t0.00669534\t0.993288\n",
      "2  \t423   \t0.696046\t0.00670822\t0.993251\n",
      "3  \t422   \t0.83661 \t0.00669383\t0.993306\n",
      "4  \t414   \t0.890873\t0.00697466\t0.993306\n",
      "5  \t427   \t0.884034\t0.00675471\t0.993306\n",
      "6  \t417   \t0.897105\t0.00670998\t0.993306\n",
      "7  \t417   \t0.897416\t0.00669593\t0.993306\n",
      "8  \t432   \t0.886359\t0.00670277\t0.993306\n",
      "9  \t421   \t0.90887 \t0.0067278 \t0.993306\n",
      "10 \t420   \t0.912742\t0.00669433\t0.993306\n",
      "synthetic neighborhood class counts {0: 135, 1: 473, 2: 492}\n",
      "Fitting 3 folds for each of 200 candidates, totalling 600 fits\n"
     ]
    },
    {
     "name": "stderr",
     "output_type": "stream",
     "text": [
      "[Parallel(n_jobs=-1)]: Using backend LokyBackend with 4 concurrent workers.\n",
      "[Parallel(n_jobs=-1)]: Done 193 tasks      | elapsed:    3.5s\n",
      "[Parallel(n_jobs=-1)]: Done 600 out of 600 | elapsed:    4.5s finished\n"
     ]
    },
    {
     "name": "stdout",
     "output_type": "stream",
     "text": [
      "33 / 36\n",
      "\n",
      "Neighborhood Generation\n",
      "calculating feature values\n",
      "gen\tnevals\tavg     \tmin     \tmax     \n",
      "0  \t500   \t0.496654\t0.496654\t0.496654\n",
      "1  \t421   \t0.488878\t0.00671063\t0.993306\n",
      "2  \t424   \t0.554325\t0.0067208 \t0.993306\n",
      "3  \t432   \t0.655269\t0.00671229\t0.993306\n",
      "4  \t415   \t0.728309\t0.00681087\t0.993306\n",
      "5  \t422   \t0.766214\t0.00750917\t0.993306\n",
      "6  \t424   \t0.757804\t0.00672695\t0.993306\n",
      "7  \t409   \t0.732147\t0.00669319\t0.993306\n",
      "8  \t420   \t0.740329\t0.00685879\t0.993306\n",
      "9  \t408   \t0.775037\t0.00676089\t0.993307\n",
      "10 \t412   \t0.779089\t0.00699718\t0.993307\n",
      "gen\tnevals\tavg\tmin\tmax\n",
      "0  \t500   \t0.5\t0.5\t0.5\n",
      "1  \t411   \t0.505639\t0.00669392\t0.992161\n",
      "2  \t423   \t0.571447\t0.00670166\t0.993259\n",
      "3  \t422   \t0.668112\t0.00684098\t0.993259\n",
      "4  \t414   \t0.721457\t0.00685037\t0.993303\n",
      "5  \t427   \t0.781769\t0.00669684\t0.993303\n",
      "6  \t417   \t0.790814\t0.00731515\t0.993303\n",
      "7  \t417   \t0.82047 \t0.00671027\t0.993303\n",
      "8  \t432   \t0.808258\t0.00669295\t0.993306\n",
      "9  \t421   \t0.830289\t0.00979   \t0.993306\n",
      "10 \t420   \t0.816336\t0.00806495\t0.993306\n",
      "synthetic neighborhood class counts {0: 132, 1: 466, 2: 502}\n",
      "Fitting 3 folds for each of 200 candidates, totalling 600 fits\n"
     ]
    },
    {
     "name": "stderr",
     "output_type": "stream",
     "text": [
      "[Parallel(n_jobs=-1)]: Using backend LokyBackend with 4 concurrent workers.\n",
      "[Parallel(n_jobs=-1)]: Done 150 tasks      | elapsed:    4.2s\n",
      "[Parallel(n_jobs=-1)]: Done 600 out of 600 | elapsed:    5.2s finished\n"
     ]
    },
    {
     "name": "stdout",
     "output_type": "stream",
     "text": [
      "34 / 36\n",
      "\n",
      "Neighborhood Generation\n",
      "calculating feature values\n",
      "gen\tnevals\tavg     \tmin     \tmax     \n",
      "0  \t500   \t0.496654\t0.496654\t0.496654\n",
      "1  \t421   \t0.582375\t0.00700951\t0.993307\n",
      "2  \t424   \t0.747466\t0.00701736\t0.993307\n",
      "3  \t432   \t0.825245\t0.00671701\t0.993307\n",
      "4  \t415   \t0.883222\t0.0069405 \t0.993307\n",
      "5  \t422   \t0.8905  \t0.00771938\t0.993307\n",
      "6  \t424   \t0.897197\t0.0162972 \t0.993307\n",
      "7  \t409   \t0.871048\t0.00953321\t0.993307\n",
      "8  \t420   \t0.86987 \t0.00670176\t0.993307\n",
      "9  \t408   \t0.86959 \t0.0069479 \t0.993307\n",
      "10 \t412   \t0.869788\t0.00723322\t0.993307\n",
      "gen\tnevals\tavg\tmin\tmax\n",
      "0  \t500   \t0.5\t0.5\t0.5\n",
      "1  \t411   \t0.555826\t0.493527\t0.993307\n",
      "2  \t423   \t0.663684\t0.484394\t0.993307\n",
      "3  \t422   \t0.774201\t0.485796\t0.993307\n",
      "4  \t414   \t0.834403\t0.48467 \t0.993307\n",
      "5  \t427   \t0.873302\t0.489997\t0.993307\n",
      "6  \t417   \t0.892318\t0.492501\t0.993307\n",
      "7  \t417   \t0.900907\t0.494484\t0.993307\n",
      "8  \t432   \t0.893037\t0.485461\t0.993307\n",
      "9  \t421   \t0.907172\t0.489422\t0.993307\n",
      "10 \t420   \t0.899084\t0.489781\t0.993307\n",
      "synthetic neighborhood class counts {0: 514, 1: 67, 2: 519}\n",
      "Fitting 3 folds for each of 200 candidates, totalling 600 fits\n"
     ]
    },
    {
     "name": "stderr",
     "output_type": "stream",
     "text": [
      "[Parallel(n_jobs=-1)]: Using backend LokyBackend with 4 concurrent workers.\n",
      "[Parallel(n_jobs=-1)]: Done 309 tasks      | elapsed:    4.6s\n",
      "[Parallel(n_jobs=-1)]: Done 600 out of 600 | elapsed:    5.2s finished\n"
     ]
    },
    {
     "name": "stdout",
     "output_type": "stream",
     "text": [
      "35 / 36\n",
      "\n",
      "Neighborhood Generation\n",
      "calculating feature values\n",
      "gen\tnevals\tavg     \tmin     \tmax     \n",
      "0  \t500   \t0.496654\t0.496654\t0.496654\n",
      "1  \t421   \t0.491541\t0.00669973\t0.993307\n",
      "2  \t424   \t0.574488\t0.00670714\t0.993307\n",
      "3  \t432   \t0.697406\t0.00669978\t0.993307\n",
      "4  \t415   \t0.750408\t0.00677382\t0.993307\n",
      "5  \t422   \t0.794766\t0.00669529\t0.993307\n",
      "6  \t424   \t0.78367 \t0.00671638\t0.993307\n",
      "7  \t409   \t0.756357\t0.00671755\t0.993307\n",
      "8  \t420   \t0.760247\t0.00669341\t0.993307\n",
      "9  \t408   \t0.793125\t0.00672569\t0.993307\n",
      "10 \t412   \t0.785786\t0.00669573\t0.993307\n",
      "gen\tnevals\tavg\tmin\tmax\n",
      "0  \t500   \t0.5\t0.5\t0.5\n",
      "1  \t411   \t0.498507\t0.00669725\t0.993297\n",
      "2  \t423   \t0.545076\t0.0066934 \t0.993305\n",
      "3  \t422   \t0.637165\t0.00689597\t0.993305\n",
      "4  \t414   \t0.712597\t0.00669444\t0.993306\n",
      "5  \t427   \t0.789986\t0.00697508\t0.993306\n",
      "6  \t417   \t0.811843\t0.00670112\t0.993306\n",
      "7  \t417   \t0.835768\t0.00669751\t0.993306\n",
      "8  \t432   \t0.828873\t0.00697066\t0.993307\n",
      "9  \t421   \t0.847249\t0.00674452\t0.993306\n",
      "10 \t420   \t0.848857\t0.0067001 \t0.993306\n",
      "synthetic neighborhood class counts {0: 126, 1: 468, 2: 506}\n",
      "Fitting 3 folds for each of 200 candidates, totalling 600 fits\n"
     ]
    },
    {
     "name": "stderr",
     "output_type": "stream",
     "text": [
      "[Parallel(n_jobs=-1)]: Using backend LokyBackend with 4 concurrent workers.\n"
     ]
    },
    {
     "name": "stdout",
     "output_type": "stream",
     "text": [
      "36 / 36\n",
      "CPU times: user 4h 51min 28s, sys: 15min 20s, total: 5h 6min 48s\n",
      "Wall time: 4h 27min\n"
     ]
    },
    {
     "name": "stderr",
     "output_type": "stream",
     "text": [
      "[Parallel(n_jobs=-1)]: Done 600 out of 600 | elapsed:    4.6s finished\n"
     ]
    }
   ],
   "source": [
    "%%time\n",
    "local_results = shapelet_local_explain(blackbox, \n",
    "                           encoder, \n",
    "                           decoder, \n",
    "                           autoencoder, \n",
    "                           X_exp_test,\n",
    "                           y_exp_test, \n",
    "                           blackbox_input_dimensions, \n",
    "                           ngen = 10, \n",
    "                           size = 1000, \n",
    "                           neigh_type = \"geneticp\",\n",
    "                           labels = [\"cylinder\", \"bell\", \"funnel\"])"
   ]
  },
  {
   "cell_type": "code",
   "execution_count": 40,
   "metadata": {},
   "outputs": [],
   "source": [
    "results = {\"y_blackbox_original_LOCAL\": local_results[\"y_blackbox_original\"], \n",
    "               \"y_blackbox_reconstructed_LOCAL\": local_results[\"y_blackbox_reconstructed\"], \n",
    "               \"y_surrogate_original_LOCAL\": local_results[\"y_surrogate_original\"], \n",
    "               \"y_surrogate_reconstructed_LOCAL\": local_results[\"y_surrogate_reconstructed\"],\n",
    "               \"y_blackbox_GLOBAL\": y_blackbox,\n",
    "               \"y_surrogate_GLOBAL\": y_surrogate,\n",
    "               \"y_blackbox_original_LOCAL_proba\": local_results[\"y_blackbox_original_proba\"], \n",
    "               \"y_blackbox_reconstructed_LOCAL_proba\": local_results[\"y_blackbox_reconstructed_proba\"], \n",
    "               \"y_surrogate_original_LOCAL_proba\": local_results[\"y_surrogate_original_proba\"], \n",
    "               \"y_surrogate_reconstructed_LOCAL_proba\": local_results[\"y_surrogate_reconstructed_proba\"],\n",
    "               \"y_blackbox_GLOBAL_proba\": y_blackbox_proba,\n",
    "               \"y_surrogate_GLOBAL_proba\": y_surrogate_proba\n",
    "               }\n",
    "results_df = results#pd.DataFrame(results)\n",
    "\n",
    "local_classification_report = classification_report(results_df[\"y_blackbox_original_LOCAL\"], results_df[\"y_surrogate_reconstructed_LOCAL\"])\n",
    "global_classification_report = classification_report(results_df[\"y_blackbox_GLOBAL\"], results_df[\"y_surrogate_GLOBAL\"])\n",
    "reconstrution_classification_report = classification_report(results_df[\"y_blackbox_original_LOCAL\"], results_df[\"y_blackbox_reconstructed_LOCAL\"])\n",
    "\n",
    "local_fidelity = accuracy_score(results_df[\"y_blackbox_original_LOCAL\"], results_df[\"y_surrogate_reconstructed_LOCAL\"])\n",
    "global_fidelity = accuracy_score(results_df[\"y_blackbox_GLOBAL\"], results_df[\"y_surrogate_GLOBAL\"])\n",
    "reconstruction_fidelity = accuracy_score(results_df[\"y_blackbox_original_LOCAL\"], results_df[\"y_blackbox_reconstructed_LOCAL\"])\n",
    "\n",
    "local_coverage = coverage_error(results_df[\"y_blackbox_reconstructed_LOCAL_proba\"].round(), results_df[\"y_surrogate_reconstructed_LOCAL_proba\"])\n",
    "global_coverage = coverage_error(results_df[\"y_blackbox_GLOBAL_proba\"].round(), results_df[\"y_surrogate_GLOBAL_proba\"])\n"
   ]
  },
  {
   "cell_type": "code",
   "execution_count": 41,
   "metadata": {},
   "outputs": [
    {
     "name": "stdout",
     "output_type": "stream",
     "text": [
      "local fidelity:  1.0\n",
      "global fidelity:  0.9722222222222222\n",
      "reconstruction fidelity:  1.0\n",
      "\n",
      "\n",
      "local coverage:  1.0\n",
      "global coverage:  1.0555555555555556\n",
      "\n",
      "\n",
      "local classification report:\n",
      "              precision    recall  f1-score   support\n",
      "\n",
      "           0       1.00      1.00      1.00        12\n",
      "           1       1.00      1.00      1.00        12\n",
      "           2       1.00      1.00      1.00        12\n",
      "\n",
      "    accuracy                           1.00        36\n",
      "   macro avg       1.00      1.00      1.00        36\n",
      "weighted avg       1.00      1.00      1.00        36\n",
      "\n",
      "\n",
      "\n",
      "global classification report:\n",
      "              precision    recall  f1-score   support\n",
      "\n",
      "           0       0.92      1.00      0.96        12\n",
      "           1       1.00      0.92      0.96        12\n",
      "           2       1.00      1.00      1.00        12\n",
      "\n",
      "    accuracy                           0.97        36\n",
      "   macro avg       0.97      0.97      0.97        36\n",
      "weighted avg       0.97      0.97      0.97        36\n",
      "\n",
      "\n",
      "\n",
      "reconstrution classification report:\n",
      "              precision    recall  f1-score   support\n",
      "\n",
      "           0       1.00      1.00      1.00        12\n",
      "           1       1.00      1.00      1.00        12\n",
      "           2       1.00      1.00      1.00        12\n",
      "\n",
      "    accuracy                           1.00        36\n",
      "   macro avg       1.00      1.00      1.00        36\n",
      "weighted avg       1.00      1.00      1.00        36\n",
      "\n"
     ]
    }
   ],
   "source": [
    "print(\"local fidelity: \", local_fidelity)\n",
    "print(\"global fidelity: \", global_fidelity)\n",
    "print(\"reconstruction fidelity: \", reconstruction_fidelity)\n",
    "print(\"\\n\")\n",
    "print(\"local coverage: \", local_coverage)\n",
    "print(\"global coverage: \", global_coverage)\n",
    "print(\"\\n\")\n",
    "print(\"local classification report:\")\n",
    "print(local_classification_report)\n",
    "print(\"\\n\")\n",
    "print(\"global classification report:\")\n",
    "print(global_classification_report)\n",
    "print(\"\\n\")\n",
    "print(\"reconstrution classification report:\")\n",
    "print(reconstrution_classification_report)"
   ]
  },
  {
   "cell_type": "code",
   "execution_count": 42,
   "metadata": {},
   "outputs": [
    {
     "data": {
      "text/html": [
       "['/Users/francesco/github/TS_AgnosticLocalExplainer/agnostic_explainers/cbf_agnosticvsglobal_20191211_181444.joblib']"
      ],
      "text/plain": [
       "['/Users/francesco/github/TS_AgnosticLocalExplainer/agnostic_explainers/cbf_agnosticvsglobal_20191211_181444.joblib']"
      ]
     },
     "execution_count": 42,
     "metadata": {},
     "output_type": "execute_result"
    }
   ],
   "source": [
    "file_path = parentdir + \"/agnostic_explainers/\" + dataset_name + \"_agnosticvsglobal_\" + time.strftime(\"%Y%m%d_%H%M%S\")\n",
    "results_all = {\"local_results\": local_results,\n",
    "               \"global_results\": global_results,\n",
    "               \"results_y\": results   \n",
    "}\n",
    "dump(results_all, file_path + \".joblib\")\n"
   ]
  },
  {
   "cell_type": "code",
   "execution_count": 44,
   "metadata": {},
   "outputs": [
    {
     "data": {
      "text/html": [
       "['/Users/francesco/github/TS_AgnosticLocalExplainer/agnostic_explainers/cbf_agnosticvsglobal_20191211_181444_results_y.joblib']"
      ],
      "text/plain": [
       "['/Users/francesco/github/TS_AgnosticLocalExplainer/agnostic_explainers/cbf_agnosticvsglobal_20191211_181444_results_y.joblib']"
      ]
     },
     "execution_count": 44,
     "metadata": {},
     "output_type": "execute_result"
    }
   ],
   "source": [
    "dump(local_results, file_path + \"_local_results.joblib\")\n",
    "dump(global_results, file_path + \"_global_results.joblib\")\n",
    "dump(results, file_path + \"_results_y.joblib\")"
   ]
  },
  {
   "cell_type": "code",
   "execution_count": null,
   "metadata": {},
   "outputs": [],
   "source": [
    "\"\"\"dump(local_results, file_path + \"_local_results.joblib\")\n",
    "#dump(global_results, file_path + \"global_results.joblib\")\n",
    "dump(results, file_path + \"_results_y.joblib\")\"\"\""
   ]
  }
 ],
 "metadata": {
  "kernelspec": {
   "display_name": "Python 3",
   "language": "python",
   "name": "python3"
  },
  "language_info": {
   "codemirror_mode": {
    "name": "ipython",
    "version": 3
   },
   "file_extension": ".py",
   "mimetype": "text/x-python",
   "name": "python",
   "nbconvert_exporter": "python",
   "pygments_lexer": "ipython3",
   "version": "3.6.9"
  }
 },
 "nbformat": 4,
 "nbformat_minor": 2
}
