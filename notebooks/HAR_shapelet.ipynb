{
 "cells": [
  {
   "cell_type": "code",
   "execution_count": 1,
   "metadata": {},
   "outputs": [],
   "source": [
    "import pandas as pd\n",
    "import numpy as np\n",
    "import matplotlib.pyplot as plt\n",
    "from sklearn.preprocessing import LabelEncoder\n",
    "from joblib import dump, load"
   ]
  },
  {
   "cell_type": "code",
   "execution_count": 2,
   "metadata": {},
   "outputs": [],
   "source": [
    "import os,sys,inspect\n",
    "currentdir = os.path.dirname(os.path.abspath(inspect.getfile(inspect.currentframe())))\n",
    "parentdir = os.path.dirname(currentdir)\n",
    "sys.path.insert(0,parentdir)"
   ]
  },
  {
   "cell_type": "code",
   "execution_count": 3,
   "metadata": {},
   "outputs": [],
   "source": [
    "random_state = 0"
   ]
  },
  {
   "cell_type": "markdown",
   "metadata": {},
   "source": [
    "# IMPORT DATASET"
   ]
  },
  {
   "cell_type": "code",
   "execution_count": 4,
   "metadata": {},
   "outputs": [],
   "source": [
    "dataset_path = parentdir + \"/datasets/HARDataset/\""
   ]
  },
  {
   "cell_type": "code",
   "execution_count": 5,
   "metadata": {},
   "outputs": [],
   "source": [
    "dataset_name = \"HARDataset\""
   ]
  },
  {
   "cell_type": "code",
   "execution_count": 6,
   "metadata": {},
   "outputs": [],
   "source": [
    "X = pd.read_csv(dataset_path + \"/train/\" + \"X_train.txt\", header=None, delim_whitespace=True)\n",
    "\n",
    "X = pd.DataFrame(X.values)\n",
    "\n",
    "y = pd.read_csv(dataset_path + \"/train/\" + \"y_train.txt\", header = None, delim_whitespace=True).values\n",
    "y_all = np.ravel(y).astype(\"int\")\n",
    "le = LabelEncoder()\n",
    "le.fit(y_all)\n",
    "y_all = le.transform(y_all)\n",
    "#X[\"class\"] = y\n",
    "X_all = X.values.reshape((X.shape[0], X.shape[1], 1))"
   ]
  },
  {
   "cell_type": "code",
   "execution_count": 7,
   "metadata": {},
   "outputs": [
    {
     "name": "stdout",
     "output_type": "stream",
     "text": [
      "X SHAPE:  (7352, 561, 1)\n",
      "y SHAPE:  (7352,)\n",
      "\n",
      "CLASSES BALANCE\n",
      "0 :  0.17\n",
      "1 :  0.15\n",
      "2 :  0.13\n",
      "3 :  0.17\n",
      "4 :  0.19\n",
      "5 :  0.19\n"
     ]
    }
   ],
   "source": [
    "print(\"X SHAPE: \", X_all.shape)\n",
    "print(\"y SHAPE: \", y_all.shape)\n",
    "unique, counts = np.unique(y_all, return_counts=True)\n",
    "print(\"\\nCLASSES BALANCE\")\n",
    "for i, label in enumerate(unique):\n",
    "    print(label, \": \", round(counts[i]/sum(counts), 2))"
   ]
  },
  {
   "cell_type": "code",
   "execution_count": 8,
   "metadata": {},
   "outputs": [],
   "source": [
    "X_test = pd.read_csv(dataset_path + \"/test/\" + \"X_test.txt\", header=None, delim_whitespace=True)\n",
    "\n",
    "X_test = pd.DataFrame(X_test.values)\n",
    "\n",
    "y_test = pd.read_csv(dataset_path + \"/test/\" + \"y_test.txt\", header = None, delim_whitespace=True).values\n",
    "y_test = np.ravel(y_test).astype(\"int\")\n",
    "y_test = le.transform(y_test)\n",
    "#X[\"class\"] = y\n",
    "X_test = X_test.values.reshape((X_test.shape[0], X_test.shape[1], 1))"
   ]
  },
  {
   "cell_type": "code",
   "execution_count": 9,
   "metadata": {},
   "outputs": [
    {
     "name": "stdout",
     "output_type": "stream",
     "text": [
      "X SHAPE:  (2947, 561, 1)\n",
      "y SHAPE:  (2947,)\n"
     ]
    }
   ],
   "source": [
    "print(\"X SHAPE: \", X_test.shape)\n",
    "print(\"y SHAPE: \", y_test.shape)"
   ]
  },
  {
   "cell_type": "markdown",
   "metadata": {},
   "source": [
    "## DATASET SPLIT"
   ]
  },
  {
   "cell_type": "code",
   "execution_count": 10,
   "metadata": {},
   "outputs": [],
   "source": [
    "from sklearn.model_selection import train_test_split"
   ]
  },
  {
   "cell_type": "code",
   "execution_count": 11,
   "metadata": {},
   "outputs": [
    {
     "name": "stdout",
     "output_type": "stream",
     "text": [
      "SHAPES:\n",
      "BLACKBOX TRAINING SET:  (4116, 561, 1)\n",
      "BLACKBOX VALIDATION SET:  (1030, 561, 1)\n",
      "BLACKBOX TEST SET:  (2947, 561, 1)\n",
      "EXPLANATION TRAINING SET:  (1411, 561, 1)\n",
      "EXPLANATION VALIDATION SET:  (353, 561, 1)\n",
      "EXPLANATION TEST SET:  (442, 561, 1)\n"
     ]
    }
   ],
   "source": [
    "# BLACKBOX/EXPLANATION SETS SPLIT\n",
    "X_train, X_exp, y_train, y_exp = train_test_split(X_all, y_all, \n",
    "                                                  test_size=0.3, stratify = y_all, random_state=random_state)\n",
    "\n",
    "# BLACKBOX TRAIN/VALIDATION SETS SPLIT\n",
    "X_train, X_val, y_train, y_val = train_test_split(X_train, y_train, \n",
    "                                                  test_size=0.2, stratify = y_train, random_state=random_state)\n",
    "\n",
    "# EXPLANATION TRAIN/TEST SETS SPLIT\n",
    "X_exp_train, X_exp_test, y_exp_train, y_exp_test = train_test_split(X_exp, y_exp, \n",
    "                                                                    test_size=0.2, \n",
    "                                                                    stratify = y_exp, \n",
    "                                                                    random_state=random_state)\n",
    "\n",
    "# EXPLANATION TRAIN/VALIDATION SETS SPLIT\n",
    "X_exp_train, X_exp_val, y_exp_train, y_exp_val = train_test_split(X_exp_train, y_exp_train, \n",
    "                                                                  test_size=0.2, \n",
    "                                                                  stratify = y_exp_train, \n",
    "                                                                  random_state=random_state)\n",
    "\n",
    "print(\"SHAPES:\")\n",
    "print(\"BLACKBOX TRAINING SET: \", X_train.shape)\n",
    "print(\"BLACKBOX VALIDATION SET: \", X_val.shape)\n",
    "print(\"BLACKBOX TEST SET: \", X_test.shape)\n",
    "print(\"EXPLANATION TRAINING SET: \", X_exp_train.shape)\n",
    "print(\"EXPLANATION VALIDATION SET: \", X_exp_val.shape)\n",
    "print(\"EXPLANATION TEST SET: \", X_exp_test.shape)"
   ]
  },
  {
   "cell_type": "code",
   "execution_count": 12,
   "metadata": {},
   "outputs": [
    {
     "name": "stdout",
     "output_type": "stream",
     "text": [
      "TIMESTEPS:  561\n",
      "N. LABELS:  6\n"
     ]
    }
   ],
   "source": [
    "n_timesteps, n_outputs, n_features = X_train.shape[1], len(np.unique(y_all)), 1 \n",
    "print(\"TIMESTEPS: \", n_timesteps)\n",
    "print(\"N. LABELS: \", n_outputs)"
   ]
  },
  {
   "cell_type": "markdown",
   "metadata": {},
   "source": [
    "# BLACKBOX MODELS"
   ]
  },
  {
   "cell_type": "code",
   "execution_count": 13,
   "metadata": {},
   "outputs": [
    {
     "name": "stderr",
     "output_type": "stream",
     "text": [
      "Using TensorFlow backend.\n",
      "/Users/francesco/anaconda3/envs/tesi/lib/python3.6/site-packages/deap/tools/_hypervolume/pyhv.py:33: ImportWarning: Falling back to the python version of hypervolume module. Expect this to be very slow.\n",
      "  \"module. Expect this to be very slow.\", ImportWarning)\n"
     ]
    }
   ],
   "source": [
    "import keras\n",
    "from sklearn.metrics import accuracy_score\n",
    "import time\n",
    "from blackboxes import *\n",
    "import blackboxes\n",
    "from myutils import reconstruction_blackbox_consistency"
   ]
  },
  {
   "cell_type": "markdown",
   "metadata": {},
   "source": [
    "## resnet"
   ]
  },
  {
   "cell_type": "code",
   "execution_count": 14,
   "metadata": {},
   "outputs": [
    {
     "name": "stdout",
     "output_type": "stream",
     "text": [
      "WARNING:tensorflow:From /Users/francesco/anaconda3/envs/tesi/lib/python3.6/site-packages/keras/backend/tensorflow_backend.py:66: The name tf.get_default_graph is deprecated. Please use tf.compat.v1.get_default_graph instead.\n",
      "\n",
      "WARNING:tensorflow:From /Users/francesco/anaconda3/envs/tesi/lib/python3.6/site-packages/keras/backend/tensorflow_backend.py:541: The name tf.placeholder is deprecated. Please use tf.compat.v1.placeholder instead.\n",
      "\n",
      "WARNING:tensorflow:From /Users/francesco/anaconda3/envs/tesi/lib/python3.6/site-packages/keras/backend/tensorflow_backend.py:4432: The name tf.random_uniform is deprecated. Please use tf.random.uniform instead.\n",
      "\n",
      "WARNING:tensorflow:From /Users/francesco/anaconda3/envs/tesi/lib/python3.6/site-packages/keras/backend/tensorflow_backend.py:148: The name tf.placeholder_with_default is deprecated. Please use tf.compat.v1.placeholder_with_default instead.\n",
      "\n",
      "WARNING:tensorflow:From /Users/francesco/anaconda3/envs/tesi/lib/python3.6/site-packages/keras/optimizers.py:793: The name tf.train.Optimizer is deprecated. Please use tf.compat.v1.train.Optimizer instead.\n",
      "\n",
      "WARNING:tensorflow:From /Users/francesco/anaconda3/envs/tesi/lib/python3.6/site-packages/keras/backend/tensorflow_backend.py:3622: The name tf.log is deprecated. Please use tf.math.log instead.\n",
      "\n",
      "WARNING:tensorflow:From /Users/francesco/anaconda3/envs/tesi/lib/python3.6/site-packages/keras/backend/tensorflow_backend.py:190: The name tf.get_default_session is deprecated. Please use tf.compat.v1.get_default_session instead.\n",
      "\n",
      "WARNING:tensorflow:From /Users/francesco/anaconda3/envs/tesi/lib/python3.6/site-packages/keras/backend/tensorflow_backend.py:197: The name tf.ConfigProto is deprecated. Please use tf.compat.v1.ConfigProto instead.\n",
      "\n",
      "WARNING:tensorflow:From /Users/francesco/anaconda3/envs/tesi/lib/python3.6/site-packages/keras/backend/tensorflow_backend.py:203: The name tf.Session is deprecated. Please use tf.compat.v1.Session instead.\n",
      "\n",
      "WARNING:tensorflow:From /Users/francesco/anaconda3/envs/tesi/lib/python3.6/site-packages/keras/backend/tensorflow_backend.py:207: The name tf.global_variables is deprecated. Please use tf.compat.v1.global_variables instead.\n",
      "\n",
      "WARNING:tensorflow:From /Users/francesco/anaconda3/envs/tesi/lib/python3.6/site-packages/keras/backend/tensorflow_backend.py:216: The name tf.is_variable_initialized is deprecated. Please use tf.compat.v1.is_variable_initialized instead.\n",
      "\n",
      "WARNING:tensorflow:From /Users/francesco/anaconda3/envs/tesi/lib/python3.6/site-packages/keras/backend/tensorflow_backend.py:223: The name tf.variables_initializer is deprecated. Please use tf.compat.v1.variables_initializer instead.\n",
      "\n"
     ]
    }
   ],
   "source": [
    "blackbox = build_resnet(n_timesteps, n_outputs)\n",
    "blackbox.load_weights(parentdir + \"/blackbox_checkpoints/HARDataset_blackbox_resnet_20191028_172136_best_weights_+0.99_.hdf5\")\n",
    "resnet = blackbox"
   ]
  },
  {
   "cell_type": "markdown",
   "metadata": {},
   "source": [
    "## simple CNN"
   ]
  },
  {
   "cell_type": "code",
   "execution_count": 15,
   "metadata": {},
   "outputs": [
    {
     "name": "stdout",
     "output_type": "stream",
     "text": [
      "WARNING:tensorflow:From /Users/francesco/anaconda3/envs/tesi/lib/python3.6/site-packages/keras/backend/tensorflow_backend.py:3733: calling dropout (from tensorflow.python.ops.nn_ops) with keep_prob is deprecated and will be removed in a future version.\n",
      "Instructions for updating:\n",
      "Please use `rate` instead of `keep_prob`. Rate should be set to `rate = 1 - keep_prob`.\n"
     ]
    }
   ],
   "source": [
    "blackbox = build_simple_CNN(n_timesteps, n_outputs)\n",
    "blackbox.load_weights(parentdir + \"/blackbox_checkpoints/HARDataset_blackbox_simpleCNN_20191029_153407_best_weights_+0.94_.hdf5\")\n",
    "simplecnn = blackbox"
   ]
  },
  {
   "cell_type": "markdown",
   "metadata": {},
   "source": [
    "## KNN"
   ]
  },
  {
   "cell_type": "code",
   "execution_count": 16,
   "metadata": {},
   "outputs": [],
   "source": [
    "from sklearn.neighbors import KNeighborsClassifier\n",
    "from sklearn.metrics import make_scorer, mean_squared_error, accuracy_score\n",
    "from sklearn.model_selection import StratifiedKFold, RepeatedStratifiedKFold\n",
    "from sklearn.model_selection import GridSearchCV"
   ]
  },
  {
   "cell_type": "code",
   "execution_count": 17,
   "metadata": {},
   "outputs": [],
   "source": [
    "knn = load(parentdir + \"/blackbox_checkpoints/HARDataset_blackbox_knn_20191031_111540.joblib\")\n",
    "#knn.score(X_test.reshape(X_test.shape[:2]), y_test)\n",
    "#mean_squared_error(y_test, knn.predict(X_test.reshape(X_test.shape[:2])))"
   ]
  },
  {
   "cell_type": "markdown",
   "metadata": {},
   "source": [
    "# AUTOENCODER"
   ]
  },
  {
   "cell_type": "code",
   "execution_count": 18,
   "metadata": {},
   "outputs": [
    {
     "data": {
      "text/plain": [
       "'\\nimport importlib\\nimportlib.reload(autoencoders)\\n'"
      ]
     },
     "execution_count": 18,
     "metadata": {},
     "output_type": "execute_result"
    }
   ],
   "source": [
    "import autoencoders\n",
    "from autoencoders import *\n",
    "\"\"\"\n",
    "import importlib\n",
    "importlib.reload(autoencoders)\n",
    "\"\"\""
   ]
  },
  {
   "cell_type": "markdown",
   "metadata": {},
   "source": [
    "## Standard"
   ]
  },
  {
   "cell_type": "code",
   "execution_count": 19,
   "metadata": {
    "scrolled": true
   },
   "outputs": [
    {
     "name": "stdout",
     "output_type": "stream",
     "text": [
      "WARNING:tensorflow:From /Users/francesco/anaconda3/envs/tesi/lib/python3.6/site-packages/keras/backend/tensorflow_backend.py:3492: where (from tensorflow.python.ops.array_ops) is deprecated and will be removed in a future version.\n",
      "Instructions for updating:\n",
      "Use tf.where in 2.0, which has the same broadcast rule as np.where\n",
      "WARNING:tensorflow:From /Users/francesco/anaconda3/envs/tesi/lib/python3.6/site-packages/keras/backend/tensorflow_backend.py:4267: The name tf.nn.max_pool is deprecated. Please use tf.nn.max_pool2d instead.\n",
      "\n"
     ]
    }
   ],
   "source": [
    "params = {\"input_shape\": (n_timesteps,1),\n",
    "          \"n_blocks\": 8, \n",
    "          \"latent_dim\": 50,\n",
    "          \"encoder_latent_layer_type\": \"dense\",\n",
    "          \"encoder_args\": {\"filters\":[2,4,8,16,32,64,128,256], \n",
    "                            \"kernel_size\":[21,18,15,13,11,8,5,3], \n",
    "                            \"padding\":\"same\", \n",
    "                            \"activation\":\"selu\", \n",
    "                            \"pooling\":[1,1,1,1,1,1,1,1]}\n",
    "         }\n",
    "\n",
    "aut = Autoencoder(verbose = False, **params)\n",
    "encoder, decoder, autoencoder = aut.build()\n",
    "autoencoder.load_weights(parentdir + \"/autoencoder_checkpoints/HARDataset_autoencoder_20191031_212226_best_weights_+0.008519_.hdf5\")"
   ]
  },
  {
   "cell_type": "markdown",
   "metadata": {},
   "source": [
    "# GLOBAL VS LOCAL SHAPELET TREE"
   ]
  },
  {
   "cell_type": "code",
   "execution_count": 20,
   "metadata": {},
   "outputs": [],
   "source": [
    "# 50 test set\n",
    "_, X_exp_test_50, _, y_exp_test_50 = train_test_split(X_exp_test, y_exp_test, \n",
    "                                                                  test_size=50, \n",
    "                                                                  stratify = y_exp_test, \n",
    "                                                                  random_state=random_state)"
   ]
  },
  {
   "cell_type": "code",
   "execution_count": 74,
   "metadata": {},
   "outputs": [
    {
     "name": "stdout",
     "output_type": "stream",
     "text": [
      "Fitting 3 folds for each of 200 candidates, totalling 600 fits\n"
     ]
    },
    {
     "name": "stderr",
     "output_type": "stream",
     "text": [
      "[Parallel(n_jobs=-1)]: Using backend LokyBackend with 4 concurrent workers.\n",
      "[Parallel(n_jobs=-1)]: Done 145 tasks      | elapsed:    2.7s\n",
      "[Parallel(n_jobs=-1)]: Done 600 out of 600 | elapsed:    4.3s finished\n"
     ]
    }
   ],
   "source": [
    "import agnosticlocalexplainer\n",
    "from agnosticlocalexplainer import *\n",
    "\n",
    "from myutils import BlackboxPredictWrapper\n",
    "import time\n",
    "from agnosticglobalexplainer import AgnosticGlobalExplainer, save_shapelet_model, load_shapelet_model\n",
    "from joblib import dump\n",
    "from sklearn.metrics import confusion_matrix, accuracy_score, classification_report, coverage_error\n",
    "from global_vs_local_surrogate import build_agnostic_local_explainers, print_report, massive_save_agnostic_local_explainers, massive_load_agnostic_local_explainers, get_all_predictions"
   ]
  },
  {
   "cell_type": "markdown",
   "metadata": {},
   "source": [
    "## RESNET"
   ]
  },
  {
   "cell_type": "code",
   "execution_count": null,
   "metadata": {},
   "outputs": [],
   "source": [
    "autoencoder = autoencoder\n",
    "encoder = autoencoder.layers[1]\n",
    "decoder = autoencoder.layers[2]\n",
    "blackbox = resnet\n",
    "blackbox_input_dimensions = 3\n",
    "labels = [\"WALKING\", \"WALKING_UPSTAIRS\", \"WALKING_DOWNSTAIRS\", \"SITTING\", \"STANDING\", \"LAYING\"]"
   ]
  },
  {
   "cell_type": "code",
   "execution_count": null,
   "metadata": {},
   "outputs": [],
   "source": [
    "max_iter = 50\n",
    "file_path = parentdir + \"/agnostic_explainers/\" + dataset_name + \"_\" + time.strftime(\"%Y%m%d_%H%M%S\")"
   ]
  },
  {
   "cell_type": "code",
   "execution_count": null,
   "metadata": {},
   "outputs": [],
   "source": [
    "import platform\n",
    "if platform.system() == \"Windows\":\n",
    "    os.makedirs(file_path + \"/\")\n",
    "else: os.mkdir(file_path + \"/\")"
   ]
  },
  {
   "cell_type": "code",
   "execution_count": null,
   "metadata": {},
   "outputs": [],
   "source": [
    "%%time\n",
    "global_surrogate = AgnosticGlobalExplainer(random_state = random_state, \n",
    "                                           max_iter = max_iter, \n",
    "                                           distance_quantile_threshold = np.array(list(range(1,10)))/10,\n",
    "                                           labels = labels)\n",
    "global_surrogate.fit(X_exp_train[:,:,0], blackbox_predict.predict(X_exp_train))"
   ]
  },
  {
   "cell_type": "code",
   "execution_count": 22,
   "metadata": {
    "scrolled": true
   },
   "outputs": [
    {
     "name": "stdout",
     "output_type": "stream",
     "text": [
      "\n",
      "Neighborhood Generation\n",
      "calculating feature values\n",
      "gen\tnevals\tavg     \tmin     \tmax     \n",
      "0  \t500   \t0.496654\t0.496654\t0.496654\n",
      "1  \t421   \t0.669083\t0.472968\t0.991709\n",
      "2  \t428   \t0.81328 \t0.449427\t0.993249\n",
      "3  \t427   \t0.847267\t0.430785\t0.993249\n",
      "4  \t424   \t0.849115\t0.466609\t0.993249\n",
      "5  \t422   \t0.84671 \t0.44492 \t0.993249\n",
      "6  \t428   \t0.862477\t0.4435  \t0.993249\n",
      "7  \t425   \t0.856708\t0.449603\t0.993249\n",
      "8  \t437   \t0.877868\t0.465643\t0.993249\n",
      "9  \t428   \t0.883182\t0.464191\t0.993193\n",
      "10 \t430   \t0.879285\t0.456051\t0.993183\n",
      "gen\tnevals\tavg\tmin\tmax\n",
      "0  \t500   \t0.5\t0.5\t0.5\n",
      "1  \t426   \t0.574413\t0.480808\t0.9909\n",
      "2  \t438   \t0.718152\t0.468315\t0.9909\n",
      "3  \t428   \t0.834665\t0.461259\t0.9909\n",
      "4  \t429   \t0.897798\t0.471617\t0.9909\n",
      "5  \t410   \t0.931205\t0.472769\t0.9909\n",
      "6  \t432   \t0.929923\t0.466421\t0.9909\n",
      "7  \t433   \t0.933424\t0.469467\t0.9909\n",
      "8  \t425   \t0.919441\t0.473461\t0.9905\n",
      "9  \t427   \t0.922651\t0.479977\t0.990951\n",
      "10 \t412   \t0.929212\t0.466777\t0.99116 \n",
      "synthetic neighborhood class counts {0: 470, 1: 476, 2: 22, 3: 87, 4: 41, 5: 4}\n",
      "Fitting 3 folds for each of 200 candidates, totalling 600 fits\n"
     ]
    },
    {
     "name": "stderr",
     "output_type": "stream",
     "text": [
      "[Parallel(n_jobs=-1)]: Using backend LokyBackend with 4 concurrent workers.\n",
      "[Parallel(n_jobs=-1)]: Done 175 tasks      | elapsed:    3.2s\n",
      "[Parallel(n_jobs=-1)]: Done 600 out of 600 | elapsed:    4.4s finished\n"
     ]
    },
    {
     "name": "stdout",
     "output_type": "stream",
     "text": [
      "1 / 50\n",
      "\n",
      "Neighborhood Generation\n",
      "calculating feature values\n",
      "gen\tnevals\tavg     \tmin     \tmax     \n",
      "0  \t500   \t0.496654\t0.496654\t0.496654\n",
      "1  \t421   \t0.652574\t0.475217\t0.992212\n",
      "2  \t428   \t0.808018\t0.470732\t0.993294\n",
      "3  \t427   \t0.830732\t0.448629\t0.993267\n",
      "4  \t424   \t0.843142\t0.44248 \t0.993267\n",
      "5  \t422   \t0.855822\t0.450094\t0.993267\n",
      "6  \t428   \t0.878275\t0.470551\t0.993267\n",
      "7  \t425   \t0.853487\t0.477187\t0.993267\n",
      "8  \t437   \t0.881006\t0.477491\t0.993269\n",
      "9  \t428   \t0.865332\t0.469951\t0.993269\n",
      "10 \t430   \t0.853702\t0.475065\t0.993269\n",
      "gen\tnevals\tavg\tmin\tmax\n",
      "0  \t500   \t0.5\t0.5\t0.5\n",
      "1  \t426   \t0.59882\t0.486762\t0.991334\n",
      "2  \t438   \t0.752208\t0.477534\t0.991806\n",
      "3  \t428   \t0.872902\t0.480879\t0.991806\n",
      "4  \t429   \t0.913982\t0.484819\t0.991688\n",
      "5  \t410   \t0.921238\t0.484572\t0.992089\n",
      "6  \t432   \t0.91292 \t0.474554\t0.992058\n",
      "7  \t433   \t0.897031\t0.477616\t0.992157\n",
      "8  \t425   \t0.918553\t0.48142 \t0.992159\n",
      "9  \t427   \t0.917104\t0.473177\t0.992157\n",
      "10 \t412   \t0.926787\t0.483091\t0.992318\n",
      "synthetic neighborhood class counts {0: 51, 1: 86, 2: 37, 3: 459, 4: 460, 5: 7}\n",
      "Fitting 3 folds for each of 200 candidates, totalling 600 fits\n"
     ]
    },
    {
     "name": "stderr",
     "output_type": "stream",
     "text": [
      "[Parallel(n_jobs=-1)]: Using backend LokyBackend with 4 concurrent workers.\n",
      "[Parallel(n_jobs=-1)]: Done 141 tasks      | elapsed:    2.7s\n",
      "[Parallel(n_jobs=-1)]: Done 600 out of 600 | elapsed:    3.9s finished\n"
     ]
    },
    {
     "name": "stdout",
     "output_type": "stream",
     "text": [
      "2 / 50\n",
      "\n",
      "Neighborhood Generation\n",
      "calculating feature values\n",
      "gen\tnevals\tavg     \tmin     \tmax     \n",
      "0  \t500   \t0.496654\t0.496654\t0.496654\n",
      "1  \t421   \t0.693917\t0.484118\t0.992217\n",
      "2  \t428   \t0.838006\t0.472739\t0.993303\n",
      "3  \t427   \t0.892749\t0.483673\t0.993262\n",
      "4  \t424   \t0.897543\t0.477671\t0.993262\n",
      "5  \t422   \t0.892221\t0.483144\t0.993262\n",
      "6  \t428   \t0.906993\t0.485524\t0.993262\n",
      "7  \t425   \t0.907487\t0.483856\t0.993262\n",
      "8  \t437   \t0.910924\t0.487458\t0.993262\n",
      "9  \t428   \t0.898161\t0.481486\t0.993112\n",
      "10 \t430   \t0.909887\t0.483109\t0.993181\n",
      "gen\tnevals\tavg\tmin\tmax\n",
      "0  \t500   \t0.5\t0.5\t0.5\n",
      "1  \t426   \t0.555569\t0.490063\t0.990919\n",
      "2  \t438   \t0.674979\t0.488139\t0.991668\n",
      "3  \t428   \t0.810769\t0.486904\t0.991668\n",
      "4  \t429   \t0.87919 \t0.488095\t0.991693\n",
      "5  \t410   \t0.896453\t0.489851\t0.991693\n",
      "6  \t432   \t0.897446\t0.487756\t0.991693\n",
      "7  \t433   \t0.901882\t0.49026 \t0.991693\n",
      "8  \t425   \t0.901725\t0.489672\t0.991693\n",
      "9  \t427   \t0.88502 \t0.487536\t0.991693\n",
      "10 \t412   \t0.873131\t0.48869 \t0.991693\n",
      "synthetic neighborhood class counts {0: 65, 1: 30, 2: 19, 3: 409, 4: 570, 5: 7}\n",
      "Fitting 3 folds for each of 200 candidates, totalling 600 fits\n"
     ]
    },
    {
     "name": "stderr",
     "output_type": "stream",
     "text": [
      "[Parallel(n_jobs=-1)]: Using backend LokyBackend with 4 concurrent workers.\n",
      "[Parallel(n_jobs=-1)]: Done  78 tasks      | elapsed:    3.7s\n",
      "[Parallel(n_jobs=-1)]: Done 600 out of 600 | elapsed:    5.7s finished\n"
     ]
    },
    {
     "name": "stdout",
     "output_type": "stream",
     "text": [
      "3 / 50\n",
      "\n",
      "Neighborhood Generation\n",
      "calculating feature values\n",
      "gen\tnevals\tavg     \tmin     \tmax     \n",
      "0  \t500   \t0.496654\t0.496654\t0.496654\n",
      "1  \t421   \t0.671456\t0.480848\t0.992413\n",
      "2  \t428   \t0.825572\t0.474049\t0.993305\n",
      "3  \t427   \t0.863771\t0.479376\t0.993242\n",
      "4  \t424   \t0.874039\t0.475821\t0.993242\n",
      "5  \t422   \t0.864351\t0.471759\t0.993242\n",
      "6  \t428   \t0.884735\t0.477105\t0.993304\n",
      "7  \t425   \t0.873123\t0.472643\t0.993242\n",
      "8  \t437   \t0.896314\t0.486491\t0.993147\n",
      "9  \t428   \t0.887275\t0.472247\t0.99329 \n",
      "10 \t430   \t0.873662\t0.486658\t0.99329 \n",
      "gen\tnevals\tavg\tmin\tmax\n",
      "0  \t500   \t0.5\t0.5\t0.5\n",
      "1  \t426   \t0.570433\t0.487965\t0.990369\n",
      "2  \t438   \t0.70038 \t0.472832\t0.990667\n",
      "3  \t428   \t0.84865 \t0.476095\t0.990667\n",
      "4  \t429   \t0.910715\t0.479602\t0.990667\n",
      "5  \t410   \t0.918712\t0.472986\t0.990688\n",
      "6  \t432   \t0.922325\t0.481939\t0.990688\n",
      "7  \t433   \t0.923949\t0.483419\t0.99085 \n",
      "8  \t425   \t0.919575\t0.466781\t0.991302\n",
      "9  \t427   \t0.947437\t0.484899\t0.991205\n",
      "10 \t412   \t0.931314\t0.486575\t0.991205\n",
      "synthetic neighborhood class counts {0: 474, 1: 72, 2: 89, 3: 307, 4: 155, 5: 3}\n",
      "Fitting 3 folds for each of 200 candidates, totalling 600 fits\n"
     ]
    },
    {
     "name": "stderr",
     "output_type": "stream",
     "text": [
      "[Parallel(n_jobs=-1)]: Using backend LokyBackend with 4 concurrent workers.\n",
      "[Parallel(n_jobs=-1)]: Done  78 tasks      | elapsed:    3.8s\n",
      "[Parallel(n_jobs=-1)]: Done 600 out of 600 | elapsed:    5.8s finished\n"
     ]
    },
    {
     "name": "stdout",
     "output_type": "stream",
     "text": [
      "4 / 50\n",
      "\n",
      "Neighborhood Generation\n",
      "calculating feature values\n",
      "gen\tnevals\tavg     \tmin     \tmax     \n",
      "0  \t500   \t0.496654\t0.496654\t0.496654\n",
      "1  \t421   \t0.6784  \t0.480904\t0.992052\n",
      "2  \t428   \t0.829182\t0.468879\t0.993199\n",
      "3  \t427   \t0.888738\t0.472777\t0.993199\n",
      "4  \t424   \t0.876909\t0.480999\t0.993199\n",
      "5  \t422   \t0.891446\t0.475812\t0.993216\n",
      "6  \t428   \t0.895846\t0.477927\t0.993216\n",
      "7  \t425   \t0.900175\t0.473649\t0.993216\n",
      "8  \t437   \t0.91134 \t0.48162 \t0.993216\n",
      "9  \t428   \t0.904636\t0.471257\t0.993216\n",
      "10 \t430   \t0.89183 \t0.474314\t0.993216\n",
      "gen\tnevals\tavg\tmin\tmax\n",
      "0  \t500   \t0.5\t0.5\t0.5\n",
      "1  \t426   \t0.566845\t0.487412\t0.99161\n",
      "2  \t438   \t0.699405\t0.486517\t0.992045\n",
      "3  \t428   \t0.83674 \t0.486217\t0.992045\n",
      "4  \t429   \t0.886701\t0.487091\t0.992045\n",
      "5  \t410   \t0.901036\t0.48175 \t0.992045\n",
      "6  \t432   \t0.901823\t0.483893\t0.992045\n",
      "7  \t433   \t0.89458 \t0.485472\t0.992484\n",
      "8  \t425   \t0.900657\t0.4842  \t0.992484\n",
      "9  \t427   \t0.895922\t0.4859  \t0.992484\n",
      "10 \t412   \t0.881595\t0.482885\t0.992484\n",
      "synthetic neighborhood class counts {0: 45, 1: 12, 2: 17, 3: 479, 4: 543, 5: 4}\n",
      "Fitting 3 folds for each of 200 candidates, totalling 600 fits\n"
     ]
    },
    {
     "name": "stderr",
     "output_type": "stream",
     "text": [
      "[Parallel(n_jobs=-1)]: Using backend LokyBackend with 4 concurrent workers.\n",
      "[Parallel(n_jobs=-1)]: Done  59 tasks      | elapsed:    4.0s\n",
      "[Parallel(n_jobs=-1)]: Done 600 out of 600 | elapsed:    6.1s finished\n"
     ]
    },
    {
     "name": "stdout",
     "output_type": "stream",
     "text": [
      "5 / 50\n",
      "\n",
      "Neighborhood Generation\n",
      "calculating feature values\n",
      "gen\tnevals\tavg     \tmin     \tmax     \n",
      "0  \t500   \t0.496654\t0.496654\t0.496654\n",
      "1  \t421   \t0.676541\t0.472097\t0.992036\n",
      "2  \t428   \t0.827317\t0.469164\t0.993307\n",
      "3  \t427   \t0.885669\t0.475435\t0.993133\n",
      "4  \t424   \t0.899448\t0.476651\t0.993133\n",
      "5  \t422   \t0.890157\t0.475078\t0.993109\n",
      "6  \t428   \t0.902518\t0.468442\t0.993109\n",
      "7  \t425   \t0.899638\t0.473929\t0.993109\n",
      "8  \t437   \t0.909695\t0.482106\t0.993109\n",
      "9  \t428   \t0.896227\t0.469749\t0.993139\n",
      "10 \t430   \t0.897261\t0.473319\t0.993139\n",
      "gen\tnevals\tavg\tmin\tmax\n",
      "0  \t500   \t0.5\t0.5\t0.5\n",
      "1  \t426   \t0.565302\t0.485837\t0.991227\n",
      "2  \t438   \t0.691998\t0.483301\t0.991712\n",
      "3  \t428   \t0.827813\t0.485169\t0.991696\n",
      "4  \t429   \t0.884889\t0.483176\t0.991247\n",
      "5  \t410   \t0.898129\t0.485409\t0.991409\n",
      "6  \t432   \t0.909237\t0.483175\t0.992208\n",
      "7  \t433   \t0.913279\t0.485263\t0.992208\n",
      "8  \t425   \t0.903789\t0.483104\t0.992063\n",
      "9  \t427   \t0.893921\t0.484266\t0.992074\n",
      "10 \t412   \t0.891238\t0.480763\t0.992079\n",
      "synthetic neighborhood class counts {0: 45, 1: 25, 2: 11, 3: 473, 4: 542, 5: 4}\n",
      "Fitting 3 folds for each of 200 candidates, totalling 600 fits\n"
     ]
    },
    {
     "name": "stderr",
     "output_type": "stream",
     "text": [
      "[Parallel(n_jobs=-1)]: Using backend LokyBackend with 4 concurrent workers.\n",
      "[Parallel(n_jobs=-1)]: Done  86 tasks      | elapsed:    3.6s\n",
      "[Parallel(n_jobs=-1)]: Done 600 out of 600 | elapsed:    5.5s finished\n"
     ]
    },
    {
     "name": "stdout",
     "output_type": "stream",
     "text": [
      "6 / 50\n",
      "\n",
      "Neighborhood Generation\n",
      "calculating feature values\n",
      "gen\tnevals\tavg     \tmin     \tmax     \n",
      "0  \t500   \t0.496654\t0.496654\t0.496654\n",
      "1  \t421   \t0.648859\t0.440744\t0.991807\n",
      "2  \t428   \t0.797735\t0.453885\t0.993291\n",
      "3  \t427   \t0.863862\t0.446376\t0.993267\n",
      "4  \t424   \t0.852847\t0.439975\t0.993267\n",
      "5  \t422   \t0.856247\t0.457496\t0.993155\n",
      "6  \t428   \t0.874524\t0.454855\t0.9933  \n",
      "7  \t425   \t0.879828\t0.451111\t0.993036\n",
      "8  \t437   \t0.889206\t0.466161\t0.993036\n",
      "9  \t428   \t0.862552\t0.461393\t0.99326 \n",
      "10 \t430   \t0.867675\t0.448164\t0.99308 \n",
      "gen\tnevals\tavg\tmin\tmax\n",
      "0  \t500   \t0.5\t0.5\t0.5\n",
      "1  \t426   \t0.592053\t0.444228\t0.990285\n",
      "2  \t438   \t0.743931\t0.440074\t0.991245\n",
      "3  \t428   \t0.861949\t0.461915\t0.9915  \n",
      "4  \t429   \t0.903068\t0.436936\t0.9915  \n",
      "5  \t410   \t0.89677 \t0.463401\t0.991684\n",
      "6  \t432   \t0.921212\t0.469122\t0.991684\n",
      "7  \t433   \t0.886129\t0.466744\t0.991684\n",
      "8  \t425   \t0.907885\t0.465402\t0.9915  \n",
      "9  \t427   \t0.918438\t0.451464\t0.991631\n",
      "10 \t412   \t0.909439\t0.446054\t0.991631\n",
      "synthetic neighborhood class counts {0: 492, 1: 247, 2: 292, 3: 30, 4: 38, 5: 1}\n",
      "Fitting 3 folds for each of 200 candidates, totalling 600 fits\n"
     ]
    },
    {
     "name": "stderr",
     "output_type": "stream",
     "text": [
      "[Parallel(n_jobs=-1)]: Using backend LokyBackend with 4 concurrent workers.\n",
      "[Parallel(n_jobs=-1)]: Done 102 tasks      | elapsed:    4.0s\n",
      "[Parallel(n_jobs=-1)]: Done 600 out of 600 | elapsed:    5.6s finished\n"
     ]
    },
    {
     "name": "stdout",
     "output_type": "stream",
     "text": [
      "7 / 50\n",
      "\n",
      "Neighborhood Generation\n",
      "calculating feature values\n",
      "gen\tnevals\tavg     \tmin     \tmax     \n",
      "0  \t500   \t0.496654\t0.496654\t0.496654\n",
      "1  \t421   \t0.621784\t0.453321\t0.991593\n",
      "2  \t428   \t0.771528\t0.409704\t0.993241\n",
      "3  \t427   \t0.803791\t0.392303\t0.993241\n",
      "4  \t424   \t0.815858\t0.410033\t0.993241\n",
      "5  \t422   \t0.833575\t0.405853\t0.993241\n",
      "6  \t428   \t0.845065\t0.395315\t0.993241\n",
      "7  \t425   \t0.84409 \t0.411432\t0.993241\n",
      "8  \t437   \t0.848709\t0.422235\t0.993201\n",
      "9  \t428   \t0.853591\t0.447006\t0.993201\n",
      "10 \t430   \t0.850302\t0.436607\t0.993201\n",
      "gen\tnevals\tavg\tmin\tmax\n",
      "0  \t500   \t0.5\t0.5\t0.5\n",
      "1  \t426   \t0.607658\t0.474195\t0.989361\n",
      "2  \t438   \t0.7753  \t0.457099\t0.989361\n",
      "3  \t428   \t0.882079\t0.42177 \t0.989361\n",
      "4  \t429   \t0.899486\t0.430922\t0.989979\n",
      "5  \t410   \t0.911642\t0.424426\t0.989589\n",
      "6  \t432   \t0.922325\t0.432188\t0.990192\n",
      "7  \t433   \t0.928137\t0.456022\t0.990192\n",
      "8  \t425   \t0.91357 \t0.441378\t0.990192\n",
      "9  \t427   \t0.914111\t0.466588\t0.990315\n",
      "10 \t412   \t0.923481\t0.471837\t0.990516\n",
      "synthetic neighborhood class counts {0: 516, 1: 454, 2: 50, 3: 54, 4: 22, 5: 4}\n",
      "Fitting 3 folds for each of 200 candidates, totalling 600 fits\n"
     ]
    },
    {
     "name": "stderr",
     "output_type": "stream",
     "text": [
      "[Parallel(n_jobs=-1)]: Using backend LokyBackend with 4 concurrent workers.\n",
      "[Parallel(n_jobs=-1)]: Done  46 tasks      | elapsed:    3.8s\n",
      "[Parallel(n_jobs=-1)]: Done 600 out of 600 | elapsed:    6.6s finished\n"
     ]
    },
    {
     "name": "stdout",
     "output_type": "stream",
     "text": [
      "8 / 50\n",
      "\n",
      "Neighborhood Generation\n",
      "calculating feature values\n",
      "gen\tnevals\tavg     \tmin     \tmax     \n",
      "0  \t500   \t0.496654\t0.496654\t0.496654\n",
      "1  \t421   \t0.575478\t0.481521\t0.991734\n",
      "2  \t428   \t0.66974 \t0.472093\t0.993296\n",
      "3  \t427   \t0.719669\t0.467229\t0.993307\n",
      "4  \t424   \t0.726926\t0.465271\t0.993307\n",
      "5  \t422   \t0.753283\t0.472145\t0.993307\n",
      "6  \t428   \t0.762222\t0.46564 \t0.993296\n",
      "7  \t425   \t0.777126\t0.465683\t0.993296\n",
      "8  \t437   \t0.782321\t0.476612\t0.993296\n",
      "9  \t428   \t0.774893\t0.476676\t0.993296\n",
      "10 \t430   \t0.772278\t0.47325 \t0.993296\n",
      "gen\tnevals\tavg\tmin\tmax\n",
      "0  \t500   \t0.5\t0.5\t0.5\n",
      "1  \t426   \t0.649671\t0.491416\t0.991903\n",
      "2  \t438   \t0.887822\t0.489449\t0.992006\n",
      "3  \t428   \t0.967569\t0.488407\t0.992078\n",
      "4  \t429   \t0.975453\t0.491183\t0.991487\n",
      "5  \t410   \t0.976047\t0.489193\t0.991487\n",
      "6  \t432   \t0.973987\t0.487568\t0.991809\n",
      "7  \t433   \t0.972067\t0.488244\t0.992033\n",
      "8  \t425   \t0.974508\t0.492357\t0.992236\n",
      "9  \t427   \t0.978813\t0.491033\t0.992236\n",
      "10 \t412   \t0.978259\t0.491672\t0.992033\n",
      "synthetic neighborhood class counts {0: 58, 1: 22, 2: 3, 3: 95, 4: 588, 5: 334}\n",
      "Fitting 3 folds for each of 200 candidates, totalling 600 fits\n"
     ]
    },
    {
     "name": "stderr",
     "output_type": "stream",
     "text": [
      "[Parallel(n_jobs=-1)]: Using backend LokyBackend with 4 concurrent workers.\n",
      "[Parallel(n_jobs=-1)]: Done 115 tasks      | elapsed:    3.9s\n",
      "[Parallel(n_jobs=-1)]: Done 600 out of 600 | elapsed:    5.5s finished\n"
     ]
    },
    {
     "name": "stdout",
     "output_type": "stream",
     "text": [
      "9 / 50\n",
      "\n",
      "Neighborhood Generation\n",
      "calculating feature values\n",
      "gen\tnevals\tavg     \tmin     \tmax     \n",
      "0  \t500   \t0.496654\t0.496654\t0.496654\n",
      "1  \t421   \t0.658311\t0.485984\t0.992241\n",
      "2  \t428   \t0.801672\t0.474912\t0.993282\n",
      "3  \t427   \t0.824285\t0.469356\t0.993149\n",
      "4  \t424   \t0.832982\t0.477766\t0.993149\n",
      "5  \t422   \t0.840343\t0.478806\t0.993149\n",
      "6  \t428   \t0.853406\t0.482453\t0.993239\n",
      "7  \t425   \t0.85603 \t0.471996\t0.993239\n",
      "8  \t437   \t0.864796\t0.481436\t0.993256\n",
      "9  \t428   \t0.872259\t0.483167\t0.993241\n",
      "10 \t430   \t0.863761\t0.473372\t0.993251\n",
      "gen\tnevals\tavg\tmin\tmax\n",
      "0  \t500   \t0.5\t0.5\t0.5\n",
      "1  \t426   \t0.585701\t0.491686\t0.990115\n",
      "2  \t438   \t0.753029\t0.488384\t0.990765\n",
      "3  \t428   \t0.871026\t0.486572\t0.990765\n",
      "4  \t429   \t0.930263\t0.485607\t0.990537\n",
      "5  \t410   \t0.944427\t0.486941\t0.991077\n",
      "6  \t432   \t0.940751\t0.485603\t0.991077\n",
      "7  \t433   \t0.929464\t0.486765\t0.990568\n",
      "8  \t425   \t0.929469\t0.488964\t0.990097\n",
      "9  \t427   \t0.950279\t0.48401 \t0.991591\n",
      "10 \t412   \t0.935501\t0.483174\t0.991591\n",
      "synthetic neighborhood class counts {0: 203, 1: 457, 2: 148, 3: 73, 4: 218, 5: 1}\n",
      "Fitting 3 folds for each of 200 candidates, totalling 600 fits\n"
     ]
    },
    {
     "name": "stderr",
     "output_type": "stream",
     "text": [
      "[Parallel(n_jobs=-1)]: Using backend LokyBackend with 4 concurrent workers.\n",
      "[Parallel(n_jobs=-1)]: Done 221 tasks      | elapsed:    2.2s\n",
      "[Parallel(n_jobs=-1)]: Done 600 out of 600 | elapsed:    3.3s finished\n"
     ]
    },
    {
     "name": "stdout",
     "output_type": "stream",
     "text": [
      "10 / 50\n",
      "\n",
      "Neighborhood Generation\n",
      "calculating feature values\n",
      "gen\tnevals\tavg     \tmin     \tmax     \n",
      "0  \t500   \t0.496654\t0.496654\t0.496654\n",
      "1  \t421   \t0.661996\t0.477367\t0.991645\n",
      "2  \t428   \t0.803581\t0.466792\t0.991888\n",
      "3  \t427   \t0.878394\t0.473485\t0.992403\n",
      "4  \t424   \t0.886778\t0.46827 \t0.992403\n",
      "5  \t422   \t0.881972\t0.475112\t0.99169 \n",
      "6  \t428   \t0.897738\t0.473444\t0.992087\n",
      "7  \t425   \t0.901724\t0.473476\t0.992087\n",
      "8  \t437   \t0.909249\t0.480699\t0.992087\n",
      "9  \t428   \t0.895188\t0.47028 \t0.991968\n",
      "10 \t430   \t0.890058\t0.449236\t0.992299\n",
      "gen\tnevals\tavg\tmin\tmax\n",
      "0  \t500   \t0.5\t0.5\t0.5\n",
      "1  \t426   \t0.587689\t0.489579\t0.985312\n",
      "2  \t438   \t0.743122\t0.487513\t0.986489\n",
      "3  \t428   \t0.84066 \t0.483043\t0.986489\n",
      "4  \t429   \t0.883619\t0.485639\t0.986868\n",
      "5  \t410   \t0.901278\t0.481975\t0.986489\n",
      "6  \t432   \t0.908331\t0.485603\t0.987162\n",
      "7  \t433   \t0.912152\t0.481903\t0.986036\n",
      "8  \t425   \t0.909304\t0.486028\t0.986518\n",
      "9  \t427   \t0.912372\t0.482988\t0.985996\n",
      "10 \t412   \t0.904187\t0.481877\t0.986661\n",
      "synthetic neighborhood class counts {0: 321, 1: 53, 2: 78, 3: 135, 4: 500, 5: 13}\n",
      "Fitting 3 folds for each of 200 candidates, totalling 600 fits\n"
     ]
    },
    {
     "name": "stderr",
     "output_type": "stream",
     "text": [
      "[Parallel(n_jobs=-1)]: Using backend LokyBackend with 4 concurrent workers.\n",
      "[Parallel(n_jobs=-1)]: Done 125 tasks      | elapsed:    3.5s\n",
      "[Parallel(n_jobs=-1)]: Done 600 out of 600 | elapsed:    5.0s finished\n"
     ]
    },
    {
     "name": "stdout",
     "output_type": "stream",
     "text": [
      "11 / 50\n",
      "\n",
      "Neighborhood Generation\n",
      "calculating feature values\n",
      "gen\tnevals\tavg     \tmin     \tmax     \n",
      "0  \t500   \t0.496654\t0.496654\t0.496654\n",
      "1  \t421   \t0.678585\t0.483664\t0.99223 \n",
      "2  \t428   \t0.820962\t0.475308\t0.993266\n",
      "3  \t427   \t0.849434\t0.464532\t0.993266\n",
      "4  \t424   \t0.858564\t0.464653\t0.99317 \n",
      "5  \t422   \t0.867684\t0.469844\t0.993274\n",
      "6  \t428   \t0.884069\t0.457912\t0.993274\n",
      "7  \t425   \t0.883072\t0.463599\t0.993274\n",
      "8  \t437   \t0.898901\t0.469675\t0.993274\n",
      "9  \t428   \t0.892377\t0.471819\t0.993285\n",
      "10 \t430   \t0.88766 \t0.480689\t0.993277\n",
      "gen\tnevals\tavg\tmin\tmax\n",
      "0  \t500   \t0.5\t0.5\t0.5\n",
      "1  \t426   \t0.563526\t0.475118\t0.989913\n",
      "2  \t438   \t0.669951\t0.47473 \t0.990891\n",
      "3  \t428   \t0.828806\t0.473069\t0.990957\n",
      "4  \t429   \t0.904014\t0.458368\t0.990957\n",
      "5  \t410   \t0.913665\t0.459153\t0.990412\n",
      "6  \t432   \t0.926078\t0.480072\t0.990412\n",
      "7  \t433   \t0.901151\t0.470141\t0.990412\n",
      "8  \t425   \t0.922907\t0.463616\t0.99064 \n",
      "9  \t427   \t0.919872\t0.440834\t0.991005\n",
      "10 \t412   \t0.9049  \t0.447503\t0.991005\n",
      "synthetic neighborhood class counts {0: 515, 1: 260, 2: 124, 3: 91, 4: 108, 5: 2}\n",
      "Fitting 3 folds for each of 200 candidates, totalling 600 fits\n"
     ]
    },
    {
     "name": "stderr",
     "output_type": "stream",
     "text": [
      "[Parallel(n_jobs=-1)]: Using backend LokyBackend with 4 concurrent workers.\n",
      "[Parallel(n_jobs=-1)]: Done 116 tasks      | elapsed:    3.3s\n",
      "[Parallel(n_jobs=-1)]: Done 600 out of 600 | elapsed:    5.0s finished\n"
     ]
    },
    {
     "name": "stdout",
     "output_type": "stream",
     "text": [
      "12 / 50\n",
      "\n",
      "Neighborhood Generation\n",
      "calculating feature values\n",
      "gen\tnevals\tavg     \tmin     \tmax     \n",
      "0  \t500   \t0.496654\t0.496654\t0.496654\n",
      "1  \t421   \t0.648827\t0.408437\t0.991951\n",
      "2  \t428   \t0.765796\t0.446765\t0.993277\n",
      "3  \t427   \t0.810117\t0.447526\t0.993277\n",
      "4  \t424   \t0.814507\t0.4332  \t0.993277\n",
      "5  \t422   \t0.835593\t0.43492 \t0.993091\n",
      "6  \t428   \t0.84163 \t0.441073\t0.993091\n",
      "7  \t425   \t0.853853\t0.410955\t0.993272\n",
      "8  \t437   \t0.871798\t0.445134\t0.993272\n",
      "9  \t428   \t0.847561\t0.453795\t0.993282\n",
      "10 \t430   \t0.835277\t0.395386\t0.993307\n",
      "gen\tnevals\tavg\tmin\tmax\n",
      "0  \t500   \t0.5\t0.5\t0.5\n",
      "1  \t426   \t0.588714\t0.485009\t0.988367\n",
      "2  \t438   \t0.76239 \t0.465952\t0.988783\n",
      "3  \t428   \t0.90327 \t0.461964\t0.988783\n",
      "4  \t429   \t0.925932\t0.463844\t0.99015 \n",
      "5  \t410   \t0.931452\t0.477548\t0.99015 \n",
      "6  \t432   \t0.94345 \t0.47055 \t0.99015 \n",
      "7  \t433   \t0.946144\t0.479064\t0.990159\n",
      "8  \t425   \t0.935096\t0.472872\t0.989832\n",
      "9  \t427   \t0.947924\t0.474065\t0.989885\n",
      "10 \t412   \t0.942979\t0.479942\t0.990037\n",
      "synthetic neighborhood class counts {0: 356, 1: 250, 2: 420, 3: 31, 4: 43}\n",
      "Fitting 3 folds for each of 200 candidates, totalling 600 fits\n"
     ]
    },
    {
     "name": "stderr",
     "output_type": "stream",
     "text": [
      "[Parallel(n_jobs=-1)]: Using backend LokyBackend with 4 concurrent workers.\n",
      "[Parallel(n_jobs=-1)]: Done 145 tasks      | elapsed:    3.1s\n",
      "[Parallel(n_jobs=-1)]: Done 600 out of 600 | elapsed:    4.1s finished\n"
     ]
    },
    {
     "name": "stdout",
     "output_type": "stream",
     "text": [
      "13 / 50\n",
      "\n",
      "Neighborhood Generation\n",
      "calculating feature values\n",
      "gen\tnevals\tavg     \tmin     \tmax     \n",
      "0  \t500   \t0.496654\t0.496654\t0.496654\n",
      "1  \t421   \t0.696621\t0.479599\t0.991879\n",
      "2  \t428   \t0.822584\t0.4666  \t0.993184\n",
      "3  \t427   \t0.852461\t0.451394\t0.993191\n",
      "4  \t424   \t0.849179\t0.450177\t0.993191\n",
      "5  \t422   \t0.854303\t0.450583\t0.993093\n",
      "6  \t428   \t0.858849\t0.444202\t0.993093\n",
      "7  \t425   \t0.867039\t0.469388\t0.993093\n",
      "8  \t437   \t0.899977\t0.45744 \t0.99316 \n",
      "9  \t428   \t0.8755  \t0.47171 \t0.99315 \n",
      "10 \t430   \t0.88156 \t0.460272\t0.99315 \n",
      "gen\tnevals\tavg\tmin\tmax\n",
      "0  \t500   \t0.5\t0.5\t0.5\n",
      "1  \t426   \t0.54973\t0.480741\t0.987971\n",
      "2  \t438   \t0.670603\t0.482361\t0.989126\n",
      "3  \t428   \t0.833859\t0.481655\t0.989126\n",
      "4  \t429   \t0.916918\t0.478079\t0.989126\n",
      "5  \t410   \t0.940772\t0.470301\t0.989449\n",
      "6  \t432   \t0.939965\t0.482376\t0.990029\n",
      "7  \t433   \t0.935254\t0.482557\t0.989388\n",
      "8  \t425   \t0.934137\t0.479327\t0.989388\n",
      "9  \t427   \t0.94158 \t0.486314\t0.989914\n",
      "10 \t412   \t0.937993\t0.477553\t0.990012\n",
      "synthetic neighborhood class counts {0: 268, 1: 244, 2: 467, 3: 49, 4: 72}\n",
      "Fitting 3 folds for each of 200 candidates, totalling 600 fits\n"
     ]
    },
    {
     "name": "stderr",
     "output_type": "stream",
     "text": [
      "[Parallel(n_jobs=-1)]: Using backend LokyBackend with 4 concurrent workers.\n",
      "[Parallel(n_jobs=-1)]: Done 103 tasks      | elapsed:    3.5s\n",
      "[Parallel(n_jobs=-1)]: Done 600 out of 600 | elapsed:    5.1s finished\n"
     ]
    },
    {
     "name": "stdout",
     "output_type": "stream",
     "text": [
      "14 / 50\n",
      "\n",
      "Neighborhood Generation\n",
      "calculating feature values\n",
      "gen\tnevals\tavg     \tmin     \tmax     \n",
      "0  \t500   \t0.496654\t0.496654\t0.496654\n",
      "1  \t421   \t0.622735\t0.48363 \t0.991095\n",
      "2  \t428   \t0.76326 \t0.466981\t0.99286 \n",
      "3  \t427   \t0.786062\t0.466328\t0.993025\n",
      "4  \t424   \t0.811632\t0.46771 \t0.993025\n",
      "5  \t422   \t0.825579\t0.471874\t0.991092\n",
      "6  \t428   \t0.817484\t0.463515\t0.991239\n",
      "7  \t425   \t0.827739\t0.4522  \t0.992827\n",
      "8  \t437   \t0.840609\t0.465381\t0.992827\n",
      "9  \t428   \t0.836712\t0.466173\t0.990987\n",
      "10 \t430   \t0.828462\t0.441098\t0.991848\n",
      "gen\tnevals\tavg\tmin\tmax\n",
      "0  \t500   \t0.5\t0.5\t0.5\n",
      "1  \t426   \t0.598548\t0.491547\t0.992231\n",
      "2  \t438   \t0.767396\t0.487658\t0.992282\n",
      "3  \t428   \t0.892428\t0.487559\t0.991796\n",
      "4  \t429   \t0.911975\t0.48801 \t0.991796\n",
      "5  \t410   \t0.9349  \t0.482785\t0.991796\n",
      "6  \t432   \t0.937389\t0.482411\t0.99198 \n",
      "7  \t433   \t0.935789\t0.497377\t0.99198 \n",
      "8  \t425   \t0.929098\t0.457834\t0.99198 \n",
      "9  \t427   \t0.92917 \t0.46924 \t0.991991\n",
      "10 \t412   \t0.941964\t0.492944\t0.991991\n",
      "synthetic neighborhood class counts {0: 504, 1: 128, 2: 336, 3: 56, 4: 76}\n",
      "Fitting 3 folds for each of 200 candidates, totalling 600 fits\n"
     ]
    },
    {
     "name": "stderr",
     "output_type": "stream",
     "text": [
      "[Parallel(n_jobs=-1)]: Using backend LokyBackend with 4 concurrent workers.\n",
      "[Parallel(n_jobs=-1)]: Done 105 tasks      | elapsed:    3.7s\n",
      "[Parallel(n_jobs=-1)]: Done 600 out of 600 | elapsed:    5.9s finished\n"
     ]
    },
    {
     "name": "stdout",
     "output_type": "stream",
     "text": [
      "15 / 50\n",
      "\n",
      "Neighborhood Generation\n",
      "calculating feature values\n",
      "gen\tnevals\tavg     \tmin     \tmax     \n",
      "0  \t500   \t0.496654\t0.496654\t0.496654\n",
      "1  \t421   \t0.613956\t0.476811\t0.99224 \n",
      "2  \t428   \t0.748461\t0.47974 \t0.993233\n",
      "3  \t427   \t0.831892\t0.477494\t0.993233\n",
      "4  \t424   \t0.859038\t0.472385\t0.993233\n",
      "5  \t422   \t0.837555\t0.478497\t0.993266\n",
      "6  \t428   \t0.854188\t0.477569\t0.993126\n",
      "7  \t425   \t0.850983\t0.475627\t0.993126\n",
      "8  \t437   \t0.866332\t0.479601\t0.993126\n",
      "9  \t428   \t0.855553\t0.476177\t0.99309 \n",
      "10 \t430   \t0.845436\t0.475088\t0.993226\n",
      "gen\tnevals\tavg\tmin\tmax\n",
      "0  \t500   \t0.5\t0.5\t0.5\n",
      "1  \t426   \t0.614267\t0.486714\t0.991628\n",
      "2  \t438   \t0.788378\t0.48566 \t0.992187\n",
      "3  \t428   \t0.906184\t0.483622\t0.992187\n",
      "4  \t429   \t0.921111\t0.485663\t0.992187\n",
      "5  \t410   \t0.931524\t0.48313 \t0.992129\n",
      "6  \t432   \t0.920095\t0.48061 \t0.992052\n",
      "7  \t433   \t0.919941\t0.48111 \t0.992539\n",
      "8  \t425   \t0.927998\t0.487531\t0.992539\n",
      "9  \t427   \t0.924906\t0.482015\t0.992539\n",
      "10 \t412   \t0.924704\t0.48571 \t0.992592\n",
      "synthetic neighborhood class counts {0: 57, 1: 14, 2: 22, 3: 453, 4: 549, 5: 5}\n",
      "Fitting 3 folds for each of 200 candidates, totalling 600 fits\n"
     ]
    },
    {
     "name": "stderr",
     "output_type": "stream",
     "text": [
      "[Parallel(n_jobs=-1)]: Using backend LokyBackend with 4 concurrent workers.\n",
      "[Parallel(n_jobs=-1)]: Done 249 tasks      | elapsed:    3.1s\n",
      "[Parallel(n_jobs=-1)]: Done 600 out of 600 | elapsed:    3.8s finished\n"
     ]
    },
    {
     "name": "stdout",
     "output_type": "stream",
     "text": [
      "16 / 50\n",
      "\n",
      "Neighborhood Generation\n",
      "calculating feature values\n",
      "gen\tnevals\tavg     \tmin     \tmax     \n",
      "0  \t500   \t0.496654\t0.496654\t0.496654\n",
      "1  \t421   \t0.731265\t0.480135\t0.992184\n",
      "2  \t428   \t0.867173\t0.458981\t0.993291\n",
      "3  \t427   \t0.890991\t0.43182 \t0.993291\n",
      "4  \t424   \t0.885918\t0.456244\t0.993291\n",
      "5  \t422   \t0.894035\t0.441945\t0.993291\n",
      "6  \t428   \t0.892342\t0.433327\t0.993291\n",
      "7  \t425   \t0.902756\t0.454164\t0.993291\n",
      "8  \t437   \t0.914511\t0.437848\t0.993291\n",
      "9  \t428   \t0.913752\t0.461902\t0.99304 \n",
      "10 \t430   \t0.914714\t0.462083\t0.99321 \n",
      "gen\tnevals\tavg\tmin\tmax\n",
      "0  \t500   \t0.5\t0.5\t0.5\n",
      "1  \t426   \t0.526798\t0.475186\t0.987679\n",
      "2  \t438   \t0.59048 \t0.458686\t0.989896\n",
      "3  \t428   \t0.703308\t0.450489\t0.988932\n",
      "4  \t429   \t0.834908\t0.424749\t0.988932\n",
      "5  \t410   \t0.872073\t0.458687\t0.990422\n",
      "6  \t432   \t0.904112\t0.422614\t0.988932\n",
      "7  \t433   \t0.901787\t0.45379 \t0.988932\n",
      "8  \t425   \t0.917585\t0.435967\t0.988932\n",
      "9  \t427   \t0.914331\t0.449647\t0.988932\n",
      "10 \t412   \t0.909205\t0.420761\t0.989033\n",
      "synthetic neighborhood class counts {0: 535, 1: 150, 2: 278, 3: 74, 4: 60, 5: 3}\n",
      "Fitting 3 folds for each of 200 candidates, totalling 600 fits\n"
     ]
    },
    {
     "name": "stderr",
     "output_type": "stream",
     "text": [
      "[Parallel(n_jobs=-1)]: Using backend LokyBackend with 4 concurrent workers.\n",
      "[Parallel(n_jobs=-1)]: Done 183 tasks      | elapsed:    2.5s\n",
      "[Parallel(n_jobs=-1)]: Done 600 out of 600 | elapsed:    3.3s finished\n"
     ]
    },
    {
     "name": "stdout",
     "output_type": "stream",
     "text": [
      "17 / 50\n",
      "\n",
      "Neighborhood Generation\n",
      "calculating feature values\n",
      "gen\tnevals\tavg     \tmin     \tmax     \n",
      "0  \t500   \t0.496654\t0.496654\t0.496654\n",
      "1  \t421   \t0.678854\t0.479157\t0.992484\n",
      "2  \t428   \t0.834486\t0.46742 \t0.993274\n",
      "3  \t427   \t0.876721\t0.473852\t0.993273\n",
      "4  \t424   \t0.879155\t0.468553\t0.993273\n",
      "5  \t422   \t0.880521\t0.473388\t0.993273\n",
      "6  \t428   \t0.886199\t0.470534\t0.993273\n",
      "7  \t425   \t0.897263\t0.472891\t0.993273\n",
      "8  \t437   \t0.906596\t0.478884\t0.993201\n",
      "9  \t428   \t0.900947\t0.465825\t0.993201\n",
      "10 \t430   \t0.900254\t0.47824 \t0.993201\n",
      "gen\tnevals\tavg\tmin\tmax\n",
      "0  \t500   \t0.5\t0.5\t0.5\n",
      "1  \t426   \t0.566797\t0.488127\t0.99127\n",
      "2  \t438   \t0.699048\t0.484711\t0.991603\n",
      "3  \t428   \t0.821899\t0.481584\t0.991613\n",
      "4  \t429   \t0.895614\t0.482641\t0.991613\n",
      "5  \t410   \t0.915049\t0.481901\t0.991881\n",
      "6  \t432   \t0.912854\t0.481835\t0.991881\n",
      "7  \t433   \t0.902277\t0.479922\t0.992387\n",
      "8  \t425   \t0.913358\t0.487481\t0.992387\n",
      "9  \t427   \t0.891407\t0.48142 \t0.992397\n",
      "10 \t412   \t0.905919\t0.485729\t0.992397\n",
      "synthetic neighborhood class counts {0: 61, 1: 25, 2: 27, 3: 447, 4: 533, 5: 7}\n",
      "Fitting 3 folds for each of 200 candidates, totalling 600 fits\n"
     ]
    },
    {
     "name": "stderr",
     "output_type": "stream",
     "text": [
      "[Parallel(n_jobs=-1)]: Using backend LokyBackend with 4 concurrent workers.\n",
      "[Parallel(n_jobs=-1)]: Done 600 out of 600 | elapsed:    3.2s finished\n"
     ]
    },
    {
     "name": "stdout",
     "output_type": "stream",
     "text": [
      "18 / 50\n",
      "\n",
      "Neighborhood Generation\n",
      "calculating feature values\n",
      "gen\tnevals\tavg     \tmin     \tmax     \n",
      "0  \t500   \t0.496654\t0.496654\t0.496654\n",
      "1  \t421   \t0.64826 \t0.482212\t0.992144\n",
      "2  \t428   \t0.801602\t0.470254\t0.99319 \n",
      "3  \t427   \t0.828007\t0.479747\t0.99319 \n",
      "4  \t424   \t0.856611\t0.471124\t0.99319 \n",
      "5  \t422   \t0.864961\t0.474096\t0.99319 \n",
      "6  \t428   \t0.880585\t0.478524\t0.99319 \n",
      "7  \t425   \t0.869994\t0.475749\t0.99319 \n",
      "8  \t437   \t0.887849\t0.482509\t0.9932  \n",
      "9  \t428   \t0.866434\t0.482651\t0.993236\n",
      "10 \t430   \t0.861613\t0.478607\t0.993252\n",
      "gen\tnevals\tavg\tmin\tmax\n",
      "0  \t500   \t0.5\t0.5\t0.5\n",
      "1  \t426   \t0.584262\t0.485877\t0.99122\n",
      "2  \t438   \t0.739596\t0.48474 \t0.992434\n",
      "3  \t428   \t0.869877\t0.480788\t0.992263\n",
      "4  \t429   \t0.912914\t0.485961\t0.991454\n",
      "5  \t410   \t0.922875\t0.473713\t0.991454\n",
      "6  \t432   \t0.917699\t0.483272\t0.991454\n",
      "7  \t433   \t0.913729\t0.479064\t0.991475\n",
      "8  \t425   \t0.93386 \t0.486242\t0.991851\n",
      "9  \t427   \t0.921329\t0.481661\t0.992441\n",
      "10 \t412   \t0.918628\t0.486065\t0.991541\n",
      "synthetic neighborhood class counts {0: 82, 1: 16, 2: 20, 3: 477, 4: 502, 5: 3}\n",
      "Fitting 3 folds for each of 200 candidates, totalling 600 fits\n"
     ]
    },
    {
     "name": "stderr",
     "output_type": "stream",
     "text": [
      "[Parallel(n_jobs=-1)]: Using backend LokyBackend with 4 concurrent workers.\n",
      "[Parallel(n_jobs=-1)]: Done 134 tasks      | elapsed:    2.1s\n",
      "[Parallel(n_jobs=-1)]: Done 600 out of 600 | elapsed:    3.1s finished\n"
     ]
    },
    {
     "name": "stdout",
     "output_type": "stream",
     "text": [
      "19 / 50\n",
      "\n",
      "Neighborhood Generation\n",
      "calculating feature values\n",
      "gen\tnevals\tavg     \tmin     \tmax     \n",
      "0  \t500   \t0.496654\t0.496654\t0.496654\n",
      "1  \t421   \t0.646969\t0.483969\t0.992112\n",
      "2  \t428   \t0.792861\t0.468254\t0.993178\n",
      "3  \t427   \t0.873792\t0.474592\t0.993027\n",
      "4  \t424   \t0.871843\t0.469226\t0.993027\n",
      "5  \t422   \t0.884611\t0.47965 \t0.993027\n",
      "6  \t428   \t0.901475\t0.481183\t0.993027\n",
      "7  \t425   \t0.895316\t0.470603\t0.993027\n",
      "8  \t437   \t0.894672\t0.479872\t0.993027\n",
      "9  \t428   \t0.88593 \t0.474261\t0.992486\n",
      "10 \t430   \t0.879672\t0.467824\t0.992591\n",
      "gen\tnevals\tavg\tmin\tmax\n",
      "0  \t500   \t0.5\t0.5\t0.5\n",
      "1  \t426   \t0.59277\t0.488054\t0.991986\n",
      "2  \t438   \t0.748676\t0.48703 \t0.991986\n",
      "3  \t428   \t0.853976\t0.482269\t0.991837\n",
      "4  \t429   \t0.905175\t0.481204\t0.991901\n",
      "5  \t410   \t0.887245\t0.478137\t0.991901\n",
      "6  \t432   \t0.905965\t0.487384\t0.991901\n",
      "7  \t433   \t0.887738\t0.486336\t0.991901\n",
      "8  \t425   \t0.892142\t0.480215\t0.992451\n",
      "9  \t427   \t0.888028\t0.48274 \t0.992451\n",
      "10 \t412   \t0.878456\t0.485432\t0.992451\n",
      "synthetic neighborhood class counts {0: 43, 1: 20, 2: 20, 3: 474, 4: 534, 5: 9}\n",
      "Fitting 3 folds for each of 200 candidates, totalling 600 fits\n"
     ]
    },
    {
     "name": "stderr",
     "output_type": "stream",
     "text": [
      "[Parallel(n_jobs=-1)]: Using backend LokyBackend with 4 concurrent workers.\n",
      "[Parallel(n_jobs=-1)]: Done 164 tasks      | elapsed:    2.3s\n",
      "[Parallel(n_jobs=-1)]: Done 600 out of 600 | elapsed:    3.1s finished\n"
     ]
    },
    {
     "name": "stdout",
     "output_type": "stream",
     "text": [
      "20 / 50\n",
      "\n",
      "Neighborhood Generation\n",
      "calculating feature values\n",
      "gen\tnevals\tavg     \tmin     \tmax     \n",
      "0  \t500   \t0.496654\t0.496654\t0.496654\n",
      "1  \t421   \t0.644683\t0.481279\t0.992389\n",
      "2  \t428   \t0.784855\t0.480033\t0.9933  \n",
      "3  \t427   \t0.842103\t0.476423\t0.993184\n",
      "4  \t424   \t0.854311\t0.476966\t0.993184\n",
      "5  \t422   \t0.846263\t0.479687\t0.993184\n",
      "6  \t428   \t0.867606\t0.477776\t0.993221\n",
      "7  \t425   \t0.867213\t0.477215\t0.993221\n",
      "8  \t437   \t0.870507\t0.484397\t0.993221\n",
      "9  \t428   \t0.852145\t0.485635\t0.993235\n",
      "10 \t430   \t0.857895\t0.482448\t0.993235\n",
      "gen\tnevals\tavg\tmin\tmax\n",
      "0  \t500   \t0.5\t0.5\t0.5\n",
      "1  \t426   \t0.582174\t0.484228\t0.990624\n",
      "2  \t438   \t0.722199\t0.480042\t0.991835\n",
      "3  \t428   \t0.876074\t0.477133\t0.992512\n",
      "4  \t429   \t0.905809\t0.476908\t0.992512\n",
      "5  \t410   \t0.91915 \t0.481105\t0.992512\n",
      "6  \t432   \t0.927741\t0.484529\t0.992512\n",
      "7  \t433   \t0.92353 \t0.48291 \t0.992512\n",
      "8  \t425   \t0.929593\t0.485671\t0.992512\n",
      "9  \t427   \t0.932465\t0.488072\t0.992512\n",
      "10 \t412   \t0.918794\t0.483889\t0.992512\n",
      "synthetic neighborhood class counts {0: 468, 1: 242, 2: 94, 3: 186, 4: 108, 5: 2}\n",
      "Fitting 3 folds for each of 200 candidates, totalling 600 fits\n"
     ]
    },
    {
     "name": "stderr",
     "output_type": "stream",
     "text": [
      "[Parallel(n_jobs=-1)]: Using backend LokyBackend with 4 concurrent workers.\n",
      "[Parallel(n_jobs=-1)]: Done 211 tasks      | elapsed:    2.0s\n",
      "[Parallel(n_jobs=-1)]: Done 600 out of 600 | elapsed:    2.6s finished\n"
     ]
    },
    {
     "name": "stdout",
     "output_type": "stream",
     "text": [
      "21 / 50\n",
      "\n",
      "Neighborhood Generation\n",
      "calculating feature values\n",
      "gen\tnevals\tavg     \tmin     \tmax     \n",
      "0  \t500   \t0.496654\t0.496654\t0.496654\n",
      "1  \t421   \t0.615317\t0.471017\t0.992162\n",
      "2  \t428   \t0.74689 \t0.470563\t0.993295\n",
      "3  \t427   \t0.796083\t0.469597\t0.993264\n",
      "4  \t424   \t0.824327\t0.475308\t0.993264\n",
      "5  \t422   \t0.826905\t0.467387\t0.993264\n",
      "6  \t428   \t0.830066\t0.473769\t0.993264\n",
      "7  \t425   \t0.844312\t0.452773\t0.993264\n",
      "8  \t437   \t0.848886\t0.473022\t0.993264\n",
      "9  \t428   \t0.836368\t0.476782\t0.993207\n",
      "10 \t430   \t0.856594\t0.462098\t0.993207\n",
      "gen\tnevals\tavg\tmin\tmax\n",
      "0  \t500   \t0.5\t0.5\t0.5\n",
      "1  \t426   \t0.618043\t0.48831\t0.991901\n",
      "2  \t438   \t0.805733\t0.476553\t0.992268\n",
      "3  \t428   \t0.907617\t0.482096\t0.992274\n",
      "4  \t429   \t0.93308 \t0.485198\t0.992274\n",
      "5  \t410   \t0.938532\t0.481649\t0.9915  \n",
      "6  \t432   \t0.948756\t0.488891\t0.991597\n",
      "7  \t433   \t0.948814\t0.489962\t0.991924\n",
      "8  \t425   \t0.935829\t0.473967\t0.991662\n",
      "9  \t427   \t0.949599\t0.480148\t0.992287\n",
      "10 \t412   \t0.951601\t0.491261\t0.992018\n",
      "synthetic neighborhood class counts {0: 485, 1: 440, 2: 38, 3: 43, 4: 94}\n",
      "Fitting 3 folds for each of 200 candidates, totalling 600 fits\n"
     ]
    },
    {
     "name": "stderr",
     "output_type": "stream",
     "text": [
      "[Parallel(n_jobs=-1)]: Using backend LokyBackend with 4 concurrent workers.\n",
      "[Parallel(n_jobs=-1)]: Done 600 out of 600 | elapsed:    2.1s finished\n"
     ]
    },
    {
     "name": "stdout",
     "output_type": "stream",
     "text": [
      "22 / 50\n",
      "\n",
      "Neighborhood Generation\n",
      "calculating feature values\n",
      "gen\tnevals\tavg     \tmin     \tmax     \n",
      "0  \t500   \t0.496654\t0.496654\t0.496654\n",
      "1  \t421   \t0.713154\t0.480662\t0.992476\n",
      "2  \t428   \t0.861376\t0.459225\t0.993284\n",
      "3  \t427   \t0.911486\t0.472595\t0.993227\n",
      "4  \t424   \t0.900535\t0.476844\t0.993227\n",
      "5  \t422   \t0.912473\t0.480666\t0.993157\n",
      "6  \t428   \t0.919662\t0.473138\t0.993157\n",
      "7  \t425   \t0.918644\t0.475941\t0.993157\n",
      "8  \t437   \t0.923966\t0.482333\t0.993157\n",
      "9  \t428   \t0.925613\t0.473731\t0.993132\n",
      "10 \t430   \t0.918242\t0.473732\t0.993155\n",
      "gen\tnevals\tavg\tmin\tmax\n",
      "0  \t500   \t0.5\t0.5\t0.5\n",
      "1  \t426   \t0.541154\t0.487796\t0.990475\n",
      "2  \t438   \t0.633334\t0.484365\t0.991463\n",
      "3  \t428   \t0.743162\t0.483843\t0.990475\n",
      "4  \t429   \t0.8487  \t0.484104\t0.990475\n",
      "5  \t410   \t0.892835\t0.478819\t0.990689\n",
      "6  \t432   \t0.911374\t0.484085\t0.991145\n",
      "7  \t433   \t0.895506\t0.481784\t0.99075 \n",
      "8  \t425   \t0.897091\t0.48561 \t0.990727\n",
      "9  \t427   \t0.893935\t0.487749\t0.990727\n",
      "10 \t412   \t0.885376\t0.481235\t0.99145 \n",
      "synthetic neighborhood class counts {0: 52, 1: 34, 2: 14, 3: 414, 4: 572, 5: 14}\n",
      "Fitting 3 folds for each of 200 candidates, totalling 600 fits\n"
     ]
    },
    {
     "name": "stderr",
     "output_type": "stream",
     "text": [
      "[Parallel(n_jobs=-1)]: Using backend LokyBackend with 4 concurrent workers.\n",
      "[Parallel(n_jobs=-1)]: Done 600 out of 600 | elapsed:    2.2s finished\n"
     ]
    },
    {
     "name": "stdout",
     "output_type": "stream",
     "text": [
      "23 / 50\n",
      "\n",
      "Neighborhood Generation\n",
      "calculating feature values\n",
      "gen\tnevals\tavg     \tmin     \tmax     \n",
      "0  \t500   \t0.496654\t0.496654\t0.496654\n",
      "1  \t421   \t0.667326\t0.469909\t0.991844\n",
      "2  \t428   \t0.790342\t0.451108\t0.99329 \n",
      "3  \t427   \t0.819885\t0.459476\t0.993294\n",
      "4  \t424   \t0.819868\t0.45462 \t0.993294\n",
      "5  \t422   \t0.825372\t0.46314 \t0.993045\n",
      "6  \t428   \t0.839323\t0.452501\t0.993045\n",
      "7  \t425   \t0.850782\t0.473489\t0.993045\n",
      "8  \t437   \t0.873694\t0.45919 \t0.992996\n",
      "9  \t428   \t0.850166\t0.470828\t0.993152\n",
      "10 \t430   \t0.852555\t0.457522\t0.993152\n",
      "gen\tnevals\tavg\tmin\tmax\n",
      "0  \t500   \t0.5\t0.5\t0.5\n",
      "1  \t426   \t0.577053\t0.487784\t0.989512\n",
      "2  \t438   \t0.73132 \t0.475892\t0.990466\n",
      "3  \t428   \t0.887816\t0.475145\t0.989681\n",
      "4  \t429   \t0.931145\t0.478623\t0.989537\n",
      "5  \t410   \t0.93843 \t0.480844\t0.990224\n",
      "6  \t432   \t0.940001\t0.474533\t0.990572\n",
      "7  \t433   \t0.93951 \t0.483634\t0.990802\n",
      "8  \t425   \t0.936938\t0.466792\t0.990802\n",
      "9  \t427   \t0.937708\t0.471251\t0.990802\n",
      "10 \t412   \t0.945387\t0.483268\t0.990802\n",
      "synthetic neighborhood class counts {0: 244, 1: 280, 2: 438, 3: 40, 4: 98}\n",
      "Fitting 3 folds for each of 200 candidates, totalling 600 fits\n"
     ]
    },
    {
     "name": "stderr",
     "output_type": "stream",
     "text": [
      "[Parallel(n_jobs=-1)]: Using backend LokyBackend with 4 concurrent workers.\n",
      "[Parallel(n_jobs=-1)]: Done 600 out of 600 | elapsed:    2.5s finished\n"
     ]
    },
    {
     "name": "stdout",
     "output_type": "stream",
     "text": [
      "24 / 50\n",
      "\n",
      "Neighborhood Generation\n",
      "calculating feature values\n",
      "gen\tnevals\tavg     \tmin     \tmax     \n",
      "0  \t500   \t0.496654\t0.496654\t0.496654\n",
      "1  \t421   \t0.626735\t0.485999\t0.992408\n",
      "2  \t428   \t0.787798\t0.467722\t0.992963\n",
      "3  \t427   \t0.83964 \t0.474362\t0.992963\n",
      "4  \t424   \t0.853989\t0.480173\t0.992963\n",
      "5  \t422   \t0.863566\t0.474184\t0.992988\n",
      "6  \t428   \t0.876454\t0.478145\t0.993095\n",
      "7  \t425   \t0.870782\t0.475035\t0.993213\n",
      "8  \t437   \t0.879197\t0.483322\t0.993213\n",
      "9  \t428   \t0.865324\t0.474407\t0.99316 \n",
      "10 \t430   \t0.860634\t0.47461 \t0.99316 \n",
      "gen\tnevals\tavg\tmin\tmax\n",
      "0  \t500   \t0.5\t0.5\t0.5\n",
      "1  \t426   \t0.610917\t0.487673\t0.990924\n",
      "2  \t438   \t0.778976\t0.486999\t0.991858\n",
      "3  \t428   \t0.903997\t0.4877  \t0.991858\n",
      "4  \t429   \t0.902683\t0.486727\t0.991858\n",
      "5  \t410   \t0.931847\t0.488355\t0.991858\n",
      "6  \t432   \t0.922223\t0.488352\t0.991858\n",
      "7  \t433   \t0.909437\t0.487767\t0.991858\n",
      "8  \t425   \t0.933253\t0.486173\t0.991858\n",
      "9  \t427   \t0.929087\t0.484619\t0.991858\n",
      "10 \t412   \t0.921136\t0.486151\t0.991858\n",
      "synthetic neighborhood class counts {0: 35, 1: 9, 2: 13, 3: 477, 4: 562, 5: 4}\n",
      "Fitting 3 folds for each of 200 candidates, totalling 600 fits\n"
     ]
    },
    {
     "name": "stderr",
     "output_type": "stream",
     "text": [
      "[Parallel(n_jobs=-1)]: Using backend LokyBackend with 4 concurrent workers.\n",
      "[Parallel(n_jobs=-1)]: Done 600 out of 600 | elapsed:    2.7s finished\n"
     ]
    },
    {
     "name": "stdout",
     "output_type": "stream",
     "text": [
      "25 / 50\n",
      "\n",
      "Neighborhood Generation\n",
      "calculating feature values\n",
      "gen\tnevals\tavg     \tmin     \tmax     \n",
      "0  \t500   \t0.496654\t0.496654\t0.496654\n",
      "1  \t421   \t0.683841\t0.480864\t0.992471\n",
      "2  \t428   \t0.820713\t0.457331\t0.993163\n",
      "3  \t427   \t0.870322\t0.474336\t0.993163\n",
      "4  \t424   \t0.881283\t0.453297\t0.993163\n",
      "5  \t422   \t0.888009\t0.48076 \t0.993287\n",
      "6  \t428   \t0.885587\t0.470999\t0.993287\n",
      "7  \t425   \t0.888849\t0.47393 \t0.993287\n",
      "8  \t437   \t0.908192\t0.482899\t0.993287\n",
      "9  \t428   \t0.904527\t0.469173\t0.993287\n",
      "10 \t430   \t0.882749\t0.475363\t0.993287\n",
      "gen\tnevals\tavg\tmin\tmax\n",
      "0  \t500   \t0.5\t0.5\t0.5\n",
      "1  \t426   \t0.56734\t0.488828\t0.990285\n",
      "2  \t438   \t0.685172\t0.482486\t0.991105\n",
      "3  \t428   \t0.819697\t0.482529\t0.991105\n",
      "4  \t429   \t0.88812 \t0.475438\t0.991212\n",
      "5  \t410   \t0.912342\t0.48028 \t0.991212\n",
      "6  \t432   \t0.905806\t0.475465\t0.991462\n",
      "7  \t433   \t0.913742\t0.482414\t0.991261\n",
      "8  \t425   \t0.902722\t0.478915\t0.991007\n",
      "9  \t427   \t0.900348\t0.484957\t0.991219\n",
      "10 \t412   \t0.897367\t0.485502\t0.991298\n",
      "synthetic neighborhood class counts {0: 52, 1: 94, 2: 25, 3: 399, 4: 523, 5: 7}\n",
      "Fitting 3 folds for each of 200 candidates, totalling 600 fits\n"
     ]
    },
    {
     "name": "stderr",
     "output_type": "stream",
     "text": [
      "[Parallel(n_jobs=-1)]: Using backend LokyBackend with 4 concurrent workers.\n",
      "[Parallel(n_jobs=-1)]: Done 600 out of 600 | elapsed:    2.2s finished\n"
     ]
    },
    {
     "name": "stdout",
     "output_type": "stream",
     "text": [
      "26 / 50\n",
      "\n",
      "Neighborhood Generation\n",
      "calculating feature values\n",
      "gen\tnevals\tavg     \tmin     \tmax     \n",
      "0  \t500   \t0.496654\t0.496654\t0.496654\n",
      "1  \t421   \t0.637265\t0.470512\t0.992002\n",
      "2  \t428   \t0.765536\t0.457272\t0.993233\n",
      "3  \t427   \t0.793797\t0.454859\t0.993233\n",
      "4  \t424   \t0.807025\t0.457055\t0.993233\n",
      "5  \t422   \t0.810414\t0.453096\t0.993233\n",
      "6  \t428   \t0.815646\t0.439746\t0.993233\n",
      "7  \t425   \t0.827622\t0.455701\t0.993233\n",
      "8  \t437   \t0.849388\t0.468644\t0.993233\n",
      "9  \t428   \t0.83276 \t0.476462\t0.993197\n",
      "10 \t430   \t0.832881\t0.430896\t0.993197\n",
      "gen\tnevals\tavg\tmin\tmax\n",
      "0  \t500   \t0.5\t0.5\t0.5\n",
      "1  \t426   \t0.600496\t0.486084\t0.990369\n",
      "2  \t438   \t0.778876\t0.479381\t0.990554\n",
      "3  \t428   \t0.906128\t0.471414\t0.990748\n",
      "4  \t429   \t0.939985\t0.4816  \t0.990826\n",
      "5  \t410   \t0.950308\t0.470382\t0.991056\n",
      "6  \t432   \t0.948249\t0.474707\t0.991052\n",
      "7  \t433   \t0.942884\t0.485829\t0.991038\n",
      "8  \t425   \t0.944304\t0.473954\t0.991295\n",
      "9  \t427   \t0.946343\t0.456525\t0.991686\n",
      "10 \t412   \t0.940966\t0.484887\t0.99161 \n",
      "synthetic neighborhood class counts {0: 327, 1: 223, 2: 413, 3: 47, 4: 90}\n",
      "Fitting 3 folds for each of 200 candidates, totalling 600 fits\n"
     ]
    },
    {
     "name": "stderr",
     "output_type": "stream",
     "text": [
      "[Parallel(n_jobs=-1)]: Using backend LokyBackend with 4 concurrent workers.\n",
      "[Parallel(n_jobs=-1)]: Done 600 out of 600 | elapsed:    2.3s finished\n"
     ]
    },
    {
     "name": "stdout",
     "output_type": "stream",
     "text": [
      "27 / 50\n",
      "\n",
      "Neighborhood Generation\n",
      "calculating feature values\n",
      "gen\tnevals\tavg     \tmin     \tmax     \n",
      "0  \t500   \t0.496654\t0.496654\t0.496654\n",
      "1  \t421   \t0.690674\t0.44361 \t0.992086\n",
      "2  \t428   \t0.848361\t0.476405\t0.99325 \n",
      "3  \t427   \t0.886345\t0.460793\t0.99323 \n",
      "4  \t424   \t0.871987\t0.46643 \t0.99323 \n",
      "5  \t422   \t0.892637\t0.472586\t0.993149\n",
      "6  \t428   \t0.896119\t0.465808\t0.993149\n",
      "7  \t425   \t0.900462\t0.474733\t0.993149\n",
      "8  \t437   \t0.917199\t0.475578\t0.993028\n",
      "9  \t428   \t0.905684\t0.468603\t0.993303\n",
      "10 \t430   \t0.91388 \t0.476229\t0.993249\n",
      "gen\tnevals\tavg\tmin\tmax\n",
      "0  \t500   \t0.5\t0.5\t0.5\n",
      "1  \t426   \t0.548384\t0.482716\t0.990019\n",
      "2  \t438   \t0.646011\t0.480849\t0.989801\n",
      "3  \t428   \t0.782807\t0.475261\t0.990441\n",
      "4  \t429   \t0.887   \t0.457914\t0.989419\n",
      "5  \t410   \t0.89711 \t0.464081\t0.9896  \n",
      "6  \t432   \t0.923585\t0.480969\t0.989858\n",
      "7  \t433   \t0.921559\t0.480668\t0.989779\n",
      "8  \t425   \t0.920818\t0.482294\t0.99029 \n",
      "9  \t427   \t0.924514\t0.480869\t0.990058\n",
      "10 \t412   \t0.913358\t0.461705\t0.990329\n",
      "synthetic neighborhood class counts {0: 534, 1: 103, 2: 115, 3: 106, 4: 242}\n",
      "Fitting 3 folds for each of 200 candidates, totalling 600 fits\n"
     ]
    },
    {
     "name": "stderr",
     "output_type": "stream",
     "text": [
      "[Parallel(n_jobs=-1)]: Using backend LokyBackend with 4 concurrent workers.\n",
      "[Parallel(n_jobs=-1)]: Done 600 out of 600 | elapsed:    2.1s finished\n"
     ]
    },
    {
     "name": "stdout",
     "output_type": "stream",
     "text": [
      "28 / 50\n",
      "\n",
      "Neighborhood Generation\n",
      "calculating feature values\n",
      "gen\tnevals\tavg     \tmin     \tmax     \n",
      "0  \t500   \t0.496654\t0.496654\t0.496654\n",
      "1  \t421   \t0.681862\t0.487465\t0.992044\n",
      "2  \t428   \t0.820749\t0.471602\t0.993228\n",
      "3  \t427   \t0.884842\t0.470576\t0.993244\n",
      "4  \t424   \t0.876077\t0.477201\t0.993244\n",
      "5  \t422   \t0.885886\t0.47027 \t0.993228\n",
      "6  \t428   \t0.889687\t0.468982\t0.993228\n",
      "7  \t425   \t0.897663\t0.46758 \t0.993296\n",
      "8  \t437   \t0.903303\t0.480623\t0.993296\n",
      "9  \t428   \t0.892599\t0.479246\t0.993189\n",
      "10 \t430   \t0.886309\t0.478457\t0.993272\n",
      "gen\tnevals\tavg\tmin\tmax\n",
      "0  \t500   \t0.5\t0.5\t0.5\n",
      "1  \t426   \t0.574738\t0.483493\t0.991172\n",
      "2  \t438   \t0.708661\t0.472748\t0.992351\n",
      "3  \t428   \t0.84218 \t0.479081\t0.99133 \n",
      "4  \t429   \t0.883061\t0.468534\t0.99102 \n",
      "5  \t410   \t0.911912\t0.477234\t0.991481\n",
      "6  \t432   \t0.913935\t0.479907\t0.991419\n",
      "7  \t433   \t0.903725\t0.476471\t0.991699\n",
      "8  \t425   \t0.918252\t0.483208\t0.991699\n",
      "9  \t427   \t0.922313\t0.480865\t0.991699\n",
      "10 \t412   \t0.903049\t0.47299 \t0.991699\n",
      "synthetic neighborhood class counts {0: 510, 1: 421, 2: 48, 3: 53, 4: 66, 5: 2}\n",
      "Fitting 3 folds for each of 200 candidates, totalling 600 fits\n"
     ]
    },
    {
     "name": "stderr",
     "output_type": "stream",
     "text": [
      "[Parallel(n_jobs=-1)]: Using backend LokyBackend with 4 concurrent workers.\n",
      "[Parallel(n_jobs=-1)]: Done 600 out of 600 | elapsed:    2.2s finished\n"
     ]
    },
    {
     "name": "stdout",
     "output_type": "stream",
     "text": [
      "29 / 50\n",
      "\n",
      "Neighborhood Generation\n",
      "calculating feature values\n",
      "gen\tnevals\tavg     \tmin     \tmax     \n",
      "0  \t500   \t0.496654\t0.496654\t0.496654\n",
      "1  \t421   \t0.584213\t0.47218 \t0.992458\n",
      "2  \t428   \t0.688017\t0.473475\t0.993271\n",
      "3  \t427   \t0.732532\t0.461972\t0.993279\n",
      "4  \t424   \t0.74728 \t0.464027\t0.993279\n",
      "5  \t422   \t0.757889\t0.476882\t0.993163\n",
      "6  \t428   \t0.759397\t0.472968\t0.993287\n",
      "7  \t425   \t0.780791\t0.469751\t0.993287\n",
      "8  \t437   \t0.799814\t0.474387\t0.993287\n",
      "9  \t428   \t0.773077\t0.465573\t0.993287\n",
      "10 \t430   \t0.761586\t0.471073\t0.993135\n",
      "gen\tnevals\tavg\tmin\tmax\n",
      "0  \t500   \t0.5\t0.5\t0.5\n",
      "1  \t426   \t0.648547\t0.489574\t0.9915\n",
      "2  \t438   \t0.879874\t0.486148\t0.992354\n",
      "3  \t428   \t0.962735\t0.486746\t0.992354\n",
      "4  \t429   \t0.971579\t0.490868\t0.992354\n",
      "5  \t410   \t0.970152\t0.492944\t0.991632\n",
      "6  \t432   \t0.968778\t0.483544\t0.991692\n",
      "7  \t433   \t0.967204\t0.490053\t0.991692\n",
      "8  \t425   \t0.973212\t0.493529\t0.991692\n",
      "9  \t427   \t0.96749 \t0.486251\t0.992022\n",
      "10 \t412   \t0.969938\t0.493184\t0.991768\n",
      "synthetic neighborhood class counts {0: 50, 1: 7, 2: 19, 3: 460, 4: 229, 5: 335}\n",
      "Fitting 3 folds for each of 200 candidates, totalling 600 fits\n"
     ]
    },
    {
     "name": "stderr",
     "output_type": "stream",
     "text": [
      "[Parallel(n_jobs=-1)]: Using backend LokyBackend with 4 concurrent workers.\n",
      "[Parallel(n_jobs=-1)]: Done 600 out of 600 | elapsed:    2.2s finished\n"
     ]
    },
    {
     "name": "stdout",
     "output_type": "stream",
     "text": [
      "30 / 50\n",
      "\n",
      "Neighborhood Generation\n",
      "calculating feature values\n",
      "gen\tnevals\tavg     \tmin     \tmax     \n",
      "0  \t500   \t0.496654\t0.496654\t0.496654\n",
      "1  \t421   \t0.575284\t0.477107\t0.992465\n",
      "2  \t428   \t0.670142\t0.472501\t0.993296\n",
      "3  \t427   \t0.70992 \t0.462668\t0.993296\n",
      "4  \t424   \t0.730992\t0.469776\t0.99327 \n",
      "5  \t422   \t0.738678\t0.469848\t0.99327 \n",
      "6  \t428   \t0.735948\t0.471843\t0.993271\n",
      "7  \t425   \t0.754115\t0.473642\t0.99327 \n",
      "8  \t437   \t0.77456 \t0.474603\t0.99327 \n",
      "9  \t428   \t0.758265\t0.463581\t0.993246\n",
      "10 \t430   \t0.743085\t0.472229\t0.993305\n",
      "gen\tnevals\tavg\tmin\tmax\n",
      "0  \t500   \t0.5\t0.5\t0.5\n",
      "1  \t426   \t0.652528\t0.490427\t0.991457\n",
      "2  \t438   \t0.887939\t0.485319\t0.992635\n",
      "3  \t428   \t0.973732\t0.490335\t0.992635\n",
      "4  \t429   \t0.973884\t0.493518\t0.992635\n",
      "5  \t410   \t0.976418\t0.489825\t0.991769\n",
      "6  \t432   \t0.969353\t0.485374\t0.992362\n",
      "7  \t433   \t0.976127\t0.494089\t0.992362\n",
      "8  \t425   \t0.975125\t0.491049\t0.992203\n",
      "9  \t427   \t0.976519\t0.494017\t0.99242 \n",
      "10 \t412   \t0.97205 \t0.490656\t0.99244 \n",
      "synthetic neighborhood class counts {0: 38, 1: 12, 2: 19, 3: 537, 4: 183, 5: 311}\n",
      "Fitting 3 folds for each of 200 candidates, totalling 600 fits\n"
     ]
    },
    {
     "name": "stderr",
     "output_type": "stream",
     "text": [
      "[Parallel(n_jobs=-1)]: Using backend LokyBackend with 4 concurrent workers.\n",
      "[Parallel(n_jobs=-1)]: Done 600 out of 600 | elapsed:    2.4s finished\n"
     ]
    },
    {
     "name": "stdout",
     "output_type": "stream",
     "text": [
      "31 / 50\n",
      "\n",
      "Neighborhood Generation\n",
      "calculating feature values\n",
      "gen\tnevals\tavg     \tmin     \tmax     \n",
      "0  \t500   \t0.496654\t0.496654\t0.496654\n",
      "1  \t421   \t0.622258\t0.480122\t0.990942\n",
      "2  \t428   \t0.731898\t0.463044\t0.991949\n",
      "3  \t427   \t0.765957\t0.469491\t0.991949\n",
      "4  \t424   \t0.811228\t0.462138\t0.991931\n",
      "5  \t422   \t0.828732\t0.465263\t0.991931\n",
      "6  \t428   \t0.839133\t0.465959\t0.991931\n",
      "7  \t425   \t0.840358\t0.467367\t0.992335\n",
      "8  \t437   \t0.842548\t0.469863\t0.992335\n",
      "9  \t428   \t0.849185\t0.479099\t0.992335\n",
      "10 \t430   \t0.836504\t0.467517\t0.992335\n",
      "gen\tnevals\tavg\tmin\tmax\n",
      "0  \t500   \t0.5\t0.5\t0.5\n",
      "1  \t426   \t0.626184\t0.487961\t0.990483\n",
      "2  \t438   \t0.805821\t0.487174\t0.990943\n",
      "3  \t428   \t0.8941  \t0.479409\t0.990943\n",
      "4  \t429   \t0.934114\t0.485647\t0.990934\n",
      "5  \t410   \t0.940173\t0.470702\t0.990772\n",
      "6  \t432   \t0.935842\t0.481094\t0.990772\n",
      "7  \t433   \t0.944095\t0.481793\t0.990772\n",
      "8  \t425   \t0.945498\t0.473209\t0.990243\n",
      "9  \t427   \t0.939942\t0.478533\t0.991242\n",
      "10 \t412   \t0.951536\t0.487195\t0.990624\n",
      "synthetic neighborhood class counts {0: 480, 1: 401, 2: 89, 3: 65, 4: 65}\n",
      "Fitting 3 folds for each of 200 candidates, totalling 600 fits\n"
     ]
    },
    {
     "name": "stderr",
     "output_type": "stream",
     "text": [
      "[Parallel(n_jobs=-1)]: Using backend LokyBackend with 4 concurrent workers.\n",
      "[Parallel(n_jobs=-1)]: Done 600 out of 600 | elapsed:    2.1s finished\n"
     ]
    },
    {
     "name": "stdout",
     "output_type": "stream",
     "text": [
      "32 / 50\n",
      "\n",
      "Neighborhood Generation\n",
      "calculating feature values\n",
      "gen\tnevals\tavg     \tmin     \tmax     \n",
      "0  \t500   \t0.496654\t0.496654\t0.496654\n",
      "1  \t421   \t0.562404\t0.479736\t0.991914\n",
      "2  \t428   \t0.643768\t0.472878\t0.993307\n",
      "3  \t427   \t0.691379\t0.473392\t0.993307\n",
      "4  \t424   \t0.704482\t0.46843 \t0.993305\n",
      "5  \t422   \t0.734324\t0.475131\t0.993281\n",
      "6  \t428   \t0.752581\t0.462818\t0.993238\n",
      "7  \t425   \t0.773239\t0.475102\t0.993238\n",
      "8  \t437   \t0.780547\t0.476666\t0.993248\n",
      "9  \t428   \t0.765314\t0.475366\t0.993257\n",
      "10 \t430   \t0.757387\t0.476583\t0.993257\n",
      "gen\tnevals\tavg\tmin\tmax\n",
      "0  \t500   \t0.5\t0.5\t0.5\n",
      "1  \t426   \t0.662103\t0.49364\t0.991999\n",
      "2  \t438   \t0.894429\t0.492367\t0.991999\n",
      "3  \t428   \t0.970273\t0.493112\t0.992104\n",
      "4  \t429   \t0.967706\t0.489433\t0.992104\n",
      "5  \t410   \t0.974527\t0.494696\t0.992084\n",
      "6  \t432   \t0.966246\t0.489354\t0.992084\n",
      "7  \t433   \t0.969705\t0.490834\t0.992084\n",
      "8  \t425   \t0.975971\t0.493328\t0.992084\n",
      "9  \t427   \t0.976018\t0.491065\t0.992213\n",
      "10 \t412   \t0.973891\t0.495018\t0.992429\n",
      "synthetic neighborhood class counts {0: 51, 1: 25, 2: 22, 3: 516, 4: 163, 5: 323}\n",
      "Fitting 3 folds for each of 200 candidates, totalling 600 fits\n"
     ]
    },
    {
     "name": "stderr",
     "output_type": "stream",
     "text": [
      "[Parallel(n_jobs=-1)]: Using backend LokyBackend with 4 concurrent workers.\n",
      "[Parallel(n_jobs=-1)]: Done 600 out of 600 | elapsed:    2.2s finished\n"
     ]
    },
    {
     "name": "stdout",
     "output_type": "stream",
     "text": [
      "33 / 50\n",
      "\n",
      "Neighborhood Generation\n",
      "calculating feature values\n",
      "gen\tnevals\tavg     \tmin     \tmax     \n",
      "0  \t500   \t0.496654\t0.496654\t0.496654\n",
      "1  \t421   \t0.709443\t0.412736\t0.99074 \n",
      "2  \t428   \t0.831741\t0.349566\t0.993298\n",
      "3  \t427   \t0.848929\t0.311447\t0.993298\n",
      "4  \t424   \t0.851687\t0.340967\t0.993298\n",
      "5  \t422   \t0.849982\t0.378603\t0.993188\n",
      "6  \t428   \t0.866062\t0.367602\t0.993188\n",
      "7  \t425   \t0.875693\t0.40233 \t0.993188\n",
      "8  \t437   \t0.906949\t0.418036\t0.993188\n",
      "9  \t428   \t0.8935  \t0.37707 \t0.993188\n",
      "10 \t430   \t0.885631\t0.386647\t0.993188\n",
      "gen\tnevals\tavg\tmin\tmax\n",
      "0  \t500   \t0.5\t0.5\t0.5\n",
      "1  \t426   \t0.533642\t0.438179\t0.983939\n",
      "2  \t438   \t0.627299\t0.420455\t0.98533 \n",
      "3  \t428   \t0.774883\t0.419172\t0.986064\n",
      "4  \t429   \t0.876629\t0.420815\t0.986064\n",
      "5  \t410   \t0.909324\t0.38601 \t0.986064\n",
      "6  \t432   \t0.910764\t0.424329\t0.986724\n",
      "7  \t433   \t0.909248\t0.417675\t0.987417\n",
      "8  \t425   \t0.917636\t0.409304\t0.987417\n",
      "9  \t427   \t0.917625\t0.447346\t0.987417\n",
      "10 \t412   \t0.919266\t0.406355\t0.987893\n",
      "synthetic neighborhood class counts {0: 461, 1: 111, 2: 485, 3: 18, 4: 24, 5: 1}\n",
      "Fitting 3 folds for each of 200 candidates, totalling 600 fits\n"
     ]
    },
    {
     "name": "stderr",
     "output_type": "stream",
     "text": [
      "[Parallel(n_jobs=-1)]: Using backend LokyBackend with 4 concurrent workers.\n",
      "[Parallel(n_jobs=-1)]: Done 600 out of 600 | elapsed:    2.2s finished\n"
     ]
    },
    {
     "name": "stdout",
     "output_type": "stream",
     "text": [
      "34 / 50\n",
      "\n",
      "Neighborhood Generation\n",
      "calculating feature values\n",
      "gen\tnevals\tavg     \tmin     \tmax     \n",
      "0  \t500   \t0.496654\t0.496654\t0.496654\n",
      "1  \t421   \t0.599464\t0.476191\t0.99206 \n",
      "2  \t428   \t0.692812\t0.45571 \t0.993307\n",
      "3  \t427   \t0.743555\t0.461504\t0.993307\n",
      "4  \t424   \t0.761704\t0.450764\t0.993307\n",
      "5  \t422   \t0.783005\t0.466865\t0.9933  \n",
      "6  \t428   \t0.779679\t0.469802\t0.993223\n",
      "7  \t425   \t0.791555\t0.465513\t0.993223\n",
      "8  \t437   \t0.796041\t0.477122\t0.99321 \n",
      "9  \t428   \t0.7826  \t0.468542\t0.99321 \n",
      "10 \t430   \t0.77684 \t0.472915\t0.993299\n",
      "gen\tnevals\tavg\tmin\tmax\n",
      "0  \t500   \t0.5\t0.5\t0.5\n",
      "1  \t426   \t0.633626\t0.484359\t0.99075\n",
      "2  \t438   \t0.85543 \t0.467156\t0.991341\n",
      "3  \t428   \t0.959799\t0.490195\t0.991619\n",
      "4  \t429   \t0.96167 \t0.48819 \t0.991619\n",
      "5  \t410   \t0.96573 \t0.488216\t0.991341\n",
      "6  \t432   \t0.972581\t0.482757\t0.991307\n",
      "7  \t433   \t0.960998\t0.488913\t0.99075 \n",
      "8  \t425   \t0.971899\t0.487162\t0.991183\n",
      "9  \t427   \t0.972189\t0.490998\t0.991183\n",
      "10 \t412   \t0.969696\t0.486396\t0.991011\n",
      "synthetic neighborhood class counts {0: 44, 1: 149, 2: 29, 3: 388, 4: 146, 5: 344}\n",
      "Fitting 3 folds for each of 200 candidates, totalling 600 fits\n"
     ]
    },
    {
     "name": "stderr",
     "output_type": "stream",
     "text": [
      "[Parallel(n_jobs=-1)]: Using backend LokyBackend with 4 concurrent workers.\n",
      "[Parallel(n_jobs=-1)]: Done 600 out of 600 | elapsed:    2.2s finished\n"
     ]
    },
    {
     "name": "stdout",
     "output_type": "stream",
     "text": [
      "35 / 50\n",
      "\n",
      "Neighborhood Generation\n",
      "calculating feature values\n",
      "gen\tnevals\tavg     \tmin     \tmax     \n",
      "0  \t500   \t0.496654\t0.496654\t0.496654\n",
      "1  \t421   \t0.659605\t0.481698\t0.992673\n",
      "2  \t428   \t0.800563\t0.475514\t0.993163\n",
      "3  \t427   \t0.864099\t0.48491 \t0.993211\n",
      "4  \t424   \t0.871176\t0.483114\t0.993211\n",
      "5  \t422   \t0.874424\t0.481187\t0.993163\n",
      "6  \t428   \t0.880419\t0.482929\t0.993163\n",
      "7  \t425   \t0.883081\t0.480114\t0.993163\n",
      "8  \t437   \t0.892398\t0.487578\t0.993163\n",
      "9  \t428   \t0.894   \t0.477304\t0.993017\n",
      "10 \t430   \t0.883824\t0.483897\t0.993155\n",
      "gen\tnevals\tavg\tmin\tmax\n",
      "0  \t500   \t0.5\t0.5\t0.5\n",
      "1  \t426   \t0.586253\t0.491219\t0.991402\n",
      "2  \t438   \t0.734561\t0.48733 \t0.992006\n",
      "3  \t428   \t0.852116\t0.488448\t0.99196 \n",
      "4  \t429   \t0.902783\t0.488377\t0.99196 \n",
      "5  \t410   \t0.914291\t0.484029\t0.99196 \n",
      "6  \t432   \t0.923543\t0.489734\t0.991862\n",
      "7  \t433   \t0.918802\t0.487637\t0.991867\n",
      "8  \t425   \t0.911826\t0.486858\t0.991867\n",
      "9  \t427   \t0.914712\t0.487325\t0.992055\n",
      "10 \t412   \t0.893518\t0.486941\t0.992055\n",
      "synthetic neighborhood class counts {0: 71, 1: 49, 2: 9, 3: 444, 4: 523, 5: 4}\n",
      "Fitting 3 folds for each of 200 candidates, totalling 600 fits\n"
     ]
    },
    {
     "name": "stderr",
     "output_type": "stream",
     "text": [
      "[Parallel(n_jobs=-1)]: Using backend LokyBackend with 4 concurrent workers.\n",
      "[Parallel(n_jobs=-1)]: Done 600 out of 600 | elapsed:    2.1s finished\n"
     ]
    },
    {
     "name": "stdout",
     "output_type": "stream",
     "text": [
      "36 / 50\n",
      "\n",
      "Neighborhood Generation\n",
      "calculating feature values\n",
      "gen\tnevals\tavg     \tmin     \tmax     \n",
      "0  \t500   \t0.496654\t0.496654\t0.496654\n",
      "1  \t421   \t0.547737\t0.486772\t0.992308\n",
      "2  \t428   \t0.62952 \t0.475394\t0.993293\n",
      "3  \t427   \t0.684901\t0.473509\t0.993293\n",
      "4  \t424   \t0.703286\t0.468265\t0.993293\n",
      "5  \t422   \t0.731967\t0.463555\t0.993293\n",
      "6  \t428   \t0.746164\t0.475733\t0.993293\n",
      "7  \t425   \t0.750989\t0.468737\t0.993293\n",
      "8  \t437   \t0.763016\t0.472281\t0.993293\n",
      "9  \t428   \t0.760102\t0.475192\t0.993293\n",
      "10 \t430   \t0.722081\t0.467712\t0.993293\n",
      "gen\tnevals\tavg\tmin\tmax\n",
      "0  \t500   \t0.5\t0.5\t0.5\n",
      "1  \t426   \t0.661189\t0.494415\t0.991645\n",
      "2  \t438   \t0.895862\t0.492231\t0.992017\n",
      "3  \t428   \t0.97402 \t0.492341\t0.992017\n",
      "4  \t429   \t0.973156\t0.487842\t0.992017\n",
      "5  \t410   \t0.97643 \t0.489666\t0.992125\n",
      "6  \t432   \t0.975744\t0.493301\t0.992227\n",
      "7  \t433   \t0.97845 \t0.491694\t0.992227\n",
      "8  \t425   \t0.973539\t0.492104\t0.992227\n",
      "9  \t427   \t0.97413 \t0.490465\t0.992227\n",
      "10 \t412   \t0.981635\t0.485057\t0.992219\n",
      "synthetic neighborhood class counts {0: 59, 1: 52, 2: 9, 3: 109, 4: 590, 5: 281}\n",
      "Fitting 3 folds for each of 200 candidates, totalling 600 fits\n"
     ]
    },
    {
     "name": "stderr",
     "output_type": "stream",
     "text": [
      "[Parallel(n_jobs=-1)]: Using backend LokyBackend with 4 concurrent workers.\n",
      "[Parallel(n_jobs=-1)]: Done 600 out of 600 | elapsed:    2.2s finished\n"
     ]
    },
    {
     "name": "stdout",
     "output_type": "stream",
     "text": [
      "37 / 50\n",
      "\n",
      "Neighborhood Generation\n",
      "calculating feature values\n",
      "gen\tnevals\tavg     \tmin     \tmax     \n",
      "0  \t500   \t0.496654\t0.496654\t0.496654\n",
      "1  \t421   \t0.5847  \t0.435747\t0.991134\n",
      "2  \t428   \t0.702637\t0.422826\t0.993295\n",
      "3  \t427   \t0.764005\t0.4335  \t0.993295\n",
      "4  \t424   \t0.783139\t0.450167\t0.993276\n",
      "5  \t422   \t0.784281\t0.450203\t0.99314 \n",
      "6  \t428   \t0.811871\t0.44789 \t0.993104\n",
      "7  \t425   \t0.808137\t0.446221\t0.993104\n",
      "8  \t437   \t0.825307\t0.425117\t0.992858\n",
      "9  \t428   \t0.8216  \t0.464502\t0.992847\n",
      "10 \t430   \t0.807174\t0.424168\t0.992847\n",
      "gen\tnevals\tavg\tmin\tmax\n",
      "0  \t500   \t0.5\t0.5\t0.5\n",
      "1  \t426   \t0.652843\t0.482346\t0.991115\n",
      "2  \t438   \t0.839441\t0.469395\t0.991304\n",
      "3  \t428   \t0.91425 \t0.473185\t0.991802\n",
      "4  \t429   \t0.930227\t0.468152\t0.991802\n",
      "5  \t410   \t0.94521 \t0.474499\t0.991919\n",
      "6  \t432   \t0.941023\t0.470999\t0.991414\n",
      "7  \t433   \t0.956253\t0.470367\t0.991992\n",
      "8  \t425   \t0.945757\t0.480031\t0.991471\n",
      "9  \t427   \t0.953766\t0.472457\t0.991471\n",
      "10 \t412   \t0.945691\t0.470547\t0.991679\n",
      "synthetic neighborhood class counts {0: 538, 1: 390, 2: 111, 3: 19, 4: 41, 5: 1}\n",
      "Fitting 3 folds for each of 200 candidates, totalling 600 fits\n"
     ]
    },
    {
     "name": "stderr",
     "output_type": "stream",
     "text": [
      "[Parallel(n_jobs=-1)]: Using backend LokyBackend with 4 concurrent workers.\n",
      "[Parallel(n_jobs=-1)]: Done 600 out of 600 | elapsed:    2.1s finished\n"
     ]
    },
    {
     "name": "stdout",
     "output_type": "stream",
     "text": [
      "38 / 50\n",
      "\n",
      "Neighborhood Generation\n",
      "calculating feature values\n",
      "gen\tnevals\tavg     \tmin     \tmax     \n",
      "0  \t500   \t0.496654\t0.496654\t0.496654\n",
      "1  \t421   \t0.5735  \t0.483796\t0.99232 \n",
      "2  \t428   \t0.671528\t0.456066\t0.993259\n",
      "3  \t427   \t0.720715\t0.474799\t0.99324 \n",
      "4  \t424   \t0.731959\t0.477878\t0.99324 \n",
      "5  \t422   \t0.750627\t0.476332\t0.993236\n",
      "6  \t428   \t0.760259\t0.467603\t0.993094\n",
      "7  \t425   \t0.772409\t0.476949\t0.993094\n",
      "8  \t437   \t0.778813\t0.473016\t0.993094\n",
      "9  \t428   \t0.769698\t0.473413\t0.993112\n",
      "10 \t430   \t0.755596\t0.477192\t0.993278\n",
      "gen\tnevals\tavg\tmin\tmax\n",
      "0  \t500   \t0.5\t0.5\t0.5\n",
      "1  \t426   \t0.641947\t0.488815\t0.991238\n",
      "2  \t438   \t0.865408\t0.486368\t0.992041\n",
      "3  \t428   \t0.967248\t0.49331 \t0.991828\n",
      "4  \t429   \t0.966184\t0.4852  \t0.99171 \n",
      "5  \t410   \t0.975263\t0.491962\t0.991512\n",
      "6  \t432   \t0.965944\t0.489   \t0.991694\n",
      "7  \t433   \t0.969624\t0.490939\t0.99184 \n",
      "8  \t425   \t0.972974\t0.491583\t0.99184 \n",
      "9  \t427   \t0.977485\t0.491732\t0.99184 \n",
      "10 \t412   \t0.978088\t0.49448 \t0.991847\n",
      "synthetic neighborhood class counts {0: 45, 1: 148, 2: 24, 3: 403, 4: 162, 5: 318}\n",
      "Fitting 3 folds for each of 200 candidates, totalling 600 fits\n"
     ]
    },
    {
     "name": "stderr",
     "output_type": "stream",
     "text": [
      "[Parallel(n_jobs=-1)]: Using backend LokyBackend with 4 concurrent workers.\n",
      "[Parallel(n_jobs=-1)]: Done 600 out of 600 | elapsed:    2.2s finished\n"
     ]
    },
    {
     "name": "stdout",
     "output_type": "stream",
     "text": [
      "39 / 50\n",
      "\n",
      "Neighborhood Generation\n",
      "calculating feature values\n",
      "gen\tnevals\tavg     \tmin     \tmax     \n",
      "0  \t500   \t0.496654\t0.496654\t0.496654\n",
      "1  \t421   \t0.603421\t0.481046\t0.991943\n",
      "2  \t428   \t0.720763\t0.451792\t0.992998\n",
      "3  \t427   \t0.76656 \t0.454909\t0.992998\n",
      "4  \t424   \t0.801078\t0.448893\t0.992915\n",
      "5  \t422   \t0.804388\t0.469087\t0.992915\n",
      "6  \t428   \t0.809695\t0.46099 \t0.992915\n",
      "7  \t425   \t0.82145 \t0.463526\t0.992915\n",
      "8  \t437   \t0.841721\t0.467712\t0.992915\n",
      "9  \t428   \t0.84515 \t0.471916\t0.992786\n",
      "10 \t430   \t0.83433 \t0.466562\t0.992786\n",
      "gen\tnevals\tavg\tmin\tmax\n",
      "0  \t500   \t0.5\t0.5\t0.5\n",
      "1  \t426   \t0.636233\t0.483458\t0.990926\n",
      "2  \t438   \t0.811197\t0.477765\t0.990926\n",
      "3  \t428   \t0.907175\t0.475978\t0.990926\n",
      "4  \t429   \t0.939714\t0.475444\t0.990533\n",
      "5  \t410   \t0.939552\t0.463141\t0.990778\n",
      "6  \t432   \t0.944304\t0.480731\t0.990778\n",
      "7  \t433   \t0.939067\t0.475318\t0.990778\n",
      "8  \t425   \t0.942309\t0.479431\t0.990658\n",
      "9  \t427   \t0.939025\t0.473085\t0.990658\n",
      "10 \t412   \t0.928421\t0.477649\t0.990831\n",
      "synthetic neighborhood class counts {0: 159, 1: 426, 2: 338, 3: 76, 4: 101}\n",
      "Fitting 3 folds for each of 200 candidates, totalling 600 fits\n"
     ]
    },
    {
     "name": "stderr",
     "output_type": "stream",
     "text": [
      "[Parallel(n_jobs=-1)]: Using backend LokyBackend with 4 concurrent workers.\n",
      "[Parallel(n_jobs=-1)]: Done 600 out of 600 | elapsed:    2.1s finished\n"
     ]
    },
    {
     "name": "stdout",
     "output_type": "stream",
     "text": [
      "40 / 50\n",
      "\n",
      "Neighborhood Generation\n",
      "calculating feature values\n",
      "gen\tnevals\tavg     \tmin     \tmax     \n",
      "0  \t500   \t0.496654\t0.496654\t0.496654\n",
      "1  \t421   \t0.565227\t0.483732\t0.992411\n",
      "2  \t428   \t0.650322\t0.469825\t0.993301\n",
      "3  \t427   \t0.701501\t0.465853\t0.993301\n",
      "4  \t424   \t0.736136\t0.477048\t0.993301\n",
      "5  \t422   \t0.740978\t0.467861\t0.993301\n",
      "6  \t428   \t0.747974\t0.455766\t0.993301\n",
      "7  \t425   \t0.765637\t0.474566\t0.993301\n",
      "8  \t437   \t0.785442\t0.479228\t0.993301\n",
      "9  \t428   \t0.762177\t0.473909\t0.993299\n",
      "10 \t430   \t0.75271 \t0.473003\t0.993294\n",
      "gen\tnevals\tavg\tmin\tmax\n",
      "0  \t500   \t0.5\t0.5\t0.5\n",
      "1  \t426   \t0.658259\t0.492659\t0.991347\n",
      "2  \t438   \t0.887137\t0.486717\t0.991903\n",
      "3  \t428   \t0.973884\t0.486916\t0.991903\n",
      "4  \t429   \t0.973677\t0.491518\t0.99182 \n",
      "5  \t410   \t0.972233\t0.493527\t0.99182 \n",
      "6  \t432   \t0.974232\t0.486161\t0.991903\n",
      "7  \t433   \t0.968841\t0.492033\t0.991903\n",
      "8  \t425   \t0.969653\t0.490204\t0.991939\n",
      "9  \t427   \t0.978047\t0.486322\t0.992077\n",
      "10 \t412   \t0.9736  \t0.488477\t0.992436\n",
      "synthetic neighborhood class counts {0: 30, 1: 9, 2: 27, 3: 551, 4: 163, 5: 320}\n",
      "Fitting 3 folds for each of 200 candidates, totalling 600 fits\n"
     ]
    },
    {
     "name": "stderr",
     "output_type": "stream",
     "text": [
      "[Parallel(n_jobs=-1)]: Using backend LokyBackend with 4 concurrent workers.\n",
      "[Parallel(n_jobs=-1)]: Done 600 out of 600 | elapsed:    2.4s finished\n"
     ]
    },
    {
     "name": "stdout",
     "output_type": "stream",
     "text": [
      "41 / 50\n",
      "\n",
      "Neighborhood Generation\n",
      "calculating feature values\n",
      "gen\tnevals\tavg     \tmin     \tmax     \n",
      "0  \t500   \t0.496654\t0.496654\t0.496654\n",
      "1  \t421   \t0.677175\t0.470967\t0.992159\n",
      "2  \t428   \t0.805174\t0.460067\t0.993293\n",
      "3  \t427   \t0.832988\t0.466324\t0.993293\n",
      "4  \t424   \t0.830993\t0.447262\t0.993293\n",
      "5  \t422   \t0.849124\t0.457334\t0.993293\n",
      "6  \t428   \t0.849575\t0.458093\t0.993293\n",
      "7  \t425   \t0.869155\t0.45991 \t0.993293\n",
      "8  \t437   \t0.897979\t0.436054\t0.993293\n",
      "9  \t428   \t0.87217 \t0.458624\t0.993293\n",
      "10 \t430   \t0.881192\t0.45295 \t0.993293\n",
      "gen\tnevals\tavg\tmin\tmax\n",
      "0  \t500   \t0.5\t0.5\t0.5\n",
      "1  \t426   \t0.567483\t0.485011\t0.990075\n",
      "2  \t438   \t0.717   \t0.479744\t0.990075\n",
      "3  \t428   \t0.879614\t0.456159\t0.990075\n",
      "4  \t429   \t0.924084\t0.463156\t0.990075\n",
      "5  \t410   \t0.938335\t0.470814\t0.990802\n",
      "6  \t432   \t0.935423\t0.474362\t0.990316\n",
      "7  \t433   \t0.929083\t0.464888\t0.990316\n",
      "8  \t425   \t0.933788\t0.475974\t0.990316\n",
      "9  \t427   \t0.937819\t0.480251\t0.990316\n",
      "10 \t412   \t0.93117 \t0.482133\t0.98994 \n",
      "synthetic neighborhood class counts {0: 291, 1: 253, 2: 472, 3: 26, 4: 58}\n",
      "Fitting 3 folds for each of 200 candidates, totalling 600 fits\n"
     ]
    },
    {
     "name": "stderr",
     "output_type": "stream",
     "text": [
      "[Parallel(n_jobs=-1)]: Using backend LokyBackend with 4 concurrent workers.\n",
      "[Parallel(n_jobs=-1)]: Done 600 out of 600 | elapsed:    2.2s finished\n"
     ]
    },
    {
     "name": "stdout",
     "output_type": "stream",
     "text": [
      "42 / 50\n",
      "\n",
      "Neighborhood Generation\n",
      "calculating feature values\n",
      "gen\tnevals\tavg     \tmin     \tmax     \n",
      "0  \t500   \t0.496654\t0.496654\t0.496654\n",
      "1  \t421   \t0.672001\t0.483478\t0.992327\n",
      "2  \t428   \t0.836551\t0.4637  \t0.993216\n",
      "3  \t427   \t0.848844\t0.467211\t0.993251\n",
      "4  \t424   \t0.86646 \t0.473726\t0.993251\n",
      "5  \t422   \t0.86511 \t0.469665\t0.993216\n",
      "6  \t428   \t0.887712\t0.46979 \t0.993216\n",
      "7  \t425   \t0.881141\t0.47131 \t0.993216\n",
      "8  \t437   \t0.89808 \t0.47917 \t0.993216\n",
      "9  \t428   \t0.881356\t0.466542\t0.99317 \n",
      "10 \t430   \t0.881355\t0.473891\t0.993175\n",
      "gen\tnevals\tavg\tmin\tmax\n",
      "0  \t500   \t0.5\t0.5\t0.5\n",
      "1  \t426   \t0.577306\t0.486045\t0.99194\n",
      "2  \t438   \t0.717383\t0.485913\t0.99149\n",
      "3  \t428   \t0.870634\t0.484238\t0.99149\n",
      "4  \t429   \t0.899943\t0.488936\t0.991303\n",
      "5  \t410   \t0.929918\t0.48501 \t0.991073\n",
      "6  \t432   \t0.918064\t0.486159\t0.990874\n",
      "7  \t433   \t0.908438\t0.48552 \t0.99161 \n",
      "8  \t425   \t0.927105\t0.484129\t0.99161 \n",
      "9  \t427   \t0.916108\t0.482568\t0.99161 \n",
      "10 \t412   \t0.911986\t0.486706\t0.99161 \n",
      "synthetic neighborhood class counts {0: 36, 1: 32, 2: 22, 3: 498, 4: 509, 5: 3}\n",
      "Fitting 3 folds for each of 200 candidates, totalling 600 fits\n"
     ]
    },
    {
     "name": "stderr",
     "output_type": "stream",
     "text": [
      "[Parallel(n_jobs=-1)]: Using backend LokyBackend with 4 concurrent workers.\n",
      "[Parallel(n_jobs=-1)]: Done 600 out of 600 | elapsed:    2.1s finished\n"
     ]
    },
    {
     "name": "stdout",
     "output_type": "stream",
     "text": [
      "43 / 50\n",
      "\n",
      "Neighborhood Generation\n",
      "calculating feature values\n",
      "gen\tnevals\tavg     \tmin     \tmax     \n",
      "0  \t500   \t0.496654\t0.496654\t0.496654\n",
      "1  \t421   \t0.661279\t0.480002\t0.991639\n",
      "2  \t428   \t0.80808 \t0.464491\t0.992666\n",
      "3  \t427   \t0.874187\t0.474842\t0.992144\n",
      "4  \t424   \t0.89108 \t0.478552\t0.992144\n",
      "5  \t422   \t0.88945 \t0.480167\t0.992471\n",
      "6  \t428   \t0.891524\t0.474884\t0.992471\n",
      "7  \t425   \t0.875459\t0.477621\t0.992471\n",
      "8  \t437   \t0.894409\t0.478832\t0.992471\n",
      "9  \t428   \t0.88626 \t0.476509\t0.992471\n",
      "10 \t430   \t0.876293\t0.473762\t0.992471\n",
      "gen\tnevals\tavg\tmin\tmax\n",
      "0  \t500   \t0.5\t0.5\t0.5\n",
      "1  \t426   \t0.5799\t0.492724\t0.987944\n",
      "2  \t438   \t0.720069\t0.489276\t0.987944\n",
      "3  \t428   \t0.820686\t0.487581\t0.988004\n",
      "4  \t429   \t0.875006\t0.481598\t0.988353\n",
      "5  \t410   \t0.898664\t0.483338\t0.989397\n",
      "6  \t432   \t0.904638\t0.481522\t0.989397\n",
      "7  \t433   \t0.903639\t0.486508\t0.989397\n",
      "8  \t425   \t0.918069\t0.486931\t0.98764 \n",
      "9  \t427   \t0.900666\t0.488925\t0.988802\n",
      "10 \t412   \t0.905921\t0.48279 \t0.988802\n",
      "synthetic neighborhood class counts {0: 246, 1: 135, 2: 72, 3: 139, 4: 475, 5: 33}\n",
      "Fitting 3 folds for each of 200 candidates, totalling 600 fits\n"
     ]
    },
    {
     "name": "stderr",
     "output_type": "stream",
     "text": [
      "[Parallel(n_jobs=-1)]: Using backend LokyBackend with 4 concurrent workers.\n",
      "[Parallel(n_jobs=-1)]: Done 600 out of 600 | elapsed:    2.1s finished\n"
     ]
    },
    {
     "name": "stdout",
     "output_type": "stream",
     "text": [
      "44 / 50\n",
      "\n",
      "Neighborhood Generation\n",
      "calculating feature values\n",
      "gen\tnevals\tavg     \tmin     \tmax     \n",
      "0  \t500   \t0.496654\t0.496654\t0.496654\n",
      "1  \t421   \t0.701977\t0.485108\t0.992001\n",
      "2  \t428   \t0.859009\t0.468406\t0.993289\n",
      "3  \t427   \t0.875738\t0.476783\t0.993289\n",
      "4  \t424   \t0.883301\t0.477406\t0.993289\n",
      "5  \t422   \t0.874681\t0.476421\t0.993286\n",
      "6  \t428   \t0.90297 \t0.478954\t0.993274\n",
      "7  \t425   \t0.894777\t0.475485\t0.993274\n",
      "8  \t437   \t0.903263\t0.483878\t0.993283\n",
      "9  \t428   \t0.900227\t0.47155 \t0.993295\n",
      "10 \t430   \t0.899662\t0.474576\t0.993295\n",
      "gen\tnevals\tavg\tmin\tmax\n",
      "0  \t500   \t0.5\t0.5\t0.5\n",
      "1  \t426   \t0.547431\t0.48794\t0.989351\n",
      "2  \t438   \t0.650211\t0.482549\t0.990706\n",
      "3  \t428   \t0.804577\t0.487791\t0.990779\n",
      "4  \t429   \t0.88594 \t0.485561\t0.990493\n",
      "5  \t410   \t0.922356\t0.485507\t0.990572\n",
      "6  \t432   \t0.915536\t0.485403\t0.990793\n",
      "7  \t433   \t0.914586\t0.485067\t0.990741\n",
      "8  \t425   \t0.93124 \t0.48135 \t0.990741\n",
      "9  \t427   \t0.921831\t0.47873 \t0.991364\n",
      "10 \t412   \t0.918979\t0.486008\t0.990905\n",
      "synthetic neighborhood class counts {0: 36, 1: 17, 2: 15, 3: 515, 4: 514, 5: 3}\n",
      "Fitting 3 folds for each of 200 candidates, totalling 600 fits\n"
     ]
    },
    {
     "name": "stderr",
     "output_type": "stream",
     "text": [
      "[Parallel(n_jobs=-1)]: Using backend LokyBackend with 4 concurrent workers.\n",
      "[Parallel(n_jobs=-1)]: Done 600 out of 600 | elapsed:    2.4s finished\n"
     ]
    },
    {
     "name": "stdout",
     "output_type": "stream",
     "text": [
      "45 / 50\n",
      "\n",
      "Neighborhood Generation\n",
      "calculating feature values\n",
      "gen\tnevals\tavg     \tmin     \tmax     \n",
      "0  \t500   \t0.496654\t0.496654\t0.496654\n",
      "1  \t421   \t0.55261 \t0.47012 \t0.991944\n",
      "2  \t428   \t0.63236 \t0.463101\t0.993307\n",
      "3  \t427   \t0.677665\t0.460751\t0.993307\n",
      "4  \t424   \t0.695408\t0.470486\t0.993306\n",
      "5  \t422   \t0.720419\t0.470043\t0.993306\n",
      "6  \t428   \t0.720719\t0.469561\t0.993306\n",
      "7  \t425   \t0.73381 \t0.4703  \t0.993306\n",
      "8  \t437   \t0.745837\t0.476824\t0.993306\n",
      "9  \t428   \t0.740755\t0.472852\t0.993306\n",
      "10 \t430   \t0.728951\t0.470582\t0.993306\n",
      "gen\tnevals\tavg\tmin\tmax\n",
      "0  \t500   \t0.5\t0.5\t0.5\n",
      "1  \t426   \t0.672475\t0.490732\t0.991686\n",
      "2  \t438   \t0.909636\t0.488009\t0.991686\n",
      "3  \t428   \t0.974154\t0.492006\t0.991898\n",
      "4  \t429   \t0.97621 \t0.482915\t0.991703\n",
      "5  \t410   \t0.970949\t0.488284\t0.992165\n",
      "6  \t432   \t0.977564\t0.483025\t0.991581\n",
      "7  \t433   \t0.970947\t0.4896  \t0.992001\n",
      "8  \t425   \t0.978405\t0.486499\t0.991713\n",
      "9  \t427   \t0.977543\t0.493348\t0.992175\n",
      "10 \t412   \t0.982179\t0.493242\t0.992232\n",
      "synthetic neighborhood class counts {0: 44, 1: 35, 2: 12, 3: 391, 4: 330, 5: 288}\n",
      "Fitting 3 folds for each of 200 candidates, totalling 600 fits\n"
     ]
    },
    {
     "name": "stderr",
     "output_type": "stream",
     "text": [
      "[Parallel(n_jobs=-1)]: Using backend LokyBackend with 4 concurrent workers.\n",
      "[Parallel(n_jobs=-1)]: Done 600 out of 600 | elapsed:    2.2s finished\n"
     ]
    },
    {
     "name": "stdout",
     "output_type": "stream",
     "text": [
      "46 / 50\n",
      "\n",
      "Neighborhood Generation\n",
      "calculating feature values\n",
      "gen\tnevals\tavg     \tmin     \tmax     \n",
      "0  \t500   \t0.496654\t0.496654\t0.496654\n",
      "1  \t421   \t0.548575\t0.479243\t0.991914\n",
      "2  \t428   \t0.628841\t0.47077 \t0.993307\n",
      "3  \t427   \t0.694036\t0.464881\t0.993307\n",
      "4  \t424   \t0.708935\t0.467476\t0.993307\n",
      "5  \t422   \t0.738829\t0.474159\t0.993299\n",
      "6  \t428   \t0.755162\t0.470788\t0.993299\n",
      "7  \t425   \t0.763838\t0.4725  \t0.993299\n",
      "8  \t437   \t0.757024\t0.466561\t0.993299\n",
      "9  \t428   \t0.747535\t0.473687\t0.993299\n",
      "10 \t430   \t0.737124\t0.463693\t0.993299\n",
      "gen\tnevals\tavg\tmin\tmax\n",
      "0  \t500   \t0.5\t0.5\t0.5\n",
      "1  \t426   \t0.671079\t0.488943\t0.99147\n",
      "2  \t438   \t0.908914\t0.485087\t0.992119\n",
      "3  \t428   \t0.965253\t0.487727\t0.991663\n",
      "4  \t429   \t0.960631\t0.490994\t0.992   \n",
      "5  \t410   \t0.975711\t0.493244\t0.991504\n",
      "6  \t432   \t0.972501\t0.489688\t0.991504\n",
      "7  \t433   \t0.972269\t0.490224\t0.991801\n",
      "8  \t425   \t0.972011\t0.483799\t0.99195 \n",
      "9  \t427   \t0.97427 \t0.482187\t0.992039\n",
      "10 \t412   \t0.977755\t0.491371\t0.991868\n",
      "synthetic neighborhood class counts {0: 52, 1: 11, 2: 20, 3: 525, 4: 191, 5: 301}\n",
      "Fitting 3 folds for each of 200 candidates, totalling 600 fits\n"
     ]
    },
    {
     "name": "stderr",
     "output_type": "stream",
     "text": [
      "[Parallel(n_jobs=-1)]: Using backend LokyBackend with 4 concurrent workers.\n",
      "[Parallel(n_jobs=-1)]: Done 600 out of 600 | elapsed:    2.4s finished\n"
     ]
    },
    {
     "name": "stdout",
     "output_type": "stream",
     "text": [
      "47 / 50\n",
      "\n",
      "Neighborhood Generation\n",
      "calculating feature values\n",
      "gen\tnevals\tavg     \tmin     \tmax     \n",
      "0  \t500   \t0.496654\t0.496654\t0.496654\n",
      "1  \t421   \t0.613936\t0.477545\t0.991993\n",
      "2  \t428   \t0.747513\t0.469696\t0.992975\n",
      "3  \t427   \t0.811354\t0.481042\t0.992829\n",
      "4  \t424   \t0.833035\t0.472387\t0.992829\n",
      "5  \t422   \t0.86035 \t0.481166\t0.992689\n",
      "6  \t428   \t0.859512\t0.47521 \t0.992689\n",
      "7  \t425   \t0.861635\t0.480232\t0.992689\n",
      "8  \t437   \t0.857367\t0.478277\t0.992563\n",
      "9  \t428   \t0.86144 \t0.477507\t0.992704\n",
      "10 \t430   \t0.844822\t0.480843\t0.99289 \n",
      "gen\tnevals\tavg\tmin\tmax\n",
      "0  \t500   \t0.5\t0.5\t0.5\n",
      "1  \t426   \t0.607561\t0.490897\t0.989335\n",
      "2  \t438   \t0.794343\t0.489538\t0.989503\n",
      "3  \t428   \t0.913652\t0.484259\t0.989503\n",
      "4  \t429   \t0.934332\t0.48885 \t0.989577\n",
      "5  \t410   \t0.939915\t0.4835  \t0.989607\n",
      "6  \t432   \t0.930989\t0.48071 \t0.9897  \n",
      "7  \t433   \t0.935257\t0.477894\t0.989964\n",
      "8  \t425   \t0.943979\t0.485421\t0.989964\n",
      "9  \t427   \t0.942857\t0.486587\t0.990274\n",
      "10 \t412   \t0.938296\t0.481686\t0.989964\n",
      "synthetic neighborhood class counts {0: 361, 1: 98, 2: 31, 3: 428, 4: 178, 5: 4}\n",
      "Fitting 3 folds for each of 200 candidates, totalling 600 fits\n"
     ]
    },
    {
     "name": "stderr",
     "output_type": "stream",
     "text": [
      "[Parallel(n_jobs=-1)]: Using backend LokyBackend with 4 concurrent workers.\n",
      "[Parallel(n_jobs=-1)]: Done 600 out of 600 | elapsed:    2.3s finished\n"
     ]
    },
    {
     "name": "stdout",
     "output_type": "stream",
     "text": [
      "48 / 50\n",
      "\n",
      "Neighborhood Generation\n",
      "calculating feature values\n",
      "gen\tnevals\tavg     \tmin     \tmax     \n",
      "0  \t500   \t0.496654\t0.496654\t0.496654\n",
      "1  \t421   \t0.663935\t0.48543 \t0.992377\n",
      "2  \t428   \t0.827769\t0.473605\t0.993028\n",
      "3  \t427   \t0.850002\t0.473869\t0.993121\n",
      "4  \t424   \t0.857365\t0.4739  \t0.993121\n",
      "5  \t422   \t0.85465 \t0.471936\t0.993028\n",
      "6  \t428   \t0.870888\t0.47826 \t0.993028\n",
      "7  \t425   \t0.864331\t0.47823 \t0.993028\n",
      "8  \t437   \t0.889247\t0.480014\t0.993018\n",
      "9  \t428   \t0.873149\t0.471536\t0.993025\n",
      "10 \t430   \t0.867008\t0.482156\t0.993018\n",
      "gen\tnevals\tavg\tmin\tmax\n",
      "0  \t500   \t0.5\t0.5\t0.5\n",
      "1  \t426   \t0.589261\t0.487026\t0.991926\n",
      "2  \t438   \t0.749901\t0.48184 \t0.992385\n",
      "3  \t428   \t0.876263\t0.484882\t0.992006\n",
      "4  \t429   \t0.904436\t0.485383\t0.992006\n",
      "5  \t410   \t0.909758\t0.485638\t0.992006\n",
      "6  \t432   \t0.894793\t0.483538\t0.992012\n",
      "7  \t433   \t0.902006\t0.488902\t0.992006\n",
      "8  \t425   \t0.921843\t0.484918\t0.992213\n",
      "9  \t427   \t0.907981\t0.486684\t0.992213\n",
      "10 \t412   \t0.910459\t0.484425\t0.992229\n",
      "synthetic neighborhood class counts {0: 50, 1: 22, 2: 22, 3: 487, 4: 494, 5: 25}\n",
      "Fitting 3 folds for each of 200 candidates, totalling 600 fits\n"
     ]
    },
    {
     "name": "stderr",
     "output_type": "stream",
     "text": [
      "[Parallel(n_jobs=-1)]: Using backend LokyBackend with 4 concurrent workers.\n",
      "[Parallel(n_jobs=-1)]: Done 600 out of 600 | elapsed:    2.2s finished\n"
     ]
    },
    {
     "name": "stdout",
     "output_type": "stream",
     "text": [
      "49 / 50\n",
      "\n",
      "Neighborhood Generation\n",
      "calculating feature values\n",
      "gen\tnevals\tavg     \tmin     \tmax     \n",
      "0  \t500   \t0.496654\t0.496654\t0.496654\n",
      "1  \t421   \t0.681662\t0.476014\t0.991797\n",
      "2  \t428   \t0.828009\t0.41647 \t0.993292\n",
      "3  \t427   \t0.885978\t0.437028\t0.993263\n",
      "4  \t424   \t0.8832  \t0.455075\t0.993263\n",
      "5  \t422   \t0.899275\t0.446909\t0.993263\n",
      "6  \t428   \t0.887425\t0.453614\t0.993263\n",
      "7  \t425   \t0.897003\t0.461511\t0.993263\n",
      "8  \t437   \t0.896338\t0.460931\t0.993263\n",
      "9  \t428   \t0.904991\t0.442198\t0.993202\n",
      "10 \t430   \t0.905231\t0.459242\t0.993202\n",
      "gen\tnevals\tavg\tmin\tmax\n",
      "0  \t500   \t0.5\t0.5\t0.5\n",
      "1  \t426   \t0.557398\t0.47899\t0.990198\n",
      "2  \t438   \t0.677802\t0.445355\t0.99189 \n",
      "3  \t428   \t0.809618\t0.465246\t0.99189 \n",
      "4  \t429   \t0.870902\t0.436454\t0.99189 \n",
      "5  \t410   \t0.88222 \t0.467926\t0.99189 \n",
      "6  \t432   \t0.900432\t0.463197\t0.99189 \n",
      "7  \t433   \t0.893085\t0.471529\t0.991921\n",
      "8  \t425   \t0.891644\t0.454949\t0.99189 \n",
      "9  \t427   \t0.906725\t0.45344 \t0.99189 \n",
      "10 \t412   \t0.876417\t0.458118\t0.99189 \n",
      "synthetic neighborhood class counts {0: 563, 1: 364, 2: 103, 3: 38, 4: 32}\n",
      "Fitting 3 folds for each of 200 candidates, totalling 600 fits\n"
     ]
    },
    {
     "name": "stderr",
     "output_type": "stream",
     "text": [
      "[Parallel(n_jobs=-1)]: Using backend LokyBackend with 4 concurrent workers.\n"
     ]
    },
    {
     "name": "stdout",
     "output_type": "stream",
     "text": [
      "50 / 50\n",
      "CPU times: user 17h 42min 14s, sys: 1h 48min 13s, total: 19h 30min 27s\n",
      "Wall time: 10h 3min 32s\n"
     ]
    },
    {
     "name": "stderr",
     "output_type": "stream",
     "text": [
      "[Parallel(n_jobs=-1)]: Done 600 out of 600 | elapsed:    2.2s finished\n"
     ]
    }
   ],
   "source": [
    "%%time\n",
    "agnostic_explainers = build_agnostic_local_explainers(blackbox, \n",
    "                               encoder, \n",
    "                               decoder, \n",
    "                               autoencoder, \n",
    "                               X_exp_test_50, \n",
    "                               y_exp_test_50,\n",
    "                               blackbox_input_dimensions = blackbox_input_dimensions,\n",
    "                               labels = labels,\n",
    "                               size = 1000,\n",
    "                               neigh_type = \"geneticp\",\n",
    "                               ngen = 10,\n",
    "                              max_iter=max_iter,\n",
    "                              random_state = random_state,\n",
    "                              distance_quantile_threshold = np.array(list(range(1,10)))/10\n",
    "                               )"
   ]
  },
  {
   "cell_type": "code",
   "execution_count": 75,
   "metadata": {},
   "outputs": [
    {
     "name": "stdout",
     "output_type": "stream",
     "text": [
      "local fidelity:  0.98\n",
      "global fidelity:  0.56\n",
      "reconstruction fidelity:  0.98\n",
      "\n",
      "\n",
      "local coverage:  1.0\n",
      "global coverage:  2.0\n",
      "\n",
      "\n",
      "local classification report:\n",
      "              precision    recall  f1-score   support\n",
      "\n",
      "           0       1.00      1.00      1.00         8\n",
      "           1       1.00      1.00      1.00         7\n",
      "           2       1.00      1.00      1.00         7\n",
      "           3       1.00      0.89      0.94         9\n",
      "           4       0.90      1.00      0.95         9\n",
      "           5       1.00      1.00      1.00        10\n",
      "\n",
      "    accuracy                           0.98        50\n",
      "   macro avg       0.98      0.98      0.98        50\n",
      "weighted avg       0.98      0.98      0.98        50\n",
      "\n",
      "\n",
      "\n",
      "global classification report:\n",
      "              precision    recall  f1-score   support\n",
      "\n",
      "           0       0.57      0.50      0.53         8\n",
      "           1       0.60      0.43      0.50         7\n",
      "           2       0.56      0.71      0.63         7\n",
      "           3       0.43      0.33      0.38         9\n",
      "           4       0.53      0.89      0.67         9\n",
      "           5       0.71      0.50      0.59        10\n",
      "\n",
      "    accuracy                           0.56        50\n",
      "   macro avg       0.57      0.56      0.55        50\n",
      "weighted avg       0.57      0.56      0.55        50\n",
      "\n",
      "\n",
      "\n",
      "reconstrution classification report:\n",
      "              precision    recall  f1-score   support\n",
      "\n",
      "           0       1.00      1.00      1.00         8\n",
      "           1       1.00      1.00      1.00         7\n",
      "           2       1.00      1.00      1.00         7\n",
      "           3       1.00      0.89      0.94         9\n",
      "           4       0.90      1.00      0.95         9\n",
      "           5       1.00      1.00      1.00        10\n",
      "\n",
      "    accuracy                           0.98        50\n",
      "   macro avg       0.98      0.98      0.98        50\n",
      "weighted avg       0.98      0.98      0.98        50\n",
      "\n"
     ]
    }
   ],
   "source": [
    "results_df = get_all_predictions(agnostic_explainers, global_surrogate, blackbox_predict, X_exp_test_50, blackbox_predict.predict(X_exp_train))\n",
    "results_df.to_csv(file_path + \"/\" + \"results_df.csv\", sep = \";\", index = False)\n",
    "print_report(results_df)"
   ]
  },
  {
   "cell_type": "code",
   "execution_count": 77,
   "metadata": {},
   "outputs": [
    {
     "data": {
      "text/html": [
       "['/Users/francesco/github/TS_AgnosticLocalExplainer/agnostic_explainers/HARDataset_agnosticvsglobal_20191211_181641.joblib']"
      ],
      "text/plain": [
       "['/Users/francesco/github/TS_AgnosticLocalExplainer/agnostic_explainers/HARDataset_agnosticvsglobal_20191211_181641.joblib']"
      ]
     },
     "execution_count": 77,
     "metadata": {},
     "output_type": "execute_result"
    }
   ],
   "source": [
    "%%time\n",
    "save_shapelet_model(global_surrogate, file_path + \"/\")\n",
    "massive_save_agnostic_local_explainers(agnostic_explainers, file_path, verbose = True)"
   ]
  },
  {
   "cell_type": "code",
   "execution_count": 84,
   "metadata": {},
   "outputs": [
    {
     "data": {
      "text/html": [
       "['/Users/francesco/github/TS_AgnosticLocalExplainer/agnostic_explainers/HARDataset_agnosticvsglobal_20191211_181641_results_y.joblib']"
      ],
      "text/plain": [
       "['/Users/francesco/github/TS_AgnosticLocalExplainer/agnostic_explainers/HARDataset_agnosticvsglobal_20191211_181641_results_y.joblib']"
      ]
     },
     "execution_count": 84,
     "metadata": {},
     "output_type": "execute_result"
    }
   ],
   "source": [
    "%%time\n",
    "global_surrogate = load_shapelet_model(file_path + \"/\")\n",
    "agnostic_explainers = massive_load_agnostic_local_explainers(file_path, verbose = True)"
   ]
  },
  {
   "cell_type": "code",
   "execution_count": 78,
   "metadata": {},
   "outputs": [
    {
     "name": "stdout",
     "output_type": "stream",
     "text": [
      "Fitting 3 folds for each of 200 candidates, totalling 600 fits\n"
     ]
    },
    {
     "name": "stderr",
     "output_type": "stream",
     "text": [
      "[Parallel(n_jobs=-1)]: Using backend LokyBackend with 4 concurrent workers.\n",
      "[Parallel(n_jobs=-1)]: Done 600 out of 600 | elapsed:    2.9s finished\n"
     ]
    }
   ],
   "source": [
    "# sanity check\n",
    "results_df_loaded = get_all_predictions(agnostic_explainers, global_surrogate, blackbox_predict)\n",
    "print(sum(results_df_loaded.values != results_df.values))"
   ]
  }
 ],
 "metadata": {
  "kernelspec": {
   "display_name": "Python 3",
   "language": "python",
   "name": "python3"
  },
  "language_info": {
   "codemirror_mode": {
    "name": "ipython",
    "version": 3
   },
   "file_extension": ".py",
   "mimetype": "text/x-python",
   "name": "python",
   "nbconvert_exporter": "python",
   "pygments_lexer": "ipython3",
   "version": "3.6.9"
  }
 },
 "nbformat": 4,
 "nbformat_minor": 2
}
