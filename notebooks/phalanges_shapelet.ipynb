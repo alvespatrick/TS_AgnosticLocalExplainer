{
 "cells": [
  {
   "cell_type": "code",
   "execution_count": 1,
   "metadata": {},
   "outputs": [],
   "source": [
    "import pandas as pd\n",
    "import numpy as np\n",
    "import matplotlib.pyplot as plt\n",
    "from sklearn.preprocessing import LabelEncoder"
   ]
  },
  {
   "cell_type": "code",
   "execution_count": 2,
   "metadata": {},
   "outputs": [],
   "source": [
    "import os,sys,inspect\n",
    "currentdir = os.path.dirname(os.path.abspath(inspect.getfile(inspect.currentframe())))\n",
    "parentdir = os.path.dirname(currentdir)\n",
    "sys.path.insert(0,parentdir)"
   ]
  },
  {
   "cell_type": "code",
   "execution_count": 3,
   "metadata": {},
   "outputs": [],
   "source": [
    "random_state = 0"
   ]
  },
  {
   "cell_type": "markdown",
   "metadata": {},
   "source": [
    "# IMPORT DATASET"
   ]
  },
  {
   "cell_type": "code",
   "execution_count": 4,
   "metadata": {},
   "outputs": [],
   "source": [
    "dataset_path = parentdir + \"/datasets/PhalangesOutlinesCorrect/\""
   ]
  },
  {
   "cell_type": "code",
   "execution_count": 5,
   "metadata": {},
   "outputs": [],
   "source": [
    "dataset_name = \"phalanges\""
   ]
  },
  {
   "cell_type": "code",
   "execution_count": 6,
   "metadata": {},
   "outputs": [],
   "source": [
    "X = pd.read_csv(dataset_path + \"PhalangesOutlinesCorrect_TRAIN.txt\", header=None, delim_whitespace=True)\n",
    "y_all = np.array(X[0]).astype(\"int\")\n",
    "#y_all[y_all == -1] = 0\n",
    "\n",
    "X_all = X.iloc[:,1:].values\n",
    "X_all = X_all.reshape((X_all.shape[0], X_all.shape[1], 1))"
   ]
  },
  {
   "cell_type": "code",
   "execution_count": 7,
   "metadata": {},
   "outputs": [
    {
     "name": "stdout",
     "output_type": "stream",
     "text": [
      "X SHAPE:  (1800, 80, 1)\n",
      "y SHAPE:  (1800,)\n",
      "\n",
      "CLASSES BALANCE\n",
      "0 :  0.35\n",
      "1 :  0.65\n"
     ]
    }
   ],
   "source": [
    "print(\"X SHAPE: \", X_all.shape)\n",
    "print(\"y SHAPE: \", y_all.shape)\n",
    "unique, counts = np.unique(y_all, return_counts=True)\n",
    "print(\"\\nCLASSES BALANCE\")\n",
    "for i, label in enumerate(unique):\n",
    "    print(label, \": \", round(counts[i]/sum(counts), 2))"
   ]
  },
  {
   "cell_type": "code",
   "execution_count": 8,
   "metadata": {},
   "outputs": [],
   "source": [
    "X_test = pd.read_csv(dataset_path + \"PhalangesOutlinesCorrect_TEST.txt\", header=None, delim_whitespace=True)\n",
    "y_test = np.array(X_test[0]).astype(\"int\")\n",
    "#y_all[y_all == -1] = 0\n",
    "\n",
    "X_test = X_test.iloc[:,1:].values\n",
    "X_test = X_test.reshape((X_test.shape[0], X_test.shape[1], 1))"
   ]
  },
  {
   "cell_type": "code",
   "execution_count": 9,
   "metadata": {},
   "outputs": [
    {
     "name": "stdout",
     "output_type": "stream",
     "text": [
      "X SHAPE:  (858, 80, 1)\n",
      "y SHAPE:  (858,)\n"
     ]
    }
   ],
   "source": [
    "print(\"X SHAPE: \", X_test.shape)\n",
    "print(\"y SHAPE: \", y_test.shape)"
   ]
  },
  {
   "cell_type": "markdown",
   "metadata": {},
   "source": [
    "## DATASET SPLIT"
   ]
  },
  {
   "cell_type": "code",
   "execution_count": 10,
   "metadata": {},
   "outputs": [],
   "source": [
    "from sklearn.model_selection import train_test_split"
   ]
  },
  {
   "cell_type": "code",
   "execution_count": 11,
   "metadata": {},
   "outputs": [
    {
     "name": "stdout",
     "output_type": "stream",
     "text": [
      "SHAPES:\n",
      "BLACKBOX TRAINING SET:  (1008, 80, 1)\n",
      "BLACKBOX VALIDATION SET:  (252, 80, 1)\n",
      "BLACKBOX TEST SET:  (858, 80, 1)\n",
      "EXPLANATION TRAINING SET:  (345, 80, 1)\n",
      "EXPLANATION VALIDATION SET:  (87, 80, 1)\n",
      "EXPLANATION TEST SET:  (108, 80, 1)\n"
     ]
    }
   ],
   "source": [
    "# BLACKBOX/EXPLANATION SETS SPLIT\n",
    "X_train, X_exp, y_train, y_exp = train_test_split(X_all, y_all, \n",
    "                                                  test_size=0.3, stratify = y_all, random_state=random_state)\n",
    "\n",
    "# BLACKBOX TRAIN/VALIDATION SETS SPLIT\n",
    "X_train, X_val, y_train, y_val = train_test_split(X_train, y_train, \n",
    "                                                  test_size=0.2, stratify = y_train, random_state=random_state)\n",
    "\n",
    "# EXPLANATION TRAIN/TEST SETS SPLIT\n",
    "X_exp_train, X_exp_test, y_exp_train, y_exp_test = train_test_split(X_exp, y_exp, \n",
    "                                                                    test_size=0.2, \n",
    "                                                                    stratify = y_exp, \n",
    "                                                                    random_state=random_state)\n",
    "\n",
    "# EXPLANATION TRAIN/VALIDATION SETS SPLIT\n",
    "X_exp_train, X_exp_val, y_exp_train, y_exp_val = train_test_split(X_exp_train, y_exp_train, \n",
    "                                                                  test_size=0.2, \n",
    "                                                                  stratify = y_exp_train, \n",
    "                                                                  random_state=random_state)\n",
    "\n",
    "print(\"SHAPES:\")\n",
    "print(\"BLACKBOX TRAINING SET: \", X_train.shape)\n",
    "print(\"BLACKBOX VALIDATION SET: \", X_val.shape)\n",
    "print(\"BLACKBOX TEST SET: \", X_test.shape)\n",
    "print(\"EXPLANATION TRAINING SET: \", X_exp_train.shape)\n",
    "print(\"EXPLANATION VALIDATION SET: \", X_exp_val.shape)\n",
    "print(\"EXPLANATION TEST SET: \", X_exp_test.shape)"
   ]
  },
  {
   "cell_type": "code",
   "execution_count": 12,
   "metadata": {},
   "outputs": [
    {
     "name": "stdout",
     "output_type": "stream",
     "text": [
      "TIMESTEPS:  80\n",
      "N. LABELS:  2\n"
     ]
    }
   ],
   "source": [
    "n_timesteps, n_outputs, n_features = X_train.shape[1], len(np.unique(y_all)), 1 \n",
    "print(\"TIMESTEPS: \", n_timesteps)\n",
    "print(\"N. LABELS: \", n_outputs)"
   ]
  },
  {
   "cell_type": "markdown",
   "metadata": {},
   "source": [
    "# BLACKBOX MODEL"
   ]
  },
  {
   "cell_type": "code",
   "execution_count": 13,
   "metadata": {},
   "outputs": [
    {
     "name": "stderr",
     "output_type": "stream",
     "text": [
      "Using TensorFlow backend.\n",
      "/Users/francesco/anaconda3/envs/tesi/lib/python3.6/site-packages/tensorflow/python/framework/dtypes.py:526: FutureWarning: Passing (type, 1) or '1type' as a synonym of type is deprecated; in a future version of numpy, it will be understood as (type, (1,)) / '(1,)type'.\n",
      "  _np_qint8 = np.dtype([(\"qint8\", np.int8, 1)])\n",
      "/Users/francesco/anaconda3/envs/tesi/lib/python3.6/site-packages/tensorflow/python/framework/dtypes.py:527: FutureWarning: Passing (type, 1) or '1type' as a synonym of type is deprecated; in a future version of numpy, it will be understood as (type, (1,)) / '(1,)type'.\n",
      "  _np_quint8 = np.dtype([(\"quint8\", np.uint8, 1)])\n",
      "/Users/francesco/anaconda3/envs/tesi/lib/python3.6/site-packages/tensorflow/python/framework/dtypes.py:528: FutureWarning: Passing (type, 1) or '1type' as a synonym of type is deprecated; in a future version of numpy, it will be understood as (type, (1,)) / '(1,)type'.\n",
      "  _np_qint16 = np.dtype([(\"qint16\", np.int16, 1)])\n",
      "/Users/francesco/anaconda3/envs/tesi/lib/python3.6/site-packages/tensorflow/python/framework/dtypes.py:529: FutureWarning: Passing (type, 1) or '1type' as a synonym of type is deprecated; in a future version of numpy, it will be understood as (type, (1,)) / '(1,)type'.\n",
      "  _np_quint16 = np.dtype([(\"quint16\", np.uint16, 1)])\n",
      "/Users/francesco/anaconda3/envs/tesi/lib/python3.6/site-packages/tensorflow/python/framework/dtypes.py:530: FutureWarning: Passing (type, 1) or '1type' as a synonym of type is deprecated; in a future version of numpy, it will be understood as (type, (1,)) / '(1,)type'.\n",
      "  _np_qint32 = np.dtype([(\"qint32\", np.int32, 1)])\n",
      "/Users/francesco/anaconda3/envs/tesi/lib/python3.6/site-packages/tensorflow/python/framework/dtypes.py:535: FutureWarning: Passing (type, 1) or '1type' as a synonym of type is deprecated; in a future version of numpy, it will be understood as (type, (1,)) / '(1,)type'.\n",
      "  np_resource = np.dtype([(\"resource\", np.ubyte, 1)])\n"
     ]
    }
   ],
   "source": [
    "\"\"\"import importlib\n",
    "importlib.reload(blackboxes)\"\"\"\n",
    "import keras\n",
    "from sklearn.metrics import accuracy_score, mean_squared_error\n",
    "from joblib import dump, load\n",
    "import time\n",
    "from blackboxes import *\n",
    "import blackboxes"
   ]
  },
  {
   "cell_type": "markdown",
   "metadata": {},
   "source": [
    "## resnet"
   ]
  },
  {
   "cell_type": "code",
   "execution_count": 14,
   "metadata": {},
   "outputs": [
    {
     "name": "stdout",
     "output_type": "stream",
     "text": [
      "WARNING:tensorflow:From /Users/francesco/anaconda3/envs/tesi/lib/python3.6/site-packages/tensorflow/python/framework/op_def_library.py:263: colocate_with (from tensorflow.python.framework.ops) is deprecated and will be removed in a future version.\n",
      "Instructions for updating:\n",
      "Colocations handled automatically by placer.\n"
     ]
    }
   ],
   "source": [
    "blackbox = build_resnet(n_timesteps, n_outputs)\n",
    "blackbox.load_weights(parentdir + \"/blackbox_checkpoints/phalanges_blackbox_resnet_20191101_164247_best_weights_+0.86_.hdf5\")\n",
    "resnet = blackbox"
   ]
  },
  {
   "cell_type": "markdown",
   "metadata": {},
   "source": [
    "## simple CNN"
   ]
  },
  {
   "cell_type": "code",
   "execution_count": 15,
   "metadata": {},
   "outputs": [
    {
     "name": "stdout",
     "output_type": "stream",
     "text": [
      "WARNING:tensorflow:From /Users/francesco/anaconda3/envs/tesi/lib/python3.6/site-packages/keras/backend/tensorflow_backend.py:3733: calling dropout (from tensorflow.python.ops.nn_ops) with keep_prob is deprecated and will be removed in a future version.\n",
      "Instructions for updating:\n",
      "Please use `rate` instead of `keep_prob`. Rate should be set to `rate = 1 - keep_prob`.\n"
     ]
    }
   ],
   "source": [
    "blackbox = build_simple_CNN(n_timesteps, n_outputs)\n",
    "blackbox.load_weights(parentdir + \"/blackbox_checkpoints/phalanges_blackbox_simpleCNN_20191101_170209_best_weights_+0.83_.hdf5\")\n",
    "simplecnn = blackbox"
   ]
  },
  {
   "cell_type": "markdown",
   "metadata": {},
   "source": [
    "## KNN"
   ]
  },
  {
   "cell_type": "code",
   "execution_count": 16,
   "metadata": {},
   "outputs": [],
   "source": [
    "from sklearn.neighbors import KNeighborsClassifier\n",
    "from sklearn.metrics import make_scorer, mean_squared_error, accuracy_score\n",
    "from sklearn.model_selection import StratifiedKFold, RepeatedStratifiedKFold\n",
    "from sklearn.model_selection import GridSearchCV"
   ]
  },
  {
   "cell_type": "code",
   "execution_count": 17,
   "metadata": {},
   "outputs": [],
   "source": [
    "knn = load(parentdir + \"/blackbox_checkpoints/phalanges_blackbox_knn_20191101_171534.joblib\")"
   ]
  },
  {
   "cell_type": "markdown",
   "metadata": {},
   "source": [
    "# AUTOENCODER"
   ]
  },
  {
   "cell_type": "code",
   "execution_count": 18,
   "metadata": {},
   "outputs": [],
   "source": [
    "\"\"\"import importlib\n",
    "importlib.reload(autoencoders)\"\"\"\n",
    "import autoencoders\n",
    "from autoencoders import *"
   ]
  },
  {
   "cell_type": "markdown",
   "metadata": {},
   "source": [
    "## Standard"
   ]
  },
  {
   "cell_type": "code",
   "execution_count": 19,
   "metadata": {},
   "outputs": [],
   "source": [
    "params = {\"input_shape\": (n_timesteps,1),\n",
    "          \"n_blocks\": 8, \n",
    "          \"latent_dim\": 40,\n",
    "          \"encoder_latent_layer_type\": \"simple\",\n",
    "          \"encoder_args\": {\"filters\":[2,4,8,16,32,64,128,256], \n",
    "                            \"kernel_size\":[21,18,15,13,11,8,5,3], \n",
    "                            \"padding\":\"same\", \n",
    "                            \"activation\":\"elu\", \n",
    "                            \"pooling\":[1,1,1,1,1,1,1,2]}\n",
    "         }\n",
    "\n",
    "aut = Autoencoder(verbose = False, **params)\n",
    "encoder, decoder, autoencoder = aut.build()\n",
    "autoencoder.load_weights(parentdir + \"/autoencoder_checkpoints/phalanges_autoencoder_20191103_211535_best_weights_+0.0010_.hdf5\")"
   ]
  },
  {
   "cell_type": "markdown",
   "metadata": {},
   "source": [
    "# GLOBAL VS LOCAL SHAPELET TREE"
   ]
  },
  {
   "cell_type": "code",
   "execution_count": 20,
   "metadata": {},
   "outputs": [],
   "source": [
    "# 50 test set\n",
    "_, X_exp_test_50, _, y_exp_test_50 = train_test_split(X_exp_test, y_exp_test, \n",
    "                                                                  test_size=50, \n",
    "                                                                  stratify = y_exp_test, \n",
    "                                                                  random_state=random_state)"
   ]
  },
  {
   "cell_type": "code",
   "execution_count": 21,
   "metadata": {},
   "outputs": [
    {
     "name": "stderr",
     "output_type": "stream",
     "text": [
      "/Users/francesco/anaconda3/envs/tesi/lib/python3.6/site-packages/deap/tools/_hypervolume/pyhv.py:33: ImportWarning: Falling back to the python version of hypervolume module. Expect this to be very slow.\n",
      "  \"module. Expect this to be very slow.\", ImportWarning)\n"
     ]
    }
   ],
   "source": [
    "import agnosticlocalexplainer\n",
    "from agnosticlocalexplainer import *\n",
    "\n",
    "from myutils import BlackboxPredictWrapper\n",
    "import time\n",
    "from agnosticglobalexplainer import AgnosticGlobalExplainer, save_shapelet_model, load_shapelet_model\n",
    "from joblib import dump\n",
    "from sklearn.metrics import confusion_matrix, accuracy_score, classification_report, coverage_error\n",
    "from global_vs_local_surrogate import build_agnostic_local_explainers, print_report, massive_save_agnostic_local_explainers, massive_load_agnostic_local_explainers, get_all_predictions"
   ]
  },
  {
   "cell_type": "markdown",
   "metadata": {},
   "source": [
    "## RESNET"
   ]
  },
  {
   "cell_type": "code",
   "execution_count": 22,
   "metadata": {},
   "outputs": [],
   "source": [
    "autoencoder = autoencoder\n",
    "encoder = autoencoder.layers[1]\n",
    "decoder = autoencoder.layers[2]\n",
    "blackbox = resnet\n",
    "blackbox_input_dimensions = 3\n",
    "labels = [\"WALKING\", \"WALKING_UPSTAIRS\", \"WALKING_DOWNSTAIRS\", \"SITTING\", \"STANDING\", \"LAYING\"]"
   ]
  },
  {
   "cell_type": "code",
   "execution_count": null,
   "metadata": {},
   "outputs": [],
   "source": [
    "max_iter = 50\n",
    "file_path = parentdir + \"/agnostic_explainers/\" + dataset_name + \"_\" + time.strftime(\"%Y%m%d_%H%M%S\")"
   ]
  },
  {
   "cell_type": "code",
   "execution_count": null,
   "metadata": {},
   "outputs": [],
   "source": [
    "import platform\n",
    "if platform.system() == \"Windows\":\n",
    "    os.makedirs(file_path + \"/\")\n",
    "else: os.mkdir(file_path + \"/\")"
   ]
  },
  {
   "cell_type": "code",
   "execution_count": 37,
   "metadata": {},
   "outputs": [
    {
     "name": "stdout",
     "output_type": "stream",
     "text": [
      "Fitting 3 folds for each of 200 candidates, totalling 600 fits\n"
     ]
    },
    {
     "name": "stderr",
     "output_type": "stream",
     "text": [
      "[Parallel(n_jobs=-1)]: Using backend LokyBackend with 4 concurrent workers.\n",
      "[Parallel(n_jobs=-1)]: Done 600 out of 600 | elapsed:    2.8s finished\n"
     ]
    }
   ],
   "source": [
    "%%time\n",
    "global_surrogate = AgnosticGlobalExplainer(random_state = random_state, \n",
    "                                           max_iter = max_iter, \n",
    "                                           distance_quantile_threshold = np.array(list(range(1,10)))/10,\n",
    "                                           labels = labels)\n",
    "global_surrogate.fit(X_exp_train[:,:,0], blackbox_predict.predict(X_exp_train))"
   ]
  },
  {
   "cell_type": "code",
   "execution_count": 22,
   "metadata": {},
   "outputs": [
    {
     "name": "stdout",
     "output_type": "stream",
     "text": [
      "\n",
      "Neighborhood Generation\n",
      "calculating feature values\n",
      "gen\tnevals\tavg     \tmin     \tmax     \n",
      "0  \t500   \t0.496654\t0.496654\t0.496654\n",
      "1  \t425   \t0.526635\t0.496654\t0.993097\n",
      "2  \t434   \t0.569137\t0.496654\t0.993249\n",
      "3  \t441   \t0.604086\t0.500285\t0.993249\n",
      "4  \t422   \t0.634237\t0.500335\t0.993274\n",
      "5  \t412   \t0.663724\t0.49984 \t0.993274\n",
      "6  \t418   \t0.685824\t0.500308\t0.993251\n",
      "7  \t418   \t0.720994\t0.500323\t0.993248\n",
      "8  \t432   \t0.732127\t0.500485\t0.993248\n",
      "9  \t412   \t0.731842\t0.500308\t0.993248\n",
      "10 \t417   \t0.734599\t0.500296\t0.993248\n",
      "gen\tnevals\tavg\tmin\tmax\n",
      "0  \t500   \t0.5\t0.5\t0.5\n",
      "1  \t423   \t0.71907\t0.499405\t0.991901\n",
      "2  \t436   \t0.942117\t0.499186\t0.991937\n",
      "3  \t419   \t0.982799\t0.499542\t0.991937\n",
      "4  \t422   \t0.979182\t0.499274\t0.991937\n",
      "5  \t417   \t0.977398\t0.499351\t0.991937\n",
      "6  \t410   \t0.977384\t0.499421\t0.991937\n",
      "7  \t426   \t0.977728\t0.499271\t0.991937\n",
      "8  \t410   \t0.981799\t0.499518\t0.991937\n",
      "9  \t433   \t0.981702\t0.499525\t0.991937\n",
      "10 \t428   \t0.976748\t0.499573\t0.991937\n",
      "synthetic neighborhood class counts {0: 915, 1: 285}\n",
      "Fitting 3 folds for each of 200 candidates, totalling 600 fits\n"
     ]
    },
    {
     "name": "stderr",
     "output_type": "stream",
     "text": [
      "[Parallel(n_jobs=-1)]: Using backend LokyBackend with 4 concurrent workers.\n",
      "[Parallel(n_jobs=-1)]: Done  56 tasks      | elapsed:    3.8s\n",
      "[Parallel(n_jobs=-1)]: Done 600 out of 600 | elapsed:    6.2s finished\n"
     ]
    },
    {
     "name": "stdout",
     "output_type": "stream",
     "text": [
      "1 / 50\n",
      "\n",
      "Neighborhood Generation\n",
      "calculating feature values\n",
      "gen\tnevals\tavg     \tmin     \tmax     \n",
      "0  \t500   \t0.496654\t0.496654\t0.496654\n",
      "1  \t425   \t0.518616\t0.496654\t0.99305 \n",
      "2  \t434   \t0.55508 \t0.496654\t0.993307\n",
      "3  \t441   \t0.587018\t0.49763 \t0.993307\n",
      "4  \t422   \t0.611382\t0.498062\t0.993307\n",
      "5  \t412   \t0.644722\t0.497587\t0.993191\n",
      "6  \t418   \t0.657623\t0.49813 \t0.993235\n",
      "7  \t418   \t0.686009\t0.497844\t0.993235\n",
      "8  \t432   \t0.699791\t0.497156\t0.993191\n",
      "9  \t412   \t0.73117 \t0.498053\t0.993191\n",
      "10 \t417   \t0.716169\t0.497698\t0.993253\n",
      "gen\tnevals\tavg\tmin\tmax\n",
      "0  \t500   \t0.5\t0.5\t0.5\n",
      "1  \t423   \t0.7196\t0.499068\t0.993149\n",
      "2  \t436   \t0.936631\t0.499016\t0.993149\n",
      "3  \t419   \t0.978573\t0.498843\t0.993149\n",
      "4  \t422   \t0.978553\t0.498726\t0.993149\n",
      "5  \t417   \t0.986125\t0.504259\t0.993139\n",
      "6  \t410   \t0.976309\t0.498898\t0.993143\n",
      "7  \t426   \t0.974742\t0.49891 \t0.99315 \n",
      "8  \t410   \t0.98062 \t0.499295\t0.993143\n",
      "9  \t433   \t0.982084\t0.499026\t0.993143\n",
      "10 \t428   \t0.983927\t0.499504\t0.993124\n",
      "synthetic neighborhood class counts {0: 937, 1: 263}\n",
      "Fitting 3 folds for each of 200 candidates, totalling 600 fits\n"
     ]
    },
    {
     "name": "stderr",
     "output_type": "stream",
     "text": [
      "[Parallel(n_jobs=-1)]: Using backend LokyBackend with 4 concurrent workers.\n",
      "[Parallel(n_jobs=-1)]: Done 273 tasks      | elapsed:    3.8s\n",
      "[Parallel(n_jobs=-1)]: Done 600 out of 600 | elapsed:    4.5s finished\n"
     ]
    },
    {
     "name": "stdout",
     "output_type": "stream",
     "text": [
      "2 / 50\n",
      "\n",
      "Neighborhood Generation\n",
      "calculating feature values\n",
      "gen\tnevals\tavg     \tmin     \tmax     \n",
      "0  \t500   \t0.496654\t0.496654\t0.496654\n",
      "1  \t425   \t0.733415\t0.496654\t0.993193\n",
      "2  \t434   \t0.96006 \t0.496654\t0.993264\n",
      "3  \t441   \t0.984261\t0.49978 \t0.993272\n",
      "4  \t422   \t0.984104\t0.499683\t0.993272\n",
      "5  \t412   \t0.986302\t0.499511\t0.993269\n",
      "6  \t418   \t0.987049\t0.499487\t0.993279\n",
      "7  \t418   \t0.988381\t0.499984\t0.993279\n",
      "8  \t432   \t0.988105\t0.499907\t0.993279\n",
      "9  \t412   \t0.990341\t0.539191\t0.993279\n",
      "10 \t417   \t0.982905\t0.499699\t0.993307\n",
      "gen\tnevals\tavg\tmin\tmax\n",
      "0  \t500   \t0.5\t0.5\t0.5\n",
      "1  \t423   \t0.506194\t0.498849\t0.99051\n",
      "2  \t436   \t0.512751\t0.498646\t0.992627\n",
      "3  \t419   \t0.527605\t0.498611\t0.992627\n",
      "4  \t422   \t0.541831\t0.498803\t0.992627\n",
      "5  \t417   \t0.575383\t0.498695\t0.99291 \n",
      "6  \t410   \t0.610622\t0.498444\t0.992916\n",
      "7  \t426   \t0.624177\t0.498474\t0.99291 \n",
      "8  \t410   \t0.641474\t0.498572\t0.99291 \n",
      "9  \t433   \t0.646872\t0.498376\t0.99291 \n",
      "10 \t428   \t0.655006\t0.498482\t0.992995\n",
      "synthetic neighborhood class counts {0: 863, 1: 265}\n",
      "Fitting 3 folds for each of 200 candidates, totalling 600 fits\n"
     ]
    },
    {
     "name": "stderr",
     "output_type": "stream",
     "text": [
      "[Parallel(n_jobs=-1)]: Using backend LokyBackend with 4 concurrent workers.\n",
      "[Parallel(n_jobs=-1)]: Done 101 tasks      | elapsed:    5.0s\n",
      "[Parallel(n_jobs=-1)]: Done 600 out of 600 | elapsed:    7.0s finished\n"
     ]
    },
    {
     "name": "stdout",
     "output_type": "stream",
     "text": [
      "3 / 50\n",
      "\n",
      "Neighborhood Generation\n",
      "calculating feature values\n",
      "gen\tnevals\tavg     \tmin     \tmax     \n",
      "0  \t500   \t0.496654\t0.496654\t0.496654\n",
      "1  \t425   \t0.511044\t0.496654\t0.993071\n",
      "2  \t434   \t0.532083\t0.496654\t0.993264\n",
      "3  \t441   \t0.5658  \t0.498636\t0.993251\n",
      "4  \t422   \t0.593693\t0.498816\t0.993247\n",
      "5  \t412   \t0.614504\t0.498016\t0.993247\n",
      "6  \t418   \t0.644715\t0.498744\t0.993216\n",
      "7  \t418   \t0.688908\t0.498616\t0.993185\n",
      "8  \t432   \t0.708688\t0.498928\t0.993185\n",
      "9  \t412   \t0.718107\t0.498584\t0.993194\n",
      "10 \t417   \t0.730644\t0.498689\t0.993194\n",
      "gen\tnevals\tavg\tmin\tmax\n",
      "0  \t500   \t0.5\t0.5\t0.5\n",
      "1  \t423   \t0.728362\t0.499441\t0.993149\n",
      "2  \t436   \t0.953433\t0.499154\t0.993149\n",
      "3  \t419   \t0.983935\t0.498762\t0.993134\n",
      "4  \t422   \t0.987283\t0.499114\t0.993134\n",
      "5  \t417   \t0.982189\t0.499293\t0.993134\n",
      "6  \t410   \t0.983049\t0.499282\t0.993162\n",
      "7  \t426   \t0.980489\t0.499433\t0.993162\n",
      "8  \t410   \t0.988158\t0.499492\t0.993162\n",
      "9  \t433   \t0.985242\t0.499616\t0.993178\n",
      "10 \t428   \t0.984663\t0.499197\t0.993168\n",
      "synthetic neighborhood class counts {0: 926, 1: 274}\n",
      "Fitting 3 folds for each of 200 candidates, totalling 600 fits\n"
     ]
    },
    {
     "name": "stderr",
     "output_type": "stream",
     "text": [
      "[Parallel(n_jobs=-1)]: Using backend LokyBackend with 4 concurrent workers.\n",
      "[Parallel(n_jobs=-1)]: Done  66 tasks      | elapsed:    5.0s\n",
      "[Parallel(n_jobs=-1)]: Done 600 out of 600 | elapsed:    6.8s finished\n"
     ]
    },
    {
     "name": "stdout",
     "output_type": "stream",
     "text": [
      "4 / 50\n",
      "\n",
      "Neighborhood Generation\n",
      "calculating feature values\n",
      "gen\tnevals\tavg     \tmin     \tmax     \n",
      "0  \t500   \t0.496654\t0.496654\t0.496654\n",
      "1  \t425   \t0.53391 \t0.496654\t0.993044\n",
      "2  \t434   \t0.569324\t0.496654\t0.993268\n",
      "3  \t441   \t0.608048\t0.505063\t0.993268\n",
      "4  \t422   \t0.637414\t0.505095\t0.993098\n",
      "5  \t412   \t0.668825\t0.505234\t0.993151\n",
      "6  \t418   \t0.674882\t0.50527 \t0.993151\n",
      "7  \t418   \t0.711152\t0.505224\t0.993151\n",
      "8  \t432   \t0.699351\t0.504733\t0.993151\n",
      "9  \t412   \t0.717946\t0.505406\t0.993151\n",
      "10 \t417   \t0.720613\t0.505142\t0.993126\n",
      "gen\tnevals\tavg\tmin\tmax\n",
      "0  \t500   \t0.5\t0.5\t0.5\n",
      "1  \t423   \t0.706816\t0.499038\t0.986494\n",
      "2  \t436   \t0.930777\t0.499054\t0.986494\n",
      "3  \t419   \t0.972866\t0.499129\t0.986494\n",
      "4  \t422   \t0.973455\t0.499109\t0.986494\n",
      "5  \t417   \t0.971851\t0.499256\t0.986494\n",
      "6  \t410   \t0.972356\t0.498782\t0.986494\n",
      "7  \t426   \t0.97483 \t0.49906 \t0.986494\n",
      "8  \t410   \t0.97225 \t0.499195\t0.986494\n",
      "9  \t433   \t0.972592\t0.498827\t0.986494\n",
      "10 \t428   \t0.974971\t0.499147\t0.986494\n",
      "synthetic neighborhood class counts {0: 933, 1: 267}\n",
      "Fitting 3 folds for each of 200 candidates, totalling 600 fits\n"
     ]
    },
    {
     "name": "stderr",
     "output_type": "stream",
     "text": [
      "[Parallel(n_jobs=-1)]: Using backend LokyBackend with 4 concurrent workers.\n",
      "[Parallel(n_jobs=-1)]: Done 113 tasks      | elapsed:    4.5s\n",
      "[Parallel(n_jobs=-1)]: Done 600 out of 600 | elapsed:    6.1s finished\n"
     ]
    },
    {
     "name": "stdout",
     "output_type": "stream",
     "text": [
      "5 / 50\n",
      "\n",
      "Neighborhood Generation\n",
      "calculating feature values\n",
      "gen\tnevals\tavg     \tmin     \tmax     \n",
      "0  \t500   \t0.496654\t0.496654\t0.496654\n",
      "1  \t425   \t0.512797\t0.496654\t0.993099\n",
      "2  \t434   \t0.538654\t0.496654\t0.993275\n",
      "3  \t441   \t0.562893\t0.498388\t0.993243\n",
      "4  \t422   \t0.591399\t0.498705\t0.993243\n",
      "5  \t412   \t0.626789\t0.498084\t0.993243\n",
      "6  \t418   \t0.652584\t0.498502\t0.993243\n",
      "7  \t418   \t0.688711\t0.498432\t0.993243\n",
      "8  \t432   \t0.70522 \t0.498563\t0.993243\n",
      "9  \t412   \t0.727589\t0.49853 \t0.993243\n",
      "10 \t417   \t0.735416\t0.498283\t0.993243\n",
      "gen\tnevals\tavg\tmin\tmax\n",
      "0  \t500   \t0.5\t0.5\t0.5\n",
      "1  \t423   \t0.727966\t0.499524\t0.993088\n",
      "2  \t436   \t0.957522\t0.498962\t0.993163\n",
      "3  \t419   \t0.986435\t0.498617\t0.993163\n",
      "4  \t422   \t0.987021\t0.498873\t0.993163\n",
      "5  \t417   \t0.982277\t0.499472\t0.993163\n",
      "6  \t410   \t0.985151\t0.499387\t0.993163\n",
      "7  \t426   \t0.979542\t0.499101\t0.993163\n",
      "8  \t410   \t0.984603\t0.498834\t0.993163\n",
      "9  \t433   \t0.98404 \t0.499667\t0.993163\n",
      "10 \t428   \t0.988127\t0.499378\t0.993163\n",
      "synthetic neighborhood class counts {0: 920, 1: 280}\n",
      "Fitting 3 folds for each of 200 candidates, totalling 600 fits\n"
     ]
    },
    {
     "name": "stderr",
     "output_type": "stream",
     "text": [
      "[Parallel(n_jobs=-1)]: Using backend LokyBackend with 4 concurrent workers.\n",
      "[Parallel(n_jobs=-1)]: Done 600 out of 600 | elapsed:    4.3s finished\n"
     ]
    },
    {
     "name": "stdout",
     "output_type": "stream",
     "text": [
      "6 / 50\n",
      "\n",
      "Neighborhood Generation\n",
      "calculating feature values\n",
      "gen\tnevals\tavg     \tmin     \tmax     \n",
      "0  \t500   \t0.496654\t0.496654\t0.496654\n",
      "1  \t425   \t0.724904\t0.496654\t0.993239\n",
      "2  \t434   \t0.956674\t0.496654\t0.993301\n",
      "3  \t441   \t0.979489\t0.499763\t0.993284\n",
      "4  \t422   \t0.98422 \t0.499744\t0.993284\n",
      "5  \t412   \t0.981825\t0.499571\t0.993291\n",
      "6  \t418   \t0.986796\t0.499781\t0.993291\n",
      "7  \t418   \t0.985107\t0.499761\t0.993291\n",
      "8  \t432   \t0.989734\t0.499838\t0.993288\n",
      "9  \t412   \t0.987616\t0.499619\t0.993306\n",
      "10 \t417   \t0.986932\t0.49957 \t0.993306\n",
      "gen\tnevals\tavg\tmin\tmax\n",
      "0  \t500   \t0.5\t0.5\t0.5\n",
      "1  \t423   \t0.505217\t0.499283\t0.987896\n",
      "2  \t436   \t0.509785\t0.499219\t0.992529\n",
      "3  \t419   \t0.52553 \t0.499128\t0.9928  \n",
      "4  \t422   \t0.54108 \t0.499139\t0.99296 \n",
      "5  \t417   \t0.563251\t0.498706\t0.99296 \n",
      "6  \t410   \t0.599344\t0.498984\t0.993024\n",
      "7  \t426   \t0.617037\t0.498815\t0.993063\n",
      "8  \t410   \t0.644065\t0.499073\t0.993063\n",
      "9  \t433   \t0.66511 \t0.498841\t0.993071\n",
      "10 \t428   \t0.660862\t0.498838\t0.993071\n",
      "synthetic neighborhood class counts {0: 869, 1: 259}\n",
      "Fitting 3 folds for each of 200 candidates, totalling 600 fits\n"
     ]
    },
    {
     "name": "stderr",
     "output_type": "stream",
     "text": [
      "[Parallel(n_jobs=-1)]: Using backend LokyBackend with 4 concurrent workers.\n",
      "[Parallel(n_jobs=-1)]: Done  49 tasks      | elapsed:    4.1s\n",
      "[Parallel(n_jobs=-1)]: Done 600 out of 600 | elapsed:    5.9s finished\n"
     ]
    },
    {
     "name": "stdout",
     "output_type": "stream",
     "text": [
      "7 / 50\n",
      "\n",
      "Neighborhood Generation\n",
      "calculating feature values\n",
      "gen\tnevals\tavg     \tmin     \tmax     \n",
      "0  \t500   \t0.496654\t0.496654\t0.496654\n",
      "1  \t425   \t0.727721\t0.496654\t0.993165\n",
      "2  \t434   \t0.960607\t0.496654\t0.993301\n",
      "3  \t441   \t0.984491\t0.498921\t0.993301\n",
      "4  \t422   \t0.985738\t0.499431\t0.993288\n",
      "5  \t412   \t0.983017\t0.499399\t0.993288\n",
      "6  \t418   \t0.988066\t0.499409\t0.993299\n",
      "7  \t418   \t0.983728\t0.498926\t0.99328 \n",
      "8  \t432   \t0.984814\t0.499552\t0.99327 \n",
      "9  \t412   \t0.983882\t0.499133\t0.993287\n",
      "10 \t417   \t0.980347\t0.499654\t0.993287\n",
      "gen\tnevals\tavg\tmin\tmax\n",
      "0  \t500   \t0.5\t0.5\t0.5\n",
      "1  \t423   \t0.504646\t0.498951\t0.992467\n",
      "2  \t436   \t0.510513\t0.498854\t0.99267 \n",
      "3  \t419   \t0.522372\t0.498581\t0.992899\n",
      "4  \t422   \t0.546136\t0.498628\t0.992981\n",
      "5  \t417   \t0.573275\t0.498491\t0.992993\n",
      "6  \t410   \t0.628654\t0.498561\t0.992993\n",
      "7  \t426   \t0.643591\t0.498047\t0.992993\n",
      "8  \t410   \t0.676836\t0.498295\t0.992993\n",
      "9  \t433   \t0.679982\t0.498329\t0.993029\n",
      "10 \t428   \t0.688385\t0.498198\t0.992993\n",
      "synthetic neighborhood class counts {0: 835, 1: 293}\n",
      "Fitting 3 folds for each of 200 candidates, totalling 600 fits\n"
     ]
    },
    {
     "name": "stderr",
     "output_type": "stream",
     "text": [
      "[Parallel(n_jobs=-1)]: Using backend LokyBackend with 4 concurrent workers.\n",
      "[Parallel(n_jobs=-1)]: Done 109 tasks      | elapsed:    4.2s\n",
      "[Parallel(n_jobs=-1)]: Done 600 out of 600 | elapsed:    5.9s finished\n"
     ]
    },
    {
     "name": "stdout",
     "output_type": "stream",
     "text": [
      "8 / 50\n",
      "\n",
      "Neighborhood Generation\n",
      "calculating feature values\n",
      "gen\tnevals\tavg     \tmin     \tmax     \n",
      "0  \t500   \t0.496654\t0.496654\t0.496654\n",
      "1  \t425   \t0.514186\t0.496654\t0.993069\n",
      "2  \t434   \t0.542458\t0.496654\t0.993265\n",
      "3  \t441   \t0.557729\t0.502848\t0.993201\n",
      "4  \t422   \t0.584679\t0.502917\t0.993201\n",
      "5  \t412   \t0.632183\t0.502382\t0.993201\n",
      "6  \t418   \t0.647123\t0.502741\t0.993201\n",
      "7  \t418   \t0.682048\t0.502557\t0.99306 \n",
      "8  \t432   \t0.696062\t0.502964\t0.99306 \n",
      "9  \t412   \t0.724694\t0.502799\t0.99306 \n",
      "10 \t417   \t0.730507\t0.502769\t0.99306 \n",
      "gen\tnevals\tavg\tmin\tmax\n",
      "0  \t500   \t0.5\t0.5\t0.5\n",
      "1  \t423   \t0.729912\t0.499224\t0.988628\n",
      "2  \t436   \t0.95539 \t0.498891\t0.988682\n",
      "3  \t419   \t0.979398\t0.498853\t0.988682\n",
      "4  \t422   \t0.980553\t0.498718\t0.988682\n",
      "5  \t417   \t0.979973\t0.499179\t0.988682\n",
      "6  \t410   \t0.975166\t0.498926\t0.988682\n",
      "7  \t426   \t0.980116\t0.499439\t0.988682\n",
      "8  \t410   \t0.978334\t0.499069\t0.988682\n",
      "9  \t433   \t0.977772\t0.499353\t0.988682\n",
      "10 \t428   \t0.978023\t0.499145\t0.988682\n",
      "synthetic neighborhood class counts {0: 926, 1: 274}\n",
      "Fitting 3 folds for each of 200 candidates, totalling 600 fits\n"
     ]
    },
    {
     "name": "stderr",
     "output_type": "stream",
     "text": [
      "[Parallel(n_jobs=-1)]: Using backend LokyBackend with 4 concurrent workers.\n",
      "[Parallel(n_jobs=-1)]: Done 125 tasks      | elapsed:    4.5s\n",
      "[Parallel(n_jobs=-1)]: Done 600 out of 600 | elapsed:    6.3s finished\n"
     ]
    },
    {
     "name": "stdout",
     "output_type": "stream",
     "text": [
      "9 / 50\n",
      "\n",
      "Neighborhood Generation\n",
      "calculating feature values\n",
      "gen\tnevals\tavg     \tmin     \tmax     \n",
      "0  \t500   \t0.496654\t0.496654\t0.496654\n",
      "1  \t425   \t0.538127\t0.496654\t0.993179\n",
      "2  \t434   \t0.572041\t0.496654\t0.993259\n",
      "3  \t441   \t0.607977\t0.501712\t0.993259\n",
      "4  \t422   \t0.633936\t0.501526\t0.993179\n",
      "5  \t412   \t0.675092\t0.501714\t0.993179\n",
      "6  \t418   \t0.704104\t0.501829\t0.993179\n",
      "7  \t418   \t0.720316\t0.501867\t0.993179\n",
      "8  \t432   \t0.726309\t0.501614\t0.993194\n",
      "9  \t412   \t0.738516\t0.502058\t0.993194\n",
      "10 \t417   \t0.7341  \t0.501831\t0.993194\n",
      "gen\tnevals\tavg\tmin\tmax\n",
      "0  \t500   \t0.5\t0.5\t0.5\n",
      "1  \t423   \t0.717457\t0.498884\t0.989488\n",
      "2  \t436   \t0.929793\t0.49883 \t0.989562\n",
      "3  \t419   \t0.968083\t0.498788\t0.989562\n",
      "4  \t422   \t0.974415\t0.49909 \t0.989562\n",
      "5  \t417   \t0.971065\t0.499164\t0.989562\n",
      "6  \t410   \t0.969524\t0.499262\t0.98955 \n",
      "7  \t426   \t0.968151\t0.49895 \t0.989559\n",
      "8  \t410   \t0.976888\t0.498999\t0.98955 \n",
      "9  \t433   \t0.96618 \t0.499001\t0.98955 \n",
      "10 \t428   \t0.97557 \t0.499009\t0.989556\n",
      "synthetic neighborhood class counts {0: 914, 1: 286}\n",
      "Fitting 3 folds for each of 200 candidates, totalling 600 fits\n"
     ]
    },
    {
     "name": "stderr",
     "output_type": "stream",
     "text": [
      "[Parallel(n_jobs=-1)]: Using backend LokyBackend with 4 concurrent workers.\n",
      "[Parallel(n_jobs=-1)]: Done 104 tasks      | elapsed:    4.3s\n",
      "[Parallel(n_jobs=-1)]: Done 600 out of 600 | elapsed:    6.1s finished\n"
     ]
    },
    {
     "name": "stdout",
     "output_type": "stream",
     "text": [
      "10 / 50\n",
      "\n",
      "Neighborhood Generation\n",
      "calculating feature values\n",
      "gen\tnevals\tavg     \tmin     \tmax     \n",
      "0  \t500   \t0.496654\t0.496654\t0.496654\n",
      "1  \t425   \t0.725256\t0.496654\t0.993188\n",
      "2  \t434   \t0.958354\t0.496654\t0.993305\n",
      "3  \t441   \t0.979219\t0.499194\t0.993305\n",
      "4  \t422   \t0.988553\t0.502594\t0.993305\n",
      "5  \t412   \t0.98385 \t0.499725\t0.993288\n",
      "6  \t418   \t0.982581\t0.499431\t0.993288\n",
      "7  \t418   \t0.982671\t0.499622\t0.993288\n",
      "8  \t432   \t0.988541\t0.499918\t0.993266\n",
      "9  \t412   \t0.978938\t0.499965\t0.993266\n",
      "10 \t417   \t0.985024\t0.499624\t0.993279\n",
      "gen\tnevals\tavg\tmin\tmax\n",
      "0  \t500   \t0.5\t0.5\t0.5\n",
      "1  \t423   \t0.507896\t0.498792\t0.992051\n",
      "2  \t436   \t0.525298\t0.499032\t0.993199\n",
      "3  \t419   \t0.548375\t0.498969\t0.993211\n",
      "4  \t422   \t0.56966 \t0.498757\t0.993199\n",
      "5  \t417   \t0.599651\t0.498574\t0.993199\n",
      "6  \t410   \t0.65695 \t0.498582\t0.993199\n",
      "7  \t426   \t0.648964\t0.498621\t0.993199\n",
      "8  \t410   \t0.666931\t0.498905\t0.993215\n",
      "9  \t433   \t0.66518 \t0.498955\t0.993202\n",
      "10 \t428   \t0.665218\t0.498825\t0.993223\n",
      "synthetic neighborhood class counts {0: 863, 1: 265}\n",
      "Fitting 3 folds for each of 200 candidates, totalling 600 fits\n"
     ]
    },
    {
     "name": "stderr",
     "output_type": "stream",
     "text": [
      "[Parallel(n_jobs=-1)]: Using backend LokyBackend with 4 concurrent workers.\n",
      "[Parallel(n_jobs=-1)]: Done  72 tasks      | elapsed:    4.8s\n",
      "[Parallel(n_jobs=-1)]: Done 600 out of 600 | elapsed:    6.7s finished\n"
     ]
    },
    {
     "name": "stdout",
     "output_type": "stream",
     "text": [
      "11 / 50\n",
      "\n",
      "Neighborhood Generation\n",
      "calculating feature values\n",
      "gen\tnevals\tavg     \tmin     \tmax     \n",
      "0  \t500   \t0.496654\t0.496654\t0.496654\n",
      "1  \t425   \t0.620471\t0.496654\t0.992983\n",
      "2  \t434   \t0.74403 \t0.496654\t0.993268\n",
      "3  \t441   \t0.774457\t0.705699\t0.993268\n",
      "4  \t422   \t0.795985\t0.705626\t0.99321 \n",
      "5  \t412   \t0.824873\t0.705351\t0.993025\n",
      "6  \t418   \t0.828705\t0.705601\t0.993025\n",
      "7  \t418   \t0.833355\t0.705531\t0.993025\n",
      "8  \t432   \t0.839578\t0.705394\t0.993025\n",
      "9  \t412   \t0.848904\t0.705489\t0.993044\n",
      "10 \t417   \t0.845888\t0.705436\t0.992742\n",
      "gen\tnevals\tavg\tmin\tmax\n",
      "0  \t500   \t0.5\t0.5\t0.5\n",
      "1  \t423   \t0.620519\t0.499445\t0.786005\n",
      "2  \t436   \t0.750342\t0.499158\t0.786063\n",
      "3  \t419   \t0.772142\t0.499396\t0.786063\n",
      "4  \t422   \t0.770835\t0.499019\t0.786063\n",
      "5  \t417   \t0.770041\t0.499169\t0.78607 \n",
      "6  \t410   \t0.771352\t0.498887\t0.78607 \n",
      "7  \t426   \t0.771975\t0.499391\t0.78607 \n",
      "8  \t410   \t0.778301\t0.500443\t0.786058\n",
      "9  \t433   \t0.771514\t0.499186\t0.786058\n",
      "10 \t428   \t0.76835 \t0.499434\t0.786096\n",
      "synthetic neighborhood class counts {0: 951, 1: 249}\n",
      "Fitting 3 folds for each of 200 candidates, totalling 600 fits\n"
     ]
    },
    {
     "name": "stderr",
     "output_type": "stream",
     "text": [
      "[Parallel(n_jobs=-1)]: Using backend LokyBackend with 4 concurrent workers.\n",
      "[Parallel(n_jobs=-1)]: Done  49 tasks      | elapsed:    5.4s\n",
      "[Parallel(n_jobs=-1)]: Done 600 out of 600 | elapsed:    7.2s finished\n"
     ]
    },
    {
     "name": "stdout",
     "output_type": "stream",
     "text": [
      "12 / 50\n",
      "\n",
      "Neighborhood Generation\n",
      "calculating feature values\n",
      "gen\tnevals\tavg     \tmin     \tmax     \n",
      "0  \t500   \t0.496654\t0.496654\t0.496654\n",
      "1  \t425   \t0.684662\t0.496654\t0.992636\n",
      "2  \t434   \t0.867232\t0.496654\t0.9933  \n",
      "3  \t441   \t0.896989\t0.853297\t0.993082\n",
      "4  \t422   \t0.905129\t0.852956\t0.992655\n",
      "5  \t412   \t0.911406\t0.853102\t0.992655\n",
      "6  \t418   \t0.919764\t0.853308\t0.992655\n",
      "7  \t418   \t0.922096\t0.853276\t0.992626\n",
      "8  \t432   \t0.92088 \t0.853223\t0.992626\n",
      "9  \t412   \t0.922168\t0.8528  \t0.992761\n",
      "10 \t417   \t0.924767\t0.853085\t0.992559\n",
      "gen\tnevals\tavg\tmin\tmax\n",
      "0  \t500   \t0.5\t0.5\t0.5\n",
      "1  \t423   \t0.557127\t0.499348\t0.637152\n",
      "2  \t436   \t0.615406\t0.499089\t0.637152\n",
      "3  \t419   \t0.629558\t0.498715\t0.637152\n",
      "4  \t422   \t0.628555\t0.498285\t0.637152\n",
      "5  \t417   \t0.628957\t0.498194\t0.637195\n",
      "6  \t410   \t0.630547\t0.499129\t0.637151\n",
      "7  \t426   \t0.627493\t0.49881 \t0.637167\n",
      "8  \t410   \t0.629954\t0.498981\t0.637167\n",
      "9  \t433   \t0.627814\t0.497908\t0.637183\n",
      "10 \t428   \t0.628384\t0.498949\t0.637194\n",
      "synthetic neighborhood class counts {0: 950, 1: 250}\n",
      "Fitting 3 folds for each of 200 candidates, totalling 600 fits\n"
     ]
    },
    {
     "name": "stderr",
     "output_type": "stream",
     "text": [
      "[Parallel(n_jobs=-1)]: Using backend LokyBackend with 4 concurrent workers.\n",
      "[Parallel(n_jobs=-1)]: Done  48 tasks      | elapsed:    4.7s\n",
      "[Parallel(n_jobs=-1)]: Done 600 out of 600 | elapsed:    6.1s finished\n"
     ]
    },
    {
     "name": "stdout",
     "output_type": "stream",
     "text": [
      "13 / 50\n",
      "\n",
      "Neighborhood Generation\n",
      "calculating feature values\n",
      "gen\tnevals\tavg     \tmin     \tmax     \n",
      "0  \t500   \t0.496654\t0.496654\t0.496654\n",
      "1  \t425   \t0.528178\t0.496654\t0.993092\n",
      "2  \t434   \t0.558447\t0.496654\t0.993302\n",
      "3  \t441   \t0.599044\t0.497901\t0.993302\n",
      "4  \t422   \t0.630505\t0.497735\t0.993261\n",
      "5  \t412   \t0.666438\t0.497865\t0.993261\n",
      "6  \t418   \t0.669335\t0.498023\t0.993261\n",
      "7  \t418   \t0.703565\t0.497935\t0.993253\n",
      "8  \t432   \t0.688741\t0.497532\t0.993253\n",
      "9  \t412   \t0.71871 \t0.49776 \t0.993253\n",
      "10 \t417   \t0.717162\t0.497707\t0.993253\n",
      "gen\tnevals\tavg\tmin\tmax\n",
      "0  \t500   \t0.5\t0.5\t0.5\n",
      "1  \t423   \t0.722315\t0.498785\t0.993091\n",
      "2  \t436   \t0.947705\t0.49861 \t0.993091\n",
      "3  \t419   \t0.971266\t0.498859\t0.993091\n",
      "4  \t422   \t0.9784  \t0.499134\t0.993101\n",
      "5  \t417   \t0.978597\t0.499262\t0.993101\n",
      "6  \t410   \t0.97828 \t0.499057\t0.993085\n",
      "7  \t426   \t0.974653\t0.499082\t0.993115\n",
      "8  \t410   \t0.9798  \t0.498763\t0.993085\n",
      "9  \t433   \t0.977614\t0.49932 \t0.993085\n",
      "10 \t428   \t0.983018\t0.499042\t0.993103\n",
      "synthetic neighborhood class counts {0: 930, 1: 270}\n",
      "Fitting 3 folds for each of 200 candidates, totalling 600 fits\n"
     ]
    },
    {
     "name": "stderr",
     "output_type": "stream",
     "text": [
      "[Parallel(n_jobs=-1)]: Using backend LokyBackend with 4 concurrent workers.\n",
      "[Parallel(n_jobs=-1)]: Done  89 tasks      | elapsed:    4.5s\n",
      "[Parallel(n_jobs=-1)]: Done 600 out of 600 | elapsed:    6.2s finished\n"
     ]
    },
    {
     "name": "stdout",
     "output_type": "stream",
     "text": [
      "14 / 50\n",
      "\n",
      "Neighborhood Generation\n",
      "calculating feature values\n",
      "gen\tnevals\tavg     \tmin     \tmax     \n",
      "0  \t500   \t0.496654\t0.496654\t0.496654\n",
      "1  \t425   \t0.52091 \t0.496654\t0.992976\n",
      "2  \t434   \t0.549858\t0.496654\t0.993286\n",
      "3  \t441   \t0.565845\t0.499035\t0.993271\n",
      "4  \t422   \t0.603408\t0.498817\t0.993271\n",
      "5  \t412   \t0.636685\t0.498639\t0.993219\n",
      "6  \t418   \t0.659709\t0.49905 \t0.993219\n",
      "7  \t418   \t0.691892\t0.498941\t0.993263\n",
      "8  \t432   \t0.699054\t0.498823\t0.993263\n",
      "9  \t412   \t0.725359\t0.499176\t0.993263\n",
      "10 \t417   \t0.725938\t0.498727\t0.993262\n",
      "gen\tnevals\tavg\tmin\tmax\n",
      "0  \t500   \t0.5\t0.5\t0.5\n",
      "1  \t423   \t0.73409\t0.499592\t0.992897\n",
      "2  \t436   \t0.949417\t0.498911\t0.992905\n",
      "3  \t419   \t0.982851\t0.499077\t0.992905\n",
      "4  \t422   \t0.980835\t0.498908\t0.992923\n",
      "5  \t417   \t0.981155\t0.499705\t0.992923\n",
      "6  \t410   \t0.984536\t0.499535\t0.992929\n",
      "7  \t426   \t0.981122\t0.499336\t0.992933\n",
      "8  \t410   \t0.983335\t0.4991  \t0.992937\n",
      "9  \t433   \t0.983053\t0.499149\t0.992937\n",
      "10 \t428   \t0.981978\t0.49886 \t0.992937\n",
      "synthetic neighborhood class counts {0: 920, 1: 280}\n",
      "Fitting 3 folds for each of 200 candidates, totalling 600 fits\n"
     ]
    },
    {
     "name": "stderr",
     "output_type": "stream",
     "text": [
      "[Parallel(n_jobs=-1)]: Using backend LokyBackend with 4 concurrent workers.\n",
      "[Parallel(n_jobs=-1)]: Done  67 tasks      | elapsed:    4.3s\n",
      "[Parallel(n_jobs=-1)]: Done 600 out of 600 | elapsed:    6.4s finished\n"
     ]
    },
    {
     "name": "stdout",
     "output_type": "stream",
     "text": [
      "15 / 50\n",
      "\n",
      "Neighborhood Generation\n",
      "calculating feature values\n",
      "gen\tnevals\tavg     \tmin     \tmax     \n",
      "0  \t500   \t0.496654\t0.496654\t0.496654\n",
      "1  \t425   \t0.72685 \t0.496654\t0.993162\n",
      "2  \t434   \t0.960275\t0.496654\t0.993292\n",
      "3  \t441   \t0.989239\t0.499413\t0.993279\n",
      "4  \t422   \t0.988353\t0.499041\t0.993279\n",
      "5  \t412   \t0.987301\t0.500044\t0.993266\n",
      "6  \t418   \t0.983086\t0.499652\t0.993289\n",
      "7  \t418   \t0.985379\t0.499339\t0.993262\n",
      "8  \t432   \t0.989543\t0.500126\t0.993262\n",
      "9  \t412   \t0.989408\t0.503262\t0.993284\n",
      "10 \t417   \t0.988239\t0.500657\t0.993284\n",
      "gen\tnevals\tavg\tmin\tmax\n",
      "0  \t500   \t0.5\t0.5\t0.5\n",
      "1  \t423   \t0.501741\t0.498616\t0.991554\n",
      "2  \t436   \t0.508993\t0.498454\t0.992782\n",
      "3  \t419   \t0.521606\t0.498611\t0.992883\n",
      "4  \t422   \t0.537634\t0.498775\t0.993058\n",
      "5  \t417   \t0.560337\t0.498364\t0.993058\n",
      "6  \t410   \t0.593368\t0.498866\t0.993058\n",
      "7  \t426   \t0.60781 \t0.498615\t0.993133\n",
      "8  \t410   \t0.636606\t0.498449\t0.993133\n",
      "9  \t433   \t0.641299\t0.4984  \t0.993133\n",
      "10 \t428   \t0.649528\t0.4985  \t0.993133\n",
      "synthetic neighborhood class counts {0: 882, 1: 246}\n",
      "Fitting 3 folds for each of 200 candidates, totalling 600 fits\n"
     ]
    },
    {
     "name": "stderr",
     "output_type": "stream",
     "text": [
      "[Parallel(n_jobs=-1)]: Using backend LokyBackend with 4 concurrent workers.\n",
      "[Parallel(n_jobs=-1)]: Done 270 tasks      | elapsed:    3.0s\n",
      "[Parallel(n_jobs=-1)]: Done 600 out of 600 | elapsed:    3.3s finished\n"
     ]
    },
    {
     "name": "stdout",
     "output_type": "stream",
     "text": [
      "16 / 50\n",
      "\n",
      "Neighborhood Generation\n",
      "calculating feature values\n",
      "gen\tnevals\tavg     \tmin     \tmax     \n",
      "0  \t500   \t0.496654\t0.496654\t0.496654\n",
      "1  \t425   \t0.726442\t0.496654\t0.99322 \n",
      "2  \t434   \t0.954892\t0.496654\t0.993301\n",
      "3  \t441   \t0.985022\t0.499117\t0.993297\n",
      "4  \t422   \t0.98649 \t0.499918\t0.993297\n",
      "5  \t412   \t0.985717\t0.499198\t0.993269\n",
      "6  \t418   \t0.985634\t0.499417\t0.993255\n",
      "7  \t418   \t0.98307 \t0.499875\t0.993277\n",
      "8  \t432   \t0.986852\t0.499621\t0.993255\n",
      "9  \t412   \t0.982652\t0.50025 \t0.993267\n",
      "10 \t417   \t0.984843\t0.499939\t0.993267\n",
      "gen\tnevals\tavg\tmin\tmax\n",
      "0  \t500   \t0.5\t0.5\t0.5\n",
      "1  \t423   \t0.508531\t0.498678\t0.992978\n",
      "2  \t436   \t0.521301\t0.498904\t0.992978\n",
      "3  \t419   \t0.543353\t0.498905\t0.992978\n",
      "4  \t422   \t0.558665\t0.498684\t0.99315 \n",
      "5  \t417   \t0.595895\t0.498734\t0.993101\n",
      "6  \t410   \t0.640005\t0.498358\t0.993101\n",
      "7  \t426   \t0.644007\t0.498628\t0.993156\n",
      "8  \t410   \t0.652085\t0.498782\t0.993204\n",
      "9  \t433   \t0.655603\t0.498711\t0.993204\n",
      "10 \t428   \t0.659565\t0.498605\t0.993204\n",
      "synthetic neighborhood class counts {0: 859, 1: 269}\n",
      "Fitting 3 folds for each of 200 candidates, totalling 600 fits\n"
     ]
    },
    {
     "name": "stderr",
     "output_type": "stream",
     "text": [
      "[Parallel(n_jobs=-1)]: Using backend LokyBackend with 4 concurrent workers.\n",
      "[Parallel(n_jobs=-1)]: Done 116 tasks      | elapsed:    4.5s\n",
      "[Parallel(n_jobs=-1)]: Done 600 out of 600 | elapsed:    5.4s finished\n"
     ]
    },
    {
     "name": "stdout",
     "output_type": "stream",
     "text": [
      "17 / 50\n",
      "\n",
      "Neighborhood Generation\n",
      "calculating feature values\n",
      "gen\tnevals\tavg     \tmin     \tmax     \n",
      "0  \t500   \t0.496654\t0.496654\t0.496654\n",
      "1  \t425   \t0.719328\t0.496654\t0.99324 \n",
      "2  \t434   \t0.944665\t0.496654\t0.993305\n",
      "3  \t441   \t0.978139\t0.499135\t0.993305\n",
      "4  \t422   \t0.982891\t0.499622\t0.993305\n",
      "5  \t412   \t0.984151\t0.499661\t0.993288\n",
      "6  \t418   \t0.97878 \t0.499526\t0.993297\n",
      "7  \t418   \t0.983761\t0.499682\t0.993274\n",
      "8  \t432   \t0.981155\t0.499585\t0.993278\n",
      "9  \t412   \t0.985037\t0.499805\t0.993281\n",
      "10 \t417   \t0.976734\t0.49947 \t0.993283\n",
      "gen\tnevals\tavg\tmin\tmax\n",
      "0  \t500   \t0.5\t0.5\t0.5\n",
      "1  \t423   \t0.511871\t0.498785\t0.992851\n",
      "2  \t436   \t0.529641\t0.49901 \t0.993098\n",
      "3  \t419   \t0.551741\t0.49896 \t0.993098\n",
      "4  \t422   \t0.565698\t0.498798\t0.993286\n",
      "5  \t417   \t0.597909\t0.49897 \t0.993286\n",
      "6  \t410   \t0.645123\t0.498679\t0.993286\n",
      "7  \t426   \t0.666785\t0.498835\t0.993262\n",
      "8  \t410   \t0.68209 \t0.498951\t0.993273\n",
      "9  \t433   \t0.670721\t0.498827\t0.99328 \n",
      "10 \t428   \t0.681239\t0.498973\t0.993273\n",
      "synthetic neighborhood class counts {0: 828, 1: 300}\n",
      "Fitting 3 folds for each of 200 candidates, totalling 600 fits\n"
     ]
    },
    {
     "name": "stderr",
     "output_type": "stream",
     "text": [
      "[Parallel(n_jobs=-1)]: Using backend LokyBackend with 4 concurrent workers.\n",
      "[Parallel(n_jobs=-1)]: Done  65 tasks      | elapsed:    4.6s\n",
      "[Parallel(n_jobs=-1)]: Done 600 out of 600 | elapsed:    6.4s finished\n"
     ]
    },
    {
     "name": "stdout",
     "output_type": "stream",
     "text": [
      "18 / 50\n",
      "\n",
      "Neighborhood Generation\n",
      "calculating feature values\n",
      "gen\tnevals\tavg     \tmin     \tmax     \n",
      "0  \t500   \t0.496654\t0.496654\t0.496654\n",
      "1  \t425   \t0.515112\t0.496654\t0.992987\n",
      "2  \t434   \t0.550861\t0.496654\t0.993255\n",
      "3  \t441   \t0.578849\t0.498105\t0.993273\n",
      "4  \t422   \t0.609537\t0.498501\t0.993273\n",
      "5  \t412   \t0.642474\t0.498321\t0.993273\n",
      "6  \t418   \t0.661447\t0.49848 \t0.993273\n",
      "7  \t418   \t0.689851\t0.498142\t0.993273\n",
      "8  \t432   \t0.698256\t0.49829 \t0.993273\n",
      "9  \t412   \t0.718048\t0.498388\t0.993273\n",
      "10 \t417   \t0.715831\t0.498386\t0.993273\n",
      "gen\tnevals\tavg\tmin\tmax\n",
      "0  \t500   \t0.5\t0.5\t0.5\n",
      "1  \t423   \t0.735874\t0.499497\t0.993159\n",
      "2  \t436   \t0.952405\t0.498751\t0.993135\n",
      "3  \t419   \t0.981324\t0.498804\t0.993135\n",
      "4  \t422   \t0.979787\t0.498955\t0.993135\n",
      "5  \t417   \t0.984142\t0.499331\t0.993135\n",
      "6  \t410   \t0.983121\t0.499077\t0.993158\n",
      "7  \t426   \t0.982357\t0.499049\t0.993161\n",
      "8  \t410   \t0.981506\t0.499213\t0.993161\n",
      "9  \t433   \t0.984065\t0.499143\t0.993155\n",
      "10 \t428   \t0.980285\t0.499454\t0.993169\n",
      "synthetic neighborhood class counts {0: 926, 1: 274}\n",
      "Fitting 3 folds for each of 200 candidates, totalling 600 fits\n"
     ]
    },
    {
     "name": "stderr",
     "output_type": "stream",
     "text": [
      "[Parallel(n_jobs=-1)]: Using backend LokyBackend with 4 concurrent workers.\n",
      "[Parallel(n_jobs=-1)]: Done 122 tasks      | elapsed:    2.2s\n",
      "[Parallel(n_jobs=-1)]: Done 600 out of 600 | elapsed:    5.7s finished\n"
     ]
    },
    {
     "name": "stdout",
     "output_type": "stream",
     "text": [
      "19 / 50\n",
      "\n",
      "Neighborhood Generation\n",
      "calculating feature values\n",
      "gen\tnevals\tavg     \tmin     \tmax     \n",
      "0  \t500   \t0.496654\t0.496654\t0.496654\n",
      "1  \t425   \t0.568782\t0.496654\t0.993089\n",
      "2  \t434   \t0.651267\t0.496654\t0.99313 \n",
      "3  \t441   \t0.691055\t0.596405\t0.99313 \n",
      "4  \t422   \t0.721032\t0.59646 \t0.993089\n",
      "5  \t412   \t0.75734 \t0.596167\t0.993089\n",
      "6  \t418   \t0.767576\t0.596539\t0.993089\n",
      "7  \t418   \t0.784259\t0.596549\t0.993033\n",
      "8  \t432   \t0.774967\t0.596403\t0.99303 \n",
      "9  \t412   \t0.788297\t0.596571\t0.993086\n",
      "10 \t417   \t0.786165\t0.596092\t0.993086\n",
      "gen\tnevals\tavg\tmin\tmax\n",
      "0  \t500   \t0.5\t0.5\t0.5\n",
      "1  \t423   \t0.67695\t0.499726\t0.895551\n",
      "2  \t436   \t0.856328\t0.499748\t0.89555 \n",
      "3  \t419   \t0.88461 \t0.499714\t0.89555 \n",
      "4  \t422   \t0.878295\t0.499578\t0.89555 \n",
      "5  \t417   \t0.880957\t0.499301\t0.89555 \n",
      "6  \t410   \t0.87749 \t0.499355\t0.895574\n",
      "7  \t426   \t0.881746\t0.49934 \t0.895574\n",
      "8  \t410   \t0.885654\t0.499397\t0.895574\n",
      "9  \t433   \t0.881187\t0.49978 \t0.895574\n",
      "10 \t428   \t0.881364\t0.49941 \t0.895574\n",
      "synthetic neighborhood class counts {0: 938, 1: 262}\n",
      "Fitting 3 folds for each of 200 candidates, totalling 600 fits\n"
     ]
    },
    {
     "name": "stderr",
     "output_type": "stream",
     "text": [
      "[Parallel(n_jobs=-1)]: Using backend LokyBackend with 4 concurrent workers.\n",
      "[Parallel(n_jobs=-1)]: Done  45 tasks      | elapsed:    4.2s\n",
      "[Parallel(n_jobs=-1)]: Done 600 out of 600 | elapsed:    6.2s finished\n"
     ]
    },
    {
     "name": "stdout",
     "output_type": "stream",
     "text": [
      "20 / 50\n",
      "\n",
      "Neighborhood Generation\n",
      "calculating feature values\n",
      "gen\tnevals\tavg     \tmin     \tmax     \n",
      "0  \t500   \t0.496654\t0.496654\t0.496654\n",
      "1  \t425   \t0.727231\t0.496654\t0.992625\n",
      "2  \t434   \t0.954659\t0.496654\t0.992909\n",
      "3  \t441   \t0.979054\t0.75047 \t0.993034\n",
      "4  \t422   \t0.979242\t0.749732\t0.993171\n",
      "5  \t412   \t0.978885\t0.750152\t0.993171\n",
      "6  \t418   \t0.979397\t0.75054 \t0.993171\n",
      "7  \t418   \t0.979178\t0.752055\t0.993171\n",
      "8  \t432   \t0.981512\t0.751494\t0.993171\n",
      "9  \t412   \t0.980312\t0.751487\t0.993121\n",
      "10 \t417   \t0.978901\t0.750515\t0.99297 \n",
      "gen\tnevals\tavg\tmin\tmax\n",
      "0  \t500   \t0.5\t0.5\t0.5\n",
      "1  \t423   \t0.508379\t0.499661\t0.741804\n",
      "2  \t436   \t0.518985\t0.499084\t0.741804\n",
      "3  \t419   \t0.527963\t0.499133\t0.741804\n",
      "4  \t422   \t0.533138\t0.499499\t0.742061\n",
      "5  \t417   \t0.542174\t0.499875\t0.742079\n",
      "6  \t410   \t0.554117\t0.499631\t0.742449\n",
      "7  \t426   \t0.551607\t0.499017\t0.742449\n",
      "8  \t410   \t0.560403\t0.498967\t0.742449\n",
      "9  \t433   \t0.560896\t0.499545\t0.742472\n",
      "10 \t428   \t0.565795\t0.499529\t0.742449\n",
      "synthetic neighborhood class counts {0: 844, 1: 284}\n",
      "Fitting 3 folds for each of 200 candidates, totalling 600 fits\n"
     ]
    },
    {
     "name": "stderr",
     "output_type": "stream",
     "text": [
      "[Parallel(n_jobs=-1)]: Using backend LokyBackend with 4 concurrent workers.\n",
      "[Parallel(n_jobs=-1)]: Done 105 tasks      | elapsed:    4.7s\n",
      "[Parallel(n_jobs=-1)]: Done 600 out of 600 | elapsed:    6.4s finished\n"
     ]
    },
    {
     "name": "stdout",
     "output_type": "stream",
     "text": [
      "21 / 50\n",
      "\n",
      "Neighborhood Generation\n",
      "calculating feature values\n",
      "gen\tnevals\tavg     \tmin     \tmax     \n",
      "0  \t500   \t0.496654\t0.496654\t0.496654\n",
      "1  \t425   \t0.729361\t0.496654\t0.992979\n",
      "2  \t434   \t0.956066\t0.496654\t0.992979\n",
      "3  \t441   \t0.982936\t0.661902\t0.993249\n",
      "4  \t422   \t0.982244\t0.660708\t0.993249\n",
      "5  \t412   \t0.981983\t0.669533\t0.99312 \n",
      "6  \t418   \t0.981657\t0.666014\t0.99312 \n",
      "7  \t418   \t0.980594\t0.661226\t0.99312 \n",
      "8  \t432   \t0.977753\t0.660366\t0.99312 \n",
      "9  \t412   \t0.981653\t0.660334\t0.99312 \n",
      "10 \t417   \t0.978804\t0.661116\t0.99312 \n",
      "gen\tnevals\tavg\tmin\tmax\n",
      "0  \t500   \t0.5\t0.5\t0.5\n",
      "1  \t423   \t0.504315\t0.49972\t0.811703\n",
      "2  \t436   \t0.511393\t0.498959\t0.829834\n",
      "3  \t419   \t0.516015\t0.499141\t0.829834\n",
      "4  \t422   \t0.520865\t0.499613\t0.830146\n",
      "5  \t417   \t0.530892\t0.499104\t0.83187 \n",
      "6  \t410   \t0.539196\t0.499203\t0.83187 \n",
      "7  \t426   \t0.546327\t0.498973\t0.83191 \n",
      "8  \t410   \t0.552409\t0.498832\t0.83191 \n",
      "9  \t433   \t0.558158\t0.498785\t0.831679\n",
      "10 \t428   \t0.566278\t0.499047\t0.831947\n",
      "synthetic neighborhood class counts {0: 876, 1: 252}\n",
      "Fitting 3 folds for each of 200 candidates, totalling 600 fits\n"
     ]
    },
    {
     "name": "stderr",
     "output_type": "stream",
     "text": [
      "[Parallel(n_jobs=-1)]: Using backend LokyBackend with 4 concurrent workers.\n",
      "[Parallel(n_jobs=-1)]: Done  48 tasks      | elapsed:    4.0s\n",
      "[Parallel(n_jobs=-1)]: Done 600 out of 600 | elapsed:    6.0s finished\n"
     ]
    },
    {
     "name": "stdout",
     "output_type": "stream",
     "text": [
      "22 / 50\n",
      "\n",
      "Neighborhood Generation\n",
      "calculating feature values\n",
      "gen\tnevals\tavg     \tmin     \tmax     \n",
      "0  \t500   \t0.496654\t0.496654\t0.496654\n",
      "1  \t425   \t0.528147\t0.496654\t0.993131\n",
      "2  \t434   \t0.581238\t0.496654\t0.993285\n",
      "3  \t441   \t0.606413\t0.498869\t0.993285\n",
      "4  \t422   \t0.638803\t0.49874 \t0.993285\n",
      "5  \t412   \t0.668225\t0.498482\t0.993285\n",
      "6  \t418   \t0.679489\t0.498823\t0.993285\n",
      "7  \t418   \t0.706328\t0.498783\t0.993275\n",
      "8  \t432   \t0.715387\t0.498894\t0.993266\n",
      "9  \t412   \t0.732612\t0.498683\t0.993266\n",
      "10 \t417   \t0.732041\t0.498697\t0.993271\n",
      "gen\tnevals\tavg\tmin\tmax\n",
      "0  \t500   \t0.5\t0.5\t0.5\n",
      "1  \t423   \t0.725576\t0.499614\t0.993198\n",
      "2  \t436   \t0.938755\t0.49926 \t0.993198\n",
      "3  \t419   \t0.982478\t0.499056\t0.993179\n",
      "4  \t422   \t0.977728\t0.499054\t0.993178\n",
      "5  \t417   \t0.984398\t0.499388\t0.993178\n",
      "6  \t410   \t0.971538\t0.499257\t0.993198\n",
      "7  \t426   \t0.987259\t0.499356\t0.993198\n",
      "8  \t410   \t0.982001\t0.499372\t0.993198\n",
      "9  \t433   \t0.979763\t0.498987\t0.993198\n",
      "10 \t428   \t0.98298 \t0.499563\t0.993198\n",
      "synthetic neighborhood class counts {0: 920, 1: 280}\n",
      "Fitting 3 folds for each of 200 candidates, totalling 600 fits\n"
     ]
    },
    {
     "name": "stderr",
     "output_type": "stream",
     "text": [
      "[Parallel(n_jobs=-1)]: Using backend LokyBackend with 4 concurrent workers.\n",
      "[Parallel(n_jobs=-1)]: Done  88 tasks      | elapsed:    4.7s\n",
      "[Parallel(n_jobs=-1)]: Done 600 out of 600 | elapsed:    6.6s finished\n"
     ]
    },
    {
     "name": "stdout",
     "output_type": "stream",
     "text": [
      "23 / 50\n",
      "\n",
      "Neighborhood Generation\n",
      "calculating feature values\n",
      "gen\tnevals\tavg     \tmin     \tmax     \n",
      "0  \t500   \t0.496654\t0.496654\t0.496654\n",
      "1  \t425   \t0.725474\t0.496654\t0.993178\n",
      "2  \t434   \t0.95972 \t0.496654\t0.993292\n",
      "3  \t441   \t0.984907\t0.501308\t0.993292\n",
      "4  \t422   \t0.981409\t0.501352\t0.993292\n",
      "5  \t412   \t0.980449\t0.501394\t0.993241\n",
      "6  \t418   \t0.980203\t0.501298\t0.993227\n",
      "7  \t418   \t0.977322\t0.50111 \t0.993227\n",
      "8  \t432   \t0.981445\t0.501837\t0.993295\n",
      "9  \t412   \t0.974423\t0.501256\t0.993254\n",
      "10 \t417   \t0.982795\t0.501516\t0.993264\n",
      "gen\tnevals\tavg\tmin\tmax\n",
      "0  \t500   \t0.5\t0.5\t0.5\n",
      "1  \t423   \t0.504425\t0.498769\t0.990187\n",
      "2  \t436   \t0.508601\t0.498777\t0.990015\n",
      "3  \t419   \t0.51768 \t0.498428\t0.990035\n",
      "4  \t422   \t0.550916\t0.498276\t0.991142\n",
      "5  \t417   \t0.58338 \t0.49814 \t0.991142\n",
      "6  \t410   \t0.614031\t0.498264\t0.991123\n",
      "7  \t426   \t0.637106\t0.498113\t0.991205\n",
      "8  \t410   \t0.656804\t0.498362\t0.991249\n",
      "9  \t433   \t0.66415 \t0.497895\t0.991249\n",
      "10 \t428   \t0.664983\t0.497959\t0.991123\n",
      "synthetic neighborhood class counts {0: 851, 1: 277}\n",
      "Fitting 3 folds for each of 200 candidates, totalling 600 fits\n"
     ]
    },
    {
     "name": "stderr",
     "output_type": "stream",
     "text": [
      "[Parallel(n_jobs=-1)]: Using backend LokyBackend with 4 concurrent workers.\n",
      "[Parallel(n_jobs=-1)]: Done  46 tasks      | elapsed:    4.2s\n",
      "[Parallel(n_jobs=-1)]: Done 600 out of 600 | elapsed:    6.2s finished\n"
     ]
    },
    {
     "name": "stdout",
     "output_type": "stream",
     "text": [
      "24 / 50\n",
      "\n",
      "Neighborhood Generation\n",
      "calculating feature values\n",
      "gen\tnevals\tavg     \tmin     \tmax     \n",
      "0  \t500   \t0.496654\t0.496654\t0.496654\n",
      "1  \t425   \t0.574743\t0.496654\t0.992753\n",
      "2  \t434   \t0.660352\t0.496654\t0.993075\n",
      "3  \t441   \t0.684869\t0.635403\t0.993075\n",
      "4  \t422   \t0.716129\t0.635388\t0.993075\n",
      "5  \t412   \t0.742144\t0.635285\t0.993075\n",
      "6  \t418   \t0.748825\t0.635334\t0.993075\n",
      "7  \t418   \t0.785136\t0.635327\t0.993075\n",
      "8  \t432   \t0.792305\t0.635255\t0.992976\n",
      "9  \t412   \t0.809214\t0.635358\t0.992976\n",
      "10 \t417   \t0.805605\t0.635382\t0.992976\n",
      "gen\tnevals\tavg\tmin\tmax\n",
      "0  \t500   \t0.5\t0.5\t0.5\n",
      "1  \t423   \t0.668612\t0.5\t0.855903\n",
      "2  \t436   \t0.828965\t0.49942\t0.855908\n",
      "3  \t419   \t0.848798\t0.49929\t0.855903\n",
      "4  \t422   \t0.848701\t0.499104\t0.855929\n",
      "5  \t417   \t0.847471\t0.49976 \t0.855957\n",
      "6  \t410   \t0.849518\t0.499605\t0.855957\n",
      "7  \t426   \t0.843601\t0.499937\t0.855938\n",
      "8  \t410   \t0.842978\t0.498971\t0.855938\n",
      "9  \t433   \t0.841891\t0.499209\t0.855951\n",
      "10 \t428   \t0.847381\t0.502226\t0.855959\n",
      "synthetic neighborhood class counts {0: 953, 1: 247}\n",
      "Fitting 3 folds for each of 200 candidates, totalling 600 fits\n"
     ]
    },
    {
     "name": "stderr",
     "output_type": "stream",
     "text": [
      "[Parallel(n_jobs=-1)]: Using backend LokyBackend with 4 concurrent workers.\n",
      "[Parallel(n_jobs=-1)]: Done  47 tasks      | elapsed:    4.9s\n",
      "[Parallel(n_jobs=-1)]: Done 600 out of 600 | elapsed:    6.7s finished\n"
     ]
    },
    {
     "name": "stdout",
     "output_type": "stream",
     "text": [
      "25 / 50\n",
      "\n",
      "Neighborhood Generation\n",
      "calculating feature values\n",
      "gen\tnevals\tavg     \tmin     \tmax     \n",
      "0  \t500   \t0.496654\t0.496654\t0.496654\n",
      "1  \t425   \t0.517823\t0.496654\t0.993071\n",
      "2  \t434   \t0.553261\t0.496654\t0.993283\n",
      "3  \t441   \t0.570901\t0.498838\t0.993274\n",
      "4  \t422   \t0.589781\t0.498758\t0.993274\n",
      "5  \t412   \t0.624122\t0.498411\t0.993274\n",
      "6  \t418   \t0.633654\t0.498738\t0.993274\n",
      "7  \t418   \t0.688245\t0.498811\t0.993221\n",
      "8  \t432   \t0.700722\t0.498485\t0.993176\n",
      "9  \t412   \t0.719777\t0.498671\t0.993176\n",
      "10 \t417   \t0.717994\t0.498498\t0.993182\n",
      "gen\tnevals\tavg\tmin\tmax\n",
      "0  \t500   \t0.5\t0.5\t0.5\n",
      "1  \t423   \t0.732558\t0.499535\t0.99318\n",
      "2  \t436   \t0.950054\t0.499154\t0.99318\n",
      "3  \t419   \t0.980252\t0.498998\t0.99318\n",
      "4  \t422   \t0.983006\t0.498978\t0.99316\n",
      "5  \t417   \t0.983021\t0.499403\t0.99316\n",
      "6  \t410   \t0.977037\t0.498972\t0.99316\n",
      "7  \t426   \t0.98523 \t0.499293\t0.993209\n",
      "8  \t410   \t0.982261\t0.499195\t0.993209\n",
      "9  \t433   \t0.986419\t0.498918\t0.993209\n",
      "10 \t428   \t0.979775\t0.499625\t0.993209\n",
      "synthetic neighborhood class counts {0: 932, 1: 268}\n",
      "Fitting 3 folds for each of 200 candidates, totalling 600 fits\n"
     ]
    },
    {
     "name": "stderr",
     "output_type": "stream",
     "text": [
      "[Parallel(n_jobs=-1)]: Using backend LokyBackend with 4 concurrent workers.\n",
      "[Parallel(n_jobs=-1)]: Done 155 tasks      | elapsed:    3.4s\n",
      "[Parallel(n_jobs=-1)]: Done 600 out of 600 | elapsed:    4.4s finished\n"
     ]
    },
    {
     "name": "stdout",
     "output_type": "stream",
     "text": [
      "26 / 50\n",
      "\n",
      "Neighborhood Generation\n",
      "calculating feature values\n",
      "gen\tnevals\tavg     \tmin     \tmax     \n",
      "0  \t500   \t0.496654\t0.496654\t0.496654\n",
      "1  \t425   \t0.525032\t0.496654\t0.993061\n",
      "2  \t434   \t0.571122\t0.496654\t0.993279\n",
      "3  \t441   \t0.583279\t0.499286\t0.993234\n",
      "4  \t422   \t0.619494\t0.498982\t0.993176\n",
      "5  \t412   \t0.666542\t0.498862\t0.993176\n",
      "6  \t418   \t0.668275\t0.498965\t0.993176\n",
      "7  \t418   \t0.684785\t0.499275\t0.993176\n",
      "8  \t432   \t0.693032\t0.499261\t0.993206\n",
      "9  \t412   \t0.717433\t0.499306\t0.993206\n",
      "10 \t417   \t0.711136\t0.499027\t0.99317 \n",
      "gen\tnevals\tavg\tmin\tmax\n",
      "0  \t500   \t0.5\t0.5\t0.5\n",
      "1  \t423   \t0.727868\t0.499633\t0.992718\n",
      "2  \t436   \t0.950364\t0.499244\t0.992718\n",
      "3  \t419   \t0.980102\t0.499584\t0.992723\n",
      "4  \t422   \t0.978606\t0.499127\t0.992728\n",
      "5  \t417   \t0.987806\t0.499751\t0.992728\n",
      "6  \t410   \t0.982857\t0.498885\t0.992728\n",
      "7  \t426   \t0.979142\t0.499371\t0.992728\n",
      "8  \t410   \t0.983622\t0.499182\t0.992742\n",
      "9  \t433   \t0.983762\t0.499502\t0.99276 \n",
      "10 \t428   \t0.984469\t0.499509\t0.99276 \n",
      "synthetic neighborhood class counts {0: 940, 1: 260}\n",
      "Fitting 3 folds for each of 200 candidates, totalling 600 fits\n"
     ]
    },
    {
     "name": "stderr",
     "output_type": "stream",
     "text": [
      "[Parallel(n_jobs=-1)]: Using backend LokyBackend with 4 concurrent workers.\n",
      "[Parallel(n_jobs=-1)]: Done 106 tasks      | elapsed:    3.0s\n",
      "[Parallel(n_jobs=-1)]: Done 600 out of 600 | elapsed:    4.2s finished\n"
     ]
    },
    {
     "name": "stdout",
     "output_type": "stream",
     "text": [
      "27 / 50\n",
      "\n",
      "Neighborhood Generation\n",
      "calculating feature values\n",
      "gen\tnevals\tavg     \tmin     \tmax     \n",
      "0  \t500   \t0.496654\t0.496654\t0.496654\n",
      "1  \t425   \t0.523473\t0.496654\t0.99308 \n",
      "2  \t434   \t0.56837 \t0.496654\t0.993304\n",
      "3  \t441   \t0.601897\t0.498871\t0.993288\n",
      "4  \t422   \t0.632583\t0.49895 \t0.993288\n",
      "5  \t412   \t0.667807\t0.498492\t0.993288\n",
      "6  \t418   \t0.693524\t0.499007\t0.993288\n",
      "7  \t418   \t0.730154\t0.499024\t0.993271\n",
      "8  \t432   \t0.730409\t0.49897 \t0.993271\n",
      "9  \t412   \t0.735336\t0.498932\t0.99327 \n",
      "10 \t417   \t0.733116\t0.498729\t0.993266\n",
      "gen\tnevals\tavg\tmin\tmax\n",
      "0  \t500   \t0.5\t0.5\t0.5\n",
      "1  \t423   \t0.716379\t0.499386\t0.993189\n",
      "2  \t436   \t0.934189\t0.499069\t0.993197\n",
      "3  \t419   \t0.982179\t0.499547\t0.993197\n",
      "4  \t422   \t0.9814  \t0.499443\t0.993205\n",
      "5  \t417   \t0.980206\t0.499351\t0.993206\n",
      "6  \t410   \t0.980873\t0.4991  \t0.993205\n",
      "7  \t426   \t0.976611\t0.499072\t0.993205\n",
      "8  \t410   \t0.98239 \t0.499422\t0.993209\n",
      "9  \t433   \t0.98148 \t0.49943 \t0.993229\n",
      "10 \t428   \t0.980986\t0.499572\t0.993229\n",
      "synthetic neighborhood class counts {0: 912, 1: 288}\n",
      "Fitting 3 folds for each of 200 candidates, totalling 600 fits\n"
     ]
    },
    {
     "name": "stderr",
     "output_type": "stream",
     "text": [
      "[Parallel(n_jobs=-1)]: Using backend LokyBackend with 4 concurrent workers.\n",
      "[Parallel(n_jobs=-1)]: Done 600 out of 600 | elapsed:    2.8s finished\n"
     ]
    },
    {
     "name": "stdout",
     "output_type": "stream",
     "text": [
      "28 / 50\n",
      "\n",
      "Neighborhood Generation\n",
      "calculating feature values\n",
      "gen\tnevals\tavg     \tmin     \tmax     \n",
      "0  \t500   \t0.496654\t0.496654\t0.496654\n",
      "1  \t425   \t0.732961\t0.496654\t0.993162\n",
      "2  \t434   \t0.960304\t0.496654\t0.993304\n",
      "3  \t441   \t0.986874\t0.499614\t0.993304\n",
      "4  \t422   \t0.987152\t0.499846\t0.993242\n",
      "5  \t412   \t0.988886\t0.503494\t0.993256\n",
      "6  \t418   \t0.979349\t0.499573\t0.993297\n",
      "7  \t418   \t0.985683\t0.499371\t0.993261\n",
      "8  \t432   \t0.991303\t0.499857\t0.993285\n",
      "9  \t412   \t0.987635\t0.499547\t0.993283\n",
      "10 \t417   \t0.987784\t0.50202 \t0.993291\n",
      "gen\tnevals\tavg\tmin\tmax\n",
      "0  \t500   \t0.5\t0.5\t0.5\n",
      "1  \t423   \t0.505937\t0.498751\t0.993137\n",
      "2  \t436   \t0.512587\t0.49887 \t0.993137\n",
      "3  \t419   \t0.513014\t0.498487\t0.993198\n",
      "4  \t422   \t0.525989\t0.498587\t0.99303 \n",
      "5  \t417   \t0.545121\t0.498476\t0.993145\n",
      "6  \t410   \t0.571466\t0.498236\t0.993205\n",
      "7  \t426   \t0.581757\t0.497871\t0.992899\n",
      "8  \t410   \t0.603874\t0.49862 \t0.992875\n",
      "9  \t433   \t0.628014\t0.498426\t0.992875\n",
      "10 \t428   \t0.634233\t0.498476\t0.992875\n",
      "synthetic neighborhood class counts {0: 894, 1: 234}\n",
      "Fitting 3 folds for each of 200 candidates, totalling 600 fits\n"
     ]
    },
    {
     "name": "stderr",
     "output_type": "stream",
     "text": [
      "[Parallel(n_jobs=-1)]: Using backend LokyBackend with 4 concurrent workers.\n",
      "[Parallel(n_jobs=-1)]: Done  94 tasks      | elapsed:    3.5s\n",
      "[Parallel(n_jobs=-1)]: Done 600 out of 600 | elapsed:    5.4s finished\n"
     ]
    },
    {
     "name": "stdout",
     "output_type": "stream",
     "text": [
      "29 / 50\n",
      "\n",
      "Neighborhood Generation\n",
      "calculating feature values\n",
      "gen\tnevals\tavg     \tmin     \tmax     \n",
      "0  \t500   \t0.496654\t0.496654\t0.496654\n",
      "1  \t425   \t0.539606\t0.496654\t0.992957\n",
      "2  \t434   \t0.596406\t0.496654\t0.993256\n",
      "3  \t441   \t0.62514 \t0.561346\t0.993089\n",
      "4  \t422   \t0.651754\t0.561104\t0.993089\n",
      "5  \t412   \t0.693286\t0.560636\t0.993089\n",
      "6  \t418   \t0.71345 \t0.561166\t0.992939\n",
      "7  \t418   \t0.735454\t0.561276\t0.992939\n",
      "8  \t432   \t0.730327\t0.561347\t0.992939\n",
      "9  \t412   \t0.738904\t0.561066\t0.992939\n",
      "10 \t417   \t0.746469\t0.561006\t0.992939\n",
      "gen\tnevals\tavg\tmin\tmax\n",
      "0  \t500   \t0.5\t0.5\t0.5\n",
      "1  \t423   \t0.703171\t0.499397\t0.929977\n",
      "2  \t436   \t0.898602\t0.499515\t0.930064\n",
      "3  \t419   \t0.922995\t0.499196\t0.930064\n",
      "4  \t422   \t0.920855\t0.499127\t0.930064\n",
      "5  \t417   \t0.918756\t0.499257\t0.930064\n",
      "6  \t410   \t0.920169\t0.50048 \t0.930064\n",
      "7  \t426   \t0.919536\t0.499559\t0.930074\n",
      "8  \t410   \t0.924744\t0.500214\t0.930074\n",
      "9  \t433   \t0.919883\t0.499145\t0.930074\n",
      "10 \t428   \t0.923076\t0.498207\t0.930078\n",
      "synthetic neighborhood class counts {0: 971, 1: 229}\n",
      "Fitting 3 folds for each of 200 candidates, totalling 600 fits\n"
     ]
    },
    {
     "name": "stderr",
     "output_type": "stream",
     "text": [
      "[Parallel(n_jobs=-1)]: Using backend LokyBackend with 4 concurrent workers.\n",
      "[Parallel(n_jobs=-1)]: Done 232 tasks      | elapsed:    4.1s\n",
      "[Parallel(n_jobs=-1)]: Done 600 out of 600 | elapsed:    5.4s finished\n"
     ]
    },
    {
     "name": "stdout",
     "output_type": "stream",
     "text": [
      "30 / 50\n",
      "\n",
      "Neighborhood Generation\n",
      "calculating feature values\n",
      "gen\tnevals\tavg     \tmin     \tmax     \n",
      "0  \t500   \t0.496654\t0.496654\t0.496654\n",
      "1  \t425   \t0.521109\t0.496654\t0.993064\n",
      "2  \t434   \t0.563823\t0.496654\t0.993284\n",
      "3  \t441   \t0.590613\t0.499102\t0.993284\n",
      "4  \t422   \t0.61919 \t0.49913 \t0.993284\n",
      "5  \t412   \t0.653798\t0.498719\t0.993284\n",
      "6  \t418   \t0.68305 \t0.499141\t0.993284\n",
      "7  \t418   \t0.707337\t0.499245\t0.99327 \n",
      "8  \t432   \t0.714203\t0.4992  \t0.99327 \n",
      "9  \t412   \t0.733121\t0.49927 \t0.993257\n",
      "10 \t417   \t0.725213\t0.498793\t0.99324 \n",
      "gen\tnevals\tavg\tmin\tmax\n",
      "0  \t500   \t0.5\t0.5\t0.5\n",
      "1  \t423   \t0.72149\t0.499367\t0.993036\n",
      "2  \t436   \t0.942374\t0.499181\t0.993079\n",
      "3  \t419   \t0.983177\t0.499384\t0.993079\n",
      "4  \t422   \t0.983223\t0.499506\t0.993079\n",
      "5  \t417   \t0.981423\t0.499388\t0.993079\n",
      "6  \t410   \t0.978691\t0.499711\t0.993079\n",
      "7  \t426   \t0.974687\t0.499479\t0.993079\n",
      "8  \t410   \t0.9841  \t0.499473\t0.993079\n",
      "9  \t433   \t0.983162\t0.499482\t0.993079\n",
      "10 \t428   \t0.982331\t0.499599\t0.993079\n",
      "synthetic neighborhood class counts {0: 924, 1: 276}\n",
      "Fitting 3 folds for each of 200 candidates, totalling 600 fits\n"
     ]
    },
    {
     "name": "stderr",
     "output_type": "stream",
     "text": [
      "[Parallel(n_jobs=-1)]: Using backend LokyBackend with 4 concurrent workers.\n",
      "[Parallel(n_jobs=-1)]: Done 101 tasks      | elapsed:    4.4s\n",
      "[Parallel(n_jobs=-1)]: Done 600 out of 600 | elapsed:    6.0s finished\n"
     ]
    },
    {
     "name": "stdout",
     "output_type": "stream",
     "text": [
      "31 / 50\n",
      "\n",
      "Neighborhood Generation\n",
      "calculating feature values\n",
      "gen\tnevals\tavg     \tmin     \tmax     \n",
      "0  \t500   \t0.496654\t0.496654\t0.496654\n",
      "1  \t425   \t0.519921\t0.496654\t0.993192\n",
      "2  \t434   \t0.558847\t0.496654\t0.993277\n",
      "3  \t441   \t0.586499\t0.49896 \t0.993235\n",
      "4  \t422   \t0.623968\t0.498713\t0.993235\n",
      "5  \t412   \t0.661109\t0.498137\t0.993235\n",
      "6  \t418   \t0.676338\t0.498832\t0.993235\n",
      "7  \t418   \t0.702591\t0.498897\t0.993208\n",
      "8  \t432   \t0.700578\t0.49892 \t0.993208\n",
      "9  \t412   \t0.70554 \t0.498846\t0.993208\n",
      "10 \t417   \t0.717679\t0.498294\t0.993208\n",
      "gen\tnevals\tavg\tmin\tmax\n",
      "0  \t500   \t0.5\t0.5\t0.5\n",
      "1  \t423   \t0.728891\t0.499711\t0.993158\n",
      "2  \t436   \t0.948046\t0.499294\t0.993199\n",
      "3  \t419   \t0.98991 \t0.501425\t0.993199\n",
      "4  \t422   \t0.981529\t0.499141\t0.993199\n",
      "5  \t417   \t0.984704\t0.499646\t0.99315 \n",
      "6  \t410   \t0.979394\t0.499415\t0.993176\n",
      "7  \t426   \t0.973942\t0.499388\t0.993176\n",
      "8  \t410   \t0.986097\t0.499772\t0.993176\n",
      "9  \t433   \t0.977255\t0.499629\t0.993176\n",
      "10 \t428   \t0.98376 \t0.499276\t0.993193\n",
      "synthetic neighborhood class counts {0: 932, 1: 268}\n",
      "Fitting 3 folds for each of 200 candidates, totalling 600 fits\n"
     ]
    },
    {
     "name": "stderr",
     "output_type": "stream",
     "text": [
      "[Parallel(n_jobs=-1)]: Using backend LokyBackend with 4 concurrent workers.\n",
      "[Parallel(n_jobs=-1)]: Done 100 tasks      | elapsed:    4.5s\n",
      "[Parallel(n_jobs=-1)]: Done 600 out of 600 | elapsed:    5.7s finished\n"
     ]
    },
    {
     "name": "stdout",
     "output_type": "stream",
     "text": [
      "32 / 50\n",
      "\n",
      "Neighborhood Generation\n",
      "calculating feature values\n",
      "gen\tnevals\tavg     \tmin     \tmax     \n",
      "0  \t500   \t0.496654\t0.496654\t0.496654\n",
      "1  \t425   \t0.710994\t0.496654\t0.992972\n",
      "2  \t434   \t0.921673\t0.496654\t0.992988\n",
      "3  \t441   \t0.94788 \t0.932614\t0.993059\n",
      "4  \t422   \t0.951912\t0.932749\t0.993059\n",
      "5  \t412   \t0.953529\t0.931965\t0.993059\n",
      "6  \t418   \t0.955408\t0.93263 \t0.993059\n",
      "7  \t418   \t0.956129\t0.932864\t0.993059\n",
      "8  \t432   \t0.955216\t0.932761\t0.993117\n",
      "9  \t412   \t0.958258\t0.932599\t0.993117\n",
      "10 \t417   \t0.958623\t0.93234 \t0.993117\n",
      "gen\tnevals\tavg\tmin\tmax\n",
      "0  \t500   \t0.5\t0.5\t0.5\n",
      "1  \t423   \t0.526143\t0.499617\t0.559399\n",
      "2  \t436   \t0.552322\t0.498997\t0.559428\n",
      "3  \t419   \t0.556759\t0.500146\t0.559428\n",
      "4  \t422   \t0.556962\t0.49953 \t0.559428\n",
      "5  \t417   \t0.557   \t0.499793\t0.559428\n",
      "6  \t410   \t0.556732\t0.499585\t0.559428\n",
      "7  \t426   \t0.556578\t0.499604\t0.559428\n",
      "8  \t410   \t0.557623\t0.499439\t0.559428\n",
      "9  \t433   \t0.557252\t0.499383\t0.559428\n",
      "10 \t428   \t0.556957\t0.499604\t0.559429\n",
      "synthetic neighborhood class counts {0: 1023, 1: 177}\n",
      "Fitting 3 folds for each of 200 candidates, totalling 600 fits\n"
     ]
    },
    {
     "name": "stderr",
     "output_type": "stream",
     "text": [
      "[Parallel(n_jobs=-1)]: Using backend LokyBackend with 4 concurrent workers.\n",
      "[Parallel(n_jobs=-1)]: Done  59 tasks      | elapsed:    3.4s\n",
      "[Parallel(n_jobs=-1)]: Done 600 out of 600 | elapsed:    5.4s finished\n"
     ]
    },
    {
     "name": "stdout",
     "output_type": "stream",
     "text": [
      "33 / 50\n",
      "\n",
      "Neighborhood Generation\n",
      "calculating feature values\n",
      "gen\tnevals\tavg     \tmin     \tmax     \n",
      "0  \t500   \t0.496654\t0.496654\t0.496654\n",
      "1  \t425   \t0.727503\t0.496654\t0.99308 \n",
      "2  \t434   \t0.964271\t0.496654\t0.993163\n",
      "3  \t441   \t0.982406\t0.505567\t0.993149\n",
      "4  \t422   \t0.987274\t0.510421\t0.993149\n",
      "5  \t412   \t0.983791\t0.505945\t0.993186\n",
      "6  \t418   \t0.979284\t0.505602\t0.993186\n",
      "7  \t418   \t0.986681\t0.506084\t0.993184\n",
      "8  \t432   \t0.981488\t0.506303\t0.993182\n",
      "9  \t412   \t0.984945\t0.505634\t0.993182\n",
      "10 \t417   \t0.984072\t0.505428\t0.99326 \n",
      "gen\tnevals\tavg\tmin\tmax\n",
      "0  \t500   \t0.5\t0.5\t0.5\n",
      "1  \t423   \t0.505734\t0.49887\t0.985077\n",
      "2  \t436   \t0.516891\t0.498958\t0.986825\n",
      "3  \t419   \t0.531228\t0.499108\t0.986825\n",
      "4  \t422   \t0.556515\t0.498951\t0.986844\n",
      "5  \t417   \t0.589505\t0.498425\t0.98707 \n",
      "6  \t410   \t0.62059 \t0.498051\t0.986955\n",
      "7  \t426   \t0.627379\t0.498611\t0.987043\n",
      "8  \t410   \t0.624966\t0.498652\t0.987086\n",
      "9  \t433   \t0.630945\t0.498824\t0.987043\n",
      "10 \t428   \t0.635745\t0.498727\t0.987081\n",
      "synthetic neighborhood class counts {0: 878, 1: 250}\n",
      "Fitting 3 folds for each of 200 candidates, totalling 600 fits\n"
     ]
    },
    {
     "name": "stderr",
     "output_type": "stream",
     "text": [
      "[Parallel(n_jobs=-1)]: Using backend LokyBackend with 4 concurrent workers.\n",
      "[Parallel(n_jobs=-1)]: Done 102 tasks      | elapsed:    4.4s\n",
      "[Parallel(n_jobs=-1)]: Done 600 out of 600 | elapsed:    5.9s finished\n"
     ]
    },
    {
     "name": "stdout",
     "output_type": "stream",
     "text": [
      "34 / 50\n",
      "\n",
      "Neighborhood Generation\n",
      "calculating feature values\n",
      "gen\tnevals\tavg     \tmin     \tmax     \n",
      "0  \t500   \t0.496654\t0.496654\t0.496654\n",
      "1  \t425   \t0.514811\t0.496654\t0.993096\n",
      "2  \t434   \t0.546826\t0.496654\t0.993262\n",
      "3  \t441   \t0.575973\t0.498943\t0.993248\n",
      "4  \t422   \t0.60246 \t0.499046\t0.993219\n",
      "5  \t412   \t0.62656 \t0.498313\t0.993219\n",
      "6  \t418   \t0.654996\t0.498972\t0.993219\n",
      "7  \t418   \t0.687103\t0.498761\t0.993219\n",
      "8  \t432   \t0.703557\t0.499061\t0.993219\n",
      "9  \t412   \t0.720136\t0.498902\t0.993219\n",
      "10 \t417   \t0.72301 \t0.498599\t0.993219\n",
      "gen\tnevals\tavg\tmin\tmax\n",
      "0  \t500   \t0.5\t0.5\t0.5\n",
      "1  \t423   \t0.727017\t0.499355\t0.993169\n",
      "2  \t436   \t0.948236\t0.499315\t0.993174\n",
      "3  \t419   \t0.98888 \t0.499575\t0.993174\n",
      "4  \t422   \t0.985807\t0.499219\t0.993174\n",
      "5  \t417   \t0.986817\t0.499674\t0.993174\n",
      "6  \t410   \t0.973702\t0.499147\t0.993181\n",
      "7  \t426   \t0.980702\t0.499491\t0.993177\n",
      "8  \t410   \t0.986379\t0.499747\t0.993177\n",
      "9  \t433   \t0.980672\t0.499635\t0.993177\n",
      "10 \t428   \t0.985666\t0.499447\t0.99318 \n",
      "synthetic neighborhood class counts {0: 933, 1: 267}\n",
      "Fitting 3 folds for each of 200 candidates, totalling 600 fits\n"
     ]
    },
    {
     "name": "stderr",
     "output_type": "stream",
     "text": [
      "[Parallel(n_jobs=-1)]: Using backend LokyBackend with 4 concurrent workers.\n",
      "[Parallel(n_jobs=-1)]: Done  48 tasks      | elapsed:    4.2s\n",
      "[Parallel(n_jobs=-1)]: Done 600 out of 600 | elapsed:    6.2s finished\n"
     ]
    },
    {
     "name": "stdout",
     "output_type": "stream",
     "text": [
      "35 / 50\n",
      "\n",
      "Neighborhood Generation\n",
      "calculating feature values\n",
      "gen\tnevals\tavg     \tmin     \tmax     \n",
      "0  \t500   \t0.496654\t0.496654\t0.496654\n",
      "1  \t425   \t0.715659\t0.496654\t0.993169\n",
      "2  \t434   \t0.945619\t0.496654\t0.993291\n",
      "3  \t441   \t0.973234\t0.498821\t0.99327 \n",
      "4  \t422   \t0.98062 \t0.4993  \t0.99327 \n",
      "5  \t412   \t0.96496 \t0.498785\t0.993294\n",
      "6  \t418   \t0.972486\t0.49896 \t0.99328 \n",
      "7  \t418   \t0.965839\t0.498497\t0.993262\n",
      "8  \t432   \t0.979278\t0.49887 \t0.993274\n",
      "9  \t412   \t0.975937\t0.49921 \t0.993274\n",
      "10 \t417   \t0.968826\t0.499102\t0.993256\n",
      "gen\tnevals\tavg\tmin\tmax\n",
      "0  \t500   \t0.5\t0.5\t0.5\n",
      "1  \t423   \t0.526534\t0.49834\t0.992924\n",
      "2  \t436   \t0.55383 \t0.498016\t0.992984\n",
      "3  \t419   \t0.593744\t0.497584\t0.992924\n",
      "4  \t422   \t0.636927\t0.497631\t0.992985\n",
      "5  \t417   \t0.65611 \t0.497274\t0.992924\n",
      "6  \t410   \t0.70368 \t0.497295\t0.992924\n",
      "7  \t426   \t0.699401\t0.496569\t0.992924\n",
      "8  \t410   \t0.718455\t0.497523\t0.992963\n",
      "9  \t433   \t0.706509\t0.497324\t0.992963\n",
      "10 \t428   \t0.714312\t0.497237\t0.992924\n",
      "synthetic neighborhood class counts {0: 795, 1: 333}\n",
      "Fitting 3 folds for each of 200 candidates, totalling 600 fits\n"
     ]
    },
    {
     "name": "stderr",
     "output_type": "stream",
     "text": [
      "[Parallel(n_jobs=-1)]: Using backend LokyBackend with 4 concurrent workers.\n",
      "[Parallel(n_jobs=-1)]: Done  47 tasks      | elapsed:    4.1s\n",
      "[Parallel(n_jobs=-1)]: Done 600 out of 600 | elapsed:    6.0s finished\n"
     ]
    },
    {
     "name": "stdout",
     "output_type": "stream",
     "text": [
      "36 / 50\n",
      "\n",
      "Neighborhood Generation\n",
      "calculating feature values\n",
      "gen\tnevals\tavg     \tmin     \tmax     \n",
      "0  \t500   \t0.496654\t0.496654\t0.496654\n",
      "1  \t425   \t0.52616 \t0.496654\t0.993169\n",
      "2  \t434   \t0.552808\t0.496654\t0.993306\n",
      "3  \t441   \t0.591544\t0.498128\t0.993306\n",
      "4  \t422   \t0.613194\t0.498226\t0.993304\n",
      "5  \t412   \t0.650337\t0.498225\t0.993263\n",
      "6  \t418   \t0.669881\t0.498399\t0.993263\n",
      "7  \t418   \t0.705802\t0.49817 \t0.993242\n",
      "8  \t432   \t0.711129\t0.497727\t0.993242\n",
      "9  \t412   \t0.721626\t0.498059\t0.993225\n",
      "10 \t417   \t0.725261\t0.498164\t0.993225\n",
      "gen\tnevals\tavg\tmin\tmax\n",
      "0  \t500   \t0.5\t0.5\t0.5\n",
      "1  \t423   \t0.720488\t0.498993\t0.99309\n",
      "2  \t436   \t0.939684\t0.498727\t0.99309\n",
      "3  \t419   \t0.978668\t0.498895\t0.993079\n",
      "4  \t422   \t0.974506\t0.498829\t0.993101\n",
      "5  \t417   \t0.981624\t0.498619\t0.993168\n",
      "6  \t410   \t0.97623 \t0.499104\t0.993101\n",
      "7  \t426   \t0.980562\t0.499343\t0.993128\n",
      "8  \t410   \t0.985494\t0.499254\t0.993101\n",
      "9  \t433   \t0.97895 \t0.498471\t0.993101\n",
      "10 \t428   \t0.98363 \t0.498979\t0.993086\n",
      "synthetic neighborhood class counts {0: 923, 1: 277}\n",
      "Fitting 3 folds for each of 200 candidates, totalling 600 fits\n"
     ]
    },
    {
     "name": "stderr",
     "output_type": "stream",
     "text": [
      "[Parallel(n_jobs=-1)]: Using backend LokyBackend with 4 concurrent workers.\n",
      "[Parallel(n_jobs=-1)]: Done 222 tasks      | elapsed:    4.6s\n",
      "[Parallel(n_jobs=-1)]: Done 600 out of 600 | elapsed:    5.9s finished\n"
     ]
    },
    {
     "name": "stdout",
     "output_type": "stream",
     "text": [
      "37 / 50\n",
      "\n",
      "Neighborhood Generation\n",
      "calculating feature values\n",
      "gen\tnevals\tavg     \tmin     \tmax     \n",
      "0  \t500   \t0.496654\t0.496654\t0.496654\n",
      "1  \t425   \t0.699567\t0.496654\t0.992439\n",
      "2  \t434   \t0.934505\t0.496654\t0.993194\n",
      "3  \t441   \t0.968551\t0.5117  \t0.9929  \n",
      "4  \t422   \t0.972076\t0.512863\t0.992868\n",
      "5  \t412   \t0.968692\t0.513565\t0.992868\n",
      "6  \t418   \t0.976818\t0.512923\t0.992675\n",
      "7  \t418   \t0.9704  \t0.512031\t0.992836\n",
      "8  \t432   \t0.971909\t0.512616\t0.992675\n",
      "9  \t412   \t0.97056 \t0.511849\t0.992675\n",
      "10 \t417   \t0.967241\t0.513072\t0.992675\n",
      "gen\tnevals\tavg\tmin\tmax\n",
      "0  \t500   \t0.5\t0.5\t0.5\n",
      "1  \t423   \t0.531502\t0.496105\t0.975678\n",
      "2  \t436   \t0.582603\t0.494841\t0.977337\n",
      "3  \t419   \t0.62586 \t0.494162\t0.977337\n",
      "4  \t422   \t0.659266\t0.493904\t0.977337\n",
      "5  \t417   \t0.684301\t0.493899\t0.977337\n",
      "6  \t410   \t0.709667\t0.493788\t0.977337\n",
      "7  \t426   \t0.704638\t0.493804\t0.977337\n",
      "8  \t410   \t0.705965\t0.493707\t0.977369\n",
      "9  \t433   \t0.705921\t0.493102\t0.977369\n",
      "10 \t428   \t0.701894\t0.493775\t0.977575\n",
      "synthetic neighborhood class counts {0: 779, 1: 349}\n",
      "Fitting 3 folds for each of 200 candidates, totalling 600 fits\n"
     ]
    },
    {
     "name": "stderr",
     "output_type": "stream",
     "text": [
      "[Parallel(n_jobs=-1)]: Using backend LokyBackend with 4 concurrent workers.\n",
      "[Parallel(n_jobs=-1)]: Done  94 tasks      | elapsed:    4.4s\n",
      "[Parallel(n_jobs=-1)]: Done 600 out of 600 | elapsed:    6.1s finished\n"
     ]
    },
    {
     "name": "stdout",
     "output_type": "stream",
     "text": [
      "38 / 50\n",
      "\n",
      "Neighborhood Generation\n",
      "calculating feature values\n",
      "gen\tnevals\tavg     \tmin     \tmax     \n",
      "0  \t500   \t0.496654\t0.496654\t0.496654\n",
      "1  \t425   \t0.51561 \t0.496654\t0.99314 \n",
      "2  \t434   \t0.543349\t0.496654\t0.993291\n",
      "3  \t441   \t0.580246\t0.498369\t0.993253\n",
      "4  \t422   \t0.609893\t0.498747\t0.993253\n",
      "5  \t412   \t0.635243\t0.497966\t0.993258\n",
      "6  \t418   \t0.663196\t0.498645\t0.993258\n",
      "7  \t418   \t0.677081\t0.498576\t0.993258\n",
      "8  \t432   \t0.700132\t0.498814\t0.993257\n",
      "9  \t412   \t0.70085 \t0.498664\t0.993257\n",
      "10 \t417   \t0.691832\t0.498617\t0.993184\n",
      "gen\tnevals\tavg\tmin\tmax\n",
      "0  \t500   \t0.5\t0.5\t0.5\n",
      "1  \t423   \t0.730756\t0.499442\t0.993133\n",
      "2  \t436   \t0.95275 \t0.499157\t0.993147\n",
      "3  \t419   \t0.983782\t0.499132\t0.993147\n",
      "4  \t422   \t0.986725\t0.49905 \t0.993147\n",
      "5  \t417   \t0.979655\t0.499174\t0.993147\n",
      "6  \t410   \t0.985799\t0.499314\t0.993147\n",
      "7  \t426   \t0.979763\t0.499545\t0.993147\n",
      "8  \t410   \t0.989602\t0.49978 \t0.993147\n",
      "9  \t433   \t0.985914\t0.499337\t0.993147\n",
      "10 \t428   \t0.98683 \t0.499396\t0.993147\n",
      "synthetic neighborhood class counts {0: 959, 1: 241}\n",
      "Fitting 3 folds for each of 200 candidates, totalling 600 fits\n"
     ]
    },
    {
     "name": "stderr",
     "output_type": "stream",
     "text": [
      "[Parallel(n_jobs=-1)]: Using backend LokyBackend with 4 concurrent workers.\n",
      "[Parallel(n_jobs=-1)]: Done 124 tasks      | elapsed:    2.9s\n",
      "[Parallel(n_jobs=-1)]: Done 600 out of 600 | elapsed:    4.0s finished\n"
     ]
    },
    {
     "name": "stdout",
     "output_type": "stream",
     "text": [
      "39 / 50\n",
      "\n",
      "Neighborhood Generation\n",
      "calculating feature values\n",
      "gen\tnevals\tavg     \tmin     \tmax     \n",
      "0  \t500   \t0.496654\t0.496654\t0.496654\n",
      "1  \t425   \t0.694969\t0.496654\t0.993099\n",
      "2  \t434   \t0.922777\t0.496654\t0.993286\n",
      "3  \t441   \t0.967793\t0.498861\t0.993251\n",
      "4  \t422   \t0.960586\t0.498423\t0.993251\n",
      "5  \t412   \t0.959826\t0.49822 \t0.993238\n",
      "6  \t418   \t0.967977\t0.499064\t0.993176\n",
      "7  \t418   \t0.965528\t0.498412\t0.993203\n",
      "8  \t432   \t0.959753\t0.498485\t0.993187\n",
      "9  \t412   \t0.969183\t0.498668\t0.9932  \n",
      "10 \t417   \t0.963333\t0.497953\t0.993228\n",
      "gen\tnevals\tavg\tmin\tmax\n",
      "0  \t500   \t0.5\t0.5\t0.5\n",
      "1  \t423   \t0.553239\t0.497634\t0.99294\n",
      "2  \t436   \t0.605458\t0.496958\t0.99294\n",
      "3  \t419   \t0.650311\t0.495699\t0.99294\n",
      "4  \t422   \t0.692133\t0.495734\t0.99294\n",
      "5  \t417   \t0.709928\t0.496746\t0.992446\n",
      "6  \t410   \t0.741962\t0.496452\t0.992464\n",
      "7  \t426   \t0.714587\t0.495712\t0.992516\n",
      "8  \t410   \t0.746937\t0.496367\t0.992667\n",
      "9  \t433   \t0.735581\t0.496406\t0.992667\n",
      "10 \t428   \t0.721506\t0.496516\t0.992667\n",
      "synthetic neighborhood class counts {0: 774, 1: 354}\n",
      "Fitting 3 folds for each of 200 candidates, totalling 600 fits\n"
     ]
    },
    {
     "name": "stderr",
     "output_type": "stream",
     "text": [
      "[Parallel(n_jobs=-1)]: Using backend LokyBackend with 4 concurrent workers.\n",
      "[Parallel(n_jobs=-1)]: Done 182 tasks      | elapsed:    4.1s\n",
      "[Parallel(n_jobs=-1)]: Done 600 out of 600 | elapsed:    5.3s finished\n"
     ]
    },
    {
     "name": "stdout",
     "output_type": "stream",
     "text": [
      "40 / 50\n",
      "\n",
      "Neighborhood Generation\n",
      "calculating feature values\n",
      "gen\tnevals\tavg     \tmin     \tmax     \n",
      "0  \t500   \t0.496654\t0.496654\t0.496654\n",
      "1  \t425   \t0.58066 \t0.496654\t0.993047\n",
      "2  \t434   \t0.657952\t0.496654\t0.993299\n",
      "3  \t441   \t0.706456\t0.498236\t0.993278\n",
      "4  \t422   \t0.721892\t0.498144\t0.993262\n",
      "5  \t412   \t0.739919\t0.498246\t0.993262\n",
      "6  \t418   \t0.755192\t0.498564\t0.993262\n",
      "7  \t418   \t0.770684\t0.498511\t0.993166\n",
      "8  \t432   \t0.766035\t0.497482\t0.993166\n",
      "9  \t412   \t0.776236\t0.498434\t0.99314 \n",
      "10 \t417   \t0.787742\t0.497985\t0.99314 \n",
      "gen\tnevals\tavg\tmin\tmax\n",
      "0  \t500   \t0.5\t0.5\t0.5\n",
      "1  \t423   \t0.673917\t0.498262\t0.991414\n",
      "2  \t436   \t0.891243\t0.498043\t0.991783\n",
      "3  \t419   \t0.955496\t0.497302\t0.991783\n",
      "4  \t422   \t0.965352\t0.497993\t0.991445\n",
      "5  \t417   \t0.959716\t0.497687\t0.991482\n",
      "6  \t410   \t0.952295\t0.4979  \t0.991482\n",
      "7  \t426   \t0.95244 \t0.497667\t0.991581\n",
      "8  \t410   \t0.95464 \t0.498428\t0.991581\n",
      "9  \t433   \t0.943631\t0.497604\t0.991581\n",
      "10 \t428   \t0.959397\t0.496996\t0.991581\n",
      "synthetic neighborhood class counts {0: 851, 1: 349}\n",
      "Fitting 3 folds for each of 200 candidates, totalling 600 fits\n"
     ]
    },
    {
     "name": "stderr",
     "output_type": "stream",
     "text": [
      "[Parallel(n_jobs=-1)]: Using backend LokyBackend with 4 concurrent workers.\n",
      "[Parallel(n_jobs=-1)]: Done 182 tasks      | elapsed:    2.5s\n",
      "[Parallel(n_jobs=-1)]: Done 600 out of 600 | elapsed:    3.1s finished\n"
     ]
    },
    {
     "name": "stdout",
     "output_type": "stream",
     "text": [
      "41 / 50\n",
      "\n",
      "Neighborhood Generation\n",
      "calculating feature values\n",
      "gen\tnevals\tavg     \tmin     \tmax     \n",
      "0  \t500   \t0.496654\t0.496654\t0.496654\n",
      "1  \t425   \t0.726636\t0.496654\t0.993135\n",
      "2  \t434   \t0.946792\t0.496654\t0.993304\n",
      "3  \t441   \t0.980901\t0.501886\t0.993261\n",
      "4  \t422   \t0.983811\t0.501815\t0.9932  \n",
      "5  \t412   \t0.97797 \t0.501864\t0.99321 \n",
      "6  \t418   \t0.982806\t0.501733\t0.993202\n",
      "7  \t418   \t0.98532 \t0.502887\t0.993186\n",
      "8  \t432   \t0.986156\t0.503324\t0.993186\n",
      "9  \t412   \t0.983291\t0.501679\t0.993203\n",
      "10 \t417   \t0.981868\t0.502977\t0.993207\n",
      "gen\tnevals\tavg\tmin\tmax\n",
      "0  \t500   \t0.5\t0.5\t0.5\n",
      "1  \t423   \t0.511234\t0.498702\t0.990518\n",
      "2  \t436   \t0.525984\t0.498769\t0.990518\n",
      "3  \t419   \t0.533694\t0.498716\t0.990742\n",
      "4  \t422   \t0.5789  \t0.498632\t0.990852\n",
      "5  \t417   \t0.602224\t0.498643\t0.990852\n",
      "6  \t410   \t0.642209\t0.498443\t0.990852\n",
      "7  \t426   \t0.635346\t0.498266\t0.990747\n",
      "8  \t410   \t0.657534\t0.498584\t0.990747\n",
      "9  \t433   \t0.665869\t0.498232\t0.990888\n",
      "10 \t428   \t0.65573 \t0.49763 \t0.990766\n",
      "synthetic neighborhood class counts {0: 853, 1: 275}\n",
      "Fitting 3 folds for each of 200 candidates, totalling 600 fits\n"
     ]
    },
    {
     "name": "stderr",
     "output_type": "stream",
     "text": [
      "[Parallel(n_jobs=-1)]: Using backend LokyBackend with 4 concurrent workers.\n",
      "[Parallel(n_jobs=-1)]: Done 600 out of 600 | elapsed:    3.2s finished\n"
     ]
    },
    {
     "name": "stdout",
     "output_type": "stream",
     "text": [
      "42 / 50\n",
      "\n",
      "Neighborhood Generation\n",
      "calculating feature values\n",
      "gen\tnevals\tavg     \tmin     \tmax     \n",
      "0  \t500   \t0.496654\t0.496654\t0.496654\n",
      "1  \t425   \t0.53073 \t0.496654\t0.993096\n",
      "2  \t434   \t0.561889\t0.496654\t0.993307\n",
      "3  \t441   \t0.599418\t0.497781\t0.993307\n",
      "4  \t422   \t0.625177\t0.497586\t0.993226\n",
      "5  \t412   \t0.677181\t0.497754\t0.993226\n",
      "6  \t418   \t0.691442\t0.497498\t0.993226\n",
      "7  \t418   \t0.716033\t0.497765\t0.993141\n",
      "8  \t432   \t0.701703\t0.497439\t0.99319 \n",
      "9  \t412   \t0.722609\t0.498137\t0.993141\n",
      "10 \t417   \t0.710922\t0.497417\t0.993159\n",
      "gen\tnevals\tavg\tmin\tmax\n",
      "0  \t500   \t0.5\t0.5\t0.5\n",
      "1  \t423   \t0.720447\t0.498944\t0.993037\n",
      "2  \t436   \t0.938724\t0.499029\t0.993112\n",
      "3  \t419   \t0.97375 \t0.498725\t0.993112\n",
      "4  \t422   \t0.973436\t0.498689\t0.993112\n",
      "5  \t417   \t0.979459\t0.498826\t0.993112\n",
      "6  \t410   \t0.972877\t0.497796\t0.993079\n",
      "7  \t426   \t0.974597\t0.498812\t0.993079\n",
      "8  \t410   \t0.986936\t0.499119\t0.993079\n",
      "9  \t433   \t0.981865\t0.499324\t0.993079\n",
      "10 \t428   \t0.981339\t0.498817\t0.993047\n",
      "synthetic neighborhood class counts {0: 937, 1: 263}\n",
      "Fitting 3 folds for each of 200 candidates, totalling 600 fits\n"
     ]
    },
    {
     "name": "stderr",
     "output_type": "stream",
     "text": [
      "[Parallel(n_jobs=-1)]: Using backend LokyBackend with 4 concurrent workers.\n",
      "[Parallel(n_jobs=-1)]: Done 219 tasks      | elapsed:    2.7s\n",
      "[Parallel(n_jobs=-1)]: Done 600 out of 600 | elapsed:    3.3s finished\n"
     ]
    },
    {
     "name": "stdout",
     "output_type": "stream",
     "text": [
      "43 / 50\n",
      "\n",
      "Neighborhood Generation\n",
      "calculating feature values\n",
      "gen\tnevals\tavg     \tmin     \tmax     \n",
      "0  \t500   \t0.496654\t0.496654\t0.496654\n",
      "1  \t425   \t0.731059\t0.496654\t0.993116\n",
      "2  \t434   \t0.964439\t0.496654\t0.993277\n",
      "3  \t441   \t0.985989\t0.498883\t0.993277\n",
      "4  \t422   \t0.985873\t0.49906 \t0.993277\n",
      "5  \t412   \t0.988033\t0.499822\t0.993277\n",
      "6  \t418   \t0.983885\t0.49938 \t0.993277\n",
      "7  \t418   \t0.986664\t0.499533\t0.99327 \n",
      "8  \t432   \t0.988723\t0.498758\t0.99327 \n",
      "9  \t412   \t0.985792\t0.498951\t0.993289\n",
      "10 \t417   \t0.988118\t0.528534\t0.993266\n",
      "gen\tnevals\tavg\tmin\tmax\n",
      "0  \t500   \t0.5\t0.5\t0.5\n",
      "1  \t423   \t0.503569\t0.49829\t0.992389\n",
      "2  \t436   \t0.506892\t0.49807\t0.992389\n",
      "3  \t419   \t0.520716\t0.497767\t0.992696\n",
      "4  \t422   \t0.529668\t0.496893\t0.992389\n",
      "5  \t417   \t0.54674 \t0.497824\t0.99242 \n",
      "6  \t410   \t0.571761\t0.496744\t0.992425\n",
      "7  \t426   \t0.598011\t0.497923\t0.992564\n",
      "8  \t410   \t0.610615\t0.497798\t0.992821\n",
      "9  \t433   \t0.618002\t0.497383\t0.992744\n",
      "10 \t428   \t0.625048\t0.497657\t0.99289 \n",
      "synthetic neighborhood class counts {0: 902, 1: 226}\n",
      "Fitting 3 folds for each of 200 candidates, totalling 600 fits\n"
     ]
    },
    {
     "name": "stderr",
     "output_type": "stream",
     "text": [
      "[Parallel(n_jobs=-1)]: Using backend LokyBackend with 4 concurrent workers.\n",
      "[Parallel(n_jobs=-1)]: Done 170 tasks      | elapsed:    2.6s\n",
      "[Parallel(n_jobs=-1)]: Done 600 out of 600 | elapsed:    3.2s finished\n"
     ]
    },
    {
     "name": "stdout",
     "output_type": "stream",
     "text": [
      "44 / 50\n",
      "\n",
      "Neighborhood Generation\n",
      "calculating feature values\n",
      "gen\tnevals\tavg     \tmin     \tmax     \n",
      "0  \t500   \t0.496654\t0.496654\t0.496654\n",
      "1  \t425   \t0.511378\t0.496654\t0.992784\n",
      "2  \t434   \t0.540235\t0.496654\t0.993281\n",
      "3  \t441   \t0.564907\t0.498155\t0.993258\n",
      "4  \t422   \t0.590885\t0.498121\t0.993181\n",
      "5  \t412   \t0.633054\t0.497926\t0.993085\n",
      "6  \t418   \t0.65109 \t0.498284\t0.993176\n",
      "7  \t418   \t0.684128\t0.498036\t0.993176\n",
      "8  \t432   \t0.693255\t0.497697\t0.993176\n",
      "9  \t412   \t0.707505\t0.497852\t0.993176\n",
      "10 \t417   \t0.72515 \t0.497882\t0.993176\n",
      "gen\tnevals\tavg\tmin\tmax\n",
      "0  \t500   \t0.5\t0.5\t0.5\n",
      "1  \t423   \t0.734966\t0.499037\t0.993123\n",
      "2  \t436   \t0.962581\t0.499548\t0.993123\n",
      "3  \t419   \t0.9847  \t0.498626\t0.993123\n",
      "4  \t422   \t0.986567\t0.498395\t0.993146\n",
      "5  \t417   \t0.983239\t0.499069\t0.993138\n",
      "6  \t410   \t0.981171\t0.498834\t0.993145\n",
      "7  \t426   \t0.982904\t0.499194\t0.993145\n",
      "8  \t410   \t0.984433\t0.499328\t0.993158\n",
      "9  \t433   \t0.987484\t0.499167\t0.993158\n",
      "10 \t428   \t0.98823 \t0.499936\t0.993181\n",
      "synthetic neighborhood class counts {0: 931, 1: 269}\n",
      "Fitting 3 folds for each of 200 candidates, totalling 600 fits\n"
     ]
    },
    {
     "name": "stderr",
     "output_type": "stream",
     "text": [
      "[Parallel(n_jobs=-1)]: Using backend LokyBackend with 4 concurrent workers.\n",
      "[Parallel(n_jobs=-1)]: Done 145 tasks      | elapsed:    2.7s\n",
      "[Parallel(n_jobs=-1)]: Done 600 out of 600 | elapsed:    3.7s finished\n"
     ]
    },
    {
     "name": "stdout",
     "output_type": "stream",
     "text": [
      "45 / 50\n",
      "\n",
      "Neighborhood Generation\n",
      "calculating feature values\n",
      "gen\tnevals\tavg     \tmin     \tmax     \n",
      "0  \t500   \t0.496654\t0.496654\t0.496654\n",
      "1  \t425   \t0.728893\t0.496654\t0.993164\n",
      "2  \t434   \t0.956908\t0.496654\t0.993304\n",
      "3  \t441   \t0.986624\t0.499436\t0.993283\n",
      "4  \t422   \t0.98809 \t0.499727\t0.993283\n",
      "5  \t412   \t0.983369\t0.499571\t0.993277\n",
      "6  \t418   \t0.986975\t0.500109\t0.993277\n",
      "7  \t418   \t0.988731\t0.49933 \t0.993277\n",
      "8  \t432   \t0.988426\t0.499935\t0.993274\n",
      "9  \t412   \t0.984672\t0.49946 \t0.993265\n",
      "10 \t417   \t0.989308\t0.499266\t0.993265\n",
      "gen\tnevals\tavg\tmin\tmax\n",
      "0  \t500   \t0.5\t0.5\t0.5\n",
      "1  \t423   \t0.507759\t0.498718\t0.980594\n",
      "2  \t436   \t0.518252\t0.498874\t0.993065\n",
      "3  \t419   \t0.524872\t0.498712\t0.99319 \n",
      "4  \t422   \t0.551884\t0.498703\t0.993166\n",
      "5  \t417   \t0.569697\t0.498454\t0.993166\n",
      "6  \t410   \t0.607719\t0.498566\t0.993166\n",
      "7  \t426   \t0.614696\t0.498318\t0.993166\n",
      "8  \t410   \t0.640165\t0.498644\t0.993175\n",
      "9  \t433   \t0.647544\t0.49843 \t0.993175\n",
      "10 \t428   \t0.64166 \t0.498437\t0.993169\n",
      "synthetic neighborhood class counts {0: 888, 1: 240}\n",
      "Fitting 3 folds for each of 200 candidates, totalling 600 fits\n"
     ]
    },
    {
     "name": "stderr",
     "output_type": "stream",
     "text": [
      "[Parallel(n_jobs=-1)]: Using backend LokyBackend with 4 concurrent workers.\n",
      "[Parallel(n_jobs=-1)]: Done 600 out of 600 | elapsed:    2.3s finished\n"
     ]
    },
    {
     "name": "stdout",
     "output_type": "stream",
     "text": [
      "46 / 50\n",
      "\n",
      "Neighborhood Generation\n",
      "calculating feature values\n",
      "gen\tnevals\tavg     \tmin     \tmax     \n",
      "0  \t500   \t0.496654\t0.496654\t0.496654\n",
      "1  \t425   \t0.73018 \t0.496654\t0.993017\n",
      "2  \t434   \t0.957684\t0.496654\t0.993149\n",
      "3  \t441   \t0.980924\t0.509365\t0.993149\n",
      "4  \t422   \t0.985873\t0.510091\t0.993149\n",
      "5  \t412   \t0.989864\t0.510003\t0.993299\n",
      "6  \t418   \t0.985679\t0.509822\t0.993261\n",
      "7  \t418   \t0.987385\t0.510213\t0.993261\n",
      "8  \t432   \t0.983648\t0.51043 \t0.993261\n",
      "9  \t412   \t0.98457 \t0.509891\t0.993271\n",
      "10 \t417   \t0.981626\t0.510065\t0.993271\n",
      "gen\tnevals\tavg\tmin\tmax\n",
      "0  \t500   \t0.5\t0.5\t0.5\n",
      "1  \t423   \t0.506667\t0.49902\t0.982618\n",
      "2  \t436   \t0.511788\t0.49881\t0.982618\n",
      "3  \t419   \t0.519441\t0.498705\t0.98282 \n",
      "4  \t422   \t0.536913\t0.498753\t0.98282 \n",
      "5  \t417   \t0.557745\t0.49849 \t0.98282 \n",
      "6  \t410   \t0.579018\t0.498248\t0.98282 \n",
      "7  \t426   \t0.59081 \t0.498028\t0.982825\n",
      "8  \t410   \t0.616233\t0.498277\t0.982825\n",
      "9  \t433   \t0.619663\t0.498008\t0.98282 \n",
      "10 \t428   \t0.629067\t0.498454\t0.98282 \n",
      "synthetic neighborhood class counts {0: 876, 1: 252}\n",
      "Fitting 3 folds for each of 200 candidates, totalling 600 fits\n"
     ]
    },
    {
     "name": "stderr",
     "output_type": "stream",
     "text": [
      "[Parallel(n_jobs=-1)]: Using backend LokyBackend with 4 concurrent workers.\n",
      "[Parallel(n_jobs=-1)]: Done 600 out of 600 | elapsed:    2.9s finished\n"
     ]
    },
    {
     "name": "stdout",
     "output_type": "stream",
     "text": [
      "47 / 50\n",
      "\n",
      "Neighborhood Generation\n",
      "calculating feature values\n",
      "gen\tnevals\tavg     \tmin     \tmax     \n",
      "0  \t500   \t0.496654\t0.496654\t0.496654\n",
      "1  \t425   \t0.530038\t0.496654\t0.993198\n",
      "2  \t434   \t0.562357\t0.496654\t0.993307\n",
      "3  \t441   \t0.599164\t0.498618\t0.993307\n",
      "4  \t422   \t0.636406\t0.498536\t0.993274\n",
      "5  \t412   \t0.690179\t0.498363\t0.993274\n",
      "6  \t418   \t0.697915\t0.498579\t0.993274\n",
      "7  \t418   \t0.71834 \t0.498758\t0.993223\n",
      "8  \t432   \t0.717421\t0.498236\t0.993223\n",
      "9  \t412   \t0.715058\t0.498337\t0.99322 \n",
      "10 \t417   \t0.720413\t0.498729\t0.993226\n",
      "gen\tnevals\tavg\tmin\tmax\n",
      "0  \t500   \t0.5\t0.5\t0.5\n",
      "1  \t423   \t0.715535\t0.49894\t0.992796\n",
      "2  \t436   \t0.943636\t0.499005\t0.992857\n",
      "3  \t419   \t0.970562\t0.498889\t0.992857\n",
      "4  \t422   \t0.967812\t0.498978\t0.992857\n",
      "5  \t417   \t0.977889\t0.499027\t0.992857\n",
      "6  \t410   \t0.974809\t0.498357\t0.992827\n",
      "7  \t426   \t0.971247\t0.499   \t0.992827\n",
      "8  \t410   \t0.979473\t0.498871\t0.99285 \n",
      "9  \t433   \t0.977522\t0.49904 \t0.992827\n",
      "10 \t428   \t0.982137\t0.49963 \t0.992822\n",
      "synthetic neighborhood class counts {0: 929, 1: 271}\n",
      "Fitting 3 folds for each of 200 candidates, totalling 600 fits\n"
     ]
    },
    {
     "name": "stderr",
     "output_type": "stream",
     "text": [
      "[Parallel(n_jobs=-1)]: Using backend LokyBackend with 4 concurrent workers.\n",
      "[Parallel(n_jobs=-1)]: Done 367 tasks      | elapsed:    2.8s\n",
      "[Parallel(n_jobs=-1)]: Done 600 out of 600 | elapsed:    3.2s finished\n"
     ]
    },
    {
     "name": "stdout",
     "output_type": "stream",
     "text": [
      "48 / 50\n",
      "\n",
      "Neighborhood Generation\n",
      "calculating feature values\n",
      "gen\tnevals\tavg     \tmin     \tmax     \n",
      "0  \t500   \t0.496654\t0.496654\t0.496654\n",
      "1  \t425   \t0.717254\t0.496654\t0.993209\n",
      "2  \t434   \t0.952343\t0.496654\t0.993306\n",
      "3  \t441   \t0.98518 \t0.499777\t0.993304\n",
      "4  \t422   \t0.98061 \t0.499615\t0.993241\n",
      "5  \t412   \t0.982991\t0.499762\t0.993241\n",
      "6  \t418   \t0.986084\t0.499472\t0.993241\n",
      "7  \t418   \t0.981471\t0.499631\t0.993242\n",
      "8  \t432   \t0.987641\t0.499544\t0.993242\n",
      "9  \t412   \t0.988425\t0.499837\t0.993268\n",
      "10 \t417   \t0.983924\t0.499617\t0.993268\n",
      "gen\tnevals\tavg\tmin\tmax\n",
      "0  \t500   \t0.5\t0.5\t0.5\n",
      "1  \t423   \t0.513682\t0.498828\t0.993168\n",
      "2  \t436   \t0.52656 \t0.498917\t0.992939\n",
      "3  \t419   \t0.556839\t0.498631\t0.993051\n",
      "4  \t422   \t0.585978\t0.498848\t0.993067\n",
      "5  \t417   \t0.616877\t0.498452\t0.993067\n",
      "6  \t410   \t0.652558\t0.498361\t0.99317 \n",
      "7  \t426   \t0.653554\t0.498431\t0.993028\n",
      "8  \t410   \t0.673531\t0.498568\t0.993081\n",
      "9  \t433   \t0.674249\t0.498546\t0.993044\n",
      "10 \t428   \t0.681062\t0.498723\t0.993127\n",
      "synthetic neighborhood class counts {0: 838, 1: 290}\n",
      "Fitting 3 folds for each of 200 candidates, totalling 600 fits\n"
     ]
    },
    {
     "name": "stderr",
     "output_type": "stream",
     "text": [
      "[Parallel(n_jobs=-1)]: Using backend LokyBackend with 4 concurrent workers.\n",
      "[Parallel(n_jobs=-1)]: Done 600 out of 600 | elapsed:    3.2s finished\n"
     ]
    },
    {
     "name": "stdout",
     "output_type": "stream",
     "text": [
      "49 / 50\n",
      "\n",
      "Neighborhood Generation\n",
      "calculating feature values\n",
      "gen\tnevals\tavg     \tmin     \tmax     \n",
      "0  \t500   \t0.496654\t0.496654\t0.496654\n",
      "1  \t425   \t0.542885\t0.496654\t0.993256\n",
      "2  \t434   \t0.577399\t0.496654\t0.993306\n",
      "3  \t441   \t0.618834\t0.499318\t0.993306\n",
      "4  \t422   \t0.658361\t0.49909 \t0.993264\n",
      "5  \t412   \t0.695961\t0.499214\t0.993264\n",
      "6  \t418   \t0.706595\t0.499478\t0.993264\n",
      "7  \t418   \t0.722975\t0.499409\t0.993256\n",
      "8  \t432   \t0.726238\t0.498738\t0.993257\n",
      "9  \t412   \t0.742793\t0.499469\t0.993257\n",
      "10 \t417   \t0.746445\t0.499201\t0.993257\n",
      "gen\tnevals\tavg\tmin\tmax\n",
      "0  \t500   \t0.5\t0.5\t0.5\n",
      "1  \t423   \t0.704948\t0.499279\t0.992531\n",
      "2  \t436   \t0.930526\t0.499262\t0.992531\n",
      "3  \t419   \t0.973303\t0.499126\t0.992531\n",
      "4  \t422   \t0.970734\t0.49888 \t0.992556\n",
      "5  \t417   \t0.977216\t0.499461\t0.992556\n",
      "6  \t410   \t0.980304\t0.498818\t0.992556\n",
      "7  \t426   \t0.973892\t0.499354\t0.992594\n",
      "8  \t410   \t0.977949\t0.499433\t0.992567\n",
      "9  \t433   \t0.980943\t0.499066\t0.992567\n",
      "10 \t428   \t0.974992\t0.499604\t0.992559\n",
      "synthetic neighborhood class counts {0: 898, 1: 302}\n",
      "Fitting 3 folds for each of 200 candidates, totalling 600 fits\n"
     ]
    },
    {
     "name": "stderr",
     "output_type": "stream",
     "text": [
      "[Parallel(n_jobs=-1)]: Using backend LokyBackend with 4 concurrent workers.\n",
      "[Parallel(n_jobs=-1)]: Done 175 tasks      | elapsed:    2.4s\n"
     ]
    },
    {
     "name": "stdout",
     "output_type": "stream",
     "text": [
      "50 / 50\n",
      "CPU times: user 5h 57min 21s, sys: 18min 8s, total: 6h 15min 30s\n",
      "Wall time: 5h 31min 50s\n"
     ]
    },
    {
     "name": "stderr",
     "output_type": "stream",
     "text": [
      "[Parallel(n_jobs=-1)]: Done 600 out of 600 | elapsed:    3.1s finished\n"
     ]
    }
   ],
   "source": [
    "%%time\n",
    "agnostic_explainers = build_agnostic_local_explainers(blackbox, \n",
    "                               encoder, \n",
    "                               decoder, \n",
    "                               autoencoder, \n",
    "                               X_exp_test_50, \n",
    "                               y_exp_test_50,\n",
    "                               blackbox_input_dimensions = blackbox_input_dimensions,\n",
    "                               labels = labels,\n",
    "                               size = 1000,\n",
    "                               neigh_type = \"geneticp\",\n",
    "                               ngen = 10,\n",
    "                              max_iter=max_iter,\n",
    "                              random_state = random_state,\n",
    "                              distance_quantile_threshold = np.array(list(range(1,10)))/10\n",
    "                               )"
   ]
  },
  {
   "cell_type": "code",
   "execution_count": 38,
   "metadata": {
    "scrolled": false
   },
   "outputs": [
    {
     "name": "stdout",
     "output_type": "stream",
     "text": [
      "local fidelity:  0.84\n",
      "global fidelity:  0.56\n",
      "reconstruction fidelity:  0.98\n",
      "\n",
      "\n",
      "local coverage:  1.14\n",
      "global coverage:  1.44\n",
      "\n",
      "\n",
      "local classification report:\n",
      "              precision    recall  f1-score   support\n",
      "\n",
      "           0       0.70      1.00      0.83        19\n",
      "           1       1.00      0.74      0.85        31\n",
      "\n",
      "    accuracy                           0.84        50\n",
      "   macro avg       0.85      0.87      0.84        50\n",
      "weighted avg       0.89      0.84      0.84        50\n",
      "\n",
      "\n",
      "\n",
      "global classification report:\n",
      "              precision    recall  f1-score   support\n",
      "\n",
      "           0       0.41      0.37      0.39        19\n",
      "           1       0.64      0.68      0.66        31\n",
      "\n",
      "    accuracy                           0.56        50\n",
      "   macro avg       0.52      0.52      0.52        50\n",
      "weighted avg       0.55      0.56      0.55        50\n",
      "\n",
      "\n",
      "\n",
      "reconstrution classification report:\n",
      "              precision    recall  f1-score   support\n",
      "\n",
      "           0       0.95      1.00      0.97        19\n",
      "           1       1.00      0.97      0.98        31\n",
      "\n",
      "    accuracy                           0.98        50\n",
      "   macro avg       0.97      0.98      0.98        50\n",
      "weighted avg       0.98      0.98      0.98        50\n",
      "\n"
     ]
    }
   ],
   "source": [
    "results_df = get_all_predictions(agnostic_explainers, global_surrogate, blackbox_predict, X_exp_test_50, blackbox_predict.predict(X_exp_train))\n",
    "results_df.to_csv(file_path + \"/\" + \"results_df.csv\", sep = \";\", index = False)\n",
    "print_report(results_df)"
   ]
  },
  {
   "cell_type": "code",
   "execution_count": 23,
   "metadata": {},
   "outputs": [],
   "source": [
    "### SHAP\n",
    "\n",
    "from myutils import stabilities_df\n",
    "from shap_utils import shap_stability, shap_multi_stability\n",
    "\n",
    "save_path = parentdir + \"/stabilities/\" + dataset_name + \"_stability\" + \"_shap_\" + time.strftime(\"%Y%m%d_%H%M%S\")\n",
    "\n",
    "params = {\"background\": \"linear\"}\n",
    "\n",
    "\n",
    "#### RESNET\n",
    "filename = save_path + \"_resnet\"\n",
    "stabilities = shap_multi_stability(X_exp_test_50, resnet, 3, point_by_point = False, **params)\n",
    "np.save(filename, stabilities)\n",
    "stabilities_df(stabilities, len(X_exp_test_50)).to_csv(filename + \".csv\", sep = \";\", index = True)\n",
    "\n",
    "\n",
    "#### CNN\n",
    "filename = save_path + \"_simplecnn\"\n",
    "stabilities = shap_multi_stability(X_exp_test_50, simplecnn, 3, point_by_point = False, **params)\n",
    "np.save(filename, stabilities)\n",
    "stabilities_df(stabilities, len(X_exp_test_50)).to_csv(filename + \".csv\", sep = \";\", index = True)\n",
    "\n",
    "\n",
    "#### KNN\n",
    "filename = save_path + \"_knn\"\n",
    "stabilities = shap_multi_stability(X_exp_test_50, knn, 2, point_by_point = False, **params)\n",
    "np.save(filename, stabilities)\n",
    "stabilities_df(stabilities, len(X_exp_test_50)).to_csv(filename + \".csv\", sep = \";\", index = True)"
   ]
  },
  {
   "cell_type": "code",
   "execution_count": 23,
   "metadata": {},
   "outputs": [
    {
     "name": "stdout",
     "output_type": "stream",
     "text": [
      "WARNING:tensorflow:From /Users/francesco/anaconda3/envs/tesi/lib/python3.6/site-packages/tensorflow/python/ops/math_ops.py:3066: to_int32 (from tensorflow.python.ops.math_ops) is deprecated and will be removed in a future version.\n",
      "Instructions for updating:\n",
      "Use tf.cast instead.\n",
      "WARNING:tensorflow:From /Users/francesco/anaconda3/envs/tesi/lib/python3.6/site-packages/tensorflow/python/ops/math_grad.py:102: div (from tensorflow.python.ops.math_ops) is deprecated and will be removed in a future version.\n",
      "Instructions for updating:\n",
      "Deprecated in favor of operator or tf.math.divide.\n",
      "1 / 50\n",
      "2 / 50\n",
      "3 / 50\n",
      "4 / 50\n",
      "5 / 50\n",
      "6 / 50\n",
      "7 / 50\n",
      "8 / 50\n",
      "9 / 50\n",
      "10 / 50\n",
      "11 / 50\n",
      "12 / 50\n",
      "13 / 50\n",
      "14 / 50\n",
      "15 / 50\n",
      "16 / 50\n",
      "17 / 50\n",
      "18 / 50\n",
      "19 / 50\n",
      "20 / 50\n",
      "21 / 50\n",
      "22 / 50\n",
      "23 / 50\n",
      "24 / 50\n",
      "25 / 50\n",
      "26 / 50\n",
      "27 / 50\n",
      "28 / 50\n",
      "29 / 50\n",
      "30 / 50\n",
      "31 / 50\n",
      "32 / 50\n",
      "33 / 50\n",
      "34 / 50\n",
      "35 / 50\n",
      "36 / 50\n",
      "37 / 50\n",
      "38 / 50\n",
      "39 / 50\n",
      "40 / 50\n",
      "41 / 50\n",
      "42 / 50\n",
      "43 / 50\n",
      "44 / 50\n",
      "45 / 50\n",
      "46 / 50\n",
      "47 / 50\n",
      "48 / 50\n",
      "49 / 50\n",
      "50 / 50\n",
      "1 / 50\n",
      "2 / 50\n",
      "3 / 50\n",
      "4 / 50\n",
      "5 / 50\n",
      "6 / 50\n",
      "7 / 50\n",
      "8 / 50\n",
      "9 / 50\n",
      "10 / 50\n",
      "11 / 50\n",
      "12 / 50\n",
      "13 / 50\n",
      "14 / 50\n",
      "15 / 50\n",
      "16 / 50\n",
      "17 / 50\n",
      "18 / 50\n",
      "19 / 50\n",
      "20 / 50\n",
      "21 / 50\n",
      "22 / 50\n",
      "23 / 50\n",
      "24 / 50\n",
      "25 / 50\n",
      "26 / 50\n",
      "27 / 50\n",
      "28 / 50\n",
      "29 / 50\n",
      "30 / 50\n",
      "31 / 50\n",
      "32 / 50\n",
      "33 / 50\n",
      "34 / 50\n",
      "35 / 50\n",
      "36 / 50\n",
      "37 / 50\n",
      "38 / 50\n",
      "39 / 50\n",
      "40 / 50\n",
      "41 / 50\n",
      "42 / 50\n",
      "43 / 50\n",
      "44 / 50\n",
      "45 / 50\n",
      "46 / 50\n",
      "47 / 50\n",
      "48 / 50\n",
      "49 / 50\n",
      "50 / 50\n",
      "1 / 50\n",
      "2 / 50\n",
      "3 / 50\n",
      "4 / 50\n",
      "5 / 50\n",
      "6 / 50\n",
      "7 / 50\n",
      "8 / 50\n",
      "9 / 50\n",
      "10 / 50\n",
      "11 / 50\n",
      "12 / 50\n",
      "13 / 50\n",
      "14 / 50\n",
      "15 / 50\n",
      "16 / 50\n",
      "17 / 50\n",
      "18 / 50\n",
      "19 / 50\n",
      "20 / 50\n",
      "21 / 50\n",
      "22 / 50\n",
      "23 / 50\n",
      "24 / 50\n",
      "25 / 50\n",
      "26 / 50\n",
      "27 / 50\n",
      "28 / 50\n",
      "29 / 50\n",
      "30 / 50\n",
      "31 / 50\n",
      "32 / 50\n",
      "33 / 50\n",
      "34 / 50\n",
      "35 / 50\n",
      "36 / 50\n",
      "37 / 50\n",
      "38 / 50\n",
      "39 / 50\n",
      "40 / 50\n",
      "41 / 50\n",
      "42 / 50\n",
      "43 / 50\n",
      "44 / 50\n",
      "45 / 50\n",
      "46 / 50\n",
      "47 / 50\n",
      "48 / 50\n",
      "49 / 50\n",
      "50 / 50\n",
      "CPU times: user 5h 13min 26s, sys: 3min 18s, total: 5h 16min 45s\n",
      "Wall time: 5h 19min 38s\n"
     ]
    }
   ],
   "source": [
    "%%time\n",
    "from global_vs_local_surrogate import calculate_shapelet_stability\n",
    "### shapelets\n",
    "\n",
    "n_neighbors = 30\n",
    "\n",
    "#### KNN\n",
    "file_path = parentdir + \"/agnostic_explainers/phalanges_geneticp_knn_20200112_230219/\"\n",
    "agnostic_explainers = massive_load_agnostic_local_explainers(file_path, verbose = True)\n",
    "\n",
    "save_path = parentdir + \"/stabilities/\" + dataset_name + \"_stability\" + \"_shapelets_\" + time.strftime(\"%Y%m%d_%H%M%S\")\n",
    "filename = save_path + \"_knn\"\n",
    "\n",
    "stabilities = calculate_shapelet_stability(agnostic_explainers, X_exp_test_50, n_neighbors = n_neighbors)\n",
    "np.save(filename, stabilities)\n",
    "\n",
    "\n",
    "#### RESNET\n",
    "file_path = parentdir + \"/agnostic_explainers/phalanges_geneticp_resnet_20191223_160501/\"\n",
    "agnostic_explainers = massive_load_agnostic_local_explainers(file_path, verbose = True)\n",
    "\n",
    "save_path = parentdir + \"/stabilities/\" + dataset_name + \"_stability\" + \"_shapelets_\" + time.strftime(\"%Y%m%d_%H%M%S\")\n",
    "filename = save_path + \"_resnet\"\n",
    "stabilities = calculate_shapelet_stability(agnostic_explainers, X_exp_test_50, n_neighbors = n_neighbors)\n",
    "np.save(filename, stabilities)\n",
    "\n",
    "\n",
    "#### CNN\n",
    "file_path = parentdir + \"/agnostic_explainers/phalanges_geneticp_simplecnn_20200109_181310/\"\n",
    "agnostic_explainers = massive_load_agnostic_local_explainers(file_path, verbose = True)\n",
    "\n",
    "save_path = parentdir + \"/stabilities/\" + dataset_name + \"_stability\" + \"_shapelets_\" + time.strftime(\"%Y%m%d_%H%M%S\")\n",
    "filename = save_path + \"_simplecnn\"\n",
    "stabilities = calculate_shapelet_stability(agnostic_explainers, X_exp_test_50, n_neighbors = n_neighbors)\n",
    "np.save(filename, stabilities)\n"
   ]
  }
 ],
 "metadata": {
  "kernelspec": {
   "display_name": "Python 3",
   "language": "python",
   "name": "python3"
  },
  "language_info": {
   "codemirror_mode": {
    "name": "ipython",
    "version": 3
   },
   "file_extension": ".py",
   "mimetype": "text/x-python",
   "name": "python",
   "nbconvert_exporter": "python",
   "pygments_lexer": "ipython3",
   "version": "3.6.9"
  }
 },
 "nbformat": 4,
 "nbformat_minor": 2
}
