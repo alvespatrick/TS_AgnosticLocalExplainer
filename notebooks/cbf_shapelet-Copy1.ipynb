{
 "cells": [
  {
   "cell_type": "code",
   "execution_count": 1,
   "metadata": {},
   "outputs": [],
   "source": [
    "import pandas as pd\n",
    "import numpy as np\n",
    "import matplotlib.pyplot as plt\n",
    "from sklearn.preprocessing import LabelEncoder\n",
    "from pyts.datasets import make_cylinder_bell_funnel"
   ]
  },
  {
   "cell_type": "code",
   "execution_count": 2,
   "metadata": {},
   "outputs": [],
   "source": [
    "import os,sys,inspect\n",
    "currentdir = os.path.dirname(os.path.abspath(inspect.getfile(inspect.currentframe())))\n",
    "parentdir = os.path.dirname(currentdir)\n",
    "sys.path.insert(0,parentdir)"
   ]
  },
  {
   "cell_type": "code",
   "execution_count": 3,
   "metadata": {},
   "outputs": [],
   "source": [
    "random_state = 0"
   ]
  },
  {
   "cell_type": "markdown",
   "metadata": {},
   "source": [
    "# IMPORT DATASET"
   ]
  },
  {
   "cell_type": "code",
   "execution_count": 4,
   "metadata": {},
   "outputs": [],
   "source": [
    "dataset_name = \"cbf\""
   ]
  },
  {
   "cell_type": "code",
   "execution_count": 5,
   "metadata": {},
   "outputs": [],
   "source": [
    "X_all, y_all = make_cylinder_bell_funnel(n_samples = 600, random_state = random_state)\n",
    "X_all = X_all.reshape((X_all.shape[0], X_all.shape[1], 1))"
   ]
  },
  {
   "cell_type": "code",
   "execution_count": 6,
   "metadata": {},
   "outputs": [
    {
     "name": "stdout",
     "output_type": "stream",
     "text": [
      "X SHAPE:  (600, 128, 1)\n",
      "y SHAPE:  (600,)\n",
      "\n",
      "CLASSES BALANCE\n",
      "0 :  0.33\n",
      "1 :  0.33\n",
      "2 :  0.33\n"
     ]
    }
   ],
   "source": [
    "print(\"X SHAPE: \", X_all.shape)\n",
    "print(\"y SHAPE: \", y_all.shape)\n",
    "unique, counts = np.unique(y_all, return_counts=True)\n",
    "print(\"\\nCLASSES BALANCE\")\n",
    "for i, label in enumerate(unique):\n",
    "    print(label, \": \", round(counts[i]/sum(counts), 2))"
   ]
  },
  {
   "cell_type": "markdown",
   "metadata": {},
   "source": [
    "## DATASET SPLIT"
   ]
  },
  {
   "cell_type": "code",
   "execution_count": 7,
   "metadata": {},
   "outputs": [],
   "source": [
    "from sklearn.model_selection import train_test_split"
   ]
  },
  {
   "cell_type": "code",
   "execution_count": 8,
   "metadata": {},
   "outputs": [
    {
     "name": "stdout",
     "output_type": "stream",
     "text": [
      "SHAPES:\n",
      "BLACKBOX TRAINING SET:  (268, 128, 1)\n",
      "BLACKBOX VALIDATION SET:  (68, 128, 1)\n",
      "BLACKBOX TEST SET:  (84, 128, 1)\n",
      "EXPLANATION TRAINING SET:  (115, 128, 1)\n",
      "EXPLANATION VALIDATION SET:  (29, 128, 1)\n",
      "EXPLANATION TEST SET:  (36, 128, 1)\n"
     ]
    }
   ],
   "source": [
    "# BLACKBOX/EXPLANATION SETS SPLIT\n",
    "X_train, X_exp, y_train, y_exp = train_test_split(X_all, y_all, \n",
    "                                                  test_size=0.3, stratify = y_all, random_state=random_state)\n",
    "\n",
    "# BLACKBOX TRAIN/TEST SETS SPLIT\n",
    "X_train, X_test, y_train, y_test = train_test_split(X_train, y_train, \n",
    "                                                  test_size=0.2, stratify = y_train, random_state=random_state)\n",
    "\n",
    "# BLACKBOX TRAIN/VALIDATION SETS SPLIT\n",
    "X_train, X_val, y_train, y_val = train_test_split(X_train, y_train, \n",
    "                                                  test_size=0.2, stratify = y_train, random_state=random_state)\n",
    "\n",
    "# EXPLANATION TRAIN/TEST SETS SPLIT\n",
    "X_exp_train, X_exp_test, y_exp_train, y_exp_test = train_test_split(X_exp, y_exp, \n",
    "                                                                    test_size=0.2, \n",
    "                                                                    stratify = y_exp, \n",
    "                                                                    random_state=random_state)\n",
    "\n",
    "# EXPLANATION TRAIN/VALIDATION SETS SPLIT\n",
    "X_exp_train, X_exp_val, y_exp_train, y_exp_val = train_test_split(X_exp_train, y_exp_train, \n",
    "                                                                  test_size=0.2, \n",
    "                                                                  stratify = y_exp_train, \n",
    "                                                                  random_state=random_state)\n",
    "\n",
    "print(\"SHAPES:\")\n",
    "print(\"BLACKBOX TRAINING SET: \", X_train.shape)\n",
    "print(\"BLACKBOX VALIDATION SET: \", X_val.shape)\n",
    "print(\"BLACKBOX TEST SET: \", X_test.shape)\n",
    "print(\"EXPLANATION TRAINING SET: \", X_exp_train.shape)\n",
    "print(\"EXPLANATION VALIDATION SET: \", X_exp_val.shape)\n",
    "print(\"EXPLANATION TEST SET: \", X_exp_test.shape)"
   ]
  },
  {
   "cell_type": "code",
   "execution_count": 9,
   "metadata": {},
   "outputs": [
    {
     "name": "stdout",
     "output_type": "stream",
     "text": [
      "TIMESTEPS:  128\n",
      "N. LABELS:  3\n"
     ]
    }
   ],
   "source": [
    "n_timesteps, n_outputs, n_features = X_train.shape[1], len(np.unique(y_all)), 1 \n",
    "print(\"TIMESTEPS: \", n_timesteps)\n",
    "print(\"N. LABELS: \", n_outputs)"
   ]
  },
  {
   "cell_type": "markdown",
   "metadata": {},
   "source": [
    "# BLACKBOX MODEL"
   ]
  },
  {
   "cell_type": "code",
   "execution_count": 10,
   "metadata": {},
   "outputs": [
    {
     "name": "stderr",
     "output_type": "stream",
     "text": [
      "Using TensorFlow backend.\n",
      "/Users/francesco/anaconda3/envs/tesi/lib/python3.6/site-packages/tensorflow/python/framework/dtypes.py:526: FutureWarning: Passing (type, 1) or '1type' as a synonym of type is deprecated; in a future version of numpy, it will be understood as (type, (1,)) / '(1,)type'.\n",
      "  _np_qint8 = np.dtype([(\"qint8\", np.int8, 1)])\n",
      "/Users/francesco/anaconda3/envs/tesi/lib/python3.6/site-packages/tensorflow/python/framework/dtypes.py:527: FutureWarning: Passing (type, 1) or '1type' as a synonym of type is deprecated; in a future version of numpy, it will be understood as (type, (1,)) / '(1,)type'.\n",
      "  _np_quint8 = np.dtype([(\"quint8\", np.uint8, 1)])\n",
      "/Users/francesco/anaconda3/envs/tesi/lib/python3.6/site-packages/tensorflow/python/framework/dtypes.py:528: FutureWarning: Passing (type, 1) or '1type' as a synonym of type is deprecated; in a future version of numpy, it will be understood as (type, (1,)) / '(1,)type'.\n",
      "  _np_qint16 = np.dtype([(\"qint16\", np.int16, 1)])\n",
      "/Users/francesco/anaconda3/envs/tesi/lib/python3.6/site-packages/tensorflow/python/framework/dtypes.py:529: FutureWarning: Passing (type, 1) or '1type' as a synonym of type is deprecated; in a future version of numpy, it will be understood as (type, (1,)) / '(1,)type'.\n",
      "  _np_quint16 = np.dtype([(\"quint16\", np.uint16, 1)])\n",
      "/Users/francesco/anaconda3/envs/tesi/lib/python3.6/site-packages/tensorflow/python/framework/dtypes.py:530: FutureWarning: Passing (type, 1) or '1type' as a synonym of type is deprecated; in a future version of numpy, it will be understood as (type, (1,)) / '(1,)type'.\n",
      "  _np_qint32 = np.dtype([(\"qint32\", np.int32, 1)])\n",
      "/Users/francesco/anaconda3/envs/tesi/lib/python3.6/site-packages/tensorflow/python/framework/dtypes.py:535: FutureWarning: Passing (type, 1) or '1type' as a synonym of type is deprecated; in a future version of numpy, it will be understood as (type, (1,)) / '(1,)type'.\n",
      "  np_resource = np.dtype([(\"resource\", np.ubyte, 1)])\n"
     ]
    }
   ],
   "source": [
    "from joblib import load\n",
    "import keras\n",
    "\"\"\"import importlib\n",
    "importlib.reload(blackboxes)\"\"\"\n",
    "from sklearn.metrics import accuracy_score\n",
    "from sklearn.metrics import mean_squared_error\n",
    "import time\n",
    "import blackboxes\n",
    "from blackboxes import *"
   ]
  },
  {
   "cell_type": "markdown",
   "metadata": {},
   "source": [
    "## resnet"
   ]
  },
  {
   "cell_type": "code",
   "execution_count": 11,
   "metadata": {},
   "outputs": [
    {
     "name": "stdout",
     "output_type": "stream",
     "text": [
      "WARNING:tensorflow:From /Users/francesco/anaconda3/envs/tesi/lib/python3.6/site-packages/tensorflow/python/framework/op_def_library.py:263: colocate_with (from tensorflow.python.framework.ops) is deprecated and will be removed in a future version.\n",
      "Instructions for updating:\n",
      "Colocations handled automatically by placer.\n"
     ]
    }
   ],
   "source": [
    "blackbox = build_resnet(n_timesteps, n_outputs)\n",
    "blackbox.load_weights(parentdir + \"/blackbox_checkpoints/cbf_blackbox_resnet_20191106_145242_best_weights_+1.00_.hdf5\")\n",
    "resnet = blackbox"
   ]
  },
  {
   "cell_type": "markdown",
   "metadata": {},
   "source": [
    "## simple CNN"
   ]
  },
  {
   "cell_type": "code",
   "execution_count": 12,
   "metadata": {},
   "outputs": [
    {
     "name": "stdout",
     "output_type": "stream",
     "text": [
      "WARNING:tensorflow:From /Users/francesco/anaconda3/envs/tesi/lib/python3.6/site-packages/keras/backend/tensorflow_backend.py:3733: calling dropout (from tensorflow.python.ops.nn_ops) with keep_prob is deprecated and will be removed in a future version.\n",
      "Instructions for updating:\n",
      "Please use `rate` instead of `keep_prob`. Rate should be set to `rate = 1 - keep_prob`.\n"
     ]
    }
   ],
   "source": [
    "blackbox = build_simple_CNN(n_timesteps, n_outputs)\n",
    "blackbox.load_weights(parentdir + \"/blackbox_checkpoints/cbf_blackbox_simpleCNN_20191106_145515_best_weights_+1.00_.hdf5\")\n",
    "simplecnn = blackbox"
   ]
  },
  {
   "cell_type": "markdown",
   "metadata": {},
   "source": [
    "## KNN"
   ]
  },
  {
   "cell_type": "code",
   "execution_count": 13,
   "metadata": {},
   "outputs": [],
   "source": [
    "from sklearn.neighbors import KNeighborsClassifier\n",
    "from sklearn.metrics import make_scorer, mean_squared_error, accuracy_score\n",
    "from sklearn.model_selection import StratifiedKFold, RepeatedStratifiedKFold\n",
    "from sklearn.model_selection import GridSearchCV"
   ]
  },
  {
   "cell_type": "code",
   "execution_count": 14,
   "metadata": {},
   "outputs": [],
   "source": [
    "knn = load(parentdir + \"/blackbox_checkpoints/cbf_blackbox_knn_20191106_145654.joblib\")"
   ]
  },
  {
   "cell_type": "markdown",
   "metadata": {},
   "source": [
    "# AUTOENCODER"
   ]
  },
  {
   "cell_type": "code",
   "execution_count": 15,
   "metadata": {},
   "outputs": [],
   "source": [
    "\"\"\"import importlib\n",
    "importlib.reload(autoencoders)\"\"\"\n",
    "import autoencoders\n",
    "from autoencoders import *"
   ]
  },
  {
   "cell_type": "markdown",
   "metadata": {},
   "source": [
    "## STANDARD"
   ]
  },
  {
   "cell_type": "code",
   "execution_count": 16,
   "metadata": {},
   "outputs": [],
   "source": [
    "params = {\"input_shape\": (n_timesteps,1),\n",
    "          \"n_blocks\": 8, \n",
    "          \"latent_dim\": 2,\n",
    "          \"encoder_latent_layer_type\": \"dense\",\n",
    "          \"encoder_args\": {\"filters\":[2,4,8,16,32,64,128,256], \n",
    "                            \"kernel_size\":[21,18,15,13,11,8,5,3], \n",
    "                            \"padding\":\"same\", \n",
    "                            \"activation\":\"elu\", \n",
    "                            \"pooling\":[1,1,1,1,1,1,1,1]}\n",
    "         }\n",
    "\n",
    "aut = Autoencoder(verbose = False, **params)\n",
    "encoder, decoder, autoencoder = aut.build()\n",
    "autoencoder.load_weights(parentdir+\"/autoencoder_checkpoints/cbf_autoencoder_20191106_144056_best_weights_+1.0504_.hdf5\")"
   ]
  },
  {
   "cell_type": "markdown",
   "metadata": {},
   "source": [
    "# GLOBAL VS LOCAL SHAPELET TREE"
   ]
  },
  {
   "cell_type": "code",
   "execution_count": 17,
   "metadata": {},
   "outputs": [
    {
     "name": "stderr",
     "output_type": "stream",
     "text": [
      "/Users/francesco/anaconda3/envs/tesi/lib/python3.6/site-packages/deap/tools/_hypervolume/pyhv.py:33: ImportWarning: Falling back to the python version of hypervolume module. Expect this to be very slow.\n",
      "  \"module. Expect this to be very slow.\", ImportWarning)\n"
     ]
    },
    {
     "data": {
      "text/plain": [
       "<module 'agnosticlocalexplainer' from '/Users/francesco/github/TS_AgnosticLocalExplainer/agnosticlocalexplainer.py'>"
      ]
     },
     "execution_count": 17,
     "metadata": {},
     "output_type": "execute_result"
    }
   ],
   "source": [
    "import agnosticlocalexplainer\n",
    "from agnosticlocalexplainer import *\n",
    "import importlib\n",
    "importlib.reload(agnosticlocalexplainer)"
   ]
  },
  {
   "cell_type": "code",
   "execution_count": 18,
   "metadata": {},
   "outputs": [
    {
     "data": {
      "text/plain": [
       "'import importlib\\nimport global_vs_local_surrogate\\nimportlib.reload(global_vs_local_surrogate)'"
      ]
     },
     "execution_count": 18,
     "metadata": {},
     "output_type": "execute_result"
    }
   ],
   "source": [
    "\"\"\"import importlib\n",
    "import global_vs_local_surrogate\n",
    "importlib.reload(global_vs_local_surrogate)\"\"\""
   ]
  },
  {
   "cell_type": "code",
   "execution_count": 19,
   "metadata": {},
   "outputs": [],
   "source": [
    "from myutils import BlackboxPredictWrapper\n",
    "import time\n",
    "from agnosticglobalexplainer import AgnosticGlobalExplainer, save_shapelet_model, load_shapelet_model\n",
    "from joblib import dump\n",
    "from sklearn.metrics import confusion_matrix, accuracy_score, classification_report, coverage_error\n",
    "from global_vs_local_surrogate import build_agnostic_local_explainers, print_report, massive_save_agnostic_local_explainers, massive_load_agnostic_local_explainers, get_all_predictions"
   ]
  },
  {
   "cell_type": "markdown",
   "metadata": {},
   "source": [
    "## RESNET"
   ]
  },
  {
   "cell_type": "code",
   "execution_count": 20,
   "metadata": {},
   "outputs": [],
   "source": [
    "encoder = autoencoder.layers[1]\n",
    "decoder = autoencoder.layers[2]\n",
    "blackbox = resnet\n",
    "blackbox_input_dimensions = 3\n",
    "blackbox_predict = BlackboxPredictWrapper(blackbox, 3)\n",
    "labels = [\"cylinder\", \"bell\", \"funnel\"]"
   ]
  },
  {
   "cell_type": "code",
   "execution_count": 26,
   "metadata": {},
   "outputs": [
    {
     "name": "stdout",
     "output_type": "stream",
     "text": [
      "WARNING:tensorflow:From /Users/francesco/anaconda3/envs/tesi/lib/python3.6/site-packages/tensorflow/python/ops/math_ops.py:3066: to_int32 (from tensorflow.python.ops.math_ops) is deprecated and will be removed in a future version.\n",
      "Instructions for updating:\n",
      "Use tf.cast instead.\n",
      "WARNING:tensorflow:From /Users/francesco/anaconda3/envs/tesi/lib/python3.6/site-packages/tensorflow/python/ops/math_grad.py:102: div (from tensorflow.python.ops.math_ops) is deprecated and will be removed in a future version.\n",
      "Instructions for updating:\n",
      "Deprecated in favor of operator or tf.math.divide.\n",
      "1 / 36\n",
      "2 / 36\n",
      "3 / 36\n",
      "4 / 36\n",
      "5 / 36\n",
      "6 / 36\n",
      "7 / 36\n",
      "8 / 36\n",
      "9 / 36\n",
      "10 / 36\n",
      "11 / 36\n",
      "12 / 36\n",
      "13 / 36\n",
      "14 / 36\n",
      "15 / 36\n",
      "16 / 36\n",
      "17 / 36\n",
      "18 / 36\n",
      "19 / 36\n",
      "20 / 36\n",
      "21 / 36\n",
      "22 / 36\n",
      "23 / 36\n",
      "24 / 36\n",
      "25 / 36\n",
      "26 / 36\n",
      "27 / 36\n",
      "28 / 36\n",
      "29 / 36\n",
      "30 / 36\n",
      "31 / 36\n",
      "32 / 36\n",
      "33 / 36\n",
      "34 / 36\n",
      "35 / 36\n",
      "36 / 36\n"
     ]
    },
    {
     "ename": "NameError",
     "evalue": "name 'Users' is not defined",
     "output_type": "error",
     "traceback": [
      "\u001b[0;31m---------------------------------------------------------------------------\u001b[0m",
      "\u001b[0;31mNameError\u001b[0m                                 Traceback (most recent call last)",
      "\u001b[0;32m<timed exec>\u001b[0m in \u001b[0;36m<module>\u001b[0;34m\u001b[0m\n",
      "\u001b[0;31mNameError\u001b[0m: name 'Users' is not defined"
     ]
    }
   ],
   "source": [
    "%%time\n",
    "file_path = parentdir + \"/agnostic_explainers/cbf_knn_20200112_224957\"\n",
    "\n",
    "global_surrogate = load_shapelet_model(file_path + \"/\")\n",
    "agnostic_explainers = massive_load_agnostic_local_explainers(file_path, verbose = True)"
   ]
  },
  {
   "cell_type": "code",
   "execution_count": null,
   "metadata": {},
   "outputs": [],
   "source": [
    "# sanity check\n",
    "results_df_loaded = get_all_predictions(agnostic_explainers, global_surrogate, blackbox_predict, X_exp_test, blackbox_predict.predict(X_exp_train), encoder, decoder)\n",
    "#print(sum(results_df_loaded.values != results_df.values))"
   ]
  },
  {
   "cell_type": "code",
   "execution_count": null,
   "metadata": {},
   "outputs": [],
   "source": [
    "print_report(results_df)"
   ]
  },
  {
   "cell_type": "code",
   "execution_count": 87,
   "metadata": {},
   "outputs": [
    {
     "data": {
      "text/plain": [
       "<module 'agnosticglobalexplainer' from '/Users/francesco/github/TS_AgnosticLocalExplainer/agnosticglobalexplainer.py'>"
      ]
     },
     "execution_count": 87,
     "metadata": {},
     "output_type": "execute_result"
    }
   ],
   "source": [
    "import agnosticglobalexplainer\n",
    "importlib.reload(agnosticglobalexplainer)"
   ]
  },
  {
   "cell_type": "code",
   "execution_count": 88,
   "metadata": {},
   "outputs": [],
   "source": [
    "import global_vs_local_surrogate\n",
    "importlib.reload(global_vs_local_surrogate)\n",
    "\n",
    "from global_vs_local_surrogate import calculate_shapelet_stability, calculate_shapelet_multi_stability"
   ]
  },
  {
   "cell_type": "code",
   "execution_count": 61,
   "metadata": {},
   "outputs": [
    {
     "name": "stdout",
     "output_type": "stream",
     "text": [
      "\n",
      "far: [0.0109427  0.02188539 0.        ]\n",
      "near: [0.11141746 0.22283492 0.        ]\n",
      "\n",
      "far: [0.01071968 0.02143936 0.        ]\n",
      "near: [0.04161891 0.08323782 0.        ]\n",
      "\n",
      "far: [0.01376608 0.02753215 0.        ]\n",
      "near: [0.18156533 0.36313067 0.        ]\n",
      "\n",
      "far: [0. 0. 0.]\n",
      "near: [0.02652036 0.05304072 0.        ]\n",
      "\n",
      "far: [0. 0. 0.]\n",
      "near: [0.02939751 0.05879501 0.        ]\n",
      "\n",
      "far: [0. 0. 0.]\n",
      "near: [0.66275808 1.         0.32551616]\n",
      "\n",
      "far: [0. 0. 0.]\n",
      "near: [0.79289149 1.         0.58578299]\n",
      "\n",
      "far: [0.00828395 0.0165679  0.        ]\n",
      "near: [0.52357313 1.         0.04714625]\n",
      "\n",
      "far: [0.01088265 0.02176529 0.        ]\n",
      "near: [0.19926362 0.20861892 0.18990833]\n",
      "\n",
      "far: [0.01738912 0.03477825 0.        ]\n",
      "near: [0.02652036 0.05304072 0.        ]\n",
      "\n",
      "far: [0.00599387 0.01198775 0.        ]\n",
      "near: [0.575716 1.       0.151432]\n",
      "\n",
      "far: [0.01243919 0.02487838 0.        ]\n",
      "near: [0.5229025  1.         0.04580501]\n",
      "\n",
      "far: [0.00943029 0.01886058 0.        ]\n",
      "near: [0.52353508 1.         0.04707015]\n",
      "\n",
      "far: [0. 0. 0.]\n",
      "near: [0.03475714 0.06951428 0.        ]\n",
      "\n",
      "far: [0.01129906 0.02259813 0.        ]\n",
      "near: [0.08735883 0.12278521 0.05193245]\n",
      "\n",
      "far: [0.0213567  0.04271339 0.        ]\n",
      "near: [0.79626289 1.         0.59252579]\n",
      "\n",
      "far: [0. 0. 0.]\n",
      "near: [0.55054275 1.         0.1010855 ]\n",
      "\n",
      "far: [0.01678746 0.03357492 0.        ]\n",
      "near: [0.57567323 1.         0.15134645]\n",
      "\n",
      "far: [0.01317367 0.02634735 0.        ]\n",
      "near: [0.02942006 0.05884012 0.        ]\n",
      "\n",
      "far: [0.01811134 0.01857249 0.0176502 ]\n",
      "near: [0.02136873 0.04273745 0.        ]\n",
      "\n",
      "far: [0.01238699 0.02477397 0.        ]\n",
      "near: [0.06577063 0.13154126 0.        ]\n",
      "\n",
      "far: [0.0213567  0.04271339 0.        ]\n",
      "near: [0.04808253 0.09616505 0.        ]\n",
      "\n",
      "far: [0. 0. 0.]\n",
      "near: [0.55019881 1.         0.10039761]\n",
      "\n",
      "far: [0.01598877 0.03197753 0.        ]\n",
      "near: [0.12912866 0.16276217 0.09549516]\n",
      "\n",
      "far: [0.02368672 0.04737343 0.        ]\n",
      "near: [0.57567323 1.         0.15134645]\n",
      "\n",
      "far: [0.01342264 0.02684528 0.        ]\n",
      "near: [0.52357313 1.         0.04714625]\n",
      "\n",
      "far: [0.06186    0.10849187 0.01522813]\n",
      "near: [0.12948439 0.16347363 0.09549516]\n",
      "\n",
      "far: [0.01048864 0.02097729 0.        ]\n",
      "near: [0.04161891 0.08323782 0.        ]\n",
      "\n",
      "far: [0.02458386 0.04916772 0.        ]\n",
      "near: [0.22137031 0.32603858 0.11670204]\n",
      "\n",
      "far: [0.01906299 0.03812597 0.        ]\n",
      "near: [0.66275808 1.         0.32551616]\n",
      "\n",
      "far: [0. 0. 0.]\n",
      "near: [0.52459313 1.         0.04918625]\n",
      "\n",
      "far: [0.01306476 0.02612952 0.        ]\n",
      "near: [0.54307372 1.         0.08614744]\n",
      "\n",
      "far: [0.01140134 0.02280268 0.        ]\n",
      "near: [0.14342497 0.2240451  0.06280484]\n",
      "\n",
      "far: [0.02050344 0.04100688 0.        ]\n",
      "near: [0.18034701 0.18093064 0.17976337]\n",
      "\n",
      "far: [0.00864724 0.01729447 0.        ]\n",
      "near: [0.79626289 1.         0.59252579]\n",
      "\n",
      "far: [0.01042505 0.0208501  0.        ]\n",
      "near: [0.23728283 0.27167626 0.20288939]\n"
     ]
    }
   ],
   "source": [
    "prova=calculate_shapelet_stability(agnostic_explainers,X_exp_test, n_neighbors = 30)"
   ]
  },
  {
   "cell_type": "code",
   "execution_count": 89,
   "metadata": {},
   "outputs": [
    {
     "name": "stdout",
     "output_type": "stream",
     "text": [
      "\n",
      "debug 1\n",
      "far: [0.08223561 0.16447123 0.        ]\n",
      "debug 0\n",
      "far: [0.1028923  0.19474703 0.01103758]\n",
      "debug 1\n",
      "far: [0.01846029 0.03692058 0.        ]\n",
      "debug 1\n",
      "far: [0.01650298 0.03300595 0.        ]\n",
      "debug 0\n",
      "far: [0.05849228 0.09716859 0.01981596]\n",
      "debug 1\n",
      "far: [0.01164814 0.02329629 0.        ]\n",
      "debug 1\n",
      "near: [0.11141746 0.22283492 0.        ]\n",
      "\n",
      "debug 1\n",
      "far: [0.02537388 0.05074776 0.        ]\n",
      "debug 1\n",
      "far: [0.02841326 0.05682653 0.        ]\n",
      "debug 1\n",
      "far: [0.09720886 0.19441773 0.        ]\n",
      "debug 1\n",
      "far: [0.0535187 0.1070374 0.       ]\n",
      "debug 0\n",
      "far: [0.01930022 0.02722525 0.0113752 ]\n",
      "debug 1\n",
      "far: [0.00548497 0.01096993 0.        ]\n",
      "debug 1\n",
      "near: [0.04161891 0.08323782 0.        ]\n",
      "\n",
      "debug 1\n",
      "far: [0.08414    0.16827999 0.        ]\n",
      "debug 1\n",
      "far: [0.05166086 0.10332172 0.        ]\n",
      "debug 0\n",
      "far: [0.51020648 1.         0.02041296]\n"
     ]
    }
   ],
   "source": [
    "prova=calculate_shapelet_multi_stability(agnostic_explainers,X_exp_test)"
   ]
  },
  {
   "cell_type": "code",
   "execution_count": 63,
   "metadata": {},
   "outputs": [
    {
     "data": {
      "text/plain": [
       "0.1293143850377449"
      ]
     },
     "execution_count": 63,
     "metadata": {},
     "output_type": "execute_result"
    }
   ],
   "source": [
    "np.mean(prova[:,0])"
   ]
  },
  {
   "cell_type": "code",
   "execution_count": 42,
   "metadata": {},
   "outputs": [],
   "source": [
    "from shap_utils import shap_stability"
   ]
  },
  {
   "cell_type": "code",
   "execution_count": 44,
   "metadata": {},
   "outputs": [],
   "source": [
    "params = {\"background\": \"linear_consecutive\"}"
   ]
  },
  {
   "cell_type": "code",
   "execution_count": 45,
   "metadata": {},
   "outputs": [
    {
     "name": "stdout",
     "output_type": "stream",
     "text": [
      "\n",
      "far: 0.7505619441639249\n",
      "near: 0.9107130756894721\n",
      "near: 0.8987261359457019\n",
      "near: 0.9017965478100903\n",
      "\n",
      "far: 0.7875307629204266\n",
      "near: 0.8809696784307727\n",
      "near: 0.9768506741287204\n",
      "near: 0.9768506741287204\n",
      "\n",
      "far: 0.9378489021213249\n",
      "near: 0.9457776804755473\n",
      "near: 0.9379470776388487\n",
      "near: 0.9405141881883674\n",
      "\n",
      "far: 0.7499302520226914\n",
      "near: 0.8747152619589978\n",
      "near: 0.964622147791501\n",
      "near: 0.8747152619589978\n",
      "\n",
      "far: 0.7817627470274305\n",
      "near: 0.9597600599850037\n",
      "near: 0.9404575167209942\n",
      "near: 0.9321788988174368\n",
      "\n",
      "far: 0.790743282996666\n",
      "near: 0.91144391070924\n",
      "near: 0.9042893187552565\n",
      "near: 0.9255136003672672\n",
      "\n",
      "far: 0.8010569501425492\n",
      "near: 0.9323944639078705\n",
      "near: 0.9315866084425037\n",
      "near: 0.8881350705419782\n",
      "\n",
      "far: 0.7889330228735791\n",
      "near: 0.8782161234991424\n",
      "near: 0.927536231884058\n",
      "near: 1.0\n",
      "\n",
      "far: 0.7887401089603773\n",
      "near: 0.9461346223791813\n",
      "near: 0.9405946368376238\n",
      "near: 0.9673201569016326\n",
      "\n",
      "far: 0.7757575757575758\n",
      "near: 0.8747152619589978\n",
      "near: 0.9768506741287204\n",
      "near: 0.8782161234991424\n",
      "\n",
      "far: 0.8011046979465734\n",
      "near: 0.9405068753571802\n",
      "near: 0.9222218410127972\n",
      "near: 0.919645097278927\n",
      "\n",
      "far: 0.9426617569700159\n",
      "near: 0.9145968016332087\n",
      "near: 0.8828939301042305\n",
      "near: 0.896149358226371\n",
      "\n",
      "far: 0.7582688826723712\n",
      "near: 0.9768506741287204\n",
      "near: 0.8744164863941706\n",
      "near: 0.8782161234991424\n",
      "\n",
      "far: 0.765168875161901\n",
      "near: 0.9320388349514562\n",
      "near: 0.9012674072915036\n",
      "near: 0.9256729610285256\n",
      "\n",
      "far: 0.7889909154505829\n",
      "near: 0.9416490535632962\n",
      "near: 0.9609380585809958\n",
      "near: 0.9662634577709078\n",
      "\n",
      "far: 0.7853372548255779\n",
      "near: 0.8205128205128205\n",
      "near: 0.8650272198235405\n",
      "near: 0.8499022464864068\n",
      "\n",
      "far: 0.8253331422839949\n",
      "near: 0.8672739591959647\n",
      "near: 0.8812055381320278\n",
      "near: 0.9012674072915036\n",
      "\n",
      "far: 0.7624342301201231\n",
      "near: 0.9139230464101546\n",
      "near: 0.9072294849582611\n",
      "near: 0.8951048951048951\n",
      "\n",
      "far: 0.7920247507734618\n",
      "near: 0.9597600599850037\n",
      "near: 0.9665587918015102\n",
      "near: 0.9686893743280499\n",
      "\n",
      "far: 0.7804878048780488\n",
      "near: 0.8396501457725949\n",
      "near: 0.8968470221876216\n",
      "near: 0.8509695290858724\n",
      "\n",
      "far: 0.9172548328205244\n",
      "near: 0.9042893187552565\n",
      "near: 0.9103121295930462\n",
      "near: 0.91283676703645\n",
      "\n",
      "far: 0.7887709688462855\n",
      "near: 0.9791755206119849\n",
      "near: 0.9171974522292993\n",
      "near: 0.8982456140350877\n",
      "\n",
      "far: 0.8141342756183745\n",
      "near: 0.9255136003672672\n",
      "near: 0.8672739591959647\n",
      "near: 0.9017612524461839\n",
      "\n",
      "far: 0.7769085513892635\n",
      "near: 0.9410666355467383\n",
      "near: 0.9665587918015102\n",
      "near: 0.9574297570213296\n",
      "\n",
      "far: 0.7922971114167814\n",
      "near: 0.9139230464101546\n",
      "near: 0.9103121295930462\n",
      "near: 0.9056603773584905\n",
      "\n",
      "far: 0.793935217091661\n",
      "near: 0.8782161234991424\n",
      "near: 0.8782161234991424\n",
      "near: 0.8715717798373368\n",
      "\n",
      "far: 0.9162907495994637\n",
      "near: 0.9410666355467383\n",
      "near: 0.9457351613168049\n",
      "near: 0.9321788988174368\n",
      "\n",
      "far: 0.8012519561815337\n",
      "near: 0.8809696784307727\n",
      "near: 0.964622147791501\n",
      "near: 0.8735545023696683\n",
      "\n",
      "far: 0.938159861788949\n",
      "near: 0.9574297570213296\n",
      "near: 0.9686893743280499\n",
      "near: 0.9404575167209942\n",
      "\n",
      "far: 0.952315344236095\n",
      "near: 0.91144391070924\n",
      "near: 0.91283676703645\n",
      "near: 0.8812055381320278\n",
      "\n",
      "far: 0.8284789644012945\n",
      "near: 0.927536231884058\n",
      "near: 0.8715717798373368\n",
      "near: 0.8968470221876216\n",
      "\n",
      "far: 0.7548900756855935\n",
      "near: 0.9703504043126686\n",
      "near: 0.8781491786408506\n",
      "near: 0.8743501195400554\n",
      "\n",
      "far: 0.9263428755226761\n",
      "near: 0.9471681270408044\n",
      "near: 0.9416490535632962\n",
      "near: 0.9405946368376238\n",
      "\n",
      "far: 0.7876410164580248\n",
      "near: 0.9673201569016326\n",
      "near: 0.9370442744898295\n",
      "near: 0.9740267583574573\n",
      "\n",
      "far: 0.7486353002339485\n",
      "near: 0.8205128205128205\n",
      "near: 0.7961299239806496\n",
      "near: 0.8602471717134004\n",
      "\n",
      "far: 0.7845998920007589\n",
      "near: 0.9207897050595477\n",
      "near: 0.9411160581428597\n",
      "near: 0.9489514933276849\n"
     ]
    },
    {
     "data": {
      "text/plain": [
       "array([[1.21337497, 1.19740435, 1.20409149],\n",
       "       [1.24039685, 1.11864796, 1.19981388],\n",
       "       [1.00845422, 1.00010468, 1.00380027],\n",
       "       [1.28628248, 1.16639549, 1.20635782],\n",
       "       [1.22768713, 1.19240639, 1.20769653],\n",
       "       [1.17043498, 1.14359406, 1.15555701],\n",
       "       [1.16395528, 1.10870403, 1.14520203],\n",
       "       [1.26753472, 1.11316943, 1.18546284],\n",
       "       [1.22641177, 1.19252796, 1.20616385],\n",
       "       [1.25922157, 1.12756264, 1.17295323],\n",
       "       [1.17401243, 1.14797117, 1.15772375],\n",
       "       [0.97022797, 0.93659674, 0.95249438],\n",
       "       [1.28826422, 1.15317469, 1.19987485],\n",
       "       [1.21808252, 1.17786731, 1.20190426],\n",
       "       [1.22468262, 1.19348529, 1.21203363],\n",
       "       [1.10147228, 1.04479039, 1.07615859],\n",
       "       [1.09200438, 1.05081683, 1.07017266],\n",
       "       [1.198691  , 1.17400932, 1.18753737],\n",
       "       [1.22305442, 1.21178039, 1.21839973],\n",
       "       [1.14908525, 1.07580175, 1.1050639 ],\n",
       "       [0.99518338, 0.98586487, 0.99115975],\n",
       "       [1.24139397, 1.13879142, 1.18100129],\n",
       "       [1.13680707, 1.0652714 , 1.10323685],\n",
       "       [1.24410883, 1.21129653, 1.22925458],\n",
       "       [1.15351051, 1.14308176, 1.14851509],\n",
       "       [1.1061559 , 1.09778702, 1.10336627],\n",
       "       [1.03213435, 1.01733964, 1.02550444],\n",
       "       [1.20389366, 1.09023697, 1.13120736],\n",
       "       [1.03254191, 1.00244911, 1.01851037],\n",
       "       [0.95854464, 0.92532956, 0.94698541],\n",
       "       [1.11956522, 1.05201437, 1.08470066],\n",
       "       [1.28541947, 1.15824826, 1.2023162 ],\n",
       "       [1.02248115, 1.01538497, 1.01812978],\n",
       "       [1.23663793, 1.18968446, 1.21814851],\n",
       "       [1.14908711, 1.0634416 , 1.1028467 ],\n",
       "       [1.20947186, 1.17357868, 1.19417862]])"
      ]
     },
     "execution_count": 45,
     "metadata": {},
     "output_type": "execute_result"
    }
   ],
   "source": [
    "shap_stability(X_exp_test, blackbox,blackbox_input_dimensions, **params)"
   ]
  }
 ],
 "metadata": {
  "kernelspec": {
   "display_name": "Python 3",
   "language": "python",
   "name": "python3"
  },
  "language_info": {
   "codemirror_mode": {
    "name": "ipython",
    "version": 3
   },
   "file_extension": ".py",
   "mimetype": "text/x-python",
   "name": "python",
   "nbconvert_exporter": "python",
   "pygments_lexer": "ipython3",
   "version": "3.6.9"
  }
 },
 "nbformat": 4,
 "nbformat_minor": 2
}
