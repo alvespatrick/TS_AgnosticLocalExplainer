{
 "cells": [
  {
   "cell_type": "code",
   "execution_count": 2,
   "metadata": {},
   "outputs": [],
   "source": [
    "import os,sys,inspect\n",
    "currentdir = os.path.dirname(os.path.abspath(inspect.getfile(inspect.currentframe())))\n",
    "parentdir = os.path.dirname(currentdir)\n",
    "sys.path.insert(0,parentdir)"
   ]
  },
  {
   "cell_type": "code",
   "execution_count": 8,
   "metadata": {},
   "outputs": [
    {
     "name": "stderr",
     "output_type": "stream",
     "text": [
      "/Users/francesco/anaconda3/envs/tesi/lib/python3.6/site-packages/deap/tools/_hypervolume/pyhv.py:33: ImportWarning: Falling back to the python version of hypervolume module. Expect this to be very slow.\n",
      "  \"module. Expect this to be very slow.\", ImportWarning)\n",
      "Using TensorFlow backend.\n"
     ]
    }
   ],
   "source": [
    "import pandas as pd\n",
    "import numpy as np\n",
    "from joblib import load\n",
    "from global_vs_local_surrogate import print_report"
   ]
  },
  {
   "cell_type": "markdown",
   "metadata": {},
   "source": [
    "# CILINDER BELL FUNNEL"
   ]
  },
  {
   "cell_type": "markdown",
   "metadata": {},
   "source": [
    "### RESNET"
   ]
  },
  {
   "cell_type": "markdown",
   "metadata": {},
   "source": [
    "#### GENETICP"
   ]
  },
  {
   "cell_type": "code",
   "execution_count": 12,
   "metadata": {},
   "outputs": [
    {
     "name": "stdout",
     "output_type": "stream",
     "text": [
      "local fidelity:  1.0\n",
      "global fidelity:  1.0\n",
      "reconstruction fidelity:  1.0\n"
     ]
    }
   ],
   "source": [
    "folder_name = \"cbf_20191223_122259\"\n",
    "results_df = pd.read_csv(parentdir + \"/agnostic_explainers/\" + folder_name + \"/\" + \"results_df.csv\", sep = \";\")\n",
    "print_report(results_df)"
   ]
  },
  {
   "cell_type": "markdown",
   "metadata": {},
   "source": [
    "#### RANDOM"
   ]
  },
  {
   "cell_type": "code",
   "execution_count": 13,
   "metadata": {},
   "outputs": [
    {
     "name": "stdout",
     "output_type": "stream",
     "text": [
      "local fidelity:  1.0\n",
      "global fidelity:  1.0\n",
      "reconstruction fidelity:  1.0\n"
     ]
    }
   ],
   "source": [
    "folder_name = \"cbf_random_20200105_191824\"\n",
    "results_df = pd.read_csv(parentdir + \"/agnostic_explainers/\" + folder_name + \"/\" + \"results_df.csv\", sep = \";\")\n",
    "print_report(results_df)"
   ]
  },
  {
   "cell_type": "markdown",
   "metadata": {},
   "source": [
    "# EPILEPTIC SEIZURE RECOGNITION"
   ]
  },
  {
   "cell_type": "markdown",
   "metadata": {},
   "source": [
    "### RESNET"
   ]
  },
  {
   "cell_type": "markdown",
   "metadata": {},
   "source": [
    "#### GENETICP"
   ]
  },
  {
   "cell_type": "code",
   "execution_count": 14,
   "metadata": {},
   "outputs": [
    {
     "name": "stdout",
     "output_type": "stream",
     "text": [
      "local fidelity:  1.0\n",
      "global fidelity:  0.96\n",
      "reconstruction fidelity:  0.98\n"
     ]
    }
   ],
   "source": [
    "folder_name = \"EpilepticSeizureRecognition_20200106_192815\"\n",
    "results_df = pd.read_csv(parentdir + \"/agnostic_explainers/\" + folder_name + \"/\" + \"results_df.csv\", sep = \";\")\n",
    "print_report(results_df)"
   ]
  },
  {
   "cell_type": "markdown",
   "metadata": {},
   "source": [
    "#### RANDOM"
   ]
  },
  {
   "cell_type": "code",
   "execution_count": 15,
   "metadata": {},
   "outputs": [
    {
     "name": "stdout",
     "output_type": "stream",
     "text": [
      "local fidelity:  0.5\n",
      "global fidelity:  0.96\n",
      "reconstruction fidelity:  0.98\n"
     ]
    }
   ],
   "source": [
    "folder_name = \"EpilepticSeizureRecognition_random_20200107_010425\"\n",
    "results_df = pd.read_csv(parentdir + \"/agnostic_explainers/\" + folder_name + \"/\" + \"results_df.csv\", sep = \";\")\n",
    "print_report(results_df)"
   ]
  },
  {
   "cell_type": "markdown",
   "metadata": {},
   "source": [
    "# HUMAN ACTIVITY RECOGNITION"
   ]
  },
  {
   "cell_type": "markdown",
   "metadata": {},
   "source": [
    "### RESNET"
   ]
  },
  {
   "cell_type": "markdown",
   "metadata": {},
   "source": [
    "#### GENETICP"
   ]
  },
  {
   "cell_type": "code",
   "execution_count": 16,
   "metadata": {},
   "outputs": [
    {
     "name": "stdout",
     "output_type": "stream",
     "text": [
      "local fidelity:  0.98\n",
      "global fidelity:  0.42\n",
      "reconstruction fidelity:  0.98\n"
     ]
    }
   ],
   "source": [
    "folder_name = \"HARDataset_20191223_212314\"\n",
    "results_df = pd.read_csv(parentdir + \"/agnostic_explainers/\" + folder_name + \"/\" + \"results_df.csv\", sep = \";\")\n",
    "print_report(results_df)"
   ]
  },
  {
   "cell_type": "markdown",
   "metadata": {},
   "source": [
    "#### RANDOM"
   ]
  },
  {
   "cell_type": "code",
   "execution_count": 17,
   "metadata": {},
   "outputs": [
    {
     "name": "stdout",
     "output_type": "stream",
     "text": [
      "local fidelity:  0.46\n",
      "global fidelity:  0.42\n",
      "reconstruction fidelity:  0.98\n"
     ]
    }
   ],
   "source": [
    "folder_name = \"HARDataset_random_20200105_213622\"\n",
    "results_df = pd.read_csv(parentdir + \"/agnostic_explainers/\" + folder_name + \"/\" + \"results_df.csv\", sep = \";\")\n",
    "print_report(results_df)"
   ]
  },
  {
   "cell_type": "markdown",
   "metadata": {},
   "source": [
    "# PHALANGES"
   ]
  },
  {
   "cell_type": "markdown",
   "metadata": {},
   "source": [
    "### RESNET"
   ]
  },
  {
   "cell_type": "markdown",
   "metadata": {},
   "source": [
    "#### GENETICP"
   ]
  },
  {
   "cell_type": "code",
   "execution_count": 18,
   "metadata": {},
   "outputs": [
    {
     "name": "stdout",
     "output_type": "stream",
     "text": [
      "local fidelity:  0.5\n",
      "global fidelity:  0.66\n",
      "reconstruction fidelity:  0.98\n"
     ]
    }
   ],
   "source": [
    "folder_name = \"phalanges_20191223_160501\"\n",
    "results_df = pd.read_csv(parentdir + \"/agnostic_explainers/\" + folder_name + \"/\" + \"results_df.csv\", sep = \";\")\n",
    "print_report(results_df)"
   ]
  },
  {
   "cell_type": "markdown",
   "metadata": {},
   "source": [
    "#### RANDOM"
   ]
  },
  {
   "cell_type": "code",
   "execution_count": 19,
   "metadata": {},
   "outputs": [
    {
     "name": "stdout",
     "output_type": "stream",
     "text": [
      "local fidelity:  0.4\n",
      "global fidelity:  0.66\n",
      "reconstruction fidelity:  0.98\n"
     ]
    }
   ],
   "source": [
    "folder_name = \"phalanges_random_20200105_195552\"\n",
    "results_df = pd.read_csv(parentdir + \"/agnostic_explainers/\" + folder_name + \"/\" + \"results_df.csv\", sep = \";\")\n",
    "print_report(results_df)"
   ]
  }
 ],
 "metadata": {
  "kernelspec": {
   "display_name": "Python 3",
   "language": "python",
   "name": "python3"
  },
  "language_info": {
   "codemirror_mode": {
    "name": "ipython",
    "version": 3
   },
   "file_extension": ".py",
   "mimetype": "text/x-python",
   "name": "python",
   "nbconvert_exporter": "python",
   "pygments_lexer": "ipython3",
   "version": "3.6.9"
  }
 },
 "nbformat": 4,
 "nbformat_minor": 2
}
