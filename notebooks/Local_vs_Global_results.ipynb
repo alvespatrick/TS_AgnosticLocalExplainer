{
 "cells": [
  {
   "cell_type": "code",
   "execution_count": 1,
   "metadata": {},
   "outputs": [],
   "source": [
    "import os,sys,inspect\n",
    "currentdir = os.path.dirname(os.path.abspath(inspect.getfile(inspect.currentframe())))\n",
    "parentdir = os.path.dirname(currentdir)\n",
    "sys.path.insert(0,parentdir)"
   ]
  },
  {
   "cell_type": "code",
   "execution_count": 2,
   "metadata": {},
   "outputs": [
    {
     "name": "stderr",
     "output_type": "stream",
     "text": [
      "/Users/francesco/anaconda3/envs/tesi/lib/python3.6/site-packages/deap/tools/_hypervolume/pyhv.py:33: ImportWarning: Falling back to the python version of hypervolume module. Expect this to be very slow.\n",
      "  \"module. Expect this to be very slow.\", ImportWarning)\n",
      "Using TensorFlow backend.\n"
     ]
    }
   ],
   "source": [
    "import pandas as pd\n",
    "import numpy as np\n",
    "from joblib import load\n",
    "from global_vs_local_surrogate import print_report"
   ]
  },
  {
   "cell_type": "code",
   "execution_count": 3,
   "metadata": {},
   "outputs": [],
   "source": [
    "path = parentdir + \"/agnostic_explainers/\""
   ]
  },
  {
   "cell_type": "code",
   "execution_count": 4,
   "metadata": {},
   "outputs": [],
   "source": [
    "blackboxes = [\"resnet\", \"knn\", \"simplecnn\"]\n",
    "methods = [\"geneticp\", \"random\"]\n",
    "dataset_names = [\"esr\", \"har\", \"cbf\", \"poc\"]\n",
    "metrics = [\"fid_g\",\"fid_l\"]"
   ]
  },
  {
   "cell_type": "code",
   "execution_count": 27,
   "metadata": {},
   "outputs": [],
   "source": []
  },
  {
   "cell_type": "code",
   "execution_count": 6,
   "metadata": {},
   "outputs": [
    {
     "name": "stdout",
     "output_type": "stream",
     "text": [
      "dataset: EpilepticSeizureRecognition\n",
      "method: geneticp\n",
      "bb: knn\n",
      "reconstruction fidelity:  0.98\n",
      "local fidelity:  0.94\n",
      "global fidelity:  0.92\n",
      "\n",
      "dataset: EpilepticSeizureRecognition\n",
      "method: geneticp\n",
      "bb: resnet\n",
      "reconstruction fidelity:  0.98\n",
      "local fidelity:  1.0\n",
      "global fidelity:  0.96\n",
      "\n",
      "dataset: EpilepticSeizureRecognition\n",
      "method: geneticp\n",
      "bb: simplecnn\n",
      "reconstruction fidelity:  0.98\n",
      "local fidelity:  1.0\n",
      "global fidelity:  0.96\n",
      "\n",
      "dataset: EpilepticSeizureRecognition\n",
      "method: random\n",
      "bb: knn\n",
      "reconstruction fidelity:  0.98\n",
      "local fidelity:  0.82\n",
      "global fidelity:  0.92\n",
      "\n",
      "dataset: EpilepticSeizureRecognition\n",
      "method: random\n",
      "bb: resnet\n",
      "reconstruction fidelity:  0.98\n",
      "local fidelity:  0.5\n",
      "global fidelity:  0.96\n",
      "\n",
      "dataset: EpilepticSeizureRecognition\n",
      "method: random\n",
      "bb: simplecnn\n",
      "reconstruction fidelity:  nan\n",
      "local fidelity:  nan\n",
      "global fidelity:  0.96\n",
      "\n",
      "dataset: HARDataset\n",
      "method: geneticp\n",
      "bb: knn\n",
      "reconstruction fidelity:  0.98\n",
      "local fidelity:  0.98\n",
      "global fidelity:  0.38\n",
      "\n",
      "dataset: HARDataset\n",
      "method: geneticp\n",
      "bb: resnet\n",
      "reconstruction fidelity:  0.98\n",
      "local fidelity:  0.98\n",
      "global fidelity:  0.42\n",
      "\n",
      "dataset: HARDataset\n",
      "method: geneticp\n",
      "bb: simplecnn\n",
      "reconstruction fidelity:  0.86\n",
      "local fidelity:  0.86\n",
      "global fidelity:  0.4\n",
      "\n",
      "dataset: HARDataset\n",
      "method: random\n",
      "bb: knn\n",
      "reconstruction fidelity:  0.98\n",
      "local fidelity:  0.4\n",
      "global fidelity:  0.38\n",
      "\n",
      "dataset: HARDataset\n",
      "method: random\n",
      "bb: resnet\n",
      "reconstruction fidelity:  0.98\n",
      "local fidelity:  0.46\n",
      "global fidelity:  0.42\n",
      "\n",
      "dataset: HARDataset\n",
      "method: random\n",
      "bb: simplecnn\n",
      "reconstruction fidelity:  0.86\n",
      "local fidelity:  0.44\n",
      "global fidelity:  0.4\n",
      "\n",
      "dataset: cbf\n",
      "method: geneticp\n",
      "bb: knn\n",
      "reconstruction fidelity:  1.0\n",
      "local fidelity:  1.0\n",
      "global fidelity:  1.0\n",
      "\n",
      "dataset: cbf\n",
      "method: geneticp\n",
      "bb: resnet\n",
      "reconstruction fidelity:  1.0\n",
      "local fidelity:  1.0\n",
      "global fidelity:  1.0\n",
      "\n",
      "dataset: cbf\n",
      "method: geneticp\n",
      "bb: simplecnn\n",
      "reconstruction fidelity:  0.8888888888888888\n",
      "local fidelity:  0.8888888888888888\n",
      "global fidelity:  1.0\n",
      "\n",
      "dataset: cbf\n",
      "method: random\n",
      "bb: knn\n",
      "reconstruction fidelity:  1.0\n",
      "local fidelity:  1.0\n",
      "global fidelity:  1.0\n",
      "\n",
      "dataset: cbf\n",
      "method: random\n",
      "bb: resnet\n",
      "reconstruction fidelity:  1.0\n",
      "local fidelity:  1.0\n",
      "global fidelity:  1.0\n",
      "\n",
      "dataset: cbf\n",
      "method: random\n",
      "bb: simplecnn\n",
      "reconstruction fidelity:  0.8888888888888888\n",
      "local fidelity:  0.9166666666666666\n",
      "global fidelity:  1.0\n",
      "\n",
      "dataset: phalanges\n",
      "method: geneticp\n",
      "bb: knn\n",
      "reconstruction fidelity:  0.98\n",
      "local fidelity:  0.94\n",
      "global fidelity:  0.74\n",
      "\n",
      "dataset: phalanges\n",
      "method: geneticp\n",
      "bb: resnet\n",
      "reconstruction fidelity:  0.98\n",
      "local fidelity:  0.5\n",
      "global fidelity:  0.66\n",
      "\n",
      "dataset: phalanges\n",
      "method: geneticp\n",
      "bb: simplecnn\n",
      "reconstruction fidelity:  1.0\n",
      "local fidelity:  0.96\n",
      "global fidelity:  0.66\n",
      "\n",
      "dataset: phalanges\n",
      "method: random\n",
      "bb: knn\n",
      "reconstruction fidelity:  0.98\n",
      "local fidelity:  0.44\n",
      "global fidelity:  0.74\n",
      "\n",
      "dataset: phalanges\n",
      "method: random\n",
      "bb: resnet\n",
      "reconstruction fidelity:  0.98\n",
      "local fidelity:  0.4\n",
      "global fidelity:  0.66\n",
      "\n",
      "dataset: phalanges\n",
      "method: random\n",
      "bb: simplecnn\n",
      "reconstruction fidelity:  1.0\n",
      "local fidelity:  0.4\n",
      "global fidelity:  0.66\n",
      "\n"
     ]
    }
   ],
   "source": [
    "df_dict = dict()\n",
    "for blackbox in blackboxes:\n",
    "    for method in methods:\n",
    "        df_dict[(blackbox, method)] = []\n",
    "columns = list(df_dict.keys())\n",
    "rows = [(dataset, metric) for dataset in dataset_names for metric in metrics]\n",
    "folders = os.listdir(path)\n",
    "folders.remove('.DS_Store')\n",
    "folders.remove('noscrape')\n",
    "folders = sorted(folders)\n",
    "for i, folder in enumerate(folders):\n",
    "    folderlist = folder.split(\"_\")[:3]\n",
    "    print(\"dataset:\", folderlist[0])\n",
    "    print(\"method:\", folderlist[1])\n",
    "    print(\"bb:\", folderlist[2])\n",
    "    if \"missing\" in folder:\n",
    "        results_df = pd.read_csv(parentdir + \"/agnostic_explainers/\" + folder + \"/\" + \"results_df.csv\", sep = \";\")\n",
    "        results = print_report(results_df, only_global = True)\n",
    "        df_dict[(folderlist[2], folderlist[1])].append(('%.3f' % (results[\"fid_g\"])).replace('0.', '.') if results[\"fid_g\"] < 1.0 else '1.00')\n",
    "        df_dict[(folderlist[2], folderlist[1])].append(results[\"fid_l\"])\n",
    "        \n",
    "    else:\n",
    "        results_df = pd.read_csv(parentdir + \"/agnostic_explainers/\" + folder + \"/\" + \"results_df.csv\", sep = \";\")\n",
    "        results = print_report(results_df)\n",
    "        df_dict[(folderlist[2], folderlist[1])].append(('%.3f' % (results[\"fid_g\"])).replace('0.', '.') if results[\"fid_g\"] < 1.0 else '1.00')\n",
    "        df_dict[(folderlist[2], folderlist[1])].append(('%.3f' % (results[\"fid_l\"])).replace('0.', '.') if results[\"fid_l\"] < 1.0 else '1.00')\n",
    "    print()"
   ]
  },
  {
   "cell_type": "code",
   "execution_count": 7,
   "metadata": {},
   "outputs": [
    {
     "data": {
      "text/plain": [
       "{('resnet', 'geneticp'): ['.960',\n",
       "  '1.00',\n",
       "  '.420',\n",
       "  '.980',\n",
       "  '1.00',\n",
       "  '1.00',\n",
       "  '.660',\n",
       "  '.500'],\n",
       " ('resnet', 'random'): ['.960',\n",
       "  '.500',\n",
       "  '.420',\n",
       "  '.460',\n",
       "  '1.00',\n",
       "  '1.00',\n",
       "  '.660',\n",
       "  '.400'],\n",
       " ('knn', 'geneticp'): ['.920',\n",
       "  '.940',\n",
       "  '.380',\n",
       "  '.980',\n",
       "  '1.00',\n",
       "  '1.00',\n",
       "  '.740',\n",
       "  '.940'],\n",
       " ('knn', 'random'): ['.920',\n",
       "  '.820',\n",
       "  '.380',\n",
       "  '.400',\n",
       "  '1.00',\n",
       "  '1.00',\n",
       "  '.740',\n",
       "  '.440'],\n",
       " ('simplecnn', 'geneticp'): ['.960',\n",
       "  '1.00',\n",
       "  '.400',\n",
       "  '.860',\n",
       "  '1.00',\n",
       "  '.889',\n",
       "  '.660',\n",
       "  '.960'],\n",
       " ('simplecnn', 'random'): ['.960',\n",
       "  nan,\n",
       "  '.400',\n",
       "  '.440',\n",
       "  '1.00',\n",
       "  '.917',\n",
       "  '.660',\n",
       "  '.400']}"
      ]
     },
     "execution_count": 7,
     "metadata": {},
     "output_type": "execute_result"
    }
   ],
   "source": [
    "df_dict"
   ]
  },
  {
   "cell_type": "code",
   "execution_count": 8,
   "metadata": {},
   "outputs": [],
   "source": [
    "df=pd.DataFrame(df_dict, index=pd.MultiIndex.from_tuples(rows))"
   ]
  },
  {
   "cell_type": "code",
   "execution_count": 16,
   "metadata": {},
   "outputs": [],
   "source": [
    "df=df[[(   'resnet', 'geneticp'),(   'resnet',   'random'),\n",
    "    ('simplecnn', 'geneticp'),('simplecnn',   'random'),\n",
    "    (      'knn', 'geneticp'),(      'knn',   'random')]].loc[[\"cbf\",\"esr\",\"har\",\"poc\"]]"
   ]
  },
  {
   "cell_type": "code",
   "execution_count": 17,
   "metadata": {},
   "outputs": [
    {
     "data": {
      "text/html": [
       "<div>\n",
       "<style scoped>\n",
       "    .dataframe tbody tr th:only-of-type {\n",
       "        vertical-align: middle;\n",
       "    }\n",
       "\n",
       "    .dataframe tbody tr th {\n",
       "        vertical-align: top;\n",
       "    }\n",
       "\n",
       "    .dataframe thead tr th {\n",
       "        text-align: left;\n",
       "    }\n",
       "</style>\n",
       "<table border=\"1\" class=\"dataframe\">\n",
       "  <thead>\n",
       "    <tr>\n",
       "      <th></th>\n",
       "      <th></th>\n",
       "      <th colspan=\"2\" halign=\"left\">resnet</th>\n",
       "      <th colspan=\"2\" halign=\"left\">simplecnn</th>\n",
       "      <th colspan=\"2\" halign=\"left\">knn</th>\n",
       "    </tr>\n",
       "    <tr>\n",
       "      <th></th>\n",
       "      <th></th>\n",
       "      <th>geneticp</th>\n",
       "      <th>random</th>\n",
       "      <th>geneticp</th>\n",
       "      <th>random</th>\n",
       "      <th>geneticp</th>\n",
       "      <th>random</th>\n",
       "    </tr>\n",
       "  </thead>\n",
       "  <tbody>\n",
       "    <tr>\n",
       "      <th rowspan=\"2\" valign=\"top\">esr</th>\n",
       "      <th>fid_g</th>\n",
       "      <td>.960</td>\n",
       "      <td>.960</td>\n",
       "      <td>.960</td>\n",
       "      <td>.960</td>\n",
       "      <td>.920</td>\n",
       "      <td>.920</td>\n",
       "    </tr>\n",
       "    <tr>\n",
       "      <th>fid_l</th>\n",
       "      <td>1.00</td>\n",
       "      <td>.500</td>\n",
       "      <td>1.00</td>\n",
       "      <td>NaN</td>\n",
       "      <td>.940</td>\n",
       "      <td>.820</td>\n",
       "    </tr>\n",
       "    <tr>\n",
       "      <th rowspan=\"2\" valign=\"top\">har</th>\n",
       "      <th>fid_g</th>\n",
       "      <td>.420</td>\n",
       "      <td>.420</td>\n",
       "      <td>.400</td>\n",
       "      <td>.400</td>\n",
       "      <td>.380</td>\n",
       "      <td>.380</td>\n",
       "    </tr>\n",
       "    <tr>\n",
       "      <th>fid_l</th>\n",
       "      <td>.980</td>\n",
       "      <td>.460</td>\n",
       "      <td>.860</td>\n",
       "      <td>.440</td>\n",
       "      <td>.980</td>\n",
       "      <td>.400</td>\n",
       "    </tr>\n",
       "    <tr>\n",
       "      <th rowspan=\"2\" valign=\"top\">cbf</th>\n",
       "      <th>fid_g</th>\n",
       "      <td>1.00</td>\n",
       "      <td>1.00</td>\n",
       "      <td>1.00</td>\n",
       "      <td>1.00</td>\n",
       "      <td>1.00</td>\n",
       "      <td>1.00</td>\n",
       "    </tr>\n",
       "    <tr>\n",
       "      <th>fid_l</th>\n",
       "      <td>1.00</td>\n",
       "      <td>1.00</td>\n",
       "      <td>.889</td>\n",
       "      <td>.917</td>\n",
       "      <td>1.00</td>\n",
       "      <td>1.00</td>\n",
       "    </tr>\n",
       "    <tr>\n",
       "      <th rowspan=\"2\" valign=\"top\">poc</th>\n",
       "      <th>fid_g</th>\n",
       "      <td>.660</td>\n",
       "      <td>.660</td>\n",
       "      <td>.660</td>\n",
       "      <td>.660</td>\n",
       "      <td>.740</td>\n",
       "      <td>.740</td>\n",
       "    </tr>\n",
       "    <tr>\n",
       "      <th>fid_l</th>\n",
       "      <td>.500</td>\n",
       "      <td>.400</td>\n",
       "      <td>.960</td>\n",
       "      <td>.400</td>\n",
       "      <td>.940</td>\n",
       "      <td>.440</td>\n",
       "    </tr>\n",
       "  </tbody>\n",
       "</table>\n",
       "</div>"
      ],
      "text/plain": [
       "            resnet        simplecnn             knn       \n",
       "          geneticp random  geneticp random geneticp random\n",
       "esr fid_g     .960   .960      .960   .960     .920   .920\n",
       "    fid_l     1.00   .500      1.00    NaN     .940   .820\n",
       "har fid_g     .420   .420      .400   .400     .380   .380\n",
       "    fid_l     .980   .460      .860   .440     .980   .400\n",
       "cbf fid_g     1.00   1.00      1.00   1.00     1.00   1.00\n",
       "    fid_l     1.00   1.00      .889   .917     1.00   1.00\n",
       "poc fid_g     .660   .660      .660   .660     .740   .740\n",
       "    fid_l     .500   .400      .960   .400     .940   .440"
      ]
     },
     "execution_count": 17,
     "metadata": {},
     "output_type": "execute_result"
    }
   ],
   "source": [
    "df"
   ]
  },
  {
   "cell_type": "code",
   "execution_count": 18,
   "metadata": {},
   "outputs": [
    {
     "name": "stdout",
     "output_type": "stream",
     "text": [
      "\\begin{tabular}{|c|c||cccccc|}\n",
      "\\hline\n",
      "    &       & \\multicolumn{2}{c}{resnet} & \\multicolumn{2}{c}{simplecnn} & \\multicolumn{2}{c}{knn} \\\\\n",
      "    &       & geneticp & random &  geneticp & random & geneticp & random \\\\\n",
      "\\hline\n",
      "\\multirow{2}{*}{\\textbf{esr}} & \\textbf{fid\\_g} &     .960 &   .960 &      .960 &   .960 &     .920 &   .920 \\\\\n",
      "    & \\textbf{fid\\_l} &     1.00 &   .500 &      1.00 &    NaN &     .940 &   .820 \\\\\n",
      "\\cline{1-8}\n",
      "\\multirow{2}{*}{\\textbf{har}} & \\textbf{fid\\_g} &     .420 &   .420 &      .400 &   .400 &     .380 &   .380 \\\\\n",
      "    & \\textbf{fid\\_l} &     .980 &   .460 &      .860 &   .440 &     .980 &   .400 \\\\\n",
      "\\cline{1-8}\n",
      "\\multirow{2}{*}{\\textbf{cbf}} & \\textbf{fid\\_g} &     1.00 &   1.00 &      1.00 &   1.00 &     1.00 &   1.00 \\\\\n",
      "    & \\textbf{fid\\_l} &     1.00 &   1.00 &      .889 &   .917 &     1.00 &   1.00 \\\\\n",
      "\\cline{1-8}\n",
      "\\multirow{2}{*}{\\textbf{poc}} & \\textbf{fid\\_g} &     .660 &   .660 &      .660 &   .660 &     .740 &   .740 \\\\\n",
      "    & \\textbf{fid\\_l} &     .500 &   .400 &      .960 &   .400 &     .940 &   .440 \\\\\n",
      "\\hline\n",
      "\\end{tabular}\n",
      "\n",
      "\n",
      "\n",
      "\n"
     ]
    }
   ],
   "source": [
    "column_format = \"|c|c||\"\n",
    "for i in range(len(df.columns)):\n",
    "    column_format += \"c\"\n",
    "column_format += \"|\"\n",
    "latex = df.to_latex(index = True, \n",
    "                    bold_rows = True,\n",
    "                    column_format = column_format,\n",
    "                    multicolumn_format = \"c\",\n",
    "                    multirow = True)\n",
    "latex = latex.replace(\"toprule\", \"hline\")\n",
    "latex = latex = latex.replace(\"midrule\", \"hline\")\n",
    "latex = latex.replace(\"bottomrule\", \"hline\")\n",
    "print(latex)\n",
    "print()\n",
    "print()\n",
    "print()"
   ]
  },
  {
   "cell_type": "markdown",
   "metadata": {},
   "source": [
    "# CILINDER BELL FUNNEL"
   ]
  },
  {
   "cell_type": "markdown",
   "metadata": {},
   "source": [
    "### RESNET"
   ]
  },
  {
   "cell_type": "markdown",
   "metadata": {},
   "source": [
    "#### GENETICP"
   ]
  },
  {
   "cell_type": "code",
   "execution_count": 12,
   "metadata": {},
   "outputs": [
    {
     "name": "stdout",
     "output_type": "stream",
     "text": [
      "local fidelity:  1.0\n",
      "global fidelity:  1.0\n",
      "reconstruction fidelity:  1.0\n"
     ]
    }
   ],
   "source": [
    "folder_name = \"cbf_resnet_20191223_122259\"\n",
    "results_df = pd.read_csv(parentdir + \"/agnostic_explainers/\" + folder_name + \"/\" + \"results_df.csv\", sep = \";\")\n",
    "print_report(results_df)"
   ]
  },
  {
   "cell_type": "markdown",
   "metadata": {},
   "source": [
    "#### RANDOM"
   ]
  },
  {
   "cell_type": "code",
   "execution_count": 13,
   "metadata": {},
   "outputs": [
    {
     "name": "stdout",
     "output_type": "stream",
     "text": [
      "local fidelity:  1.0\n",
      "global fidelity:  1.0\n",
      "reconstruction fidelity:  1.0\n"
     ]
    }
   ],
   "source": [
    "folder_name = \"cbf_random_resnet_20200105_191824\"\n",
    "results_df = pd.read_csv(parentdir + \"/agnostic_explainers/\" + folder_name + \"/\" + \"results_df.csv\", sep = \";\")\n",
    "print_report(results_df)"
   ]
  },
  {
   "cell_type": "markdown",
   "metadata": {},
   "source": [
    "### CNN"
   ]
  },
  {
   "cell_type": "markdown",
   "metadata": {},
   "source": [
    "#### GENETICP"
   ]
  },
  {
   "cell_type": "code",
   "execution_count": 20,
   "metadata": {},
   "outputs": [
    {
     "name": "stdout",
     "output_type": "stream",
     "text": [
      "local fidelity:  0.8888888888888888\n",
      "global fidelity:  1.0\n",
      "reconstruction fidelity:  0.8888888888888888\n"
     ]
    }
   ],
   "source": [
    "folder_name = \"cbf_simplecnn_20200109_175704\"\n",
    "results_df = pd.read_csv(parentdir + \"/agnostic_explainers/\" + folder_name + \"/\" + \"results_df.csv\", sep = \";\")\n",
    "print_report(results_df)"
   ]
  },
  {
   "cell_type": "markdown",
   "metadata": {},
   "source": [
    "#### RANDOM"
   ]
  },
  {
   "cell_type": "code",
   "execution_count": 21,
   "metadata": {},
   "outputs": [
    {
     "name": "stdout",
     "output_type": "stream",
     "text": [
      "local fidelity:  0.9166666666666666\n",
      "global fidelity:  1.0\n",
      "reconstruction fidelity:  0.8888888888888888\n"
     ]
    }
   ],
   "source": [
    "folder_name = \"cbf_random_simplecnn_20200109_152246\"\n",
    "results_df = pd.read_csv(parentdir + \"/agnostic_explainers/\" + folder_name + \"/\" + \"results_df.csv\", sep = \";\")\n",
    "print_report(results_df)"
   ]
  },
  {
   "cell_type": "markdown",
   "metadata": {},
   "source": [
    "# EPILEPTIC SEIZURE RECOGNITION"
   ]
  },
  {
   "cell_type": "markdown",
   "metadata": {},
   "source": [
    "### RESNET"
   ]
  },
  {
   "cell_type": "markdown",
   "metadata": {},
   "source": [
    "#### GENETICP"
   ]
  },
  {
   "cell_type": "code",
   "execution_count": 14,
   "metadata": {},
   "outputs": [
    {
     "name": "stdout",
     "output_type": "stream",
     "text": [
      "local fidelity:  1.0\n",
      "global fidelity:  0.96\n",
      "reconstruction fidelity:  0.98\n"
     ]
    }
   ],
   "source": [
    "folder_name = \"EpilepticSeizureRecognition_20200106_192815\"\n",
    "results_df = pd.read_csv(parentdir + \"/agnostic_explainers/\" + folder_name + \"/\" + \"results_df.csv\", sep = \";\")\n",
    "print_report(results_df)"
   ]
  },
  {
   "cell_type": "markdown",
   "metadata": {},
   "source": [
    "#### RANDOM"
   ]
  },
  {
   "cell_type": "code",
   "execution_count": 15,
   "metadata": {},
   "outputs": [
    {
     "name": "stdout",
     "output_type": "stream",
     "text": [
      "local fidelity:  0.5\n",
      "global fidelity:  0.96\n",
      "reconstruction fidelity:  0.98\n"
     ]
    }
   ],
   "source": [
    "folder_name = \"EpilepticSeizureRecognition_random_20200107_010425\"\n",
    "results_df = pd.read_csv(parentdir + \"/agnostic_explainers/\" + folder_name + \"/\" + \"results_df.csv\", sep = \";\")\n",
    "print_report(results_df)"
   ]
  },
  {
   "cell_type": "markdown",
   "metadata": {},
   "source": [
    "### CNN"
   ]
  },
  {
   "cell_type": "markdown",
   "metadata": {},
   "source": [
    "#### GENETICP"
   ]
  },
  {
   "cell_type": "code",
   "execution_count": 22,
   "metadata": {},
   "outputs": [
    {
     "name": "stdout",
     "output_type": "stream",
     "text": [
      "local fidelity:  1.0\n",
      "global fidelity:  0.96\n",
      "reconstruction fidelity:  0.98\n"
     ]
    }
   ],
   "source": [
    "folder_name = \"EpilepticSeizureRecognition_simplecnn_20200109_180414\"\n",
    "results_df = pd.read_csv(parentdir + \"/agnostic_explainers/\" + folder_name + \"/\" + \"results_df.csv\", sep = \";\")\n",
    "print_report(results_df)"
   ]
  },
  {
   "cell_type": "markdown",
   "metadata": {},
   "source": [
    "#### RANDOM"
   ]
  },
  {
   "cell_type": "code",
   "execution_count": null,
   "metadata": {},
   "outputs": [],
   "source": [
    "# MISSING"
   ]
  },
  {
   "cell_type": "markdown",
   "metadata": {},
   "source": [
    "# HUMAN ACTIVITY RECOGNITION"
   ]
  },
  {
   "cell_type": "markdown",
   "metadata": {},
   "source": [
    "### RESNET"
   ]
  },
  {
   "cell_type": "markdown",
   "metadata": {},
   "source": [
    "#### GENETICP"
   ]
  },
  {
   "cell_type": "code",
   "execution_count": 16,
   "metadata": {},
   "outputs": [
    {
     "name": "stdout",
     "output_type": "stream",
     "text": [
      "local fidelity:  0.98\n",
      "global fidelity:  0.42\n",
      "reconstruction fidelity:  0.98\n"
     ]
    }
   ],
   "source": [
    "folder_name = \"HARDataset_20191223_212314\"\n",
    "results_df = pd.read_csv(parentdir + \"/agnostic_explainers/\" + folder_name + \"/\" + \"results_df.csv\", sep = \";\")\n",
    "print_report(results_df)"
   ]
  },
  {
   "cell_type": "markdown",
   "metadata": {},
   "source": [
    "#### RANDOM"
   ]
  },
  {
   "cell_type": "code",
   "execution_count": 17,
   "metadata": {},
   "outputs": [
    {
     "name": "stdout",
     "output_type": "stream",
     "text": [
      "local fidelity:  0.46\n",
      "global fidelity:  0.42\n",
      "reconstruction fidelity:  0.98\n"
     ]
    }
   ],
   "source": [
    "folder_name = \"HARDataset_random_20200105_213622\"\n",
    "results_df = pd.read_csv(parentdir + \"/agnostic_explainers/\" + folder_name + \"/\" + \"results_df.csv\", sep = \";\")\n",
    "print_report(results_df)"
   ]
  },
  {
   "cell_type": "markdown",
   "metadata": {},
   "source": [
    "### CNN"
   ]
  },
  {
   "cell_type": "markdown",
   "metadata": {},
   "source": [
    "#### GENETICP"
   ]
  },
  {
   "cell_type": "code",
   "execution_count": 23,
   "metadata": {},
   "outputs": [
    {
     "name": "stdout",
     "output_type": "stream",
     "text": [
      "local fidelity:  0.86\n",
      "global fidelity:  0.4\n",
      "reconstruction fidelity:  0.86\n"
     ]
    }
   ],
   "source": [
    "folder_name = \"HARDataset_simplecnn_20200109_180238\"\n",
    "results_df = pd.read_csv(parentdir + \"/agnostic_explainers/\" + folder_name + \"/\" + \"results_df.csv\", sep = \";\")\n",
    "print_report(results_df)"
   ]
  },
  {
   "cell_type": "markdown",
   "metadata": {},
   "source": [
    "#### RANDOM"
   ]
  },
  {
   "cell_type": "code",
   "execution_count": null,
   "metadata": {},
   "outputs": [],
   "source": [
    "# MISSING"
   ]
  },
  {
   "cell_type": "markdown",
   "metadata": {},
   "source": [
    "# PHALANGES"
   ]
  },
  {
   "cell_type": "code",
   "execution_count": null,
   "metadata": {},
   "outputs": [],
   "source": [
    "# labels errate in caso di grafici. da sostituire con None in caso"
   ]
  },
  {
   "cell_type": "markdown",
   "metadata": {},
   "source": [
    "### RESNET"
   ]
  },
  {
   "cell_type": "markdown",
   "metadata": {},
   "source": [
    "#### GENETICP"
   ]
  },
  {
   "cell_type": "code",
   "execution_count": 18,
   "metadata": {},
   "outputs": [
    {
     "name": "stdout",
     "output_type": "stream",
     "text": [
      "local fidelity:  0.5\n",
      "global fidelity:  0.66\n",
      "reconstruction fidelity:  0.98\n"
     ]
    }
   ],
   "source": [
    "folder_name = \"phalanges_20191223_160501\"\n",
    "results_df = pd.read_csv(parentdir + \"/agnostic_explainers/\" + folder_name + \"/\" + \"results_df.csv\", sep = \";\")\n",
    "print_report(results_df)"
   ]
  },
  {
   "cell_type": "markdown",
   "metadata": {},
   "source": [
    "#### RANDOM"
   ]
  },
  {
   "cell_type": "code",
   "execution_count": 19,
   "metadata": {},
   "outputs": [
    {
     "name": "stdout",
     "output_type": "stream",
     "text": [
      "local fidelity:  0.4\n",
      "global fidelity:  0.66\n",
      "reconstruction fidelity:  0.98\n"
     ]
    }
   ],
   "source": [
    "folder_name = \"phalanges_random_20200105_195552\"\n",
    "results_df = pd.read_csv(parentdir + \"/agnostic_explainers/\" + folder_name + \"/\" + \"results_df.csv\", sep = \";\")\n",
    "print_report(results_df)"
   ]
  },
  {
   "cell_type": "markdown",
   "metadata": {},
   "source": [
    "### CNN"
   ]
  },
  {
   "cell_type": "markdown",
   "metadata": {},
   "source": [
    "#### GENETICP"
   ]
  },
  {
   "cell_type": "code",
   "execution_count": 24,
   "metadata": {},
   "outputs": [
    {
     "name": "stdout",
     "output_type": "stream",
     "text": [
      "local fidelity:  0.96\n",
      "global fidelity:  0.66\n",
      "reconstruction fidelity:  1.0\n"
     ]
    }
   ],
   "source": [
    "folder_name = \"phalanges_simplecnn_20200109_181310\"\n",
    "results_df = pd.read_csv(parentdir + \"/agnostic_explainers/\" + folder_name + \"/\" + \"results_df.csv\", sep = \";\")\n",
    "print_report(results_df)"
   ]
  },
  {
   "cell_type": "markdown",
   "metadata": {},
   "source": [
    "#### RANDOM"
   ]
  },
  {
   "cell_type": "code",
   "execution_count": 25,
   "metadata": {},
   "outputs": [
    {
     "name": "stdout",
     "output_type": "stream",
     "text": [
      "local fidelity:  0.4\n",
      "global fidelity:  0.66\n",
      "reconstruction fidelity:  1.0\n"
     ]
    }
   ],
   "source": [
    "folder_name = \"phalanges_random_simplecnn_20200111_104034\"\n",
    "results_df = pd.read_csv(parentdir + \"/agnostic_explainers/\" + folder_name + \"/\" + \"results_df.csv\", sep = \";\")\n",
    "print_report(results_df)"
   ]
  }
 ],
 "metadata": {
  "kernelspec": {
   "display_name": "Python 3",
   "language": "python",
   "name": "python3"
  },
  "language_info": {
   "codemirror_mode": {
    "name": "ipython",
    "version": 3
   },
   "file_extension": ".py",
   "mimetype": "text/x-python",
   "name": "python",
   "nbconvert_exporter": "python",
   "pygments_lexer": "ipython3",
   "version": "3.6.9"
  }
 },
 "nbformat": 4,
 "nbformat_minor": 2
}
